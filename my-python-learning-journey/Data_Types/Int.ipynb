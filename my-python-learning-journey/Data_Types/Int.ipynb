{
 "cells": [
  {
   "cell_type": "code",
   "execution_count": 10,
   "id": "2c26d8cc",
   "metadata": {},
   "outputs": [
    {
     "name": "stdout",
     "output_type": "stream",
     "text": [
      "samirArnur\n"
     ]
    }
   ],
   "source": [
    "A= \"samir\"\n",
    "B= \"Arnur\"\n",
    "print(A+B)"
   ]
  },
  {
   "cell_type": "code",
   "execution_count": 11,
   "id": "bc820389",
   "metadata": {},
   "outputs": [
    {
     "name": "stdout",
     "output_type": "stream",
     "text": [
      "588\n"
     ]
    }
   ],
   "source": [
    "a= 44\n",
    "b= 544\n",
    "c=a+b \n",
    "print(c)"
   ]
  },
  {
   "cell_type": "code",
   "execution_count": 12,
   "id": "11b8f3a5",
   "metadata": {},
   "outputs": [
    {
     "ename": "SyntaxError",
     "evalue": "invalid syntax (164009140.py, line 5)",
     "output_type": "error",
     "traceback": [
      "  \u001b[36mCell\u001b[39m\u001b[36m \u001b[39m\u001b[32mIn[12]\u001b[39m\u001b[32m, line 5\u001b[39m\n\u001b[31m    \u001b[39m\u001b[31mnum= 354 not add\u001b[39m\n                 ^\n\u001b[31mSyntaxError\u001b[39m\u001b[31m:\u001b[39m invalid syntax\n"
     ]
    }
   ],
   "source": [
    "#logical not operater\n",
    "#part 1\n",
    "add=353\n",
    "b=343\n",
    "num= 354 not add\n",
    "print(num)"
   ]
  },
  {
   "cell_type": "code",
   "execution_count": null,
   "id": "54d625c0",
   "metadata": {},
   "outputs": [
    {
     "name": "stdout",
     "output_type": "stream",
     "text": [
      "54321\n"
     ]
    }
   ],
   "source": [
    "#Reverse an Integer Without String Conversion- \n",
    "\n",
    "def reverse_integer(n):\n",
    "    rev = 0\n",
    "    neg = n < 0\n",
    "    n = abs(n)\n",
    "    \n",
    "    while n != 0:\n",
    "        rev = rev * 10 + n % 10\n",
    "        n = n // 10\n",
    "    \n",
    "    return -rev if neg else rev\n",
    "\n",
    "print(reverse_integer(12345))   # Output: 54321\n"
   ]
  },
  {
   "cell_type": "code",
   "execution_count": null,
   "id": "8c5e517c",
   "metadata": {},
   "outputs": [
    {
     "name": "stdout",
     "output_type": "stream",
     "text": [
      "True\n"
     ]
    }
   ],
   "source": [
    "#Check for Armstrong Number-\n",
    "def is_armstrong(num):\n",
    "    total = 0\n",
    "    digits = len(str(num))\n",
    "    temp = num\n",
    "    while temp > 0:\n",
    "        digit = temp % 10\n",
    "        total += digit ** digits\n",
    "        temp = temp // 10\n",
    "    return total == num\n",
    "\n",
    "print(is_armstrong(9474))  # True\n"
   ]
  },
  {
   "cell_type": "code",
   "execution_count": null,
   "id": "687ba3b7",
   "metadata": {},
   "outputs": [
    {
     "name": "stdout",
     "output_type": "stream",
     "text": [
      "7\n",
      "3\n",
      "10\n",
      "2\n"
     ]
    }
   ],
   "source": [
    "# You Can Do Math with int:\n",
    "\n",
    "a = 5\n",
    "b = 2\n",
    "print(a + b)  # 7\n",
    "print(a - b)  # 3\n",
    "print(a * b)  # 10\n",
    "print(a // b) # 2 (integer division)\n"
   ]
  },
  {
   "cell_type": "code",
   "execution_count": null,
   "id": "10a70201",
   "metadata": {},
   "outputs": [
    {
     "name": "stdout",
     "output_type": "stream",
     "text": [
      "25\n",
      "3\n"
     ]
    }
   ],
   "source": [
    "# Convert Other Types to int:\n",
    "# From string to int\n",
    "num = int(\"25\")\n",
    "print(num)        # 25\n",
    "\n",
    "# From float to int (decimal part is removed)\n",
    "value = int(3.99)\n",
    "print(value)      # 3\n"
   ]
  },
  {
   "cell_type": "code",
   "execution_count": null,
   "id": "640ec9c7",
   "metadata": {},
   "outputs": [],
   "source": [
    "# logical but simple Python programs using int-"
   ]
  },
  {
   "cell_type": "code",
   "execution_count": null,
   "id": "a373ef89",
   "metadata": {},
   "outputs": [],
   "source": [
    "# 1. Check if a Number is Even or Odd- \n",
    "num = int(input(\"Enter a number: \"))\n",
    "\n",
    "if num % 2 == 0:\n",
    "    print(num, \"is Even\")\n",
    "else:\n",
    "    print(num, \"is Odd\")\n",
    "\n",
    "\n",
    "#\n",
    "Output= \n",
    "Enter a number: 43\n",
    "43 is Odd\n",
    "#\n",
    "\n"
   ]
  },
  {
   "cell_type": "code",
   "execution_count": null,
   "id": "eb645ba9",
   "metadata": {},
   "outputs": [],
   "source": [
    "#2. Find the Sum of Two Numbers\n",
    "a = int(input(\"Enter first number: \"))\n",
    "b = int(input(\"Enter second number: \"))\n",
    "\n",
    "sum = a + b\n",
    "print(\"The sum is:\", sum)\n"
   ]
  },
  {
   "cell_type": "code",
   "execution_count": null,
   "id": "dfbd0e9b",
   "metadata": {},
   "outputs": [],
   "source": [
    "#3. Check if a Number is Positive, Negative, or Zero-\n",
    "num = int(input(\"Enter a number: \"))\n",
    "\n",
    "if num > 0:\n",
    "    print(\"Positive number\")\n",
    "elif num < 0:\n",
    "    print(\"Negative number\")\n",
    "else:\n",
    "    print(\"It's Zero\")\n",
    "\n",
    "#Output- \n",
    "Enter a number: 65\n",
    "Positive number"
   ]
  },
  {
   "cell_type": "code",
   "execution_count": null,
   "id": "1854803b",
   "metadata": {},
   "outputs": [],
   "source": [
    "#4. Find the Greatest of Two Numbers\n",
    "a = int(input(\"Enter first number: \"))\n",
    "b = int(input(\"Enter second number: \"))\n",
    "\n",
    "if a > b:\n",
    "    print(a, \"is greater\")\n",
    "elif b > a:\n",
    "    print(b, \"is greater\")\n",
    "else:\n",
    "    print(\"Both are equal\")\n"
   ]
  },
  {
   "cell_type": "code",
   "execution_count": null,
   "id": "cd1f2dac",
   "metadata": {},
   "outputs": [],
   "source": [
    "#5. Print Numbers from 1 to n\n",
    "n = int(input(\"Enter a number: \"))\n",
    "\n",
    "for i in range(1, n + 1):\n",
    "    print(i)\n"
   ]
  },
  {
   "cell_type": "code",
   "execution_count": null,
   "id": "65f98e41",
   "metadata": {},
   "outputs": [],
   "source": [
    "#6. Find the Factorial of a Number\n",
    "num = int(input(\"Enter a number: \"))\n",
    "factorial = 1\n",
    "\n",
    "for i in range(1, num + 1):\n",
    "    factorial *= i\n",
    "\n",
    "print(\"Factorial of\", num, \"is\", factorial)\n"
   ]
  },
  {
   "cell_type": "code",
   "execution_count": null,
   "id": "724c38ff",
   "metadata": {},
   "outputs": [],
   "source": [
    "#7. Reverse a Number\n",
    "num = int(input(\"Enter a number: \"))\n",
    "rev = 0\n",
    "\n",
    "while num > 0:\n",
    "    digit = num % 10\n",
    "    rev = rev * 10 + digit\n",
    "    num = num // 10\n",
    "\n",
    "print(\"Reversed number:\", rev)\n"
   ]
  },
  {
   "cell_type": "code",
   "execution_count": null,
   "id": "1beaf742",
   "metadata": {},
   "outputs": [],
   "source": [
    "#8. Sum of Digits of a Number\n",
    "num = int(input(\"Enter a number: \"))\n",
    "sum_digits = 0\n",
    "\n",
    "while num > 0:\n",
    "    digit = num % 10\n",
    "    sum_digits += digit\n",
    "    num = num // 10\n",
    "\n",
    "print(\"Sum of digits:\", sum_digits)\n"
   ]
  },
  {
   "cell_type": "code",
   "execution_count": null,
   "id": "68b264bd",
   "metadata": {},
   "outputs": [],
   "source": [
    "#9. Check if a Number is a Palindrome\n",
    "num = int(input(\"Enter a number: \"))\n",
    "original = num\n",
    "rev = 0\n",
    "\n",
    "while num > 0:\n",
    "    digit = num % 10\n",
    "    rev = rev * 10 + digit\n",
    "    num = num // 10\n",
    "\n",
    "if original == rev:\n",
    "    print(\"Palindrome number\")\n",
    "else:\n",
    "    print(\"Not a palindrome\")\n"
   ]
  },
  {
   "cell_type": "code",
   "execution_count": 1,
   "id": "46d05401",
   "metadata": {},
   "outputs": [
    {
     "ename": "ValueError",
     "evalue": "invalid literal for int() with base 10: ''",
     "output_type": "error",
     "traceback": [
      "\u001b[31m---------------------------------------------------------------------------\u001b[39m",
      "\u001b[31mValueError\u001b[39m                                Traceback (most recent call last)",
      "\u001b[36mCell\u001b[39m\u001b[36m \u001b[39m\u001b[32mIn[1]\u001b[39m\u001b[32m, line 2\u001b[39m\n\u001b[32m      1\u001b[39m \u001b[38;5;66;03m#10. Multiplication Table of a Number\u001b[39;00m\n\u001b[32m----> \u001b[39m\u001b[32m2\u001b[39m num = \u001b[38;5;28;43mint\u001b[39;49m\u001b[43m(\u001b[49m\u001b[38;5;28;43minput\u001b[39;49m\u001b[43m(\u001b[49m\u001b[33;43m\"\u001b[39;49m\u001b[33;43mEnter a number: \u001b[39;49m\u001b[33;43m\"\u001b[39;49m\u001b[43m)\u001b[49m\u001b[43m)\u001b[49m\n\u001b[32m      4\u001b[39m \u001b[38;5;28;01mfor\u001b[39;00m i \u001b[38;5;129;01min\u001b[39;00m \u001b[38;5;28mrange\u001b[39m(\u001b[32m1\u001b[39m, \u001b[32m11\u001b[39m):\n\u001b[32m      5\u001b[39m     \u001b[38;5;28mprint\u001b[39m(num, \u001b[33m\"\u001b[39m\u001b[33mx\u001b[39m\u001b[33m\"\u001b[39m, i, \u001b[33m\"\u001b[39m\u001b[33m=\u001b[39m\u001b[33m\"\u001b[39m, num * i)\n",
      "\u001b[31mValueError\u001b[39m: invalid literal for int() with base 10: ''"
     ]
    }
   ],
   "source": [
    "#10. Multiplication Table of a Number\n",
    "num = int(input(\"Enter a number: \"))\n",
    "\n",
    "for i in range(1, 11):\n",
    "    print(num, \"x\", i, \"=\", num * i)\n"
   ]
  },
  {
   "cell_type": "code",
   "execution_count": null,
   "id": "93b4e06b",
   "metadata": {},
   "outputs": [],
   "source": [
    "#Check if a Number is Prime\n",
    "num = int(input(\"Enter a number: \"))\n",
    "is_prime = True\n",
    "\n",
    "if num <= 1:\n",
    "    is_prime = False\n",
    "else:\n",
    "    for i in range(2, num):\n",
    "        if num % i == 0:\n",
    "            is_prime = False\n",
    "            break\n",
    "\n",
    "if is_prime:\n",
    "    print(num, \"is a Prime number\")\n",
    "else:\n",
    "    print(num, \"is NOT a Prime number\")\n"
   ]
  },
  {
   "cell_type": "code",
   "execution_count": null,
   "id": "a8c5fc6f",
   "metadata": {},
   "outputs": [],
   "source": []
  }
 ],
 "metadata": {
  "kernelspec": {
   "display_name": "Python 3.11 (jupyter_env_311)",
   "language": "python",
   "name": "jupyter_env_311"
  },
  "language_info": {
   "codemirror_mode": {
    "name": "ipython",
    "version": 3
   },
   "file_extension": ".py",
   "mimetype": "text/x-python",
   "name": "python",
   "nbconvert_exporter": "python",
   "pygments_lexer": "ipython3",
   "version": "3.11.0"
  }
 },
 "nbformat": 4,
 "nbformat_minor": 5
}
