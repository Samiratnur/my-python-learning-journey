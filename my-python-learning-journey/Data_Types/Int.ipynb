{
 "cells": [
  {
   "cell_type": "code",
   "execution_count": 1,
   "id": "2c26d8cc",
   "metadata": {},
   "outputs": [
    {
     "name": "stdout",
     "output_type": "stream",
     "text": [
      "samirArnur\n"
     ]
    }
   ],
   "source": [
    "A= \"samir\"\n",
    "B= \"Arnur\"\n",
    "print(A+B)"
   ]
  },
  {
   "cell_type": "code",
   "execution_count": 2,
   "id": "bc820389",
   "metadata": {},
   "outputs": [
    {
     "name": "stdout",
     "output_type": "stream",
     "text": [
      "588\n"
     ]
    }
   ],
   "source": [
    "a= 44\n",
    "b= 544\n",
    "c=a+b \n",
    "print(c)"
   ]
  },
  {
   "cell_type": "code",
   "execution_count": 1,
   "id": "11b8f3a5",
   "metadata": {},
   "outputs": [
    {
     "ename": "SyntaxError",
     "evalue": "invalid syntax (164009140.py, line 5)",
     "output_type": "error",
     "traceback": [
      "  \u001b[36mCell\u001b[39m\u001b[36m \u001b[39m\u001b[32mIn[1]\u001b[39m\u001b[32m, line 5\u001b[39m\n\u001b[31m    \u001b[39m\u001b[31mnum= 354 not add\u001b[39m\n                 ^\n\u001b[31mSyntaxError\u001b[39m\u001b[31m:\u001b[39m invalid syntax\n"
     ]
    }
   ],
   "source": [
    "#logical not operater\n",
    "#part 1\n",
    "add=353\n",
    "b=343\n",
    "num= 354 not add\n",
    "print(num)"
   ]
  },
  {
   "cell_type": "code",
   "execution_count": null,
   "id": "54d625c0",
   "metadata": {},
   "outputs": [
    {
     "name": "stdout",
     "output_type": "stream",
     "text": [
      "54321\n"
     ]
    }
   ],
   "source": [
    "#Reverse an Integer Without String Conversion- \n",
    "\n",
    "def reverse_integer(n):\n",
    "    rev = 0\n",
    "    neg = n < 0\n",
    "    n = abs(n)\n",
    "    \n",
    "    while n != 0:\n",
    "        rev = rev * 10 + n % 10\n",
    "        n = n // 10\n",
    "    \n",
    "    return -rev if neg else rev\n",
    "\n",
    "print(reverse_integer(12345))   # Output: 54321\n"
   ]
  },
  {
   "cell_type": "code",
   "execution_count": 3,
   "id": "8c5e517c",
   "metadata": {},
   "outputs": [
    {
     "name": "stdout",
     "output_type": "stream",
     "text": [
      "True\n"
     ]
    }
   ],
   "source": [
    "#Check for Armstrong Number-\n",
    "def is_armstrong(num):\n",
    "    total = 0\n",
    "    digits = len(str(num))\n",
    "    temp = num\n",
    "    while temp > 0:\n",
    "        digit = temp % 10\n",
    "        total += digit ** digits\n",
    "        temp = temp // 10\n",
    "    return total == num\n",
    "\n",
    "print(is_armstrong(9474))  # True\n"
   ]
  },
  {
   "cell_type": "code",
   "execution_count": null,
   "id": "687ba3b7",
   "metadata": {},
   "outputs": [
    {
     "name": "stdout",
     "output_type": "stream",
     "text": [
      "7\n",
      "3\n",
      "10\n",
      "2\n"
     ]
    }
   ],
   "source": [
    "# You Can Do Math with int:\n",
    "\n",
    "a = 5\n",
    "b = 2\n",
    "print(a + b)  # 7\n",
    "print(a - b)  # 3\n",
    "print(a * b)  # 10\n",
    "print(a // b) # 2 (integer division)\n"
   ]
  },
  {
   "cell_type": "code",
   "execution_count": 3,
   "id": "10a70201",
   "metadata": {},
   "outputs": [
    {
     "name": "stdout",
     "output_type": "stream",
     "text": [
      "25\n",
      "3\n"
     ]
    }
   ],
   "source": [
    "# Convert Other Types to int:\n",
    "# From string to int\n",
    "num = int(\"25\")\n",
    "print(num)        # 25\n",
    "\n",
    "# From float to int (decimal part is removed)\n",
    "value = int(3.99)\n",
    "print(value)      # 3\n"
   ]
  },
  {
   "cell_type": "code",
   "execution_count": null,
   "id": "640ec9c7",
   "metadata": {},
   "outputs": [],
   "source": [
    "# logical but simple Python programs using int-"
   ]
  },
  {
   "cell_type": "code",
   "execution_count": null,
   "id": "a373ef89",
   "metadata": {},
   "outputs": [],
   "source": [
    "# 1. Check if a Number is Even or Odd- \n"
   ]
  }
 ],
 "metadata": {
  "kernelspec": {
   "display_name": "Python 3",
   "language": "python",
   "name": "python3"
  },
  "language_info": {
   "codemirror_mode": {
    "name": "ipython",
    "version": 3
   },
   "file_extension": ".py",
   "mimetype": "text/x-python",
   "name": "python",
   "nbconvert_exporter": "python",
   "pygments_lexer": "ipython3",
   "version": "3.13.4"
  }
 },
 "nbformat": 4,
 "nbformat_minor": 5
}
