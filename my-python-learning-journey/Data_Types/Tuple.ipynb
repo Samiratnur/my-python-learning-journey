{
 "cells": [
  {
   "cell_type": "code",
   "execution_count": 1,
   "id": "3af8b725",
   "metadata": {},
   "outputs": [
    {
     "name": "stdout",
     "output_type": "stream",
     "text": [
      "('abcd', '123457645', 'wide boll')\n",
      "wide boll\n",
      "<class 'tuple'>\n"
     ]
    }
   ],
   "source": [
    "#tuple value miixing \n",
    "var=(\"abcd\",\"123457645\",\"wide boll\")\n",
    "print(var)\n",
    "print(var[2])\n",
    "print(type(var))"
   ]
  },
  {
   "cell_type": "code",
   "execution_count": 1,
   "id": "3ff0b1bd",
   "metadata": {},
   "outputs": [
    {
     "name": "stdout",
     "output_type": "stream",
     "text": [
      "('abcd', '123457645', 'wide boll')\n",
      "wide boll\n",
      "<class 'tuple'>\n"
     ]
    }
   ],
   "source": [
    "#tuple value miixing \n",
    "var=(\"abcd\",\"123457645\",\"wide boll\")\n",
    "print(var)\n",
    "print(var[2])\n",
    "print(type(var))"
   ]
  }
 ],
 "metadata": {
  "kernelspec": {
   "display_name": "Python 3",
   "language": "python",
   "name": "python3"
  },
  "language_info": {
   "codemirror_mode": {
    "name": "ipython",
    "version": 3
   },
   "file_extension": ".py",
   "mimetype": "text/x-python",
   "name": "python",
   "nbconvert_exporter": "python",
   "pygments_lexer": "ipython3",
   "version": "3.13.3"
  }
 },
 "nbformat": 4,
 "nbformat_minor": 5
}
