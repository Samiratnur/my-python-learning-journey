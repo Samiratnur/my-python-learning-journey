{
 "cells": [
  {
   "cell_type": "code",
   "execution_count": 1,
   "id": "3af8b725",
   "metadata": {},
   "outputs": [
    {
     "name": "stdout",
     "output_type": "stream",
     "text": [
      "('abcd', '123457645', 'wide boll')\n",
      "wide boll\n",
      "<class 'tuple'>\n"
     ]
    }
   ],
   "source": [
    "#tuple value miixing \n",
    "var=(\"abcd\",\"123457645\",\"wide boll\")\n",
    "print(var)\n",
    "print(var[2])\n",
    "print(type(var))"
   ]
  },
  {
   "cell_type": "code",
   "execution_count": null,
   "id": "3ff0b1bd",
   "metadata": {},
   "outputs": [
    {
     "name": "stdout",
     "output_type": "stream",
     "text": [
      "('abcd', '123457645', 'wide boll')\n",
      "wide boll\n",
      "<class 'tuple'>\n"
     ]
    }
   ],
   "source": [
    "#tuple value miixing \n",
    "var=(\"abcd\",\"123457645\",\"wide boll\")\n",
    "print(var)\n",
    "print(var[2])\n",
    "print(type(var))\n"
   ]
  },
  {
   "cell_type": "code",
   "execution_count": 1,
   "id": "cc8067c2",
   "metadata": {},
   "outputs": [
    {
     "name": "stdout",
     "output_type": "stream",
     "text": [
      "<class 'tuple'>\n",
      "<class 'str'>\n"
     ]
    }
   ],
   "source": [
    "#TUPLES-\n",
    "#create- with one itam\n",
    "thistuple = (\"apple\",)\n",
    "print(type(thistuple))\n",
    "                                            #imp programs...!\n",
    "#NOT a tuple\n",
    "thistuple = (\"apple\")\n",
    "print(type(thistuple))"
   ]
  },
  {
   "cell_type": "code",
   "execution_count": 2,
   "id": "905bf2b0",
   "metadata": {},
   "outputs": [
    {
     "name": "stdout",
     "output_type": "stream",
     "text": [
      "()\n",
      "(1, 2, 3)\n",
      "(1, 'Hello', 3.4)\n",
      "('mouse', [8, 4, 6], (1, 2, 3))\n"
     ]
    }
   ],
   "source": [
    "#tuples Create\n",
    "# Empty tuple\n",
    "my_tuple = ()\n",
    "print(my_tuple)\n",
    "\n",
    "# Tuple having integers\n",
    "my_tuple = (1, 2, 3)\n",
    "print(my_tuple)\n",
    "\n",
    "# tuple with mixed datatypes\n",
    "my_tuple = (1, \"Hello\", 3.4)\n",
    "print(my_tuple)\n",
    "\n",
    "# nested tuple\n",
    "my_tuple = (\"mouse\", [8, 4, 6], (1, 2, 3))\n",
    "print(my_tuple)"
   ]
  },
  {
   "cell_type": "code",
   "execution_count": 3,
   "id": "980811fc",
   "metadata": {},
   "outputs": [
    {
     "name": "stdout",
     "output_type": "stream",
     "text": [
      "3\n",
      "rfeddd\n",
      "1   2   3   4   5   "
     ]
    }
   ],
   "source": [
    "#Accessing value in tuple\n",
    "my_tuple = (1, 2, 3, 4, 5)\n",
    "value = my_tuple[2]  # Access the third element (index 2)\n",
    "print(value) \n",
    "\n",
    "x=('edddsd','fe','eeffefd','rfeddd','dffsdf','rfrd')\n",
    "a=x[3]\n",
    "print(a)\n",
    "\n",
    "\n",
    "my_tuple = (1, 2, 3, 4, 5)\n",
    "for item in my_tuple:\n",
    "    print(item,end=\"   \")\n"
   ]
  },
  {
   "cell_type": "code",
   "execution_count": 4,
   "id": "f2ae5d2e",
   "metadata": {},
   "outputs": [
    {
     "name": "stdout",
     "output_type": "stream",
     "text": [
      "('apple', 'kiwi', 'cherry')\n",
      "('sam', 'rohan', 'sopya', 'raju')\n"
     ]
    }
   ],
   "source": [
    "#update tuple\n",
    "x = (\"apple\", \"banana\", \"cherry\")\n",
    "y = list(x)\n",
    "y[1] = \"kiwi\"\n",
    "x = tuple(y)\n",
    "\n",
    "print(x)\n",
    "\n",
    "s=('sam','rohan', 'dinu', 'raju')\n",
    "d=list(s)\n",
    "d[2]=\"sopya\"\n",
    "s=tuple(d)\n",
    "print(s)\n"
   ]
  },
  {
   "cell_type": "code",
   "execution_count": 5,
   "id": "6764baeb",
   "metadata": {},
   "outputs": [
    {
     "ename": "SyntaxError",
     "evalue": "Missing parentheses in call to 'print'. Did you mean print(...)? (470796309.py, line 11)",
     "output_type": "error",
     "traceback": [
      "  \u001b[36mCell\u001b[39m\u001b[36m \u001b[39m\u001b[32mIn[5]\u001b[39m\u001b[32m, line 11\u001b[39m\n\u001b[31m    \u001b[39m\u001b[31mprint tup;                                                                           #2\u001b[39m\n    ^\n\u001b[31mSyntaxError\u001b[39m\u001b[31m:\u001b[39m Missing parentheses in call to 'print'. Did you mean print(...)?\n"
     ]
    }
   ],
   "source": [
    "#Delete tuple\n",
    "x=(\"hii\" ,\"samir\")\n",
    "print(x)\n",
    "del(x)                                                                               #1\n",
    "print(\"after \")\n",
    "print(x)\n",
    "\n",
    "\n",
    "#!/usr/bin/python\n",
    "tup = ('physics', 'chemistry', 1997, 2000);\n",
    "print tup;                                                                           #2\n",
    "del tup;\n",
    "print \"After deleting tup : \";\n",
    "print tup;\n",
    "\n",
    "\n",
    "thistuple = (\"apple\", \"banana\", \"cherry\")\n",
    "del thistuple\n",
    "print(thistuple) #this will raise an error because the tuple no longer exists        #3\n"
   ]
  },
  {
   "cell_type": "code",
   "execution_count": 6,
   "id": "311e79cc",
   "metadata": {},
   "outputs": [
    {
     "name": "stdout",
     "output_type": "stream",
     "text": [
      "7\n",
      "4\n"
     ]
    }
   ],
   "source": [
    "#indexing tuple.\n",
    "tuple= (5,2,9,7,5,8,1,4,3)\n",
    "print(tuple[3])\n",
    "print(tuple[7])               #sope aahe\n"
   ]
  },
  {
   "cell_type": "code",
   "execution_count": 7,
   "id": "2f801ea9",
   "metadata": {},
   "outputs": [
    {
     "name": "stdout",
     "output_type": "stream",
     "text": [
      "('Python', 'Pyspark', 'Hadoop')\n",
      "(1, 2, 3)\n",
      "(3, 2, 1, 0)\n",
      "(2, 3)\n"
     ]
    }
   ],
   "source": [
    "#slicing\n",
    "\n",
    "# Syntax of slice\n",
    "#tuple[start:stop:step]\n",
    "\n",
    "tuples = ('Spark','Python','Pandas','Pyspark','Java','Hadoop', 'C++')\n",
    "start = 1\n",
    "stop = 6\n",
    "step = 2\n",
    "slice1 = slice(start, stop, step)\n",
    "result = tuples[slice1]\n",
    "print(result)\n",
    "\n",
    "# code to test slicing\n",
    "tuple1 = (0 ,1, 2, 3)\n",
    "\n",
    "print(tuple1[1:])\n",
    "print(tuple1[::-1])\n",
    "print(tuple1[2:4])\n"
   ]
  },
  {
   "cell_type": "code",
   "execution_count": 8,
   "id": "0e6a1175",
   "metadata": {},
   "outputs": [
    {
     "name": "stdout",
     "output_type": "stream",
     "text": [
      "Mustang\n",
      "{'brand': 'Ford', 'model': 'Mustang', 'year': 1964}\n"
     ]
    }
   ],
   "source": [
    "#accessing values\n",
    "thisdict = {\n",
    "  \"brand\": \"Ford\",\n",
    "  \"model\": \"Mustang\",\n",
    "  \"year\": 1964\n",
    "}\n",
    "x = thisdict[\"model\"]\n",
    "print(x)\n",
    "print(thisdict)"
   ]
  },
  {
   "cell_type": "code",
   "execution_count": 1,
   "id": "77abe387",
   "metadata": {},
   "outputs": [
    {
     "name": "stdout",
     "output_type": "stream",
     "text": [
      "[(1, 'a'), (2, 'b'), (3, 'c')]\n"
     ]
    }
   ],
   "source": [
    "#Python zip() with Tuple\n",
    "tuple1 = (1, 2, 3)\n",
    "tuple2 = ('a', 'b', 'c')\n",
    "zipped = zip(tuple1, tuple2)\n",
    "result = list(zipped)\n",
    "print(result)\n"
   ]
  },
  {
   "cell_type": "code",
   "execution_count": 2,
   "id": "4ac3baa2",
   "metadata": {},
   "outputs": [
    {
     "name": "stdout",
     "output_type": "stream",
     "text": [
      "1 2\n",
      "3 4\n",
      "5 6\n"
     ]
    }
   ],
   "source": [
    "#for loop with tuple.\n",
    "t=((1,2),(3,4),(5,6))\n",
    "for a,b in t:\n",
    "    print(a,b)"
   ]
  },
  {
   "cell_type": "code",
   "execution_count": null,
   "id": "f8d50584",
   "metadata": {},
   "outputs": [],
   "source": []
  },
  {
   "cell_type": "code",
   "execution_count": null,
   "id": "8c9a9137",
   "metadata": {},
   "outputs": [],
   "source": []
  }
 ],
 "metadata": {
  "kernelspec": {
   "display_name": "Python 3",
   "language": "python",
   "name": "python3"
  },
  "language_info": {
   "codemirror_mode": {
    "name": "ipython",
    "version": 3
   },
   "file_extension": ".py",
   "mimetype": "text/x-python",
   "name": "python",
   "nbconvert_exporter": "python",
   "pygments_lexer": "ipython3",
   "version": "3.13.3"
  }
 },
 "nbformat": 4,
 "nbformat_minor": 5
}
