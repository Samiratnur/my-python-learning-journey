{
 "cells": [
  {
   "cell_type": "code",
   "execution_count": 1,
   "id": "3af8b725",
   "metadata": {},
   "outputs": [
    {
     "name": "stdout",
     "output_type": "stream",
     "text": [
      "('abcd', '123457645', 'wide boll')\n",
      "wide boll\n",
      "<class 'tuple'>\n"
     ]
    }
   ],
   "source": [
    "#tuple value miixing \n",
    "var=(\"abcd\",\"123457645\",\"wide boll\")\n",
    "print(var)\n",
    "print(var[2])\n",
    "print(type(var))"
   ]
  },
  {
   "cell_type": "code",
   "execution_count": null,
   "id": "3ff0b1bd",
   "metadata": {},
   "outputs": [
    {
     "name": "stdout",
     "output_type": "stream",
     "text": [
      "('abcd', '123457645', 'wide boll')\n",
      "wide boll\n",
      "<class 'tuple'>\n"
     ]
    }
   ],
   "source": [
    "#tuple value miixing \n",
    "var=(\"abcd\",\"123457645\",\"wide boll\")\n",
    "print(var)\n",
    "print(var[2])\n",
    "print(type(var))\n"
   ]
  },
  {
   "cell_type": "code",
   "execution_count": 1,
   "id": "cc8067c2",
   "metadata": {},
   "outputs": [
    {
     "name": "stdout",
     "output_type": "stream",
     "text": [
      "<class 'tuple'>\n",
      "<class 'str'>\n"
     ]
    }
   ],
   "source": [
    "#TUPLES-\n",
    "#create- with one itam\n",
    "thistuple = (\"apple\",)\n",
    "print(type(thistuple))\n",
    "                                            #imp programs...!\n",
    "#NOT a tuple\n",
    "thistuple = (\"apple\")\n",
    "print(type(thistuple))"
   ]
  },
  {
   "cell_type": "code",
   "execution_count": 2,
   "id": "905bf2b0",
   "metadata": {},
   "outputs": [
    {
     "name": "stdout",
     "output_type": "stream",
     "text": [
      "()\n",
      "(1, 2, 3)\n",
      "(1, 'Hello', 3.4)\n",
      "('mouse', [8, 4, 6], (1, 2, 3))\n"
     ]
    }
   ],
   "source": [
    "#tuples Create\n",
    "# Empty tuple\n",
    "my_tuple = ()\n",
    "print(my_tuple)\n",
    "\n",
    "# Tuple having integers\n",
    "my_tuple = (1, 2, 3)\n",
    "print(my_tuple)\n",
    "\n",
    "# tuple with mixed datatypes\n",
    "my_tuple = (1, \"Hello\", 3.4)\n",
    "print(my_tuple)\n",
    "\n",
    "# nested tuple\n",
    "my_tuple = (\"mouse\", [8, 4, 6], (1, 2, 3))\n",
    "print(my_tuple)"
   ]
  },
  {
   "cell_type": "code",
   "execution_count": 3,
   "id": "980811fc",
   "metadata": {},
   "outputs": [
    {
     "name": "stdout",
     "output_type": "stream",
     "text": [
      "3\n",
      "rfeddd\n",
      "1   2   3   4   5   "
     ]
    }
   ],
   "source": [
    "#Accessing value in tuple\n",
    "my_tuple = (1, 2, 3, 4, 5)\n",
    "value = my_tuple[2]  # Access the third element (index 2)\n",
    "print(value) \n",
    "\n",
    "x=('edddsd','fe','eeffefd','rfeddd','dffsdf','rfrd')\n",
    "a=x[3]\n",
    "print(a)\n",
    "\n",
    "\n",
    "my_tuple = (1, 2, 3, 4, 5)\n",
    "for item in my_tuple:\n",
    "    print(item,end=\"   \")\n"
   ]
  },
  {
   "cell_type": "code",
   "execution_count": 4,
   "id": "f2ae5d2e",
   "metadata": {},
   "outputs": [
    {
     "name": "stdout",
     "output_type": "stream",
     "text": [
      "('apple', 'kiwi', 'cherry')\n",
      "('sam', 'rohan', 'sopya', 'raju')\n"
     ]
    }
   ],
   "source": [
    "#update tuple\n",
    "x = (\"apple\", \"banana\", \"cherry\")\n",
    "y = list(x)\n",
    "y[1] = \"kiwi\"\n",
    "x = tuple(y)\n",
    "\n",
    "print(x)\n",
    "\n",
    "s=('sam','rohan', 'dinu', 'raju')\n",
    "d=list(s)\n",
    "d[2]=\"sopya\"\n",
    "s=tuple(d)\n",
    "print(s)\n"
   ]
  },
  {
   "cell_type": "code",
   "execution_count": 5,
   "id": "6764baeb",
   "metadata": {},
   "outputs": [
    {
     "ename": "SyntaxError",
     "evalue": "Missing parentheses in call to 'print'. Did you mean print(...)? (470796309.py, line 11)",
     "output_type": "error",
     "traceback": [
      "  \u001b[36mCell\u001b[39m\u001b[36m \u001b[39m\u001b[32mIn[5]\u001b[39m\u001b[32m, line 11\u001b[39m\n\u001b[31m    \u001b[39m\u001b[31mprint tup;                                                                           #2\u001b[39m\n    ^\n\u001b[31mSyntaxError\u001b[39m\u001b[31m:\u001b[39m Missing parentheses in call to 'print'. Did you mean print(...)?\n"
     ]
    }
   ],
   "source": [
    "#Delete tuple\n",
    "x=(\"hii\" ,\"samir\")\n",
    "print(x)\n",
    "del(x)                                                                               #1\n",
    "print(\"after \")\n",
    "print(x)\n",
    "\n",
    "\n",
    "#!/usr/bin/python\n",
    "tup = ('physics', 'chemistry', 1997, 2000);\n",
    "print tup;                                                                           #2\n",
    "del tup;\n",
    "print \"After deleting tup : \";\n",
    "print tup;\n",
    "\n",
    "\n",
    "thistuple = (\"apple\", \"banana\", \"cherry\")\n",
    "del thistuple\n",
    "print(thistuple) #this will raise an error because the tuple no longer exists        #3\n"
   ]
  },
  {
   "cell_type": "code",
   "execution_count": 6,
   "id": "311e79cc",
   "metadata": {},
   "outputs": [
    {
     "name": "stdout",
     "output_type": "stream",
     "text": [
      "7\n",
      "4\n"
     ]
    }
   ],
   "source": [
    "#indexing tuple.\n",
    "tuple= (5,2,9,7,5,8,1,4,3)\n",
    "print(tuple[3])\n",
    "print(tuple[7])               #sope aahe\n"
   ]
  },
  {
   "cell_type": "code",
   "execution_count": 7,
   "id": "2f801ea9",
   "metadata": {},
   "outputs": [
    {
     "name": "stdout",
     "output_type": "stream",
     "text": [
      "('Python', 'Pyspark', 'Hadoop')\n",
      "(1, 2, 3)\n",
      "(3, 2, 1, 0)\n",
      "(2, 3)\n"
     ]
    }
   ],
   "source": [
    "#slicing\n",
    "\n",
    "# Syntax of slice\n",
    "#tuple[start:stop:step]\n",
    "\n",
    "tuples = ('Spark','Python','Pandas','Pyspark','Java','Hadoop', 'C++')\n",
    "start = 1\n",
    "stop = 6\n",
    "step = 2\n",
    "slice1 = slice(start, stop, step)\n",
    "result = tuples[slice1]\n",
    "print(result)\n",
    "\n",
    "# code to test slicing\n",
    "tuple1 = (0 ,1, 2, 3)\n",
    "\n",
    "print(tuple1[1:])\n",
    "print(tuple1[::-1])\n",
    "print(tuple1[2:4])\n"
   ]
  },
  {
   "cell_type": "code",
   "execution_count": 8,
   "id": "0e6a1175",
   "metadata": {},
   "outputs": [
    {
     "name": "stdout",
     "output_type": "stream",
     "text": [
      "Mustang\n",
      "{'brand': 'Ford', 'model': 'Mustang', 'year': 1964}\n"
     ]
    }
   ],
   "source": [
    "#accessing values\n",
    "thisdict = {\n",
    "  \"brand\": \"Ford\",\n",
    "  \"model\": \"Mustang\",\n",
    "  \"year\": 1964\n",
    "}\n",
    "x = thisdict[\"model\"]\n",
    "print(x)\n",
    "print(thisdict)"
   ]
  },
  {
   "cell_type": "code",
   "execution_count": 1,
   "id": "77abe387",
   "metadata": {},
   "outputs": [
    {
     "name": "stdout",
     "output_type": "stream",
     "text": [
      "[(1, 'a'), (2, 'b'), (3, 'c')]\n"
     ]
    }
   ],
   "source": [
    "#Python zip() with Tuple\n",
    "tuple1 = (1, 2, 3)\n",
    "tuple2 = ('a', 'b', 'c')\n",
    "zipped = zip(tuple1, tuple2)\n",
    "result = list(zipped)\n",
    "print(result)\n"
   ]
  },
  {
   "cell_type": "code",
   "execution_count": 2,
   "id": "4ac3baa2",
   "metadata": {},
   "outputs": [
    {
     "name": "stdout",
     "output_type": "stream",
     "text": [
      "1 2\n",
      "3 4\n",
      "5 6\n"
     ]
    }
   ],
   "source": [
    "#for loop with tuple.\n",
    "t=((1,2),(3,4),(5,6))\n",
    "for a,b in t:\n",
    "    print(a,b)"
   ]
  },
  {
   "cell_type": "code",
   "execution_count": 2,
   "id": "f8d50584",
   "metadata": {},
   "outputs": [
    {
     "name": "stdout",
     "output_type": "stream",
     "text": [
      "('apple', 'banana', 'cherry')\n"
     ]
    }
   ],
   "source": [
    "#1. Create and Print a Tuple\n",
    "fruits = (\"apple\", \"banana\", \"cherry\")\n",
    "print(fruits)\n"
   ]
  },
  {
   "cell_type": "code",
   "execution_count": 4,
   "id": "8c9a9137",
   "metadata": {},
   "outputs": [
    {
     "name": "stdout",
     "output_type": "stream",
     "text": [
      "First color: red\n",
      "Last color: blue\n"
     ]
    }
   ],
   "source": [
    "#2. Access Elements by Index\n",
    "colors = (\"red\", \"green\", \"blue\")\n",
    "print(\"First color:\", colors[0])\n",
    "print(\"Last color:\", colors[-1])\n"
   ]
  },
  {
   "cell_type": "code",
   "execution_count": 6,
   "id": "d5988983",
   "metadata": {},
   "outputs": [
    {
     "name": "stdout",
     "output_type": "stream",
     "text": [
      "Length: 4\n"
     ]
    }
   ],
   "source": [
    "#3. Tuple Length\n",
    "nums = (10, 20, 30, 40)\n",
    "print(\"Length:\", len(nums))\n"
   ]
  },
  {
   "cell_type": "code",
   "execution_count": 7,
   "id": "eb24cae3",
   "metadata": {},
   "outputs": [
    {
     "name": "stdout",
     "output_type": "stream",
     "text": [
      "True\n",
      "False\n"
     ]
    }
   ],
   "source": [
    "#4. Check if Element Exists\n",
    "t = (1, 3, 5, 7)\n",
    "print(5 in t)     # True\n",
    "print(9 in t)     # False\n"
   ]
  },
  {
   "cell_type": "code",
   "execution_count": 8,
   "id": "c22b2c67",
   "metadata": {},
   "outputs": [
    {
     "name": "stdout",
     "output_type": "stream",
     "text": [
      "(20, 30, 40)\n"
     ]
    }
   ],
   "source": [
    "#5. Tuple Slicing\n",
    "my_tuple = (10, 20, 30, 40, 50)\n",
    "print(my_tuple[1:4])   # From index 1 to 3\n"
   ]
  },
  {
   "cell_type": "code",
   "execution_count": 9,
   "id": "05a017fc",
   "metadata": {},
   "outputs": [
    {
     "name": "stdout",
     "output_type": "stream",
     "text": [
      "(1, 2, 3, 4, 5)\n"
     ]
    }
   ],
   "source": [
    "# 6. Concatenate Two Tuples\n",
    "a = (1, 2, 3)\n",
    "b = (4, 5)\n",
    "result = a + b\n",
    "print(result)\n",
    "\n"
   ]
  },
  {
   "cell_type": "code",
   "execution_count": 10,
   "id": "6cb216d4",
   "metadata": {},
   "outputs": [
    {
     "name": "stdout",
     "output_type": "stream",
     "text": [
      "('yes', 'yes', 'yes')\n"
     ]
    }
   ],
   "source": [
    "#7. Repeat a Tuple\n",
    "t = (\"yes\",)\n",
    "print(t * 3)\n"
   ]
  },
  {
   "cell_type": "code",
   "execution_count": 11,
   "id": "2d60d47c",
   "metadata": {},
   "outputs": [
    {
     "name": "stdout",
     "output_type": "stream",
     "text": [
      "Samir\n",
      "23\n",
      "India\n"
     ]
    }
   ],
   "source": [
    "#8. Unpack Tuple into Variables\n",
    "person = (\"Samir\", 23, \"India\")\n",
    "name, age, country = person\n",
    "print(name)\n",
    "print(age)\n",
    "print(country)\n"
   ]
  },
  {
   "cell_type": "code",
   "execution_count": 12,
   "id": "6969388e",
   "metadata": {},
   "outputs": [
    {
     "name": "stdout",
     "output_type": "stream",
     "text": [
      "Min: 1\n",
      "Max: 8\n"
     ]
    }
   ],
   "source": [
    "#9. Find Min and Max in Numeric Tuple\n",
    "numbers = (5, 2, 8, 1, 3)\n",
    "print(\"Min:\", min(numbers))\n",
    "print(\"Max:\", max(numbers))\n"
   ]
  },
  {
   "cell_type": "code",
   "execution_count": 13,
   "id": "d8a6948a",
   "metadata": {},
   "outputs": [
    {
     "name": "stdout",
     "output_type": "stream",
     "text": [
      "pen appears: 2\n"
     ]
    }
   ],
   "source": [
    "# 10. Count Occurrence of an Item\n",
    "items = (\"pen\", \"pencil\", \"pen\", \"book\")\n",
    "print(\"pen appears:\", items.count(\"pen\"))\n"
   ]
  },
  {
   "cell_type": "code",
   "execution_count": 15,
   "id": "fc28250b",
   "metadata": {},
   "outputs": [
    {
     "name": "stdout",
     "output_type": "stream",
     "text": [
      "Index of 'c': 2\n"
     ]
    }
   ],
   "source": [
    "#11. Find Index of an Element\n",
    "t = (\"a\", \"b\", \"c\", \"d\")\n",
    "print(\"Index of 'c':\", t.index(\"c\"))\n"
   ]
  },
  {
   "cell_type": "code",
   "execution_count": 16,
   "id": "dd632824",
   "metadata": {},
   "outputs": [
    {
     "name": "stdout",
     "output_type": "stream",
     "text": [
      "Hello Alice\n",
      "Hello Bob\n",
      "Hello Charlie\n"
     ]
    }
   ],
   "source": [
    "#12. Loop Through a Tuple\n",
    "names = (\"Alice\", \"Bob\", \"Charlie\")\n",
    "for name in names:\n",
    "    print(\"Hello\", name)\n"
   ]
  },
  {
   "cell_type": "code",
   "execution_count": 18,
   "id": "46e1e0af",
   "metadata": {},
   "outputs": [
    {
     "name": "stdout",
     "output_type": "stream",
     "text": [
      "2\n"
     ]
    }
   ],
   "source": [
    "#13. Nested Tuple Access\n",
    "data = (\"user\", (1, 2, 3))\n",
    "print(data[1][1])   # Access inner tuple's 2nd element\n"
   ]
  },
  {
   "cell_type": "code",
   "execution_count": 20,
   "id": "a2c6302c",
   "metadata": {},
   "outputs": [
    {
     "name": "stdout",
     "output_type": "stream",
     "text": [
      "All numbers\n"
     ]
    }
   ],
   "source": [
    "#14. Check if All Elements Are Numbers\n",
    "t = (1, 2, 3)\n",
    "if all(isinstance(x, int) for x in t):\n",
    "    print(\"All numbers\")\n"
   ]
  },
  {
   "cell_type": "code",
   "execution_count": 21,
   "id": "3d92b414",
   "metadata": {},
   "outputs": [
    {
     "name": "stdout",
     "output_type": "stream",
     "text": [
      "(1, 2, 3)\n"
     ]
    }
   ],
   "source": [
    "#15. Convert List to Tuple\n",
    "lst = [1, 2, 3]\n",
    "tup = tuple(lst)\n",
    "print(tup)\n"
   ]
  },
  {
   "cell_type": "code",
   "execution_count": 22,
   "id": "3c20d043",
   "metadata": {},
   "outputs": [
    {
     "name": "stdout",
     "output_type": "stream",
     "text": [
      "('Samir', 25, True)\n"
     ]
    }
   ],
   "source": [
    "#16. Tuple with Mixed Data Types\n",
    "mix = (\"Samir\", 25, True)\n",
    "print(mix)\n"
   ]
  },
  {
   "cell_type": "code",
   "execution_count": 1,
   "id": "1aa11529",
   "metadata": {},
   "outputs": [
    {
     "name": "stdout",
     "output_type": "stream",
     "text": [
      "B\n"
     ]
    }
   ],
   "source": [
    "#17. Tuple Inside a Tuple (Nested)\n",
    "t = (\"A\", (\"B\", \"C\"), \"D\")\n",
    "print(t[1][0])  # Access \"B\"\n"
   ]
  },
  {
   "cell_type": "code",
   "execution_count": 3,
   "id": "0b416eb2",
   "metadata": {},
   "outputs": [
    {
     "name": "stdout",
     "output_type": "stream",
     "text": [
      "True\n"
     ]
    }
   ],
   "source": [
    "#18. Compare Two Tuples\n",
    "a = (1, 2, 3)\n",
    "b = (1, 2, 4)\n",
    "print(a < b)   # True, because 3 < 4\n"
   ]
  },
  {
   "cell_type": "code",
   "execution_count": 4,
   "id": "23aed7d2",
   "metadata": {},
   "outputs": [
    {
     "name": "stdout",
     "output_type": "stream",
     "text": [
      "Reversed: (4, 3, 2, 1)\n"
     ]
    }
   ],
   "source": [
    "#19. Reverse a Tuple\n",
    "t = (1, 2, 3, 4)\n",
    "rev = t[::-1]\n",
    "print(\"Reversed:\", rev)\n"
   ]
  },
  {
   "cell_type": "code",
   "execution_count": 5,
   "id": "6f274db0",
   "metadata": {},
   "outputs": [
    {
     "name": "stdout",
     "output_type": "stream",
     "text": [
      "Tuple is empty\n"
     ]
    }
   ],
   "source": [
    "#20. Check if Tuple is Empty\n",
    "t = ()\n",
    "if not t:\n",
    "    print(\"Tuple is empty\")\n",
    "\n"
   ]
  },
  {
   "cell_type": "code",
   "execution_count": null,
   "id": "01d146b9",
   "metadata": {},
   "outputs": [],
   "source": []
  }
 ],
 "metadata": {
  "kernelspec": {
   "display_name": "Python 3",
   "language": "python",
   "name": "python3"
  },
  "language_info": {
   "codemirror_mode": {
    "name": "ipython",
    "version": 3
   },
   "file_extension": ".py",
   "mimetype": "text/x-python",
   "name": "python",
   "nbconvert_exporter": "python",
   "pygments_lexer": "ipython3",
   "version": "3.13.4"
  }
 },
 "nbformat": 4,
 "nbformat_minor": 5
}
