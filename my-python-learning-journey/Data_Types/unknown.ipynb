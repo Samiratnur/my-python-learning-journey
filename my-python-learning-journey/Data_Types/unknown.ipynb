{
 "cells": [
  {
   "cell_type": "code",
   "execution_count": 2,
   "id": "151ce763",
   "metadata": {},
   "outputs": [
    {
     "name": "stdout",
     "output_type": "stream",
     "text": [
      "addition 10\n",
      "substraction -4\n",
      "multiplication 21\n",
      "division 0.42857142857142855\n",
      "<function calcu at 0x000001F9C473A700>\n"
     ]
    }
   ],
   "source": [
    "def calcu(a,b):\n",
    "    print('addition',a+b)\n",
    "    print('substraction',a-b)\n",
    "    print('multiplication',a*b)\n",
    "    print('division',a/b)\n",
    "  \n",
    "sum=calcu(3,7) \n",
    "print(calcu)"
   ]
  },
  {
   "cell_type": "code",
   "execution_count": 3,
   "id": "f89cf5bf",
   "metadata": {},
   "outputs": [
    {
     "name": "stdout",
     "output_type": "stream",
     "text": [
      "good evining: samir atnur\n"
     ]
    }
   ],
   "source": [
    "def info(first_name\n",
    "         ,Last_name):\n",
    "    print(\"good evining:\" ,first_name,Last_name)\n",
    "    \n",
    "info('samir','atnur')    \n",
    "    "
   ]
  },
  {
   "cell_type": "code",
   "execution_count": null,
   "id": "cb31f918",
   "metadata": {},
   "outputs": [],
   "source": []
  },
  {
   "cell_type": "code",
   "execution_count": null,
   "id": "33b5f400",
   "metadata": {},
   "outputs": [],
   "source": []
  },
  {
   "cell_type": "code",
   "execution_count": null,
   "id": "3454df89",
   "metadata": {},
   "outputs": [],
   "source": []
  },
  {
   "cell_type": "code",
   "execution_count": null,
   "id": "10c71b0b",
   "metadata": {},
   "outputs": [],
   "source": []
  },
  {
   "cell_type": "code",
   "execution_count": null,
   "id": "1bec09d6",
   "metadata": {},
   "outputs": [],
   "source": []
  },
  {
   "cell_type": "code",
   "execution_count": null,
   "id": "df226811",
   "metadata": {},
   "outputs": [],
   "source": []
  }
 ],
 "metadata": {
  "kernelspec": {
   "display_name": "Python 3",
   "language": "python",
   "name": "python3"
  },
  "language_info": {
   "codemirror_mode": {
    "name": "ipython",
    "version": 3
   },
   "file_extension": ".py",
   "mimetype": "text/x-python",
   "name": "python",
   "nbconvert_exporter": "python",
   "pygments_lexer": "ipython3",
   "version": "3.13.4"
  }
 },
 "nbformat": 4,
 "nbformat_minor": 5
}
