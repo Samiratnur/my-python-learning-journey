{
 "cells": [
  {
   "cell_type": "code",
   "execution_count": 1,
   "id": "93a872ba",
   "metadata": {},
   "outputs": [
    {
     "name": "stdout",
     "output_type": "stream",
     "text": [
      "True\n"
     ]
    }
   ],
   "source": [
    "a=True\n",
    "b=False\n",
    "print(a)"
   ]
  },
  {
   "cell_type": "code",
   "execution_count": 1,
   "id": "7a2b5dad",
   "metadata": {},
   "outputs": [
    {
     "name": "stdout",
     "output_type": "stream",
     "text": [
      "<class 'type'>\n",
      "<class 'type'>\n",
      "False\n",
      "False\n"
     ]
    },
    {
     "ename": "NameError",
     "evalue": "name 'none' is not defined",
     "output_type": "error",
     "traceback": [
      "\u001b[31m---------------------------------------------------------------------------\u001b[39m",
      "\u001b[31mNameError\u001b[39m                                 Traceback (most recent call last)",
      "\u001b[36mCell\u001b[39m\u001b[36m \u001b[39m\u001b[32mIn[1]\u001b[39m\u001b[32m, line 11\u001b[39m\n\u001b[32m      8\u001b[39m \u001b[38;5;28mprint\u001b[39m(\u001b[38;5;28mbool\u001b[39m(a==b))\n\u001b[32m      9\u001b[39m \u001b[38;5;28mprint\u001b[39m(a==b)\n\u001b[32m---> \u001b[39m\u001b[32m11\u001b[39m a=\u001b[43mnone\u001b[49m\n\u001b[32m     12\u001b[39m \u001b[38;5;28mprint\u001b[39m(\u001b[38;5;28mbool\u001b[39m(a))\n\u001b[32m     14\u001b[39m a=()\n",
      "\u001b[31mNameError\u001b[39m: name 'none' is not defined"
     ]
    }
   ],
   "source": [
    "#boolean par 2 ture or false.\n",
    "a=type\n",
    "print(a)\n",
    "print(type(a))\n",
    "\n",
    "a=2\n",
    "b=4\n",
    "print(bool(a==b))\n",
    "print(a==b)\n",
    "\n",
    "a=none\n",
    "print(bool(a))\n",
    "\n",
    "a=()\n",
    "print(bool(a))\n",
    "\n",
    "a=0.0\n",
    "print(bool(a))\n",
    "\n",
    "a=10\n",
    "print(bool(a))"
   ]
  },
  {
   "cell_type": "code",
   "execution_count": 1,
   "id": "9778e27d",
   "metadata": {},
   "outputs": [
    {
     "ename": "NameError",
     "evalue": "name 'true' is not defined",
     "output_type": "error",
     "traceback": [
      "\u001b[31m---------------------------------------------------------------------------\u001b[39m",
      "\u001b[31mNameError\u001b[39m                                 Traceback (most recent call last)",
      "\u001b[36mCell\u001b[39m\u001b[36m \u001b[39m\u001b[32mIn[1]\u001b[39m\u001b[32m, line 2\u001b[39m\n\u001b[32m      1\u001b[39m \u001b[38;5;66;03m#boolean\u001b[39;00m\n\u001b[32m----> \u001b[39m\u001b[32m2\u001b[39m \u001b[38;5;28mprint\u001b[39m(\u001b[38;5;28mtype\u001b[39m(\u001b[43mtrue\u001b[49m))\n\u001b[32m      3\u001b[39m \u001b[38;5;28mprint\u001b[39m(\u001b[38;5;28mtype\u001b[39m(\u001b[38;5;28;01mTrue\u001b[39;00m)) \n\u001b[32m      4\u001b[39m \u001b[38;5;28mprint\u001b[39m(\u001b[38;5;28mtype\u001b[39m(false))\n",
      "\u001b[31mNameError\u001b[39m: name 'true' is not defined"
     ]
    }
   ],
   "source": [
    "#boolean\n",
    "print(type(true))\n",
    "print(type(True)) \n",
    "print(type(false))"
   ]
  },
  {
   "cell_type": "code",
   "execution_count": 2,
   "id": "41d01a75",
   "metadata": {},
   "outputs": [
    {
     "name": "stdout",
     "output_type": "stream",
     "text": [
      "<class 'type'>\n",
      "<class 'type'>\n",
      "False\n",
      "False\n"
     ]
    },
    {
     "ename": "NameError",
     "evalue": "name 'none' is not defined",
     "output_type": "error",
     "traceback": [
      "\u001b[31m---------------------------------------------------------------------------\u001b[39m",
      "\u001b[31mNameError\u001b[39m                                 Traceback (most recent call last)",
      "\u001b[36mCell\u001b[39m\u001b[36m \u001b[39m\u001b[32mIn[2]\u001b[39m\u001b[32m, line 11\u001b[39m\n\u001b[32m      8\u001b[39m \u001b[38;5;28mprint\u001b[39m(\u001b[38;5;28mbool\u001b[39m(a==b))\n\u001b[32m      9\u001b[39m \u001b[38;5;28mprint\u001b[39m(a==b)\n\u001b[32m---> \u001b[39m\u001b[32m11\u001b[39m a=\u001b[43mnone\u001b[49m\n\u001b[32m     12\u001b[39m \u001b[38;5;28mprint\u001b[39m(\u001b[38;5;28mbool\u001b[39m(a))\n\u001b[32m     14\u001b[39m a=()\n",
      "\u001b[31mNameError\u001b[39m: name 'none' is not defined"
     ]
    }
   ],
   "source": [
    "#boolean par 2 ture or false.\n",
    "a=type\n",
    "print(a)\n",
    "print(type(a))\n",
    "\n",
    "a=2\n",
    "b=4\n",
    "print(bool(a==b))\n",
    "print(a==b)\n",
    "\n",
    "a=none\n",
    "print(bool(a))\n",
    "\n",
    "a=()\n",
    "print(bool(a))\n",
    "\n",
    "a=0.0\n",
    "print(bool(a))\n",
    "\n",
    "a=10\n",
    "print(bool(a))"
   ]
  },
  {
   "cell_type": "code",
   "execution_count": 3,
   "id": "7bff1269",
   "metadata": {},
   "outputs": [
    {
     "name": "stdout",
     "output_type": "stream",
     "text": [
      "True\n",
      "<class 'int'>\n",
      "True\n",
      "<class 'float'>\n",
      "False\n",
      "<class 'str'>\n"
     ]
    }
   ],
   "source": [
    "num=10\n",
    "print(num == 10)#  puting int values in bool& eqal coprarision opreater.\n",
    "print(type(num))\n",
    "\n",
    "\n",
    "numb=10.0\n",
    "print(numb == 10.0)#puting float values in bool& eqal coprarision opreater.\n",
    "print(type(numb))\n",
    "\n",
    "\n",
    "numbe='10'\n",
    "print(numbe == 10)#puting string values in bool& eqal coprarision opreater.\n",
    "print(type(numbe))"
   ]
  },
  {
   "cell_type": "code",
   "execution_count": 4,
   "id": "78151fd8",
   "metadata": {},
   "outputs": [
    {
     "name": "stdout",
     "output_type": "stream",
     "text": [
      "False\n",
      "True\n",
      "<class 'int'>\n"
     ]
    }
   ],
   "source": [
    "#****!=**** not equal.\n",
    "num=10\n",
    "print(num!=10)\n",
    "print(num!=11)\n",
    "print(type(num))\n"
   ]
  },
  {
   "cell_type": "code",
   "execution_count": 5,
   "id": "1c878e87",
   "metadata": {},
   "outputs": [
    {
     "name": "stdout",
     "output_type": "stream",
     "text": [
      "True\n",
      "False\n",
      "\n",
      " True\n",
      "True\n"
     ]
    }
   ],
   "source": [
    "#>= grater than equal.(bool)\n",
    "X=14\n",
    "print(X>=14)\n",
    "print(X>=15)\n",
    "#________ _ _  ________________________________________\n",
    "#<= less than equal.(bool)\n",
    "a=14\n",
    "print(\"\\n\",a<=14)\n",
    "print(a<=15)"
   ]
  },
  {
   "cell_type": "code",
   "execution_count": 6,
   "id": "682d6e19",
   "metadata": {},
   "outputs": [
    {
     "name": "stdout",
     "output_type": "stream",
     "text": [
      "True\n"
     ]
    }
   ],
   "source": [
    "#boolean in detail-(logical  operater)\n",
    "# 1-and.2-not.3-or.\n",
    "# and\n",
    "age = 22\n",
    "gpa = 3.8\n",
    "result = age >=18 and gpa>3.6\n",
    "print(result)"
   ]
  },
  {
   "cell_type": "code",
   "execution_count": 7,
   "id": "6ffbcbc0",
   "metadata": {},
   "outputs": [
    {
     "name": "stdout",
     "output_type": "stream",
     "text": [
      "True\n"
     ]
    }
   ],
   "source": [
    "#logical or operater.\n",
    "petrol=89\n",
    "desal=78.2\n",
    "rate = petrol <100 or desal<101 #imp line .\n",
    "print(rate)"
   ]
  },
  {
   "cell_type": "code",
   "execution_count": 8,
   "id": "95050a3e",
   "metadata": {},
   "outputs": [
    {
     "name": "stdout",
     "output_type": "stream",
     "text": [
      "not 0: True\n",
      "not 42:  False\n",
      "not 0.0:  True\n",
      "not 24.0:  False\n",
      "not 0 + 0j:  True\n",
      "not 24 + 1j:  False\n",
      "not '':  True\n",
      "not 'Hello':  False\n",
      "not []:  True\n",
      "not [1, 4, 6]:  False\n",
      "not {}:  True\n",
      "not {'a': 1, 'b': 2}:  False\n"
     ]
    }
   ],
   "source": [
    "#part 2\n",
    "# Python program to show that not operator can be used with all the Python data types  \n",
    "  \n",
    "# Using the operator with integer values  \n",
    "print(\"not 0:\", not 0)  \n",
    "print(\"not 42: \", not 42)  \n",
    "  \n",
    "# Using the operator with float values  \n",
    "print(\"not 0.0: \", not 0.0)  \n",
    "print(\"not 24.0: \", not 24.0)  \n",
    "  \n",
    "# Using the operator with complex values  \n",
    "print(\"not 0 + 0j: \", not complex(0, 0))  \n",
    "print(\"not 24 + 1j: \", not complex(42, 1))  \n",
    "  \n",
    "# Using the operator with string variables  \n",
    "print(\"not '': \", not \"\")  \n",
    "print(\"not 'Hello': \", not \"Hello\")  \n",
    "  \n",
    "# Using the operator with list objects  \n",
    "print(\"not []: \", not [])  \n",
    "print(\"not [1, 4, 6]: \", not [1, 4, 6])  \n",
    "  \n",
    "# Using the operator with dictionary objects  \n",
    "print(\"not {}: \", not {})  \n",
    "print(\"not {'a': 1, 'b': 2}: \", not {'a': 1, 'b': 2})"
   ]
  },
  {
   "cell_type": "code",
   "execution_count": 9,
   "id": "b4afe7a8",
   "metadata": {},
   "outputs": [
    {
     "ename": "NameError",
     "evalue": "name 'false' is not defined",
     "output_type": "error",
     "traceback": [
      "\u001b[31m---------------------------------------------------------------------------\u001b[39m",
      "\u001b[31mNameError\u001b[39m                                 Traceback (most recent call last)",
      "\u001b[36mCell\u001b[39m\u001b[36m \u001b[39m\u001b[32mIn[9]\u001b[39m\u001b[32m, line 2\u001b[39m\n\u001b[32m      1\u001b[39m \u001b[38;5;66;03m#boolean errors\u001b[39;00m\n\u001b[32m----> \u001b[39m\u001b[32m2\u001b[39m \u001b[38;5;28mbool\u001b[39m(\u001b[43mfalse\u001b[49m)\n\u001b[32m      3\u001b[39m \u001b[38;5;28mbool\u001b[39m(none)\n\u001b[32m      4\u001b[39m \u001b[38;5;28mbool\u001b[39m(\u001b[32m0\u001b[39m)\n",
      "\u001b[31mNameError\u001b[39m: name 'false' is not defined"
     ]
    }
   ],
   "source": [
    "#boolean errors\n",
    "bool(false)\n",
    "bool(none)\n",
    "bool(0)\n",
    "bool(())\n",
    "bool(\"\")\n",
    "([])\n",
    "bool({})"
   ]
  },
  {
   "cell_type": "code",
   "execution_count": 10,
   "id": "0c6d8cf2",
   "metadata": {},
   "outputs": [
    {
     "name": "stdout",
     "output_type": "stream",
     "text": [
      "true\n",
      "atlist one number has  boolean value as true\n"
     ]
    }
   ],
   "source": [
    "# create program ****or***** opreater using if else .\n",
    "a=1\n",
    "b=2\n",
    "c=4\n",
    "if a>b or b<c:\n",
    "    print('true')\n",
    "else:\n",
    "    print('false')\n",
    "if a or b or c:\n",
    "    print(\"atlist one number has  boolean value as true\")\n",
    "    "
   ]
  },
  {
   "cell_type": "code",
   "execution_count": 1,
   "id": "aba9f88a",
   "metadata": {},
   "outputs": [
    {
     "name": "stdout",
     "output_type": "stream",
     "text": [
      "True\n",
      "False\n",
      "True\n",
      "False\n"
     ]
    }
   ],
   "source": [
    "     #boolean in detail-(comarision operater)\n",
    "# <\n",
    "# >\n",
    "# ==    \n",
    "# i=\n",
    "# >=\n",
    "# <=\n",
    "#_________________________________________________________\n",
    "\n",
    "x=10\n",
    "print(x<11)\n",
    "print(x>11)\n",
    "print(x<=10)\n",
    "print(x>10)\n",
    "#gerater and less. \n",
    " "
   ]
  },
  {
   "cell_type": "code",
   "execution_count": 2,
   "id": "638c91a7",
   "metadata": {},
   "outputs": [
    {
     "data": {
      "text/plain": [
       "True"
      ]
     },
     "execution_count": 2,
     "metadata": {},
     "output_type": "execute_result"
    }
   ],
   "source": [
    "a=78\n",
    "b=20\n",
    "a>45 and b<a\n"
   ]
  },
  {
   "cell_type": "code",
   "execution_count": 1,
   "id": "87388001",
   "metadata": {},
   "outputs": [
    {
     "name": "stdout",
     "output_type": "stream",
     "text": [
      "🏰 Welcome to the Secret Door Game!\n",
      "You see 3 doors in front of you: Door 1, Door 2, and Door 3.\n",
      "Only one door has the treasure. Others are dangerous!\n"
     ]
    },
    {
     "ename": "ValueError",
     "evalue": "invalid literal for int() with base 10: ''",
     "output_type": "error",
     "traceback": [
      "\u001b[31m---------------------------------------------------------------------------\u001b[39m",
      "\u001b[31mValueError\u001b[39m                                Traceback (most recent call last)",
      "\u001b[36mCell\u001b[39m\u001b[36m \u001b[39m\u001b[32mIn[1]\u001b[39m\u001b[32m, line 8\u001b[39m\n\u001b[32m      6\u001b[39m has_monster = \u001b[38;5;28;01mTrue\u001b[39;00m\n\u001b[32m      7\u001b[39m has_trap = \u001b[38;5;28;01mFalse\u001b[39;00m\n\u001b[32m----> \u001b[39m\u001b[32m8\u001b[39m door_chosen = \u001b[38;5;28;43mint\u001b[39;49m\u001b[43m(\u001b[49m\u001b[38;5;28;43minput\u001b[39;49m\u001b[43m(\u001b[49m\u001b[33;43m\"\u001b[39;49m\u001b[33;43mChoose a door (1, 2, or 3): \u001b[39;49m\u001b[33;43m\"\u001b[39;49m\u001b[43m)\u001b[49m\u001b[43m)\u001b[49m\n\u001b[32m     10\u001b[39m \u001b[38;5;28mprint\u001b[39m(\u001b[33m\"\u001b[39m\u001b[38;5;130;01m\\n\u001b[39;00m\u001b[33m🧠 Thinking...\u001b[39m\u001b[38;5;130;01m\\n\u001b[39;00m\u001b[33m\"\u001b[39m)\n\u001b[32m     12\u001b[39m \u001b[38;5;66;03m# Creative Boolean logic (simple but fun)\u001b[39;00m\n",
      "\u001b[31mValueError\u001b[39m: invalid literal for int() with base 10: ''"
     ]
    }
   ],
   "source": [
    "print(\"🏰 Welcome to the Secret Door Game!\")\n",
    "print(\"You see 3 doors in front of you: Door 1, Door 2, and Door 3.\")\n",
    "print(\"Only one door has the treasure. Others are dangerous!\")\n",
    "\n",
    "# Boolean hints\n",
    "has_monster = True\n",
    "has_trap = False\n",
    "door_chosen = int(input(\"Choose a door (1, 2, or 3): \"))\n",
    "\n",
    "print(\"\\n🧠 Thinking...\\n\")\n",
    "\n",
    "# Creative Boolean logic (simple but fun)\n",
    "if door_chosen == 1:\n",
    "    if has_monster and not has_trap:\n",
    "        print(\"😱 Oh no! A monster jumps out! You run away safely.\")\n",
    "elif door_chosen == 2:\n",
    "    if not has_monster and not has_trap:\n",
    "        print(\"🎉 Congratulations! You found the hidden treasure!\")\n",
    "    else:\n",
    "        print(\"💥 Trap activated! You fall into a hole.\")\n",
    "elif door_chosen == 3:\n",
    "    if has_trap or has_monster:\n",
    "        print(\"💥 Trap activated! You fall into a hole.\")\n",
    "else:\n",
    "    print(\"❌ That's not a valid door!\")\n",
    "\n",
    "print(\"Game Over. Thanks for playing!\")\n"
   ]
  },
  {
   "cell_type": "code",
   "execution_count": 2,
   "id": "c437bd89",
   "metadata": {},
   "outputs": [
    {
     "ename": "KeyboardInterrupt",
     "evalue": "Interrupted by user",
     "output_type": "error",
     "traceback": [
      "\u001b[31m---------------------------------------------------------------------------\u001b[39m",
      "\u001b[31mKeyboardInterrupt\u001b[39m                         Traceback (most recent call last)",
      "\u001b[36mCell\u001b[39m\u001b[36m \u001b[39m\u001b[32mIn[2]\u001b[39m\u001b[32m, line 1\u001b[39m\n\u001b[32m----> \u001b[39m\u001b[32m1\u001b[39m num = \u001b[38;5;28mint\u001b[39m(\u001b[38;5;28;43minput\u001b[39;49m\u001b[43m(\u001b[49m\u001b[33;43m\"\u001b[39;49m\u001b[33;43mEnter a number: \u001b[39;49m\u001b[33;43m\"\u001b[39;49m\u001b[43m)\u001b[49m)\n\u001b[32m      2\u001b[39m \u001b[38;5;28;01mif\u001b[39;00m num % \u001b[32m2\u001b[39m == \u001b[32m0\u001b[39m:\n\u001b[32m      3\u001b[39m     \u001b[38;5;28mprint\u001b[39m(\u001b[33m\"\u001b[39m\u001b[33m✅ The number is Even.\u001b[39m\u001b[33m\"\u001b[39m)\n",
      "\u001b[36mFile \u001b[39m\u001b[32m~\\AppData\\Roaming\\Python\\Python313\\site-packages\\ipykernel\\kernelbase.py:1282\u001b[39m, in \u001b[36mKernel.raw_input\u001b[39m\u001b[34m(self, prompt)\u001b[39m\n\u001b[32m   1280\u001b[39m     msg = \u001b[33m\"\u001b[39m\u001b[33mraw_input was called, but this frontend does not support input requests.\u001b[39m\u001b[33m\"\u001b[39m\n\u001b[32m   1281\u001b[39m     \u001b[38;5;28;01mraise\u001b[39;00m StdinNotImplementedError(msg)\n\u001b[32m-> \u001b[39m\u001b[32m1282\u001b[39m \u001b[38;5;28;01mreturn\u001b[39;00m \u001b[38;5;28;43mself\u001b[39;49m\u001b[43m.\u001b[49m\u001b[43m_input_request\u001b[49m\u001b[43m(\u001b[49m\n\u001b[32m   1283\u001b[39m \u001b[43m    \u001b[49m\u001b[38;5;28;43mstr\u001b[39;49m\u001b[43m(\u001b[49m\u001b[43mprompt\u001b[49m\u001b[43m)\u001b[49m\u001b[43m,\u001b[49m\n\u001b[32m   1284\u001b[39m \u001b[43m    \u001b[49m\u001b[38;5;28;43mself\u001b[39;49m\u001b[43m.\u001b[49m\u001b[43m_parent_ident\u001b[49m\u001b[43m[\u001b[49m\u001b[33;43m\"\u001b[39;49m\u001b[33;43mshell\u001b[39;49m\u001b[33;43m\"\u001b[39;49m\u001b[43m]\u001b[49m\u001b[43m,\u001b[49m\n\u001b[32m   1285\u001b[39m \u001b[43m    \u001b[49m\u001b[38;5;28;43mself\u001b[39;49m\u001b[43m.\u001b[49m\u001b[43mget_parent\u001b[49m\u001b[43m(\u001b[49m\u001b[33;43m\"\u001b[39;49m\u001b[33;43mshell\u001b[39;49m\u001b[33;43m\"\u001b[39;49m\u001b[43m)\u001b[49m\u001b[43m,\u001b[49m\n\u001b[32m   1286\u001b[39m \u001b[43m    \u001b[49m\u001b[43mpassword\u001b[49m\u001b[43m=\u001b[49m\u001b[38;5;28;43;01mFalse\u001b[39;49;00m\u001b[43m,\u001b[49m\n\u001b[32m   1287\u001b[39m \u001b[43m\u001b[49m\u001b[43m)\u001b[49m\n",
      "\u001b[36mFile \u001b[39m\u001b[32m~\\AppData\\Roaming\\Python\\Python313\\site-packages\\ipykernel\\kernelbase.py:1325\u001b[39m, in \u001b[36mKernel._input_request\u001b[39m\u001b[34m(self, prompt, ident, parent, password)\u001b[39m\n\u001b[32m   1322\u001b[39m \u001b[38;5;28;01mexcept\u001b[39;00m \u001b[38;5;167;01mKeyboardInterrupt\u001b[39;00m:\n\u001b[32m   1323\u001b[39m     \u001b[38;5;66;03m# re-raise KeyboardInterrupt, to truncate traceback\u001b[39;00m\n\u001b[32m   1324\u001b[39m     msg = \u001b[33m\"\u001b[39m\u001b[33mInterrupted by user\u001b[39m\u001b[33m\"\u001b[39m\n\u001b[32m-> \u001b[39m\u001b[32m1325\u001b[39m     \u001b[38;5;28;01mraise\u001b[39;00m \u001b[38;5;167;01mKeyboardInterrupt\u001b[39;00m(msg) \u001b[38;5;28;01mfrom\u001b[39;00m\u001b[38;5;250m \u001b[39m\u001b[38;5;28;01mNone\u001b[39;00m\n\u001b[32m   1326\u001b[39m \u001b[38;5;28;01mexcept\u001b[39;00m \u001b[38;5;167;01mException\u001b[39;00m:\n\u001b[32m   1327\u001b[39m     \u001b[38;5;28mself\u001b[39m.log.warning(\u001b[33m\"\u001b[39m\u001b[33mInvalid Message:\u001b[39m\u001b[33m\"\u001b[39m, exc_info=\u001b[38;5;28;01mTrue\u001b[39;00m)\n",
      "\u001b[31mKeyboardInterrupt\u001b[39m: Interrupted by user"
     ]
    }
   ],
   "source": [
    "num = int(input(\"Enter a number: \"))\n",
    "if num % 2 == 0:\n",
    "    print(\"✅ The number is Even.\")\n",
    "else:\n",
    "    print(\"❌ The number is Odd.\")\n"
   ]
  },
  {
   "cell_type": "code",
   "execution_count": 4,
   "id": "8f6f6b1e",
   "metadata": {},
   "outputs": [
    {
     "name": "stdout",
     "output_type": "stream",
     "text": [
      "39\n"
     ]
    }
   ],
   "source": [
    "a= 20\n",
    "b=19\n",
    "c=a+b\n",
    "print(c)"
   ]
  },
  {
   "cell_type": "code",
   "execution_count": 5,
   "id": "c9e0c9ff",
   "metadata": {},
   "outputs": [
    {
     "ename": "ValueError",
     "evalue": "invalid literal for int() with base 10: ''",
     "output_type": "error",
     "traceback": [
      "\u001b[31m---------------------------------------------------------------------------\u001b[39m",
      "\u001b[31mValueError\u001b[39m                                Traceback (most recent call last)",
      "\u001b[36mCell\u001b[39m\u001b[36m \u001b[39m\u001b[32mIn[5]\u001b[39m\u001b[32m, line 1\u001b[39m\n\u001b[32m----> \u001b[39m\u001b[32m1\u001b[39m age = \u001b[38;5;28;43mint\u001b[39;49m\u001b[43m(\u001b[49m\u001b[38;5;28;43minput\u001b[39;49m\u001b[43m(\u001b[49m\u001b[33;43m\"\u001b[39;49m\u001b[33;43mEnter your age: \u001b[39;49m\u001b[33;43m\"\u001b[39;49m\u001b[43m)\u001b[49m\u001b[43m)\u001b[49m\n\u001b[32m      2\u001b[39m \u001b[38;5;28;01mif\u001b[39;00m age >= \u001b[32m18\u001b[39m:\n\u001b[32m      3\u001b[39m     \u001b[38;5;28mprint\u001b[39m(\u001b[33m\"\u001b[39m\u001b[33m🗳️ You are eligible to vote.\u001b[39m\u001b[33m\"\u001b[39m)\n",
      "\u001b[31mValueError\u001b[39m: invalid literal for int() with base 10: ''"
     ]
    }
   ],
   "source": [
    "age = int(input(\"Enter your age: \"))\n",
    "if age >= 18:\n",
    "    print(\"🗳️ You are eligible to vote.\")\n",
    "else:\n",
    "    print(\"🚫 You are not eligible to vote yet.\")\n"
   ]
  },
  {
   "cell_type": "code",
   "execution_count": null,
   "id": "4e3e7fed",
   "metadata": {},
   "outputs": [],
   "source": []
  }
 ],
 "metadata": {
  "kernelspec": {
   "display_name": "Python 3",
   "language": "python",
   "name": "python3"
  },
  "language_info": {
   "codemirror_mode": {
    "name": "ipython",
    "version": 3
   },
   "file_extension": ".py",
   "mimetype": "text/x-python",
   "name": "python",
   "nbconvert_exporter": "python",
   "pygments_lexer": "ipython3",
   "version": "3.13.4"
  }
 },
 "nbformat": 4,
 "nbformat_minor": 5
}
