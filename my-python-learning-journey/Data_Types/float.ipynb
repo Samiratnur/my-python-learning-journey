{
 "cells": [
  {
   "cell_type": "code",
   "execution_count": 1,
   "id": "41dc0359",
   "metadata": {},
   "outputs": [
    {
     "name": "stdout",
     "output_type": "stream",
     "text": [
      "Sum: 6.2\n"
     ]
    }
   ],
   "source": [
    " #Add Two Float Numbers\n",
    "a = 3.5\n",
    "b = 2.7\n",
    "result = a + b\n",
    "print(\"Sum:\", result)\n"
   ]
  },
  {
   "cell_type": "code",
   "execution_count": null,
   "id": "c994d777",
   "metadata": {},
   "outputs": [],
   "source": [
    "    #Area of a Circle\n",
    "    radius = float(input(\"Enter radius: \"))\n",
    "    area = 3.14159 * radius ** 2\n",
    "    print(\"Area of the circle:\", area)\n"
   ]
  },
  {
   "cell_type": "code",
   "execution_count": null,
   "id": "169a93a8",
   "metadata": {},
   "outputs": [],
   "source": [
    "#Simple Interest Calculation\n",
    "p = float(input(\"Enter principal: \"))\n",
    "r = float(input(\"Enter rate of interest: \"))\n",
    "t = float(input(\"Enter time (in years): \"))\n",
    "\n",
    "si = (p * r * t) / 100\n",
    "print(\"Simple Interest:\", si)\n"
   ]
  },
  {
   "cell_type": "code",
   "execution_count": 1,
   "id": "5fa11f7b",
   "metadata": {},
   "outputs": [
    {
     "ename": "KeyboardInterrupt",
     "evalue": "Interrupted by user",
     "output_type": "error",
     "traceback": [
      "\u001b[31m---------------------------------------------------------------------------\u001b[39m",
      "\u001b[31mKeyboardInterrupt\u001b[39m                         Traceback (most recent call last)",
      "\u001b[36mCell\u001b[39m\u001b[36m \u001b[39m\u001b[32mIn[1]\u001b[39m\u001b[32m, line 2\u001b[39m\n\u001b[32m      1\u001b[39m \u001b[38;5;66;03m#Division with Float Result\u001b[39;00m\n\u001b[32m----> \u001b[39m\u001b[32m2\u001b[39m num1 = \u001b[38;5;28mfloat\u001b[39m(\u001b[38;5;28;43minput\u001b[39;49m\u001b[43m(\u001b[49m\u001b[33;43m\"\u001b[39;49m\u001b[33;43mEnter numerator: \u001b[39;49m\u001b[33;43m\"\u001b[39;49m\u001b[43m)\u001b[49m)\n\u001b[32m      3\u001b[39m num2 = \u001b[38;5;28mfloat\u001b[39m(\u001b[38;5;28minput\u001b[39m(\u001b[33m\"\u001b[39m\u001b[33mEnter denominator: \u001b[39m\u001b[33m\"\u001b[39m))\n\u001b[32m      5\u001b[39m \u001b[38;5;28;01mif\u001b[39;00m num2 != \u001b[32m0\u001b[39m:\n",
      "\u001b[36mFile \u001b[39m\u001b[32m~\\AppData\\Roaming\\Python\\Python313\\site-packages\\ipykernel\\kernelbase.py:1282\u001b[39m, in \u001b[36mKernel.raw_input\u001b[39m\u001b[34m(self, prompt)\u001b[39m\n\u001b[32m   1280\u001b[39m     msg = \u001b[33m\"\u001b[39m\u001b[33mraw_input was called, but this frontend does not support input requests.\u001b[39m\u001b[33m\"\u001b[39m\n\u001b[32m   1281\u001b[39m     \u001b[38;5;28;01mraise\u001b[39;00m StdinNotImplementedError(msg)\n\u001b[32m-> \u001b[39m\u001b[32m1282\u001b[39m \u001b[38;5;28;01mreturn\u001b[39;00m \u001b[38;5;28;43mself\u001b[39;49m\u001b[43m.\u001b[49m\u001b[43m_input_request\u001b[49m\u001b[43m(\u001b[49m\n\u001b[32m   1283\u001b[39m \u001b[43m    \u001b[49m\u001b[38;5;28;43mstr\u001b[39;49m\u001b[43m(\u001b[49m\u001b[43mprompt\u001b[49m\u001b[43m)\u001b[49m\u001b[43m,\u001b[49m\n\u001b[32m   1284\u001b[39m \u001b[43m    \u001b[49m\u001b[38;5;28;43mself\u001b[39;49m\u001b[43m.\u001b[49m\u001b[43m_parent_ident\u001b[49m\u001b[43m[\u001b[49m\u001b[33;43m\"\u001b[39;49m\u001b[33;43mshell\u001b[39;49m\u001b[33;43m\"\u001b[39;49m\u001b[43m]\u001b[49m\u001b[43m,\u001b[49m\n\u001b[32m   1285\u001b[39m \u001b[43m    \u001b[49m\u001b[38;5;28;43mself\u001b[39;49m\u001b[43m.\u001b[49m\u001b[43mget_parent\u001b[49m\u001b[43m(\u001b[49m\u001b[33;43m\"\u001b[39;49m\u001b[33;43mshell\u001b[39;49m\u001b[33;43m\"\u001b[39;49m\u001b[43m)\u001b[49m\u001b[43m,\u001b[49m\n\u001b[32m   1286\u001b[39m \u001b[43m    \u001b[49m\u001b[43mpassword\u001b[49m\u001b[43m=\u001b[49m\u001b[38;5;28;43;01mFalse\u001b[39;49;00m\u001b[43m,\u001b[49m\n\u001b[32m   1287\u001b[39m \u001b[43m\u001b[49m\u001b[43m)\u001b[49m\n",
      "\u001b[36mFile \u001b[39m\u001b[32m~\\AppData\\Roaming\\Python\\Python313\\site-packages\\ipykernel\\kernelbase.py:1325\u001b[39m, in \u001b[36mKernel._input_request\u001b[39m\u001b[34m(self, prompt, ident, parent, password)\u001b[39m\n\u001b[32m   1322\u001b[39m \u001b[38;5;28;01mexcept\u001b[39;00m \u001b[38;5;167;01mKeyboardInterrupt\u001b[39;00m:\n\u001b[32m   1323\u001b[39m     \u001b[38;5;66;03m# re-raise KeyboardInterrupt, to truncate traceback\u001b[39;00m\n\u001b[32m   1324\u001b[39m     msg = \u001b[33m\"\u001b[39m\u001b[33mInterrupted by user\u001b[39m\u001b[33m\"\u001b[39m\n\u001b[32m-> \u001b[39m\u001b[32m1325\u001b[39m     \u001b[38;5;28;01mraise\u001b[39;00m \u001b[38;5;167;01mKeyboardInterrupt\u001b[39;00m(msg) \u001b[38;5;28;01mfrom\u001b[39;00m\u001b[38;5;250m \u001b[39m\u001b[38;5;28;01mNone\u001b[39;00m\n\u001b[32m   1326\u001b[39m \u001b[38;5;28;01mexcept\u001b[39;00m \u001b[38;5;167;01mException\u001b[39;00m:\n\u001b[32m   1327\u001b[39m     \u001b[38;5;28mself\u001b[39m.log.warning(\u001b[33m\"\u001b[39m\u001b[33mInvalid Message:\u001b[39m\u001b[33m\"\u001b[39m, exc_info=\u001b[38;5;28;01mTrue\u001b[39;00m)\n",
      "\u001b[31mKeyboardInterrupt\u001b[39m: Interrupted by user"
     ]
    }
   ],
   "source": [
    "#Division with Float Result\n",
    "num1 = float(input(\"Enter numerator: \"))\n",
    "num2 = float(input(\"Enter denominator: \"))\n",
    "\n",
    "if num2 != 0:\n",
    "    result = num1 / num2\n",
    "    print(\"Result:\", result)\n",
    "else:\n",
    "    print(\"Division by zero is not allowed.\")\n"
   ]
  },
  {
   "cell_type": "code",
   "execution_count": null,
   "id": "b9cc7161",
   "metadata": {},
   "outputs": [],
   "source": [
    "#alculate Average of 3 Float Numbers\n",
    "a = float(input(\"Enter first number: \"))\n",
    "b = float(input(\"Enter second number: \"))\n",
    "c = float(input(\"Enter third number: \"))\n",
    "\n",
    "average = (a + b + c) / 3\n",
    "print(\"Average:\", average)\n"
   ]
  },
  {
   "cell_type": "code",
   "execution_count": 1,
   "id": "a934641f",
   "metadata": {},
   "outputs": [
    {
     "name": "stdout",
     "output_type": "stream",
     "text": [
      "9.99\n"
     ]
    }
   ],
   "source": [
    "#Basic Float Declaration- \n",
    "price = 9.99\n",
    "print(price)\n"
   ]
  },
  {
   "cell_type": "code",
   "execution_count": 2,
   "id": "d5da82d4",
   "metadata": {},
   "outputs": [
    {
     "name": "stdout",
     "output_type": "stream",
     "text": [
      "7.5\n",
      "3.5\n",
      "11.0\n",
      "2.75\n"
     ]
    }
   ],
   "source": [
    "#Float Arithmetic-\n",
    "a = 5.5\n",
    "b = 2.0\n",
    "print(a + b)  # Addition\n",
    "print(a - b)  # Subtraction\n",
    "print(a * b)  # Multiplication\n",
    "print(a / b)  # Division\n"
   ]
  },
  {
   "cell_type": "code",
   "execution_count": 3,
   "id": "1bbe4c48",
   "metadata": {},
   "outputs": [
    {
     "name": "stdout",
     "output_type": "stream",
     "text": [
      "3.14\n"
     ]
    }
   ],
   "source": [
    "#Float with round()\n",
    "pi = 3.14159\n",
    "print(round(pi, 2))  # Round to 2 decimal places\n"
   ]
  },
  {
   "cell_type": "code",
   "execution_count": null,
   "id": "0fd47e7d",
   "metadata": {},
   "outputs": [
    {
     "name": "stdout",
     "output_type": "stream",
     "text": [
      "5.0\n"
     ]
    }
   ],
   "source": [
    "# 4. Convert Int to Float \n",
    "x = 5\n",
    "y = float(x)\n",
    "print(y)\n"
   ]
  },
  {
   "cell_type": "code",
   "execution_count": null,
   "id": "08c9dc41",
   "metadata": {},
   "outputs": [],
   "source": [
    "# 5. Float Input from User\n",
    "weight = float(input(\"Enter your weight in kg: \"))\n",
    "print(\"You entered:\", weight, \"kg\")\n"
   ]
  },
  {
   "cell_type": "code",
   "execution_count": 6,
   "id": "422a8c0b",
   "metadata": {},
   "outputs": [
    {
     "name": "stdout",
     "output_type": "stream",
     "text": [
      "3.5\n",
      "3\n"
     ]
    }
   ],
   "source": [
    "#6. Floating Point Division vs Integer Division\n",
    "a = 7\n",
    "b = 2\n",
    "print(a / b)   # float division\n",
    "print(a // b)  # integer division\n"
   ]
  },
  {
   "cell_type": "code",
   "execution_count": 7,
   "id": "384df728",
   "metadata": {},
   "outputs": [
    {
     "name": "stdout",
     "output_type": "stream",
     "text": [
      "Price is $49.96\n"
     ]
    }
   ],
   "source": [
    "#7. Float Formatting in Strings\n",
    "price = 49.9578\n",
    "print(\"Price is $%.2f\" % price)\n"
   ]
  },
  {
   "cell_type": "code",
   "execution_count": 8,
   "id": "07a60711",
   "metadata": {},
   "outputs": [
    {
     "name": "stdout",
     "output_type": "stream",
     "text": [
      "BMI is: 22.86\n"
     ]
    }
   ],
   "source": [
    "#8. Use in Real-Life Example: BMI Calculator\n",
    "weight = 70.0  # in kg\n",
    "height = 1.75  # in meters\n",
    "bmi = weight / (height ** 2)\n",
    "print(\"BMI is:\", round(bmi, 2))\n"
   ]
  },
  {
   "cell_type": "code",
   "execution_count": null,
   "id": "85e4ebf7",
   "metadata": {},
   "outputs": [],
   "source": [
    "total_bill = float(input(\"Enter total bill amount: $\"))\n",
    "tip_percent = float(input(\"Enter tip percentage (e.g., 15 for 15%): \"))\n",
    "num_people = int(input(\"Enter number of people: \"))\n",
    "\n",
    "tip_amount = (tip_percent / 100) * total_bill\n",
    "total_with_tip = total_bill + tip_amount\n",
    "share = total_with_tip / num_people\n",
    "\n",
    "print(f\"Each person should pay: ${share:.2f}\")\n"
   ]
  },
  {
   "cell_type": "code",
   "execution_count": 4,
   "id": "87e78619",
   "metadata": {},
   "outputs": [
    {
     "name": "stdout",
     "output_type": "stream",
     "text": [
      "a: 0.30000000000000004\n",
      "Is a == b? False\n",
      "Are they approximately equal? True\n"
     ]
    }
   ],
   "source": [
    "# Float Round-Off Comparison\n",
    "a = 0.1 + 0.2\n",
    "b = 0.3\n",
    "print(\"a:\", a)\n",
    "print(\"Is a == b?\", a == b)  # Will print False due to float precision\n",
    "\n",
    "# Logical Fix\n",
    "print(\"Are they approximately equal?\", abs(a - b) < 1e-9)\n"
   ]
  },
  {
   "cell_type": "code",
   "execution_count": null,
   "id": "10785fda",
   "metadata": {},
   "outputs": [],
   "source": [
    "Temperature Conversion (Celsius ↔ Fahrenheit)\n",
    "celsius = float(input(\"Enter temperature in Celsius: \"))\n",
    "fahrenheit = (celsius * 9/5) + 32\n",
    "print(f\"{celsius:.2f}°C is {fahrenheit:.2f}°F\")\n",
    "\n"
   ]
  },
  {
   "cell_type": "code",
   "execution_count": null,
   "id": "92574d7c",
   "metadata": {},
   "outputs": [],
   "source": [
    "total_bill = float(input(\"Enter total bill amount: $\"))\n",
    "tip_percent = float(input(\"Enter tip percentage (e.g., 15 for 15%): \"))\n",
    "num_people = int(input(\"Enter number of people: \"))\n",
    "\n",
    "tip_amount = (tip_percent / 100) * total_bill\n",
    "total_with_tip = total_bill + tip_amount\n",
    "share = total_with_tip / num_people\n",
    "\n",
    "print(f\"Each person should pay: ${share:.2f}\")\n"
   ]
  },
  {
   "cell_type": "code",
   "execution_count": null,
   "id": "9a9ade8b",
   "metadata": {},
   "outputs": [],
   "source": []
  }
 ],
 "metadata": {
  "kernelspec": {
   "display_name": "Python 3",
   "language": "python",
   "name": "python3"
  },
  "language_info": {
   "codemirror_mode": {
    "name": "ipython",
    "version": 3
   },
   "file_extension": ".py",
   "mimetype": "text/x-python",
   "name": "python",
   "nbconvert_exporter": "python",
   "pygments_lexer": "ipython3",
   "version": "3.13.4"
  }
 },
 "nbformat": 4,
 "nbformat_minor": 5
}
