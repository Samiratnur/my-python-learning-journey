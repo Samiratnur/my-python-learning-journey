{
 "cells": [
  {
   "cell_type": "code",
   "execution_count": 1,
   "id": "41dc0359",
   "metadata": {},
   "outputs": [
    {
     "name": "stdout",
     "output_type": "stream",
     "text": [
      "Sum: 6.2\n"
     ]
    }
   ],
   "source": [
    " #Add Two Float Numbers\n",
    "a = 3.5\n",
    "b = 2.7\n",
    "result = a + b\n",
    "print(\"Sum:\", result)\n"
   ]
  },
  {
   "cell_type": "code",
   "execution_count": null,
   "id": "c994d777",
   "metadata": {},
   "outputs": [],
   "source": [
    "#Area of a Circle\n",
    "radius = float(input(\"Enter radius: \"))\n",
    "area = 3.14159 * radius ** 2\n",
    "print(\"Area of the circle:\", area)\n"
   ]
  },
  {
   "cell_type": "code",
   "execution_count": null,
   "id": "169a93a8",
   "metadata": {},
   "outputs": [],
   "source": [
    "#Simple Interest Calculation\n",
    "p = float(input(\"Enter principal: \"))\n",
    "r = float(input(\"Enter rate of interest: \"))\n",
    "t = float(input(\"Enter time (in years): \"))\n",
    "\n",
    "si = (p * r * t) / 100\n",
    "print(\"Simple Interest:\", si)\n"
   ]
  },
  {
   "cell_type": "code",
   "execution_count": null,
   "id": "5fa11f7b",
   "metadata": {},
   "outputs": [],
   "source": [
    "#Division with Float Result\n",
    "num1 = float(input(\"Enter numerator: \"))\n",
    "num2 = float(input(\"Enter denominator: \"))\n",
    "\n",
    "if num2 != 0:\n",
    "    result = num1 / num2\n",
    "    print(\"Result:\", result)\n",
    "else:\n",
    "    print(\"Division by zero is not allowed.\")\n"
   ]
  },
  {
   "cell_type": "code",
   "execution_count": null,
   "id": "b9cc7161",
   "metadata": {},
   "outputs": [],
   "source": [
    "#alculate Average of 3 Float Numbers\n",
    "a = float(input(\"Enter first number: \"))\n",
    "b = float(input(\"Enter second number: \"))\n",
    "c = float(input(\"Enter third number: \"))\n",
    "\n",
    "average = (a + b + c) / 3\n",
    "print(\"Average:\", average)\n"
   ]
  },
  {
   "cell_type": "code",
   "execution_count": 1,
   "id": "a934641f",
   "metadata": {},
   "outputs": [
    {
     "name": "stdout",
     "output_type": "stream",
     "text": [
      "9.99\n"
     ]
    }
   ],
   "source": [
    "#Basic Float Declaration- \n",
    "price = 9.99\n",
    "print(price)\n"
   ]
  },
  {
   "cell_type": "code",
   "execution_count": 2,
   "id": "d5da82d4",
   "metadata": {},
   "outputs": [
    {
     "name": "stdout",
     "output_type": "stream",
     "text": [
      "7.5\n",
      "3.5\n",
      "11.0\n",
      "2.75\n"
     ]
    }
   ],
   "source": [
    "#Float Arithmetic-\n",
    "a = 5.5\n",
    "b = 2.0\n",
    "print(a + b)  # Addition\n",
    "print(a - b)  # Subtraction\n",
    "print(a * b)  # Multiplication\n",
    "print(a / b)  # Division\n"
   ]
  },
  {
   "cell_type": "code",
   "execution_count": 3,
   "id": "1bbe4c48",
   "metadata": {},
   "outputs": [
    {
     "name": "stdout",
     "output_type": "stream",
     "text": [
      "3.14\n"
     ]
    }
   ],
   "source": [
    "#Float with round()\n",
    "pi = 3.14159\n",
    "print(round(pi, 2))  # Round to 2 decimal places\n"
   ]
  },
  {
   "cell_type": "code",
   "execution_count": null,
   "id": "0fd47e7d",
   "metadata": {},
   "outputs": [
    {
     "name": "stdout",
     "output_type": "stream",
     "text": [
      "5.0\n"
     ]
    }
   ],
   "source": [
    "# 4. Convert Int to Float \n",
    "x = 5\n",
    "y = float(x)\n",
    "print(y)\n"
   ]
  },
  {
   "cell_type": "code",
   "execution_count": null,
   "id": "08c9dc41",
   "metadata": {},
   "outputs": [],
   "source": [
    "# 5. Float Input from User\n",
    "weight = float(input(\"Enter your weight in kg: \"))\n",
    "print(\"You entered:\", weight, \"kg\")\n"
   ]
  },
  {
   "cell_type": "code",
   "execution_count": 6,
   "id": "422a8c0b",
   "metadata": {},
   "outputs": [
    {
     "name": "stdout",
     "output_type": "stream",
     "text": [
      "3.5\n",
      "3\n"
     ]
    }
   ],
   "source": [
    "#6. Floating Point Division vs Integer Division\n",
    "a = 7\n",
    "b = 2\n",
    "print(a / b)   # float division\n",
    "print(a // b)  # integer division\n"
   ]
  },
  {
   "cell_type": "code",
   "execution_count": 7,
   "id": "384df728",
   "metadata": {},
   "outputs": [
    {
     "name": "stdout",
     "output_type": "stream",
     "text": [
      "Price is $49.96\n"
     ]
    }
   ],
   "source": [
    "#7. Float Formatting in Strings\n",
    "price = 49.9578\n",
    "print(\"Price is $%.2f\" % price)\n"
   ]
  },
  {
   "cell_type": "code",
   "execution_count": 8,
   "id": "07a60711",
   "metadata": {},
   "outputs": [
    {
     "name": "stdout",
     "output_type": "stream",
     "text": [
      "BMI is: 22.86\n"
     ]
    }
   ],
   "source": [
    "#8. Use in Real-Life Example: BMI Calculator\n",
    "weight = 70.0  # in kg\n",
    "height = 1.75  # in meters\n",
    "bmi = weight / (height ** 2)\n",
    "print(\"BMI is:\", round(bmi, 2))\n"
   ]
  },
  {
   "cell_type": "code",
   "execution_count": null,
   "id": "85e4ebf7",
   "metadata": {},
   "outputs": [],
   "source": [
    "    "
   ]
  }
 ],
 "metadata": {
  "kernelspec": {
   "display_name": "Python 3",
   "language": "python",
   "name": "python3"
  },
  "language_info": {
   "codemirror_mode": {
    "name": "ipython",
    "version": 3
   },
   "file_extension": ".py",
   "mimetype": "text/x-python",
   "name": "python",
   "nbconvert_exporter": "python",
   "pygments_lexer": "ipython3",
   "version": "3.13.4"
  }
 },
 "nbformat": 4,
 "nbformat_minor": 5
}
