{
 "cells": [
  {
   "cell_type": "code",
   "execution_count": 1,
   "id": "41dc0359",
   "metadata": {},
   "outputs": [
    {
     "name": "stdout",
     "output_type": "stream",
     "text": [
      "Sum: 6.2\n"
     ]
    }
   ],
   "source": [
    " #Add Two Float Numbers\n",
    "a = 3.5\n",
    "b = 2.7\n",
    "result = a + b\n",
    "print(\"Sum:\", result)\n"
   ]
  },
  {
   "cell_type": "code",
   "execution_count": null,
   "id": "c994d777",
   "metadata": {},
   "outputs": [],
   "source": [
    "#Area of a Circle\n",
    "radius = float(input(\"Enter radius: \"))\n",
    "area = 3.14159 * radius ** 2\n",
    "print(\"Area of the circle:\", area)\n"
   ]
  },
  {
   "cell_type": "code",
   "execution_count": null,
   "id": "169a93a8",
   "metadata": {},
   "outputs": [],
   "source": [
    "#Simple Interest Calculation\n",
    "p = float(input(\"Enter principal: \"))\n",
    "r = float(input(\"Enter rate of interest: \"))\n",
    "t = float(input(\"Enter time (in years): \"))\n",
    "\n",
    "si = (p * r * t) / 100\n",
    "print(\"Simple Interest:\", si)\n"
   ]
  },
  {
   "cell_type": "code",
   "execution_count": 1,
   "id": "5fa11f7b",
   "metadata": {},
   "outputs": [
    {
     "ename": "SyntaxError",
     "evalue": "invalid syntax (2157688896.py, line 1)",
     "output_type": "error",
     "traceback": [
      "  \u001b[36mCell\u001b[39m\u001b[36m \u001b[39m\u001b[32mIn[1]\u001b[39m\u001b[32m, line 1\u001b[39m\n\u001b[31m    \u001b[39m\u001b[31mDivision with Float Result\u001b[39m\n             ^\n\u001b[31mSyntaxError\u001b[39m\u001b[31m:\u001b[39m invalid syntax\n"
     ]
    }
   ],
   "source": [
    "Division with Float Result\n",
    "num1 = float(input(\"Enter numerator: \"))\n",
    "num2 = float(input(\"Enter denominator: \"))\n",
    "\n",
    "if num2 != 0:\n",
    "    result = num1 / num2\n",
    "    print(\"Result:\", result)\n",
    "else:\n",
    "    print(\"Division by zero is not allowed.\")\n"
   ]
  },
  {
   "cell_type": "code",
   "execution_count": null,
   "id": "b9cc7161",
   "metadata": {},
   "outputs": [],
   "source": []
  }
 ],
 "metadata": {
  "kernelspec": {
   "display_name": "Python 3",
   "language": "python",
   "name": "python3"
  },
  "language_info": {
   "codemirror_mode": {
    "name": "ipython",
    "version": 3
   },
   "file_extension": ".py",
   "mimetype": "text/x-python",
   "name": "python",
   "nbconvert_exporter": "python",
   "pygments_lexer": "ipython3",
   "version": "3.13.4"
  }
 },
 "nbformat": 4,
 "nbformat_minor": 5
}
