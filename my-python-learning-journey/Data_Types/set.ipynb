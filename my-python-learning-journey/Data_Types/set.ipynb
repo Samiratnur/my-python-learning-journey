{
 "cells": [
  {
   "cell_type": "code",
   "execution_count": 1,
   "id": "2d4abdfc",
   "metadata": {},
   "outputs": [
    {
     "ename": "NameError",
     "evalue": "name 'SamirAtnur' is not defined",
     "output_type": "error",
     "traceback": [
      "\u001b[31m---------------------------------------------------------------------------\u001b[39m",
      "\u001b[31mNameError\u001b[39m                                 Traceback (most recent call last)",
      "\u001b[36mCell\u001b[39m\u001b[36m \u001b[39m\u001b[32mIn[1]\u001b[39m\u001b[32m, line 1\u001b[39m\n\u001b[32m----> \u001b[39m\u001b[32m1\u001b[39m \u001b[43mSamirAtnur\u001b[49m\n",
      "\u001b[31mNameError\u001b[39m: name 'SamirAtnur' is not defined"
     ]
    }
   ],
   "source": [
    "SamirAtnur"
   ]
  },
  {
   "cell_type": "code",
   "execution_count": 2,
   "id": "a20ed683",
   "metadata": {},
   "outputs": [
    {
     "name": "stdout",
     "output_type": "stream",
     "text": [
      "Intial blank set:\n",
      "set()\n"
     ]
    }
   ],
   "source": [
    "#set blanck set \n",
    "#part01\n",
    "set1=set()\n",
    "print(\"Intial blank set:\")\n",
    "print(set1)\n",
    "\n"
   ]
  },
  {
   "cell_type": "code",
   "execution_count": 3,
   "id": "0aa4fcf6",
   "metadata": {},
   "outputs": [
    {
     "name": "stdout",
     "output_type": "stream",
     "text": [
      "\n",
      " set with the use of string:\n",
      "{'r', 'G', 'F', 'e', 's', 'o', 'k'}\n",
      "\n",
      " set with the use of string:\n",
      "{'r', '_', 'm', 'j', 'e', 'a', 's', 'y', 'u'}\n"
     ]
    }
   ],
   "source": [
    "#part 2\n",
    "set1=set(\"GeeksForGeeks\")#set me string value repete nahi hoti 1st time he print hoti hai.\n",
    "print(\"\\n set with the use of string:\")\n",
    "print(set1)\n",
    "#____________________________________________________________________________________________________\n",
    "set1=set(\"sameer_mayuur_raaju\")#set me string value repete nahi hoti 1st time he print hoti hai.\n",
    "print(\"\\n set with the use of string:\")\n",
    "print(set1)\n"
   ]
  },
  {
   "cell_type": "code",
   "execution_count": 4,
   "id": "52aa2174",
   "metadata": {},
   "outputs": [
    {
     "name": "stdout",
     "output_type": "stream",
     "text": [
      "\n",
      " set with the use of list:\n",
      "{'Geeks', 'for'}\n",
      "<class 'set'>\n"
     ]
    }
   ],
   "source": [
    "#part3 \n",
    "set1=set([\"Geeks\",\"for\",\"Geeks\"])#same thing string&set me hotihai 1st time he print hoti hai value repite nahi hoti.\n",
    "print(\"\\n set with the use of list:\")\n",
    "print(set1)\n",
    "print(type(set1))"
   ]
  },
  {
   "cell_type": "code",
   "execution_count": 5,
   "id": "892cb435",
   "metadata": {},
   "outputs": [
    {
     "name": "stdout",
     "output_type": "stream",
     "text": [
      "\n",
      " set with the use of mixed values:\n",
      "{1, 2, 4, 6, 'Geeks', 'for', 'geeks'}\n",
      "<class 'set'>\n"
     ]
    }
   ],
   "source": [
    "#part4\n",
    "set1=set([1,2,'geeks',4,'for',6,\"Geeks\"])#integer&string value mixed in (list()) datatype\n",
    "print(\"\\n set with the use of mixed values:\")\n",
    "print(set1)\n",
    "print(type(set1))"
   ]
  },
  {
   "cell_type": "code",
   "execution_count": 6,
   "id": "496fda4b",
   "metadata": {},
   "outputs": [
    {
     "name": "stdout",
     "output_type": "stream",
     "text": [
      "{112, 34, 343, 43245, 442, 4333}\n",
      "<class 'set'>\n"
     ]
    }
   ],
   "source": [
    "#set hold colection of unique itams. \n",
    "#part5\n",
    "student_id={112,34,43245,343,442,4333,}#set hold colection mahanje digit che collection karane Ex-{112,34,43245,343,442,4333,}.\n",
    "print(student_id)\n",
    "print(type(student_id))"
   ]
  },
  {
   "cell_type": "code",
   "execution_count": 7,
   "id": "2ed79f19",
   "metadata": {},
   "outputs": [
    {
     "name": "stdout",
     "output_type": "stream",
     "text": [
      "{2, 3, 'python', 'james'}\n",
      "{2, 3, 10, 'james', 'python'}\n",
      "{3, 10, 'james', 'python'}\n"
     ]
    }
   ],
   "source": [
    "#remove&add in (set()) datatype\n",
    "set1=set()\n",
    "set2={'james',2,3,'python'}\n",
    "print(set2)#{2, 3, 'python', 'james'}\n",
    "set2.add(10)#{2, 3, 10, 'python', 'james'}\n",
    "print(set2)\n",
    "set2.remove(2)#{3, 10, 'python', 'james'}\n",
    "print(set2)\n",
    "\n",
    "\n"
   ]
  },
  {
   "cell_type": "code",
   "execution_count": 9,
   "id": "e794d212",
   "metadata": {},
   "outputs": [
    {
     "name": "stdout",
     "output_type": "stream",
     "text": [
      "True\n",
      "False\n",
      "True\n",
      "False\n"
     ]
    }
   ],
   "source": [
    "\n",
    "\n",
    "    #boolean in detail-(comarision operater)\n",
    "    # <\n",
    "    # >\n",
    "    # ==    \n",
    "    # i=\n",
    "    # >=\n",
    "    # <=\n",
    "    #_________________________________________________________\n",
    "\n",
    "    x=10\n",
    "    print(x<11)\n",
    "    print(x>11)\n",
    "    print(x<=10)\n",
    "    print(x>10)\n",
    "    #gerater and less. \n",
    " "
   ]
  },
  {
   "cell_type": "code",
   "execution_count": 1,
   "id": "89d889ce",
   "metadata": {},
   "outputs": [
    {
     "name": "stdout",
     "output_type": "stream",
     "text": [
      "{1, 2, 3, 4, 5}\n",
      "{'cherry', 'apple', 'banana'}\n",
      "set()\n",
      "{1, 2, 3, 4, 5}\n",
      "{'cherry', 'apple', 'banana'}\n",
      "set()\n"
     ]
    }
   ],
   "source": [
    "#Using Curly Braces:\n",
    "# Creating a set of integers\n",
    "my_set = {1, 2, 3, 4, 5}\n",
    "print(my_set)  # Output: {1, 2, 3, 4, 5}\n",
    "\n",
    "# Creating a set of strings\n",
    "fruits = {\"apple\", \"banana\", \"cherry\"}\n",
    "print(fruits)  # Output: {'apple', 'banana', 'cherry}\n",
    "\n",
    "# Creating an empty set\n",
    "empty_set = set()\n",
    "print(empty_set)  # Output: set()\n",
    "\n",
    "\n",
    "#Using the set() Constructor:\n",
    "# Creating a set of integers\n",
    "my_set = set([1, 2, 3, 4, 5])\n",
    "print(my_set)  # Output: {1, 2, 3, 4, 5}\n",
    "\n",
    "# Creating a set of strings\n",
    "fruits = set([\"apple\", \"banana\", \"cherry\"])\n",
    "print(fruits)  # Output: {'apple', 'banana', 'cherry}\n",
    "\n",
    "# Creating an empty set\n",
    "empty_set = set()\n",
    "print(empty_set)  # Output: set()\n",
    "\n"
   ]
  },
  {
   "cell_type": "code",
   "execution_count": null,
   "id": "0b302918",
   "metadata": {},
   "outputs": [],
   "source": [
    "#Using the set() Constructor:\n",
    "# Creating a set of integers\n",
    "my_set = set([1, 2, 3, 4, 5])\n",
    "print(my_set)  # Output: {1, 2, 3, 4, 5}\n",
    "\n",
    "# Creating a set of strings\n",
    "fruits = set([\"apple\", \"banana\", \"cherry\"])\n",
    "print(fruits)  # Output: {'apple', 'banana', 'cherry}\n",
    "\n",
    "# Creating an empty set\n",
    "empty_set = set()\n",
    "print(empty_set)  # Output: set()\n",
    "        "
   ]
  },
  {
   "cell_type": "code",
   "execution_count": 2,
   "id": "cfbceb9b",
   "metadata": {},
   "outputs": [
    {
     "name": "stdout",
     "output_type": "stream",
     "text": [
      "{1, 4, 9, 16, 25}\n"
     ]
    }
   ],
   "source": [
    "#Using Set Comprehension:\n",
    "squares = {x ** 2 for x in range(1, 6)}\n",
    "print(squares)  # Output: {1, 4, 9, 16, 25}\n"
   ]
  },
  {
   "cell_type": "code",
   "execution_count": 3,
   "id": "f9e23e05",
   "metadata": {},
   "outputs": [
    {
     "name": "stdout",
     "output_type": "stream",
     "text": [
      "{1, 2, 3, 4, 5}\n",
      "{1, 2, 3, 4, 5}\n",
      "{'l', 'o', 'e', 'h'}\n"
     ]
    }
   ],
   "source": [
    "    #Converting Other Iterable Types to Sets:\n",
    "my_list = [1, 2, 3, 4, 5]\n",
    "my_set = set(my_list)\n",
    "print(my_set)  # Output: {1, 2, 3, 4, 5}\n",
    "\n",
    "my_tuple = (1, 2, 3, 4, 5)\n",
    "my_set = set(my_tuple)\n",
    "print(my_set)  # Output: {1, 2, 3, 4, 5}\n",
    "\n",
    "my_string = \"hello\"\n",
    "my_set = set(my_string)\n",
    "print(my_set)  # Output: {'h', 'e', 'l', 'o'}\n"
   ]
  },
  {
   "cell_type": "code",
   "execution_count": 4,
   "id": "c247993e",
   "metadata": {},
   "outputs": [
    {
     "ename": "SyntaxError",
     "evalue": "unterminated string literal (detected at line 19) (3463785944.py, line 19)",
     "output_type": "error",
     "traceback": [
      "  \u001b[36mCell\u001b[39m\u001b[36m \u001b[39m\u001b[32mIn[4]\u001b[39m\u001b[32m, line 19\u001b[39m\n\u001b[31m    \u001b[39m\u001b[31mSets are unordered, and you can't access elements by indexing like you can with lists. However, you can check for the presence of an element using the in operator.\u001b[39m\n                                   ^\n\u001b[31mSyntaxError\u001b[39m\u001b[31m:\u001b[39m unterminated string literal (detected at line 19)\n"
     ]
    }
   ],
   "source": [
    "\n",
    "#\n",
    "#initializing and accessing the elements of set in python\n",
    "\n",
    "\n",
    "1. Initializing a Set:\n",
    "You can create a set by enclosing a comma-separated list of elements within curly braces {} or by using the set() constructor.\n",
    "\n",
    "python\n",
    "Copy code\n",
    "# Using curly braces\n",
    "my_set = {1, 2, 3, 4}\n",
    "\n",
    "# Using set() constructor\n",
    "another_set = set([5, 6, 7, 8])\n",
    "\n",
    "\n",
    "\n",
    "2. Accessing Elements:\n",
    "Sets are unordered, and you can't access elements by indexing like you can with lists. However, you can check for the presence of an element using the in operator.\n",
    "#Ex\n",
    "\n",
    "my_set = {1, 2, 3, 4}\n",
    "\n",
    "# Check if an element is in the set\n",
    "if 3 in my_set:\n",
    "    print(\"3 is in the set\")\n",
    "\n",
    "# Check if an element is not in the set\n",
    "if 5 not in my_set:\n",
    "    print(\"5 is not in the set\")\n",
    "If you need to iterate over the elements in a set, you can use a for loop:\n",
    "\n",
    "#ex\n",
    "\n",
    "my_set = {1, 2, 3, 4}\n",
    "\n",
    "# Iterating over set elements\n",
    "for element in my_set:\n",
    "    print(element)"
   ]
  },
  {
   "cell_type": "code",
   "execution_count": null,
   "id": "22882360",
   "metadata": {},
   "outputs": [],
   "source": []
  },
  {
   "cell_type": "code",
   "execution_count": null,
   "id": "652515f8",
   "metadata": {},
   "outputs": [],
   "source": []
  }
 ],
 "metadata": {
  "kernelspec": {
   "display_name": "Python 3",
   "language": "python",
   "name": "python3"
  },
  "language_info": {
   "codemirror_mode": {
    "name": "ipython",
    "version": 3
   },
   "file_extension": ".py",
   "mimetype": "text/x-python",
   "name": "python",
   "nbconvert_exporter": "python",
   "pygments_lexer": "ipython3",
   "version": "3.13.3"
  }
 },
 "nbformat": 4,
 "nbformat_minor": 5
}
