{
 "cells": [
  {
   "cell_type": "code",
   "execution_count": 1,
   "id": "4ef644f0",
   "metadata": {},
   "outputs": [
    {
     "name": "stdout",
     "output_type": "stream",
     "text": [
      "sam atnur\n",
      "s\n",
      "m a\n",
      "n\n",
      "sam atnursam atnur\n",
      "sam atnurTEST\n",
      "sam atnur  edfssfef\n"
     ]
    }
   ],
   "source": [
    "#string hold sequence of caracter \n",
    "str=\"sam atnur\"\n",
    "d='edfssfef'\n",
    "print(str)\n",
    "print(str[0])\n",
    "print(str[2:5])\n",
    "print(str[6])\n",
    "print(str*2)\n",
    "print(str+\"TEST\")\n",
    "print(str+\"  \"+d)\n",
    "\n"
   ]
  },
  {
   "cell_type": "code",
   "execution_count": null,
   "id": "955eff77",
   "metadata": {},
   "outputs": [],
   "source": []
  }
 ],
 "metadata": {
  "kernelspec": {
   "display_name": "Python 3",
   "language": "python",
   "name": "python3"
  },
  "language_info": {
   "codemirror_mode": {
    "name": "ipython",
    "version": 3
   },
   "file_extension": ".py",
   "mimetype": "text/x-python",
   "name": "python",
   "nbconvert_exporter": "python",
   "pygments_lexer": "ipython3",
   "version": "3.13.4"
  }
 },
 "nbformat": 4,
 "nbformat_minor": 5
}
