{
 "cells": [
  {
   "cell_type": "code",
   "execution_count": 1,
   "id": "4ef644f0",
   "metadata": {},
   "outputs": [
    {
     "name": "stdout",
     "output_type": "stream",
     "text": [
      "sam atnur\n",
      "s\n",
      "m a\n",
      "n\n",
      "sam atnursam atnur\n",
      "sam atnurTEST\n",
      "sam atnur  edfssfef\n"
     ]
    }
   ],
   "source": [
    "#string hold sequence of caracter \n",
    "str=\"sam atnur\"\n",
    "d='edfssfef'\n",
    "print(str)\n",
    "print(str[0])\n",
    "print(str[2:5])\n",
    "print(str[6])\n",
    "print(str*2)\n",
    "print(str+\"TEST\")\n",
    "print(str+\"  \"+d)\n",
    "\n"
   ]
  },
  {
   "cell_type": "code",
   "execution_count": 3,
   "id": "955eff77",
   "metadata": {},
   "outputs": [
    {
     "name": "stdout",
     "output_type": "stream",
     "text": [
      "my name is Samir\n"
     ]
    }
   ],
   "source": [
    "#In Python, a string is a sequence of characters enclosed in quotes.\n",
    "name= \"Samir\"\n",
    "print(\"my name is\", name)"
   ]
  },
  {
   "cell_type": "code",
   "execution_count": 4,
   "id": "353d7745",
   "metadata": {},
   "outputs": [
    {
     "name": "stdout",
     "output_type": "stream",
     "text": [
      "Length: 12\n"
     ]
    }
   ],
   "source": [
    "# 2. Find Length of a String\n",
    "\n",
    "text = \"Hello Python\"\n",
    "print(\"Length:\", len(text))\n",
    "\n"
   ]
  },
  {
   "cell_type": "code",
   "execution_count": 5,
   "id": "dde304fe",
   "metadata": {},
   "outputs": [
    {
     "name": "stdout",
     "output_type": "stream",
     "text": [
      "First letter: P\n",
      "Last letter: n\n"
     ]
    }
   ],
   "source": [
    "#3. Access Specific Characters\n",
    "word = \"Python\"\n",
    "print(\"First letter:\", word[0])\n",
    "print(\"Last letter:\", word[-1])\n"
   ]
  },
  {
   "cell_type": "code",
   "execution_count": 6,
   "id": "d6c4e4a6",
   "metadata": {},
   "outputs": [
    {
     "name": "stdout",
     "output_type": "stream",
     "text": [
      "Beginner\n",
      "Python\n"
     ]
    }
   ],
   "source": [
    "#4. String Slicing\n",
    "msg = \"BeginnerPython\"\n",
    "print(msg[0:8])      # from 0 to 7\n",
    "print(msg[8:])       # from 8 to end\n"
   ]
  },
  {
   "cell_type": "code",
   "execution_count": 7,
   "id": "77cae156",
   "metadata": {},
   "outputs": [
    {
     "name": "stdout",
     "output_type": "stream",
     "text": [
      "HELLO WORLD\n",
      "hello world\n"
     ]
    }
   ],
   "source": [
    "#5. Change to Uppercase and Lowercase\n",
    "text = \"HeLLo WoRLd\"\n",
    "print(text.upper())  # All uppercase\n",
    "print(text.lower())  # All lowercase\n"
   ]
  },
  {
   "cell_type": "code",
   "execution_count": 8,
   "id": "e8997dce",
   "metadata": {},
   "outputs": [
    {
     "name": "stdout",
     "output_type": "stream",
     "text": [
      "True\n",
      "False\n"
     ]
    }
   ],
   "source": [
    "#6. Check if a Word is Present\n",
    "sentence = \"Python is easy to learn\"\n",
    "print(\"Python\" in sentence)\n",
    "print(\"Java\" in sentence)\n"
   ]
  },
  {
   "cell_type": "code",
   "execution_count": 9,
   "id": "69c70a0a",
   "metadata": {},
   "outputs": [
    {
     "name": "stdout",
     "output_type": "stream",
     "text": [
      "3\n"
     ]
    }
   ],
   "source": [
    "#7. Count Occurrences of a Letter or Word\n",
    "msg = \"banana\"\n",
    "print(msg.count('a'))   # How many times 'a' appears\n"
   ]
  },
  {
   "cell_type": "code",
   "execution_count": 10,
   "id": "d7936d4a",
   "metadata": {},
   "outputs": [
    {
     "name": "stdout",
     "output_type": "stream",
     "text": [
      "I like Python\n"
     ]
    }
   ],
   "source": [
    "# 8. Replace a Word in String\n",
    "line = \"I like Java\"\n",
    "new_line = line.replace(\"Java\", \"Python\")\n",
    "print(new_line)\n"
   ]
  },
  {
   "cell_type": "code",
   "execution_count": 11,
   "id": "84e0b113",
   "metadata": {},
   "outputs": [
    {
     "name": "stdout",
     "output_type": "stream",
     "text": [
      "True\n",
      "True\n"
     ]
    }
   ],
   "source": [
    "# 9. Check if String is Alphabet or Number\n",
    "value1 = \"Python\"\n",
    "value2 = \"123\"\n",
    "print(value1.isalpha())  # True\n",
    "print(value2.isdigit())  # True\n"
   ]
  },
  {
   "cell_type": "code",
   "execution_count": 12,
   "id": "53d032fc",
   "metadata": {},
   "outputs": [
    {
     "name": "stdout",
     "output_type": "stream",
     "text": [
      "Reversed: olleh\n"
     ]
    }
   ],
   "source": [
    "# 10. Reverse a String\n",
    "text = \"hello\"\n",
    "reversed_text = text[::-1]\n",
    "print(\"Reversed:\", reversed_text)\n"
   ]
  },
  {
   "cell_type": "code",
   "execution_count": 1,
   "id": "1233aa8e",
   "metadata": {},
   "outputs": [
    {
     "name": "stdout",
     "output_type": "stream",
     "text": [
      "Welcome, \n"
     ]
    }
   ],
   "source": [
    "#11. Take Name Input and Print a Greeting\n",
    "name = input(\"Enter your name: \")\n",
    "print(\"Welcome,\", name)\n"
   ]
  },
  {
   "cell_type": "code",
   "execution_count": null,
   "id": "26c2d531",
   "metadata": {},
   "outputs": [],
   "source": [
    "# 12. Check if a String is Palindrome\n",
    "word = input(\"Enter a word: \")\n",
    "if word == word[::-1]:\n",
    "    print(\"It's a palindrome\")\n",
    "else:\n",
    "    print(\"Not a palindrome\")\n"
   ]
  },
  {
   "cell_type": "code",
   "execution_count": 2,
   "id": "73884ff7",
   "metadata": {},
   "outputs": [
    {
     "name": "stdout",
     "output_type": "stream",
     "text": [
      "Python is fun\n"
     ]
    }
   ],
   "source": [
    "#13. Join List of Words into a Sentence\n",
    "words = [\"Python\", \"is\", \"fun\"]\n",
    "sentence = \" \".join(words)\n",
    "print(sentence)\n"
   ]
  },
  {
   "cell_type": "code",
   "execution_count": 3,
   "id": "f77eb394",
   "metadata": {},
   "outputs": [
    {
     "name": "stdout",
     "output_type": "stream",
     "text": [
      "LearnPythonNow\n"
     ]
    }
   ],
   "source": [
    "# 14. Remove Spaces from a String\n",
    "line = \" Learn  Python   Now \"\n",
    "print(line.replace(\" \", \"\"))  # Remove all spaces\n"
   ]
  },
  {
   "cell_type": "code",
   "execution_count": 4,
   "id": "43479c2e",
   "metadata": {},
   "outputs": [
    {
     "name": "stdout",
     "output_type": "stream",
     "text": [
      "Python Is Amazing\n"
     ]
    }
   ],
   "source": [
    "#15. Capitalize First Letter of Each Word\n",
    "text = \"python is amazing\"\n",
    "print(text.title())\n"
   ]
  },
  {
   "cell_type": "code",
   "execution_count": 1,
   "id": "846519b0",
   "metadata": {},
   "outputs": [
    {
     "name": "stdout",
     "output_type": "stream",
     "text": [
      "True\n",
      "True\n"
     ]
    }
   ],
   "source": [
    "#16. Check if String Starts or Ends with Specific Word\n",
    "text = \"welcome to python programming\"\n",
    "print(text.startswith(\"welcome\"))  # True\n",
    "print(text.endswith(\"programming\"))  # True\n"
   ]
  },
  {
   "cell_type": "code",
   "execution_count": 2,
   "id": "8f359c41",
   "metadata": {},
   "outputs": [
    {
     "name": "stdout",
     "output_type": "stream",
     "text": [
      "Without vowels: dctn\n"
     ]
    }
   ],
   "source": [
    "# 17. Remove All Vowels from a String\n",
    "text = \"education\"\n",
    "vowels = \"aeiouAEIOU\"\n",
    "result = \"\"\n",
    "\n",
    "for char in text:\n",
    "    if char not in vowels:\n",
    "        result += char\n",
    "\n",
    "print(\"Without vowels:\", result)\n"
   ]
  },
  {
   "cell_type": "code",
   "execution_count": 3,
   "id": "d00d2834",
   "metadata": {},
   "outputs": [
    {
     "name": "stdout",
     "output_type": "stream",
     "text": [
      "Swapped Case: hEllO wOrlD\n"
     ]
    }
   ],
   "source": [
    "#18. Swap Case of Each Letter\n",
    "text = \"HeLLo WoRLd\"\n",
    "print(\"Swapped Case:\", text.swapcase())\n"
   ]
  },
  {
   "cell_type": "code",
   "execution_count": 4,
   "id": "971e3eb9",
   "metadata": {},
   "outputs": [
    {
     "name": "stdout",
     "output_type": "stream",
     "text": [
      "Anagram\n"
     ]
    }
   ],
   "source": [
    "# 19. Check if Two Strings are Anagrams\n",
    "str1 = \"listen\"\n",
    "str2 = \"silent\"\n",
    "\n",
    "if sorted(str1) == sorted(str2):\n",
    "    print(\"Anagram\")\n",
    "else:\n",
    "    print(\"Not anagram\")\n"
   ]
  },
  {
   "cell_type": "code",
   "execution_count": 5,
   "id": "ebbb0334",
   "metadata": {},
   "outputs": [
    {
     "name": "stdout",
     "output_type": "stream",
     "text": [
      "Without duplicates: progamin\n"
     ]
    }
   ],
   "source": [
    "#20. Remove Duplicate Characters from String\n",
    "text = \"programming\"\n",
    "unique = \"\"\n",
    "\n",
    "for char in text:\n",
    "    if char not in unique:\n",
    "        unique += char\n",
    "\n",
    "print(\"Without duplicates:\", unique)\n"
   ]
  },
  {
   "cell_type": "code",
   "execution_count": 6,
   "id": "3f17ce2b",
   "metadata": {},
   "outputs": [
    {
     "name": "stdout",
     "output_type": "stream",
     "text": [
      "Upper: 1\n",
      "Lower: 5\n",
      "Digits: 3\n",
      "Special: 2\n"
     ]
    }
   ],
   "source": [
    "#21. Count Uppercase, Lowercase, Digits, and Symbols\n",
    "text = \"Python123#@\"\n",
    "upper = lower = digit = special = 0\n",
    "\n",
    "for ch in text:\n",
    "    if ch.isupper():\n",
    "        upper += 1\n",
    "    elif ch.islower():\n",
    "        lower += 1\n",
    "    elif ch.isdigit():\n",
    "        digit += 1\n",
    "    else:\n",
    "        special += 1\n",
    "\n",
    "print(\"Upper:\", upper)\n",
    "print(\"Lower:\", lower)\n",
    "print(\"Digits:\", digit)\n",
    "print(\"Special:\", special)\n"
   ]
  },
  {
   "cell_type": "code",
   "execution_count": 7,
   "id": "6a5f0462",
   "metadata": {},
   "outputs": [
    {
     "name": "stdout",
     "output_type": "stream",
     "text": [
      "olleh dlrow\n"
     ]
    }
   ],
   "source": [
    "#22. Reverse Each Word in a Sentence\n",
    "sentence = \"hello world\"\n",
    "words = sentence.split()\n",
    "reversed_words = [word[::-1] for word in words]\n",
    "result = \" \".join(reversed_words)\n",
    "print(result)\n"
   ]
  },
  {
   "cell_type": "code",
   "execution_count": 9,
   "id": "ded32801",
   "metadata": {},
   "outputs": [
    {
     "name": "stdout",
     "output_type": "stream",
     "text": [
      "Total words: 4\n"
     ]
    }
   ],
   "source": [
    "#23. Count How Many Words in a Sentence\n",
    "sentence = \"Python is very simple\"\n",
    "words = sentence.split()\n",
    "print(\"Total words:\", len(words))\n"
   ]
  },
  {
   "cell_type": "code",
   "execution_count": 1,
   "id": "6208ac77",
   "metadata": {},
   "outputs": [
    {
     "name": "stdout",
     "output_type": "stream",
     "text": [
      "Only alphabets: Pythn\n"
     ]
    }
   ],
   "source": [
    "#24. Print Only Alphabets from a Mixed String\n",
    "text = \"Pyth0n123!@#\"\n",
    "result = \"\"\n",
    "\n",
    "for ch in text:\n",
    "    if ch.isalpha():\n",
    "        result += ch\n",
    "\n",
    "print(\"Only alphabets:\", result)\n"
   ]
  },
  {
   "cell_type": "code",
   "execution_count": 2,
   "id": "c3499478",
   "metadata": {},
   "outputs": [
    {
     "name": "stdout",
     "output_type": "stream",
     "text": [
      "Python is fun\n"
     ]
    }
   ],
   "source": [
    "#25 Capitalize the First Character of Sentence\n",
    "text = \"python is fun\"\n",
    "print(text.capitalize())\n"
   ]
  },
  {
   "cell_type": "code",
   "execution_count": 3,
   "id": "a9964c6d",
   "metadata": {},
   "outputs": [
    {
     "name": "stdout",
     "output_type": "stream",
     "text": [
      "Position of 'a': 4\n"
     ]
    }
   ],
   "source": [
    "#26. Find Position of a Character in String\n",
    "text = \"education\"\n",
    "char = \"a\"\n",
    "print(\"Position of 'a':\", text.index(char))\n"
   ]
  },
  {
   "cell_type": "code",
   "execution_count": 4,
   "id": "1977230c",
   "metadata": {},
   "outputs": [
    {
     "name": "stdout",
     "output_type": "stream",
     "text": [
      "Learn Python Now\n"
     ]
    }
   ],
   "source": [
    "#27. Remove Extra Spaces from Sentence\n",
    "text = \"   Learn   Python   Now   \"\n",
    "cleaned = \" \".join(text.split())\n",
    "print(cleaned)\n"
   ]
  },
  {
   "cell_type": "code",
   "execution_count": 6,
   "id": "13927ba8",
   "metadata": {},
   "outputs": [
    {
     "name": "stdout",
     "output_type": "stream",
     "text": [
      "['c', 'o', 'd', 'e']\n"
     ]
    }
   ],
   "source": [
    "#28 Convert String to List of Characters\n",
    "text = \"code\"\n",
    "print(list(text))\n"
   ]
  },
  {
   "cell_type": "code",
   "execution_count": 7,
   "id": "d31b86b3",
   "metadata": {},
   "outputs": [
    {
     "name": "stdout",
     "output_type": "stream",
     "text": [
      "Hi! Hi! Hi! \n"
     ]
    }
   ],
   "source": [
    "#29. Repeat a String Multiple Times\n",
    "word = \"Hi! \"\n",
    "print(word * 3)\n"
   ]
  },
  {
   "cell_type": "code",
   "execution_count": 8,
   "id": "53dbb500",
   "metadata": {},
   "outputs": [
    {
     "name": "stdout",
     "output_type": "stream",
     "text": [
      "Same (ignoring case)\n"
     ]
    }
   ],
   "source": [
    "#30. Compare Two Strings (Case-Insensitive)\n",
    "a = \"Python\"\n",
    "b = \"python\"\n",
    "\n",
    "if a.lower() == b.lower():\n",
    "    print(\"Same (ignoring case)\")\n",
    "else:\n",
    "    print(\"Different\")\n"
   ]
  },
  {
   "cell_type": "code",
   "execution_count": 9,
   "id": "33fe4efa",
   "metadata": {},
   "outputs": [
    {
     "name": "stdout",
     "output_type": "stream",
     "text": [
      "a : 1\n",
      "l : 1\n",
      "e : 1\n",
      "p : 2\n"
     ]
    }
   ],
   "source": [
    "#31. Count Each Character in a String\n",
    "text = \"apple\"\n",
    "for char in set(text):\n",
    "    print(char, \":\", text.count(char))\n"
   ]
  },
  {
   "cell_type": "code",
   "execution_count": 10,
   "id": "9f7c9a30",
   "metadata": {},
   "outputs": [
    {
     "name": "stdout",
     "output_type": "stream",
     "text": [
      "True\n"
     ]
    }
   ],
   "source": [
    "#32. Check if All Characters are Lowercase\n",
    "text = \"hello\"\n",
    "print(text.islower())  # True\n"
   ]
  },
  {
   "cell_type": "code",
   "execution_count": 12,
   "id": "66ac0d83",
   "metadata": {},
   "outputs": [
    {
     "name": "stdout",
     "output_type": "stream",
     "text": [
      "True\n"
     ]
    }
   ],
   "source": [
    "#33. Check if String is Numeric\n",
    "text = \"2025\"\n",
    "print(text.isdigit())  # True\n",
    "\n"
   ]
  },
  {
   "cell_type": "code",
   "execution_count": 13,
   "id": "95ddbd24",
   "metadata": {},
   "outputs": [
    {
     "name": "stdout",
     "output_type": "stream",
     "text": [
      "learn-python-now\n"
     ]
    }
   ],
   "source": [
    "#34. Replace Space with Dash\n",
    "text = \"learn python now\"\n",
    "print(text.replace(\" \", \"-\"))\n"
   ]
  },
  {
   "cell_type": "code",
   "execution_count": 15,
   "id": "aaa2a740",
   "metadata": {},
   "outputs": [
    {
     "name": "stdout",
     "output_type": "stream",
     "text": [
      "Formatted: \n"
     ]
    }
   ],
   "source": [
    "#35. Input Full Name & Print in Title Case\n",
    "name = input(\"Enter full name: \")\n",
    "print(\"Formatted:\", name.title())\n"
   ]
  },
  {
   "cell_type": "markdown",
   "id": "e5853f59",
   "metadata": {},
   "source": []
  },
  {
   "cell_type": "code",
   "execution_count": null,
   "id": "059f08b1",
   "metadata": {},
   "outputs": [],
   "source": [
    "#"
   ]
  }
 ],
 "metadata": {
  "kernelspec": {
   "display_name": "Python 3.11 (jupyter_env_311)",
   "language": "python",
   "name": "jupyter_env_311"
  },
  "language_info": {
   "codemirror_mode": {
    "name": "ipython",
    "version": 3
   },
   "file_extension": ".py",
   "mimetype": "text/x-python",
   "name": "python",
   "nbconvert_exporter": "python",
   "pygments_lexer": "ipython3",
   "version": "3.11.0"
  }
 },
 "nbformat": 4,
 "nbformat_minor": 5
}
