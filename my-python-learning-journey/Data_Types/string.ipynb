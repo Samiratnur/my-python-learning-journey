{
 "cells": [
  {
   "cell_type": "code",
   "execution_count": 1,
   "id": "4ef644f0",
   "metadata": {},
   "outputs": [
    {
     "name": "stdout",
     "output_type": "stream",
     "text": [
      "sam atnur\n",
      "s\n",
      "m a\n",
      "n\n",
      "sam atnursam atnur\n",
      "sam atnurTEST\n",
      "sam atnur  edfssfef\n"
     ]
    }
   ],
   "source": [
    "#string hold sequence of caracter \n",
    "str=\"sam atnur\"\n",
    "d='edfssfef'\n",
    "print(str)\n",
    "print(str[0])\n",
    "print(str[2:5])\n",
    "print(str[6])\n",
    "print(str*2)\n",
    "print(str+\"TEST\")\n",
    "print(str+\"  \"+d)\n",
    "\n"
   ]
  },
  {
   "cell_type": "code",
   "execution_count": 3,
   "id": "955eff77",
   "metadata": {},
   "outputs": [
    {
     "name": "stdout",
     "output_type": "stream",
     "text": [
      "my name is Samir\n"
     ]
    }
   ],
   "source": [
    "#In Python, a string is a sequence of characters enclosed in quotes.\n",
    "name= \"Samir\"\n",
    "print(\"my name is\", name)"
   ]
  },
  {
   "cell_type": "code",
   "execution_count": 4,
   "id": "353d7745",
   "metadata": {},
   "outputs": [
    {
     "name": "stdout",
     "output_type": "stream",
     "text": [
      "Length: 12\n"
     ]
    }
   ],
   "source": [
    "# 2. Find Length of a String\n",
    "\n",
    "text = \"Hello Python\"\n",
    "print(\"Length:\", len(text))\n",
    "\n"
   ]
  },
  {
   "cell_type": "code",
   "execution_count": 5,
   "id": "dde304fe",
   "metadata": {},
   "outputs": [
    {
     "name": "stdout",
     "output_type": "stream",
     "text": [
      "First letter: P\n",
      "Last letter: n\n"
     ]
    }
   ],
   "source": [
    "#3. Access Specific Characters\n",
    "word = \"Python\"\n",
    "print(\"First letter:\", word[0])\n",
    "print(\"Last letter:\", word[-1])\n"
   ]
  },
  {
   "cell_type": "code",
   "execution_count": 6,
   "id": "d6c4e4a6",
   "metadata": {},
   "outputs": [
    {
     "name": "stdout",
     "output_type": "stream",
     "text": [
      "Beginner\n",
      "Python\n"
     ]
    }
   ],
   "source": [
    "#4. String Slicing\n",
    "msg = \"BeginnerPython\"\n",
    "print(msg[0:8])      # from 0 to 7\n",
    "print(msg[8:])       # from 8 to end\n"
   ]
  },
  {
   "cell_type": "code",
   "execution_count": 7,
   "id": "77cae156",
   "metadata": {},
   "outputs": [
    {
     "name": "stdout",
     "output_type": "stream",
     "text": [
      "HELLO WORLD\n",
      "hello world\n"
     ]
    }
   ],
   "source": [
    "#5. Change to Uppercase and Lowercase\n",
    "text = \"HeLLo WoRLd\"\n",
    "print(text.upper())  # All uppercase\n",
    "print(text.lower())  # All lowercase\n"
   ]
  },
  {
   "cell_type": "code",
   "execution_count": 8,
   "id": "e8997dce",
   "metadata": {},
   "outputs": [
    {
     "name": "stdout",
     "output_type": "stream",
     "text": [
      "True\n",
      "False\n"
     ]
    }
   ],
   "source": [
    "#6. Check if a Word is Present\n",
    "sentence = \"Python is easy to learn\"\n",
    "print(\"Python\" in sentence)\n",
    "print(\"Java\" in sentence)\n"
   ]
  },
  {
   "cell_type": "code",
   "execution_count": 9,
   "id": "69c70a0a",
   "metadata": {},
   "outputs": [
    {
     "name": "stdout",
     "output_type": "stream",
     "text": [
      "3\n"
     ]
    }
   ],
   "source": [
    "#7. Count Occurrences of a Letter or Word\n",
    "msg = \"banana\"\n",
    "print(msg.count('a'))   # How many times 'a' appears\n"
   ]
  },
  {
   "cell_type": "code",
   "execution_count": 10,
   "id": "d7936d4a",
   "metadata": {},
   "outputs": [
    {
     "name": "stdout",
     "output_type": "stream",
     "text": [
      "I like Python\n"
     ]
    }
   ],
   "source": [
    "# 8. Replace a Word in String\n",
    "line = \"I like Java\"\n",
    "new_line = line.replace(\"Java\", \"Python\")\n",
    "print(new_line)\n"
   ]
  },
  {
   "cell_type": "code",
   "execution_count": null,
   "id": "84e0b113",
   "metadata": {},
   "outputs": [],
   "source": []
  }
 ],
 "metadata": {
  "kernelspec": {
   "display_name": "Python 3",
   "language": "python",
   "name": "python3"
  },
  "language_info": {
   "codemirror_mode": {
    "name": "ipython",
    "version": 3
   },
   "file_extension": ".py",
   "mimetype": "text/x-python",
   "name": "python",
   "nbconvert_exporter": "python",
   "pygments_lexer": "ipython3",
   "version": "3.13.4"
  }
 },
 "nbformat": 4,
 "nbformat_minor": 5
}
