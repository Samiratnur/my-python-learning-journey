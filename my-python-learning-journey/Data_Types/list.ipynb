{
 "cells": [
  {
   "cell_type": "code",
   "execution_count": 2,
   "id": "72cea21d",
   "metadata": {},
   "outputs": [
    {
     "name": "stdout",
     "output_type": "stream",
     "text": [
      "<class 'list'>\n",
      "wesd\n"
     ]
    }
   ],
   "source": [
    "#part[1]\n",
    "a=['samir',23,\"wesd\"]\n",
    "print(type(a))\n",
    "print(a[2])\n",
    "\n"
   ]
  },
  {
   "cell_type": "code",
   "execution_count": 3,
   "id": "0e47cf80",
   "metadata": {},
   "outputs": [
    {
     "name": "stdout",
     "output_type": "stream",
     "text": [
      "['samir', 23, 'wesd'] [2]\n"
     ]
    }
   ],
   "source": [
    "#part[2]\n",
    "a=['samir',23,\"wesd\"]\n",
    "print(a,[2])"
   ]
  },
  {
   "cell_type": "code",
   "execution_count": 5,
   "id": "9588ca7d",
   "metadata": {},
   "outputs": [
    {
     "name": "stdout",
     "output_type": "stream",
     "text": [
      "samir\n",
      "4\n",
      "32\n",
      "3\n"
     ]
    }
   ],
   "source": [
    "#[1]\n",
    "a=('samir',4,32,3)\n",
    "for i in range(len(a)):\n",
    "    print(a[i])"
   ]
  },
  {
   "cell_type": "code",
   "execution_count": 6,
   "id": "764a74fe",
   "metadata": {},
   "outputs": [
    {
     "name": "stdout",
     "output_type": "stream",
     "text": [
      "('samir', 4, 32, 3)\n",
      "('samir', 4, 32, 3)\n",
      "('samir', 4, 32, 3)\n",
      "('samir', 4, 32, 3)\n"
     ]
    }
   ],
   "source": [
    "#[2]\n",
    "a=('samir',4,32,3)\n",
    "for i in range(len(a)):\n",
    "    print(a)"
   ]
  },
  {
   "cell_type": "code",
   "execution_count": 7,
   "id": "03077efd",
   "metadata": {},
   "outputs": [
    {
     "name": "stdout",
     "output_type": "stream",
     "text": [
      "sam manuj rakes kundan raavi 11 234 3443 "
     ]
    }
   ],
   "source": [
    "ist=[\"sam\",\"manuj\",\"rakes\",\"kundan\",\"raavi\",11,234,3443,]\n",
    "for i in range(len(ist)):\n",
    "    print(ist[i],end=\" \")"
   ]
  },
  {
   "cell_type": "code",
   "execution_count": 8,
   "id": "474ef0b8",
   "metadata": {},
   "outputs": [
    {
     "name": "stdout",
     "output_type": "stream",
     "text": [
      "<list_reverseiterator object at 0x00000212C7E90DF0>\n"
     ]
    }
   ],
   "source": [
    "#reversed -list\n",
    "my_list = [1, 5, 10, 2]\n",
    "my_reversed_object = reversed(my_list)\n",
    "print(my_reversed_object)"
   ]
  },
  {
   "cell_type": "code",
   "execution_count": 9,
   "id": "90c039b8",
   "metadata": {},
   "outputs": [
    {
     "name": "stdout",
     "output_type": "stream",
     "text": [
      "2\n",
      "10\n",
      "5\n",
      "1\n"
     ]
    }
   ],
   "source": [
    "#riversed using in list datatype..\n",
    "my_list = [1, 5, 10, 2]\n",
    "for i in (reversed(my_list)):\n",
    "    print(i)"
   ]
  },
  {
   "cell_type": "code",
   "execution_count": 10,
   "id": "a0d69030",
   "metadata": {},
   "outputs": [
    {
     "name": "stdout",
     "output_type": "stream",
     "text": [
      "<list_reverseiterator object at 0x00000212C7C35C60>\n",
      "[22, 32, 43, 5, 345, 4345, 434]\n"
     ]
    }
   ],
   "source": [
    "lis=[22,32,43,5,345,4345,434,]\n",
    "piche=(reversed(lis))\n",
    "print(piche)\n",
    "values=list(lis)\n",
    "print(values)"
   ]
  },
  {
   "cell_type": "code",
   "execution_count": 11,
   "id": "d5174f8f",
   "metadata": {},
   "outputs": [
    {
     "name": "stdout",
     "output_type": "stream",
     "text": [
      "['samir____________atnur']\n"
     ]
    }
   ],
   "source": [
    "#slicing.\n",
    "x=(['samir''____________'   \n",
    "    'atnur'])\n",
    "print(x)"
   ]
  },
  {
   "cell_type": "code",
   "execution_count": 12,
   "id": "c3adec45",
   "metadata": {},
   "outputs": [
    {
     "name": "stdout",
     "output_type": "stream",
     "text": [
      "amiratnur\n"
     ]
    }
   ],
   "source": [
    "#concatination.\n",
    "a=\"amir\"\n",
    "b='atnur'\n",
    "print(a+b)\n"
   ]
  },
  {
   "cell_type": "code",
   "execution_count": 13,
   "id": "98c97440",
   "metadata": {},
   "outputs": [
    {
     "name": "stdout",
     "output_type": "stream",
     "text": [
      "love form bhaii    love form bhaii    love form bhaii     "
     ]
    }
   ],
   "source": [
    "#ripitation.\n",
    "a='love form bhaii    '\n",
    "print(3*a,end=\" \")"
   ]
  },
  {
   "cell_type": "code",
   "execution_count": 14,
   "id": "364aeeb6",
   "metadata": {},
   "outputs": [
    {
     "name": "stdout",
     "output_type": "stream",
     "text": [
      "samir#atnur#mayur#more#rakes#golu\n"
     ]
    }
   ],
   "source": [
    "#join.\n",
    "separater=\"#\"\n",
    "x=[\"samir\",\"atnur\",\"mayur\",\"more\",\"rakes\",\"golu\"]\n",
    "print(separater.join(x))"
   ]
  },
  {
   "cell_type": "code",
   "execution_count": 15,
   "id": "496f3529",
   "metadata": {},
   "outputs": [
    {
     "name": "stdout",
     "output_type": "stream",
     "text": [
      "the list1 before set:[3, 4, 1, 4, 5]\n",
      "the list1 after set:{1, 3, 4, 5}\n"
     ]
    }
   ],
   "source": [
    "#set_method\n",
    "list1=[3,4,1,4,5,]                                            #imp program......!\n",
    "print(\"the list1 before set:\"+ str(list1))\n",
    "print(\"the list1 after set:\"+str(set(list1)))      "
   ]
  },
  {
   "cell_type": "code",
   "execution_count": 16,
   "id": "b6adfac8",
   "metadata": {},
   "outputs": [
    {
     "name": "stdout",
     "output_type": "stream",
     "text": [
      "['samir', 'mayur', 'more', 'rakes', 'golu']\n"
     ]
    }
   ],
   "source": [
    "#remove.\n",
    "x=[\"samir\",\"atnur\",\"mayur\",\"more\",\"rakes\",\"golu\"]\n",
    "x.remove(\"atnur\") \n",
    "print(x)"
   ]
  },
  {
   "cell_type": "code",
   "execution_count": 17,
   "id": "7aa976a1",
   "metadata": {},
   "outputs": [
    {
     "name": "stdout",
     "output_type": "stream",
     "text": [
      "['apple', 'banana', 'cherry', 'orange']\n"
     ]
    }
   ],
   "source": [
    "#Add 1,Append method\n",
    "thislist = [\"apple\", \"banana\", \"cherry\"]\n",
    "thislist.append(\"orange\")\n",
    "print(thislist)"
   ]
  },
  {
   "cell_type": "code",
   "execution_count": 18,
   "id": "e90f5fbe",
   "metadata": {},
   "outputs": [
    {
     "name": "stdout",
     "output_type": "stream",
     "text": [
      "['ee', 'wwwdef', 'fefd', 'ffee']\n"
     ]
    }
   ],
   "source": [
    "#slicing.part1\n",
    "a=[\"rohan bhaii\",'dw','ref','ffed','ee','wwwdef','fefd','ffee','feeefe']\n",
    "print(a[-5:-1])"
   ]
  },
  {
   "cell_type": "code",
   "execution_count": 19,
   "id": "a7403dc3",
   "metadata": {},
   "outputs": [
    {
     "name": "stdout",
     "output_type": "stream",
     "text": [
      "<class 'tuple'>\n",
      "<class 'str'>\n"
     ]
    }
   ],
   "source": [
    "#TUPLES-\n",
    "#create- with one itam\n",
    "thistuple = (\"apple\",)\n",
    "print(type(thistuple))\n",
    "                                            #imp programs...!\n",
    "#NOT a tuple\n",
    "thistuple = (\"apple\")\n",
    "print(type(thistuple))"
   ]
  },
  {
   "cell_type": "code",
   "execution_count": null,
   "id": "09adc1dd",
   "metadata": {},
   "outputs": [],
   "source": []
  },
  {
   "cell_type": "code",
   "execution_count": null,
   "id": "6d455649",
   "metadata": {},
   "outputs": [],
   "source": []
  },
  {
   "cell_type": "code",
   "execution_count": null,
   "id": "3d0b4a66",
   "metadata": {},
   "outputs": [],
   "source": []
  },
  {
   "cell_type": "code",
   "execution_count": null,
   "id": "669242b5",
   "metadata": {},
   "outputs": [],
   "source": []
  },
  {
   "cell_type": "code",
   "execution_count": null,
   "id": "520c5c29",
   "metadata": {},
   "outputs": [],
   "source": []
  },
  {
   "cell_type": "code",
   "execution_count": null,
   "id": "e6d555f3",
   "metadata": {},
   "outputs": [],
   "source": []
  },
  {
   "cell_type": "code",
   "execution_count": null,
   "id": "ae9b15aa",
   "metadata": {},
   "outputs": [],
   "source": []
  },
  {
   "cell_type": "code",
   "execution_count": null,
   "id": "07cb7d98",
   "metadata": {},
   "outputs": [],
   "source": []
  },
  {
   "cell_type": "code",
   "execution_count": null,
   "id": "c48e3179",
   "metadata": {},
   "outputs": [],
   "source": []
  },
  {
   "cell_type": "code",
   "execution_count": null,
   "id": "d7f3a6d0",
   "metadata": {},
   "outputs": [],
   "source": []
  }
 ],
 "metadata": {
  "kernelspec": {
   "display_name": "Python 3",
   "language": "python",
   "name": "python3"
  },
  "language_info": {
   "codemirror_mode": {
    "name": "ipython",
    "version": 3
   },
   "file_extension": ".py",
   "mimetype": "text/x-python",
   "name": "python",
   "nbconvert_exporter": "python",
   "pygments_lexer": "ipython3",
   "version": "3.13.3"
  }
 },
 "nbformat": 4,
 "nbformat_minor": 5
}
