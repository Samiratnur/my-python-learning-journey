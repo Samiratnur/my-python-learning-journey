{
 "cells": [
  {
   "cell_type": "code",
   "execution_count": null,
   "id": "97573a20",
   "metadata": {},
   "outputs": [],
   "source": []
  },
  {
   "cell_type": "code",
   "execution_count": 1,
   "id": "74221152",
   "metadata": {},
   "outputs": [
    {
     "name": "stdout",
     "output_type": "stream",
     "text": [
      "{'name': 'samir', 'last_name': 'atnur'}\n",
      "<class 'dict'>\n"
     ]
    }
   ],
   "source": [
    "#mapping dictionary ****dict****\n",
    "x={'name':\"samir\",'last_name':\"atnur\",}\n",
    "print(x)\n",
    "print(type(x))\n"
   ]
  },
  {
   "cell_type": "code",
   "execution_count": 2,
   "id": "2fa1ffd6",
   "metadata": {},
   "outputs": [
    {
     "name": "stdout",
     "output_type": "stream",
     "text": [
      "dict_values(['sam', 'maya', 'shubhu', 'dua'])\n",
      "dict_keys(['1', '2', '3', '4'])\n",
      "\n",
      " dict_values(['23', '20', '24', '26'])\n",
      "dict_keys(['1', '2', '3', '4'])\n"
     ]
    }
   ],
   "source": [
    "#part 2\n",
    "name={'1':'sam','2':'maya','3':'shubhu','4':'dua',}\n",
    "age={'1':'23','2':'20','3':'24','4':'26'}\n",
    "print(name.values())\n",
    "print(name.keys())\n",
    "\n",
    "print(\"\\n\",age.values())\n",
    "print(age.keys())"
   ]
  },
  {
   "cell_type": "code",
   "execution_count": 3,
   "id": "2280cd4b",
   "metadata": {},
   "outputs": [
    {
     "ename": "NameError",
     "evalue": "name 'mas' is not defined",
     "output_type": "error",
     "traceback": [
      "\u001b[31m---------------------------------------------------------------------------\u001b[39m",
      "\u001b[31mNameError\u001b[39m                                 Traceback (most recent call last)",
      "\u001b[36mCell\u001b[39m\u001b[36m \u001b[39m\u001b[32mIn[3]\u001b[39m\u001b[32m, line 3\u001b[39m\n\u001b[32m      1\u001b[39m \u001b[38;5;66;03m#part3\u001b[39;00m\n\u001b[32m      2\u001b[39m \u001b[38;5;28mdict\u001b[39m   =\u001b[33m\"\u001b[39m\u001b[33mhello\u001b[39m\u001b[33m\"\u001b[39m\n\u001b[32m----> \u001b[39m\u001b[32m3\u001b[39m \u001b[43mmas\u001b[49m[\u001b[33m'\u001b[39m\u001b[33mxyz\u001b[39m\u001b[33m'\u001b[39m] =\u001b[33m\"\u001b[39m\u001b[33mworld\u001b[39m\u001b[33m\"\u001b[39m\n\u001b[32m      4\u001b[39m miss       ={ }\n\u001b[32m      5\u001b[39m \u001b[38;5;28mprint\u001b[39m(sam)\n",
      "\u001b[31mNameError\u001b[39m: name 'mas' is not defined"
     ]
    }
   ],
   "source": [
    "#part3\n",
    "dict   =\"hello\"\n",
    "mas['xyz'] =\"world\"\n",
    "miss       ={ }\n",
    "print(sam)\n",
    "print(mas)\n",
    "print(miss)"
   ]
  },
  {
   "cell_type": "code",
   "execution_count": 4,
   "id": "64de017a",
   "metadata": {},
   "outputs": [
    {
     "name": "stdout",
     "output_type": "stream",
     "text": [
      "1st name isrohan\n",
      "2nd name isbandu\n",
      "{1: 'rohan', 2: 'bandu', 3: 'abhi', 4: 'maya'}\n",
      "dict_keys([1, 2, 3, 4])\n",
      "dict_values(['rohan', 'bandu', 'abhi', 'maya'])\n"
     ]
    }
   ],
   "source": [
    "#part 4\n",
    "n={1:\"rohan\",2:\"bandu\",3:\"abhi\",4:\"maya\"}\n",
    "print(\"1st name is\"+n[1])\n",
    "print(\"2nd name is\"+n[2])\n",
    "print(n)\n",
    "print(n.keys())\n",
    "print(n.values())"
   ]
  },
  {
   "cell_type": "code",
   "execution_count": 5,
   "id": "f1f3a50b",
   "metadata": {},
   "outputs": [
    {
     "name": "stdout",
     "output_type": "stream",
     "text": [
      "{1: 'sam', 2: 'ravi', 3: 'kavi', 4: 'cad'}\n",
      "1st no is: a\n",
      "2nd no is: r\n",
      "<class 'dict'>\n"
     ]
    }
   ],
   "source": [
    "#part 5 i made this casual program.\n",
    "var={1:'sam',2:'ravi',3:'kavi',4:'cad'}\n",
    "print(var)\n",
    "print('1st no is'\": \"+'var'[1])\n",
    "print('2nd no is'\": \"+'var'[2])\n",
    "print(type(var))"
   ]
  },
  {
   "cell_type": "code",
   "execution_count": 1,
   "id": "5e83ebfc",
   "metadata": {},
   "outputs": [
    {
     "name": "stdout",
     "output_type": "stream",
     "text": [
      "{'name': 'samir', 'last_name': 'atnur'}\n"
     ]
    }
   ],
   "source": [
    "x={'name':\"samir\",'last_name':\"atnur\",}\n",
    "print(x)"
   ]
  },
  {
   "cell_type": "code",
   "execution_count": 2,
   "id": "25f538cf",
   "metadata": {},
   "outputs": [
    {
     "name": "stdout",
     "output_type": "stream",
     "text": [
      "rohan\n"
     ]
    }
   ],
   "source": [
    "n={1:\"rohan\",2:\"bandu\",3:\"abhi\",4:\"maya\"}\n",
    "print((n)[1])\n"
   ]
  },
  {
   "cell_type": "code",
   "execution_count": 3,
   "id": "2ba81d76",
   "metadata": {},
   "outputs": [
    {
     "name": "stdout",
     "output_type": "stream",
     "text": [
      "Mustang\n",
      "{'brand': 'Ford', 'model': 'Mustang', 'year': 1964}\n"
     ]
    }
   ],
   "source": [
    "#accessing values\n",
    "thisdict = {\n",
    "  \"brand\": \"Ford\",\n",
    "  \"model\": \"Mustang\",\n",
    "  \"year\": 1964\n",
    "}\n",
    "x = thisdict[\"model\"]\n",
    "print(x)\n",
    "print(thisdict)"
   ]
  },
  {
   "cell_type": "code",
   "execution_count": 4,
   "id": "86c2a4b2",
   "metadata": {},
   "outputs": [
    {
     "name": "stdout",
     "output_type": "stream",
     "text": [
      "John\n",
      "John\n",
      "name: John\n",
      "age: 30\n",
      "city: New York\n",
      "dict_keys(['name', 'age', 'city'])\n",
      "dict_values(['John', 30, 'New York'])\n"
     ]
    }
   ],
   "source": [
    "#accessing values\n",
    "#Using Square Brackets:\n",
    "my_dict = {'name': 'John', 'age': 30, 'city': 'New York'}\n",
    "name = my_dict['name']  # Access the 'name' key\n",
    "print(name)  # This will print 'John'\n",
    "\n",
    "\n",
    "\n",
    "#Using the get() method:\n",
    "my_dict = {'name': 'John', 'age': 30, 'city': 'New York'}\n",
    "name = my_dict.get('name')\n",
    "print(name)  # This will print 'John'\n",
    "\n",
    "\n",
    "#Using a Loop:\n",
    "my_dict = {'name': 'John', 'age': 30, 'city': 'New York'}\n",
    "for key, value in my_dict.items():\n",
    "    print(f\"{key}: {value}\")\n",
    "\n",
    "\n",
    "#Using the keys() and values() methods:\n",
    "my_dict = {'name': 'John', 'age': 30, 'city': 'New York'}\n",
    "keys = my_dict.keys()\n",
    "values = my_dict.values()\n",
    "print(keys)  # This will print dict_keys(['name', 'age', 'city'])\n",
    "print(values)  # This will print dict_values(['John', 30, 'New York'])\n"
   ]
  },
  {
   "cell_type": "code",
   "execution_count": 5,
   "id": "0ccf6478",
   "metadata": {},
   "outputs": [
    {
     "name": "stdout",
     "output_type": "stream",
     "text": [
      "{'brand': 'Ford', 'model': 'Mustang', 'year': 1964, 'color': 'White'}\n",
      "{1: 'samir', 2: 'jaya', 3: 'ram', 4: 'kunal'}\n"
     ]
    }
   ],
   "source": [
    "#update in dictonary\n",
    "car = {\n",
    "  \"brand\": \"Ford\",\n",
    "  \"model\": \"Mustang\",\n",
    "  \"year\": 1964\n",
    "}\n",
    "\n",
    "car.update({\"color\": \"White\"})\n",
    "\n",
    "print(car)\n",
    "\n",
    "#2\n",
    "a={\n",
    "    1:'samir',\n",
    "    2:'jaya',\n",
    "    3:'ram'\n",
    "}\n",
    "a.update({4:'kunal'})\n",
    "print(a)\n",
    "\n"
   ]
  },
  {
   "cell_type": "code",
   "execution_count": 6,
   "id": "6c8d64ba",
   "metadata": {},
   "outputs": [
    {
     "name": "stdout",
     "output_type": "stream",
     "text": [
      "{'name': 'John', 'city': 'New York'}\n",
      "{'name': 'John', 'age': 30}\n",
      "('city', 'New York')\n",
      "{}\n",
      "{'name': 'John', 'city': 'New York'}\n"
     ]
    }
   ],
   "source": [
    "#Delete Dictonary \n",
    "#Using the del statement:\n",
    "my_dict = {'name': 'John', 'age': 30, 'city': 'New York'}\n",
    "del my_dict['age']  # Deletes the 'age' key and its corresponding value\n",
    "print(my_dict)\n",
    "\n",
    "#Using the pop() method:\n",
    "my_dict = {'name': 'John', 'age': 30, 'city': 'New York'}\n",
    "removed_age = my_dict.pop('city')  # Removes 'age' and returns its value\n",
    "print(my_dict)\n",
    "\n",
    "#Using the popitem() method\n",
    "#remove all and retrun last key.\n",
    "my_dict = {'name': 'John', 'age': 30, 'city': 'New York'}\n",
    "removed_item = my_dict.popitem()  # Removes and returns an arbitrary item\n",
    "print(removed_item)\n",
    "\n",
    "#Using the clear() method:\n",
    "my_dict = {'name': 'John', 'age': 30, 'city': 'New York'}\n",
    "my_dict.clear()  # Removes all key-value pairs, leaving an empty dictionary\n",
    "print(my_dict)\n",
    "\n",
    "#Using dictionary comprehension:\n",
    "my_dict = {'name': 'John', 'age': 30, 'city': 'New York'}\n",
    "my_dict = {key: value for key, value in my_dict.items() if key != 'age'}\n",
    "print(my_dict)"
   ]
  },
  {
   "cell_type": "code",
   "execution_count": null,
   "id": "a58744c4",
   "metadata": {},
   "outputs": [],
   "source": [
    "#properties of dictionary keys in python\n",
    "1.#Uniqueness:\n",
    "2.#Immutability\n",
    "3.#Order (Python 3.7+):\n",
    "4.#Hashability\n",
    "\n",
    "\n",
    "#Uniqueness: Dictionary keys are unique within the dictionary. Each key can only appear once in a dictionary. If you try to add a duplicate key, the new value will overwrite the existing one.\n",
    "\n",
    "#python\n",
    "#Copy code\n",
    "my_dict = {'name': 'John', 'age': 30}\n",
    "my_dict['name'] = 'Alice'  # Updates the value for the 'name' key\n",
    "\n",
    "\n",
    "#Immutability: Dictionary keys must be of an immutable data type. Common examples of suitable key types are strings, numbers (integers and floats), and tuples (as long as the tuple contains only immutable elements). Lists and other dictionaries are not valid as dictionary keys because they are mutable.\n",
    "\n",
    "#Valid dictionary keys:\n",
    "\n",
    "\n",
    "my_dict = {'name': 'John', 42: 'answer', (1, 2): 'tuple_key'}\n",
    "#Invalid dictionary keys:\n",
    "\n",
    "\n",
    "my_dict = {['name']: 'John', {'age': 30}: 'data'}\n",
    "\n",
    "#Order (Python 3.7+): In Python 3.7 and later, dictionaries maintain the insertion order of their keys. This means that the keys are stored in the order they were added to the dictionary.\n",
    "\n",
    "\n",
    "my_dict = {'name': 'John', 'age': 30, 'city': 'New York'}\n",
    "keys_in_order = list(my_dict.keys())  # ['name', 'age', 'city']\n",
    "#Note that this order-preserving behavior is officially part of the Python language specification starting from Python 3.7. In earlier Python versions, dictionaries did not guarantee key order.\n",
    "\n",
    "#Hashability: Dictionary keys must be hashable. Hashable objects are those for which a hash value can be computed, and they have a stable hash value throughout their lifetime. This property allows efficient retrieval of values from the dictionary.\n",
    "\n",
    "#Case-Sensitivity (for strings): #Dictionary keys are case-sensitive when using strings as keys. This means that keys like 'key' and 'Key' are treated as distinct keys.\n",
    "\n",
    "\n",
    "my_dict = {'key': 'value'}\n",
    "value = my_dict['key']  # This works\n",
    "value = my_dict['Key']  # This would raise a KeyError because 'Key' is not the same as 'key'"
   ]
  },
  {
   "cell_type": "code",
   "execution_count": 27,
   "id": "e099bf2e",
   "metadata": {},
   "outputs": [
    {
     "name": "stdout",
     "output_type": "stream",
     "text": [
      "{'name': 'Alice', 'age': 30}\n",
      "value\n"
     ]
    }
   ],
   "source": [
    "# _______________________________________________________________________________\n",
    "\n",
    "\"\"\"\n",
    "1. 🔁 Uniqueness\n",
    "Each key in a dictionary must be unique.\n",
    "If a duplicate key is added, the latest value will overwrite the previous one.\n",
    "\"\"\"\n",
    "\n",
    "my_dict = {'name': 'John', 'age': 30}\n",
    "my_dict['name'] = 'Alice'  # Overwrites 'John' with 'Alice'\n",
    "print(my_dict)  # Output: {'name': 'Alice', 'age': 30}\n",
    "\n",
    "# _______________________________________________________________________________\n",
    "\n",
    "\"\"\"\n",
    "2. 🧱 Immutability\n",
    "Dictionary keys must be immutable (i.e., cannot change after creation).\n",
    "\n",
    "✅ Valid key types include:\n",
    "- Strings\n",
    "- Numbers (int, float)\n",
    "- Tuples (only if the tuple contains only immutable elements)\n",
    "\n",
    "❌ Invalid key types:\n",
    "- Lists\n",
    "- Sets\n",
    "- Other dictionaries (all are mutable)\n",
    "\"\"\"\n",
    "\n",
    "# ✅ Valid keys\n",
    "my_dict = {'name': 'John', 42: 'answer', (1, 2): 'tuple_key'}\n",
    "\n",
    "# ❌ Invalid keys (will raise TypeError)\n",
    "# Uncommenting the lines below will cause an error\n",
    "\n",
    "# my_dict = {['name']: 'John'}        # List as key - ❌\n",
    "# my_dict = {{'age': 30}: 'data'}     # Dictionary as key - ❌\n",
    "\n",
    "# _______________________________________________________________________________\n",
    "\n",
    "\"\"\"\n",
    "3. #️⃣ Hashability\n",
    "Dictionary keys must be hashable, meaning:\n",
    "- They implement the __hash__() method\n",
    "- They maintain a consistent hash value during their lifetime\n",
    "\"\"\"\n",
    "\n",
    "# ✅ Hashable examples:\n",
    "hashable_keys = [\"hello\", 42, 3.14, (1, 2)]\n",
    "\n",
    "# ❌ Unhashable examples (raise TypeError if used as keys):\n",
    "# unhashable_keys = [[1, 2, 3], {'a': 1}, set([1, 2])]  # Uncommenting these will raise errors\n",
    "\n",
    "# _______________________________________________________________________________\n",
    "\n",
    "\"\"\"\n",
    "4. 🔡 Case-Sensitivity (Strings)\n",
    "String keys in dictionaries are case-sensitive.\n",
    "'Key' and 'key' are treated as different keys.\n",
    "\"\"\"\n",
    "\n",
    "my_dict = {'key': 'value'}\n",
    "print(my_dict['key'])  # Output: 'value'\n",
    "\n",
    "# The line below will raise a KeyError because 'Key' != 'key'\n",
    "# print(my_dict['Key'])  # Uncommenting this will raise KeyError\n",
    "\n",
    "# _______________________________________________________________________________\n"
   ]
  },
  {
   "cell_type": "code",
   "execution_count": null,
   "id": "269c3430",
   "metadata": {},
   "outputs": [
    {
     "ename": "TypeError",
     "evalue": "unhashable type: 'list'",
     "output_type": "error",
     "traceback": [
      "\u001b[31m---------------------------------------------------------------------------\u001b[39m",
      "\u001b[31mTypeError\u001b[39m                                 Traceback (most recent call last)",
      "\u001b[36mCell\u001b[39m\u001b[36m \u001b[39m\u001b[32mIn[20]\u001b[39m\u001b[32m, line 5\u001b[39m\n\u001b[32m      2\u001b[39m my_dict = {\u001b[33m'\u001b[39m\u001b[33mname\u001b[39m\u001b[33m'\u001b[39m: \u001b[33m'\u001b[39m\u001b[33mJohn\u001b[39m\u001b[33m'\u001b[39m, \u001b[32m42\u001b[39m: \u001b[33m'\u001b[39m\u001b[33manswer\u001b[39m\u001b[33m'\u001b[39m, (\u001b[32m1\u001b[39m, \u001b[32m2\u001b[39m): \u001b[33m'\u001b[39m\u001b[33mtuple_key\u001b[39m\u001b[33m'\u001b[39m}\n\u001b[32m      4\u001b[39m \u001b[38;5;66;03m# ❌ Invalid keys (will raise TypeError)\u001b[39;00m\n\u001b[32m----> \u001b[39m\u001b[32m5\u001b[39m my_dict = {[\u001b[33m'\u001b[39m\u001b[33mname\u001b[39m\u001b[33m'\u001b[39m]: \u001b[33m'\u001b[39m\u001b[33mJohn\u001b[39m\u001b[33m'\u001b[39m}         \u001b[38;5;66;03m# List as key\u001b[39;00m\n\u001b[32m      6\u001b[39m my_dict = {{\u001b[33m'\u001b[39m\u001b[33mage\u001b[39m\u001b[33m'\u001b[39m: \u001b[32m30\u001b[39m}: \u001b[33m'\u001b[39m\u001b[33mdata\u001b[39m\u001b[33m'\u001b[39m}      \u001b[38;5;66;03m# Dict as key\u001b[39;00m\n",
      "\u001b[31mTypeError\u001b[39m: unhashable type: 'list'"
     ]
    }
   ],
   "source": []
  },
  {
   "cell_type": "code",
   "execution_count": 1,
   "id": "2dcc9770",
   "metadata": {},
   "outputs": [
    {
     "name": "stdout",
     "output_type": "stream",
     "text": [
      "{'GEEKS': 2175, 'For': 1127, 'geeks': 2750}\n"
     ]
    }
   ],
   "source": [
    "#Python zip() with Dictionary\n",
    "stocks = ['GEEKS', 'For', 'geeks']\n",
    "prices = [2175, 1127, 2750]\n",
    "\n",
    "new_dict = {stocks: prices for stocks,\n",
    "\t\t\tprices in zip(stocks, prices)}\n",
    "print(new_dict)\n"
   ]
  },
  {
   "cell_type": "code",
   "execution_count": null,
   "id": "7d2b1764",
   "metadata": {},
   "outputs": [],
   "source": []
  }
 ],
 "metadata": {
  "kernelspec": {
   "display_name": "Python 3",
   "language": "python",
   "name": "python3"
  },
  "language_info": {
   "codemirror_mode": {
    "name": "ipython",
    "version": 3
   },
   "file_extension": ".py",
   "mimetype": "text/x-python",
   "name": "python",
   "nbconvert_exporter": "python",
   "pygments_lexer": "ipython3",
   "version": "3.13.4"
  }
 },
 "nbformat": 4,
 "nbformat_minor": 5
}
