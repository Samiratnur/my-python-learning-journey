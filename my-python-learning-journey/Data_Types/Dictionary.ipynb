{
 "cells": [
  {
   "cell_type": "code",
   "execution_count": null,
   "id": "97573a20",
   "metadata": {},
   "outputs": [],
   "source": []
  },
  {
   "cell_type": "code",
   "execution_count": 1,
   "id": "74221152",
   "metadata": {},
   "outputs": [
    {
     "name": "stdout",
     "output_type": "stream",
     "text": [
      "{'name': 'samir', 'last_name': 'atnur'}\n",
      "<class 'dict'>\n"
     ]
    }
   ],
   "source": [
    "#mapping dictionary ****dict****\n",
    "x={'name':\"samir\",'last_name':\"atnur\",}\n",
    "print(x)\n",
    "print(type(x))\n"
   ]
  },
  {
   "cell_type": "code",
   "execution_count": 2,
   "id": "2fa1ffd6",
   "metadata": {},
   "outputs": [
    {
     "name": "stdout",
     "output_type": "stream",
     "text": [
      "dict_values(['sam', 'maya', 'shubhu', 'dua'])\n",
      "dict_keys(['1', '2', '3', '4'])\n",
      "\n",
      " dict_values(['23', '20', '24', '26'])\n",
      "dict_keys(['1', '2', '3', '4'])\n"
     ]
    }
   ],
   "source": [
    "#part 2\n",
    "name={'1':'sam','2':'maya','3':'shubhu','4':'dua',}\n",
    "age={'1':'23','2':'20','3':'24','4':'26'}\n",
    "print(name.values())\n",
    "print(name.keys())\n",
    "\n",
    "print(\"\\n\",age.values())\n",
    "print(age.keys())"
   ]
  },
  {
   "cell_type": "code",
   "execution_count": 3,
   "id": "2280cd4b",
   "metadata": {},
   "outputs": [
    {
     "ename": "NameError",
     "evalue": "name 'mas' is not defined",
     "output_type": "error",
     "traceback": [
      "\u001b[31m---------------------------------------------------------------------------\u001b[39m",
      "\u001b[31mNameError\u001b[39m                                 Traceback (most recent call last)",
      "\u001b[36mCell\u001b[39m\u001b[36m \u001b[39m\u001b[32mIn[3]\u001b[39m\u001b[32m, line 3\u001b[39m\n\u001b[32m      1\u001b[39m \u001b[38;5;66;03m#part3\u001b[39;00m\n\u001b[32m      2\u001b[39m \u001b[38;5;28mdict\u001b[39m   =\u001b[33m\"\u001b[39m\u001b[33mhello\u001b[39m\u001b[33m\"\u001b[39m\n\u001b[32m----> \u001b[39m\u001b[32m3\u001b[39m \u001b[43mmas\u001b[49m[\u001b[33m'\u001b[39m\u001b[33mxyz\u001b[39m\u001b[33m'\u001b[39m] =\u001b[33m\"\u001b[39m\u001b[33mworld\u001b[39m\u001b[33m\"\u001b[39m\n\u001b[32m      4\u001b[39m miss       ={ }\n\u001b[32m      5\u001b[39m \u001b[38;5;28mprint\u001b[39m(sam)\n",
      "\u001b[31mNameError\u001b[39m: name 'mas' is not defined"
     ]
    }
   ],
   "source": [
    "#part3\n",
    "dict   =\"hello\"\n",
    "mas['xyz'] =\"world\"\n",
    "miss       ={ }\n",
    "print(sam)\n",
    "print(mas)\n",
    "print(miss)"
   ]
  },
  {
   "cell_type": "code",
   "execution_count": 4,
   "id": "64de017a",
   "metadata": {},
   "outputs": [
    {
     "name": "stdout",
     "output_type": "stream",
     "text": [
      "1st name isrohan\n",
      "2nd name isbandu\n",
      "{1: 'rohan', 2: 'bandu', 3: 'abhi', 4: 'maya'}\n",
      "dict_keys([1, 2, 3, 4])\n",
      "dict_values(['rohan', 'bandu', 'abhi', 'maya'])\n"
     ]
    }
   ],
   "source": [
    "#part 4\n",
    "n={1:\"rohan\",2:\"bandu\",3:\"abhi\",4:\"maya\"}\n",
    "print(\"1st name is\"+n[1])\n",
    "print(\"2nd name is\"+n[2])\n",
    "print(n)\n",
    "print(n.keys())\n",
    "print(n.values())"
   ]
  },
  {
   "cell_type": "code",
   "execution_count": 5,
   "id": "f1f3a50b",
   "metadata": {},
   "outputs": [
    {
     "name": "stdout",
     "output_type": "stream",
     "text": [
      "{1: 'sam', 2: 'ravi', 3: 'kavi', 4: 'cad'}\n",
      "1st no is: a\n",
      "2nd no is: r\n",
      "<class 'dict'>\n"
     ]
    }
   ],
   "source": [
    "#part 5 i made this casual program.\n",
    "var={1:'sam',2:'ravi',3:'kavi',4:'cad'}\n",
    "print(var)\n",
    "print('1st no is'\": \"+'var'[1])\n",
    "print('2nd no is'\": \"+'var'[2])\n",
    "print(type(var))"
   ]
  },
  {
   "cell_type": "code",
   "execution_count": 1,
   "id": "5e83ebfc",
   "metadata": {},
   "outputs": [
    {
     "name": "stdout",
     "output_type": "stream",
     "text": [
      "{'name': 'samir', 'last_name': 'atnur'}\n"
     ]
    }
   ],
   "source": [
    "x={'name':\"samir\",'last_name':\"atnur\",}\n",
    "print(x)"
   ]
  },
  {
   "cell_type": "code",
   "execution_count": 2,
   "id": "25f538cf",
   "metadata": {},
   "outputs": [
    {
     "name": "stdout",
     "output_type": "stream",
     "text": [
      "rohan\n"
     ]
    }
   ],
   "source": [
    "n={1:\"rohan\",2:\"bandu\",3:\"abhi\",4:\"maya\"}\n",
    "print((n)[1])\n"
   ]
  },
  {
   "cell_type": "code",
   "execution_count": 3,
   "id": "2ba81d76",
   "metadata": {},
   "outputs": [
    {
     "name": "stdout",
     "output_type": "stream",
     "text": [
      "Mustang\n",
      "{'brand': 'Ford', 'model': 'Mustang', 'year': 1964}\n"
     ]
    }
   ],
   "source": [
    "#accessing values\n",
    "thisdict = {\n",
    "  \"brand\": \"Ford\",\n",
    "  \"model\": \"Mustang\",\n",
    "  \"year\": 1964\n",
    "}\n",
    "x = thisdict[\"model\"]\n",
    "print(x)\n",
    "print(thisdict)"
   ]
  },
  {
   "cell_type": "code",
   "execution_count": 4,
   "id": "86c2a4b2",
   "metadata": {},
   "outputs": [
    {
     "name": "stdout",
     "output_type": "stream",
     "text": [
      "John\n",
      "John\n",
      "name: John\n",
      "age: 30\n",
      "city: New York\n",
      "dict_keys(['name', 'age', 'city'])\n",
      "dict_values(['John', 30, 'New York'])\n"
     ]
    }
   ],
   "source": [
    "#accessing values\n",
    "#Using Square Brackets:\n",
    "my_dict = {'name': 'John', 'age': 30, 'city': 'New York'}\n",
    "name = my_dict['name']  # Access the 'name' key\n",
    "print(name)  # This will print 'John'\n",
    "\n",
    "\n",
    "\n",
    "#Using the get() method:\n",
    "my_dict = {'name': 'John', 'age': 30, 'city': 'New York'}\n",
    "name = my_dict.get('name')\n",
    "print(name)  # This will print 'John'\n",
    "\n",
    "\n",
    "#Using a Loop:\n",
    "my_dict = {'name': 'John', 'age': 30, 'city': 'New York'}\n",
    "for key, value in my_dict.items():\n",
    "    print(f\"{key}: {value}\")\n",
    "\n",
    "\n",
    "#Using the keys() and values() methods:\n",
    "my_dict = {'name': 'John', 'age': 30, 'city': 'New York'}\n",
    "keys = my_dict.keys()\n",
    "values = my_dict.values()\n",
    "print(keys)  # This will print dict_keys(['name', 'age', 'city'])\n",
    "print(values)  # This will print dict_values(['John', 30, 'New York'])\n"
   ]
  },
  {
   "cell_type": "code",
   "execution_count": null,
   "id": "0ccf6478",
   "metadata": {},
   "outputs": [],
   "source": []
  }
 ],
 "metadata": {
  "kernelspec": {
   "display_name": "Python 3",
   "language": "python",
   "name": "python3"
  },
  "language_info": {
   "codemirror_mode": {
    "name": "ipython",
    "version": 3
   },
   "file_extension": ".py",
   "mimetype": "text/x-python",
   "name": "python",
   "nbconvert_exporter": "python",
   "pygments_lexer": "ipython3",
   "version": "3.13.3"
  }
 },
 "nbformat": 4,
 "nbformat_minor": 5
}
