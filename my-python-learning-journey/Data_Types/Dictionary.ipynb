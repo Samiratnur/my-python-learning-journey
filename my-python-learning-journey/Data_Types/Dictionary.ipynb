{
 "cells": [
  {
   "cell_type": "code",
   "execution_count": null,
   "id": "97573a20",
   "metadata": {},
   "outputs": [],
   "source": []
  },
  {
   "cell_type": "code",
   "execution_count": 1,
   "id": "74221152",
   "metadata": {},
   "outputs": [
    {
     "name": "stdout",
     "output_type": "stream",
     "text": [
      "{'name': 'samir', 'last_name': 'atnur'}\n",
      "<class 'dict'>\n"
     ]
    }
   ],
   "source": [
    "#mapping dictionary ****dict****\n",
    "x={'name':\"samir\",'last_name':\"atnur\",}\n",
    "print(x)\n",
    "print(type(x))\n"
   ]
  },
  {
   "cell_type": "code",
   "execution_count": 2,
   "id": "2fa1ffd6",
   "metadata": {},
   "outputs": [
    {
     "name": "stdout",
     "output_type": "stream",
     "text": [
      "dict_values(['sam', 'maya', 'shubhu', 'dua'])\n",
      "dict_keys(['1', '2', '3', '4'])\n",
      "\n",
      " dict_values(['23', '20', '24', '26'])\n",
      "dict_keys(['1', '2', '3', '4'])\n"
     ]
    }
   ],
   "source": [
    "#part 2\n",
    "name={'1':'sam','2':'maya','3':'shubhu','4':'dua',}\n",
    "age={'1':'23','2':'20','3':'24','4':'26'}\n",
    "print(name.values())\n",
    "print(name.keys())\n",
    "\n",
    "print(\"\\n\",age.values())\n",
    "print(age.keys())"
   ]
  },
  {
   "cell_type": "code",
   "execution_count": 3,
   "id": "2280cd4b",
   "metadata": {},
   "outputs": [
    {
     "ename": "NameError",
     "evalue": "name 'mas' is not defined",
     "output_type": "error",
     "traceback": [
      "\u001b[31m---------------------------------------------------------------------------\u001b[39m",
      "\u001b[31mNameError\u001b[39m                                 Traceback (most recent call last)",
      "\u001b[36mCell\u001b[39m\u001b[36m \u001b[39m\u001b[32mIn[3]\u001b[39m\u001b[32m, line 3\u001b[39m\n\u001b[32m      1\u001b[39m \u001b[38;5;66;03m#part3\u001b[39;00m\n\u001b[32m      2\u001b[39m \u001b[38;5;28mdict\u001b[39m   =\u001b[33m\"\u001b[39m\u001b[33mhello\u001b[39m\u001b[33m\"\u001b[39m\n\u001b[32m----> \u001b[39m\u001b[32m3\u001b[39m \u001b[43mmas\u001b[49m[\u001b[33m'\u001b[39m\u001b[33mxyz\u001b[39m\u001b[33m'\u001b[39m] =\u001b[33m\"\u001b[39m\u001b[33mworld\u001b[39m\u001b[33m\"\u001b[39m\n\u001b[32m      4\u001b[39m miss       ={ }\n\u001b[32m      5\u001b[39m \u001b[38;5;28mprint\u001b[39m(sam)\n",
      "\u001b[31mNameError\u001b[39m: name 'mas' is not defined"
     ]
    }
   ],
   "source": [
    "#part3\n",
    "dict   =\"hello\"\n",
    "mas['xyz'] =\"world\"\n",
    "miss       ={ }\n",
    "print(sam)\n",
    "print(mas)\n",
    "print(miss)"
   ]
  }
 ],
 "metadata": {
  "kernelspec": {
   "display_name": "Python 3",
   "language": "python",
   "name": "python3"
  },
  "language_info": {
   "codemirror_mode": {
    "name": "ipython",
    "version": 3
   },
   "file_extension": ".py",
   "mimetype": "text/x-python",
   "name": "python",
   "nbconvert_exporter": "python",
   "pygments_lexer": "ipython3",
   "version": "3.13.3"
  }
 },
 "nbformat": 4,
 "nbformat_minor": 5
}
