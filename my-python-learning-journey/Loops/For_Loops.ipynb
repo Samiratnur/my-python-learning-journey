{
 "cells": [
  {
   "cell_type": "code",
   "execution_count": 1,
   "id": "e188e4bc",
   "metadata": {},
   "outputs": [
    {
     "name": "stdout",
     "output_type": "stream",
     "text": [
      "['Geeks', 'for', 'Geeks']\n",
      "Geeks\n",
      "for\n",
      "Geeks\n"
     ]
    }
   ],
   "source": [
    "#for loop \n",
    "#[1]\n",
    "i=[\"Geeks\",\"for\",\"Geeks\"]\n",
    "print(i)              #normal output\n",
    "for i in i:           #for loop output.\n",
    "    print(i)"
   ]
  },
  {
   "cell_type": "code",
   "execution_count": 2,
   "id": "7ff30138",
   "metadata": {},
   "outputs": [
    {
     "name": "stdout",
     "output_type": "stream",
     "text": [
      "the sum of squares is :  9\n",
      "the sum of squares is :  34\n",
      "the sum of squares is :  563\n",
      "the sum of squares is :  599\n",
      "the sum of squares is :  624\n",
      "the sum of squares is :  625\n",
      "the sum of squares is :  629\n",
      "the sum of squares is :  710\n",
      "the sum of squares is :  774\n",
      "the sum of squre is: 25\n"
     ]
    }
   ],
   "source": [
    "#squares using for loop. \n",
    "numbers = [3,5,23,6,5,1,2,9,8]\n",
    "sum_=0\n",
    "for num in numbers:\n",
    "    sum_=sum_ + num**2\n",
    "    print(\"the sum of squares is : \",sum_)                              \n",
    "#_______________________________________________________________________# dono bhi program same hai niche ka simple krr ke run kiya hai.\n",
    "a=[5]   \n",
    "b=0\n",
    "for c in a:\n",
    "    b=b+c**2\n",
    "    print(\"the sum of squre is:\",b)\n",
    "    "
   ]
  },
  {
   "cell_type": "code",
   "execution_count": 3,
   "id": "386bcf35",
   "metadata": {},
   "outputs": [
    {
     "name": "stdout",
     "output_type": "stream",
     "text": [
      "the sum of sqaures: 783\n",
      "the sum of sqaures: 808\n",
      "the sum of sqaures: 1337\n",
      "the sum of sqaures: 1373\n",
      "the sum of sqaures: 1398\n",
      "the sum of sqaures: 1399\n",
      "the sum of sqaures: 1403\n",
      "the sum of sqaures: 1484\n",
      "the sum of sqaures: 1548\n"
     ]
    }
   ],
   "source": [
    "#create program using for loop and len() function.\n",
    "numbers=[3,5,23,6,5,1,2,9,8]\n",
    "sum=0\n",
    "for num in range(len(numbers)):\n",
    "    sum_=sum_+numbers[num]**2\n",
    "    print(\"the sum of sqaures:\",sum_)\n",
    "    "
   ]
  },
  {
   "cell_type": "code",
   "execution_count": 4,
   "id": "dc7a3cbd",
   "metadata": {},
   "outputs": [
    {
     "name": "stdout",
     "output_type": "stream",
     "text": [
      "Dictionary iteration\n",
      "xyz 123 \n",
      "abc 345 \n",
      "sam 123\n",
      "sham 345\n"
     ]
    }
   ],
   "source": [
    "#\n",
    "print(\"Dictionary iteration\")\n",
    "d=dict()\n",
    "d['xyz']=123\n",
    "d['abc']=345                              #explain rhehe gaya hai..\n",
    "for i in d:\n",
    "    print(\"%s %d \" %(i,d[i]))\n",
    "\n",
    "\n",
    "#____________________________________________________\n",
    "a=dict()\n",
    "a['sam']=123                                         #as posible simple upar program ka. \n",
    "a['sham']=345\n",
    "for i in a:\n",
    "    print(\"%s %d\"%(i,a[i]))\n",
    "    "
   ]
  },
  {
   "cell_type": "code",
   "execution_count": 5,
   "id": "6371bf93",
   "metadata": {},
   "outputs": [
    {
     "name": "stdout",
     "output_type": "stream",
     "text": [
      "b a n a n a _ p y t h o n "
     ]
    }
   ],
   "source": [
    "for  i in \"banana_\":\n",
    "    print(i,end=\" \")\n",
    "for x in \"python\":\n",
    "    print(x,end=\" \")"
   ]
  },
  {
   "cell_type": "code",
   "execution_count": 6,
   "id": "556e6678",
   "metadata": {},
   "outputs": [
    {
     "name": "stdout",
     "output_type": "stream",
     "text": [
      "0\n",
      "1\n",
      "2\n",
      "3\n"
     ]
    }
   ],
   "source": [
    "values=range(4)\n",
    "for i in values:\n",
    "    print(i)"
   ]
  },
  {
   "cell_type": "code",
   "execution_count": 7,
   "id": "6e7f68ac",
   "metadata": {},
   "outputs": [
    {
     "name": "stdout",
     "output_type": "stream",
     "text": [
      "hello\n",
      "hi\n",
      "hello\n",
      "hi\n",
      "hello\n",
      "hi\n",
      "hello\n",
      "hi\n",
      "\n",
      "\n",
      "hello\n",
      "hi\n",
      "hello\n",
      "hi\n",
      "hello\n",
      "hi\n",
      "hello\n",
      "hi\n"
     ]
    }
   ],
   "source": [
    "#using a for loop without accesing items.\n",
    "languages=['swift','java','python','go']\n",
    "for language in languages:                   \n",
    "    print('hello')\n",
    "    print('hi')\n",
    "\n",
    "#________________________________\n",
    "print(\"\\n\")\n",
    "languages=['swift','java','python','go']\n",
    "for _ in languages:                               # for loop mai i value nahi di gayi.\n",
    "    print('hello')\n",
    "    print('hi')"
   ]
  },
  {
   "cell_type": "code",
   "execution_count": 8,
   "metadata": {},
   "outputs": [
    {
     "name": "stdout",
     "output_type": "stream",
     "text": [
      "0\n",
      "1\n",
      "2\n",
      "3\n",
      "4\n",
      "5\n",
      "finally finished\n"
     ]
    }
   ],
   "source": [
    "#for loop with *****else****\n",
    "for i in range(6):\n",
    "    print(i)\n",
    "else:\n",
    "    print('finally finished')"
   ]
  },
  {
   "cell_type": "code",
   "execution_count": 9,
   "id": "eead23d8",
   "metadata": {},
   "outputs": [
    {
     "name": "stdout",
     "output_type": "stream",
     "text": [
      "0\n",
      "1\n",
      "5\n",
      "<class 'list'>\n"
     ]
    }
   ],
   "source": [
    "digit = [0,1,5]#list in for loop\n",
    "for i in digit:\n",
    "    print(i)\n",
    "print(type(digit))    "
   ]
  },
  {
   "cell_type": "code",
   "execution_count": 10,
   "metadata": {},
   "outputs": [
    {
     "name": "stdout",
     "output_type": "stream",
     "text": [
      "1\n",
      "2\n",
      "3\n",
      "no break\n",
      "\n"
     ]
    }
   ],
   "source": [
    "for i in range(1,4):\n",
    "    print(i)\n",
    "else:\n",
    "    print(\"no break\\n\")"
   ]
  },
  {
   "cell_type": "code",
   "execution_count": 11,
   "id": "4b50534a",
   "metadata": {},
   "outputs": [
    {
     "name": "stdout",
     "output_type": "stream",
     "text": [
      "apple is red\n",
      "banana is yellow\n",
      "cherry is green\n"
     ]
    }
   ],
   "source": [
    "#for loopwith zip()\n",
    "fruits = [\"apple\",\"banana\",\"cherry\"]\n",
    "colors = ['red','yellow','green']\n",
    "for fruit, color in zip(fruits,colors):               #imp program.\n",
    "    print(fruit,\"is\",color)"
   ]
  },
  {
   "cell_type": "code",
   "execution_count": 4,
   "id": "2b44ee2e",
   "metadata": {},
   "outputs": [
    {
     "name": "stdout",
     "output_type": "stream",
     "text": [
      "{('Nikhil', 1), ('Astha', 2), ('Manjeet', 4), ('Shambhavi', 3)}\n"
     ]
    }
   ],
   "source": [
    "#list Python zip() with lists.\n",
    "name = [ \"Manjeet\", \"Nikhil\", \"Shambhavi\", \"Astha\" ]\n",
    "roll_no = [ 4, 1, 3, 2 ]\n",
    "\n",
    "mapped = zip(name, roll_no)\n",
    "\n",
    "print(set(mapped))\n"
   ]
  },
  {
   "cell_type": "code",
   "execution_count": 12,
   "id": "965246c7",
   "metadata": {},
   "outputs": [
    {
     "name": "stdout",
     "output_type": "stream",
     "text": [
      "0 Mukesh 24\n",
      "1 Roni 50\n",
      "2 Chari 18\n"
     ]
    }
   ],
   "source": [
    "#Python zip() with enumerate\n",
    "names = ['Mukesh', 'Roni', 'Chari']\n",
    "ages = [24, 50, 18]\n",
    "\n",
    "for i, (name, age) in enumerate(zip(names, ages)):\n",
    "\tprint(i, name, age)\n"
   ]
  },
  {
   "cell_type": "code",
   "execution_count": null,
   "id": "94d7c867",
   "metadata": {},
   "outputs": [
    {
     "name": "stdout",
     "output_type": "stream",
     "text": [
      "1 2\n",
      "3 4\n",
      "5 6\n"
     ]
    }
   ],
   "source": [
    "#for loop with tuple.\n",
    "t=((1,2),(3,4),(5,6))\n",
    "for a,b in t:   \n",
    "    print(a,b)"
   ]
  },
  {
   "cell_type": "code",
   "execution_count": 14,
   "id": "6529504b",
   "metadata": {},
   "outputs": [
    {
     "name": "stdout",
     "output_type": "stream",
     "text": [
      "['harry', 1]\n",
      "['larry', 2]\n",
      "['carry', 6]\n",
      "['marry', 250]\n"
     ]
    }
   ],
   "source": [
    "#list of list\n",
    "list1=[[\"harry\",1],[\"larry\",2],           \n",
    "      [\"carry\",6],[\"marry\",250]]\n",
    "for item in list1:\n",
    "    print(item)\n",
    "      "
   ]
  },
  {
   "cell_type": "code",
   "execution_count": 15,
   "id": "a27e4fa0",
   "metadata": {},
   "outputs": [
    {
     "ename": "ValueError",
     "evalue": "invalid literal for int() with base 10: ''",
     "output_type": "error",
     "traceback": [
      "\u001b[31m---------------------------------------------------------------------------\u001b[39m",
      "\u001b[31mValueError\u001b[39m                                Traceback (most recent call last)",
      "\u001b[36mCell\u001b[39m\u001b[36m \u001b[39m\u001b[32mIn[15]\u001b[39m\u001b[32m, line 1\u001b[39m\n\u001b[32m----> \u001b[39m\u001b[32m1\u001b[39m user_input=\u001b[38;5;28;43mint\u001b[39;49m\u001b[43m(\u001b[49m\u001b[38;5;28;43minput\u001b[39;49m\u001b[43m(\u001b[49m\u001b[33;43m\"\u001b[39;49m\u001b[33;43mEnter the number :\u001b[39;49m\u001b[33;43m\"\u001b[39;49m\u001b[43m)\u001b[49m\u001b[43m)\u001b[49m\n\u001b[32m      2\u001b[39m \u001b[38;5;28;01mfor\u001b[39;00m  number \u001b[38;5;129;01min\u001b[39;00m \u001b[38;5;28mrange\u001b[39m(\u001b[32m1\u001b[39m,\u001b[32m11\u001b[39m):                          \u001b[38;5;66;03m#very imp program..!!\u001b[39;00m\n\u001b[32m      3\u001b[39m     \u001b[38;5;28mprint\u001b[39m(user_input*number)\n",
      "\u001b[31mValueError\u001b[39m: invalid literal for int() with base 10: ''"
     ]
    }
   ],
   "source": [
    "user_input=int(input(\"Enter the number :\"))\n",
    "for  number in range(1,11):                          #very imp program..!!\n",
    "    print(user_input*number)"
   ]
  },
  {
   "cell_type": "code",
   "execution_count": 16,
   "id": "a9f7467e",
   "metadata": {},
   "outputs": [
    {
     "name": "stdout",
     "output_type": "stream",
     "text": [
      "swift\n",
      "python\n",
      "go\n",
      "javascript\n"
     ]
    }
   ],
   "source": [
    "language = ['swift','python','go','javascript']\n",
    "for languages in language:\n",
    "    print(languages)\n",
    "    "
   ]
  },
  {
   "cell_type": "code",
   "execution_count": 17,
   "id": "d72fa4bd",
   "metadata": {},
   "outputs": [
    {
     "ename": "SyntaxError",
     "evalue": "invalid syntax (298304352.py, line 3)",
     "output_type": "error",
     "traceback": [
      "  \u001b[36mCell\u001b[39m\u001b[36m \u001b[39m\u001b[32mIn[17]\u001b[39m\u001b[32m, line 3\u001b[39m\n\u001b[31m    \u001b[39m\u001b[31mif str(item).is numaric() and item>=6:             #not run this time..!!\u001b[39m\n                 ^\n\u001b[31mSyntaxError\u001b[39m\u001b[31m:\u001b[39m invalid syntax\n"
     ]
    }
   ],
   "source": [
    "items=[int,float,\"harry\",5,3,22,21,64,23,233,23,6]\n",
    "for item in items:\n",
    "    if str(item).is numaric() and item>=6:             #not run this time..!!\n",
    "        print(item)"
   ]
  },
  {
   "cell_type": "code",
   "execution_count": 18,
   "id": "5394cdfa",
   "metadata": {},
   "outputs": [
    {
     "name": "stdout",
     "output_type": "stream",
     "text": [
      "['harry', 1]\n",
      "['larry', 2]\n",
      "['carry', 3]\n",
      "['marry', 4]\n"
     ]
    }
   ],
   "source": [
    "list = [\"harry\",1],[\"larry\",2],[\"carry\",3],[\"marry\",4]\n",
    "for i in list:\n",
    "    print(i)"
   ]
  },
  {
   "cell_type": "code",
   "execution_count": 19,
   "id": "f8f62ed1",
   "metadata": {},
   "outputs": [
    {
     "name": "stdout",
     "output_type": "stream",
     "text": [
      "sum of 2\n",
      "sum of 6\n",
      "sum of 12\n",
      "sum of 20\n",
      "sum of 30\n",
      "sum of 42\n",
      "sum of 56\n",
      "sum of 72\n"
     ]
    }
   ],
   "source": [
    "#simple o f programs niche ke \n",
    "a=[1,2,3,4,5,6,7,8]\n",
    "b=0\n",
    "for i in range(len(a)):\n",
    "    b=b+a[i]*2\n",
    "    print('sum of',b)\n"
   ]
  },
  {
   "cell_type": "code",
   "execution_count": 1,
   "id": "bc7fb1ab",
   "metadata": {},
   "outputs": [
    {
     "name": "stdout",
     "output_type": "stream",
     "text": [
      "the sum of squares is :  9\n",
      "the sum of squares is :  34\n",
      "the sum of squares is :  563\n",
      "the sum of squares is :  599\n",
      "the sum of squares is :  624\n",
      "the sum of squares is :  625\n",
      "the sum of squares is :  629\n",
      "the sum of squares is :  710\n",
      "the sum of squares is :  774\n"
     ]
    }
   ],
   "source": [
    "#squares using for loop. \n",
    "numbers = [3,5,23,6,5,1,2,9,8]\n",
    "sum_=0\n",
    "for num in numbers:\n",
    "    sum_=sum_ + num**2\n",
    "    print(\"the sum of squares is : \",sum_)                              \n"
   ]
  },
  {
   "cell_type": "code",
   "execution_count": 2,
   "metadata": {},
   "outputs": [
    {
     "name": "stdout",
     "output_type": "stream",
     "text": [
      "the sum of squre is: 25\n"
     ]
    }
   ],
   "source": [
    "a=[5]\n",
    "b=0\n",
    "for c in a:\n",
    "    b=b+c**2\n",
    "    print(\"the sum of squre is:\",b)"
   ]
  },
  {
   "cell_type": "code",
   "execution_count": 1,
   "id": "6b69952b",
   "metadata": {},
   "outputs": [
    {
     "name": "stdout",
     "output_type": "stream",
     "text": [
      "sum of 2\n",
      "sum of 6\n",
      "sum of 12\n",
      "sum of 20\n",
      "sum of 30\n",
      "sum of 42\n",
      "sum of 56\n",
      "sum of 72\n"
     ]
    }
   ],
   "source": [
    "#simple o f programs niche ke \n",
    "a=[1,2,3,4,5,6,7,8]\n",
    "b=0\n",
    "for i in range(len(a)):\n",
    "    b=b+a[i]*2\n",
    "    print('sum of',b)"
   ]
  },
  {
   "cell_type": "code",
   "execution_count": 2,
   "id": "20599a55",
   "metadata": {},
   "outputs": [
    {
     "name": "stdout",
     "output_type": "stream",
     "text": [
      "Dictionary iteration\n",
      "xyz 123 \n",
      "abc 345 \n",
      "sam 123\n",
      "sham 345\n"
     ]
    }
   ],
   "source": [
    "#\n",
    "print(\"Dictionary iteration\")\n",
    "d=dict()\n",
    "d['xyz']=123\n",
    "d['abc']=345                              #explain rhehe gaya hai..\n",
    "for i in d:\n",
    "    print(\"%s %d \" %(i,d[i]))\n",
    "\n",
    "\n",
    "#____________________________________________________\n",
    "a=dict()\n",
    "a['sam']=123                                         #as posible simple upar program ka. \n",
    "a['sham']=345\n",
    "for i in a:\n",
    "    print(\"%s %d\"%(i,a[i]))\n",
    "    "
   ]
  },
  {
   "cell_type": "code",
   "execution_count": 3,
   "id": "46ce83bf",
   "metadata": {},
   "outputs": [
    {
     "name": "stdout",
     "output_type": "stream",
     "text": [
      "hello\n",
      "hi\n",
      "hello\n",
      "hi\n",
      "hello\n",
      "hi\n",
      "hello\n",
      "hi\n",
      "\n",
      "\n",
      "hello\n",
      "hi\n",
      "hello\n",
      "hi\n",
      "hello\n",
      "hi\n",
      "hello\n",
      "hi\n"
     ]
    }
   ],
   "source": [
    "#using a for loop without accesing items.\n",
    "languages=['swift','java','python','go']\n",
    "for language in languages:                   \n",
    "    print('hello')\n",
    "    print('hi')\n",
    "\n",
    "#________________________________\n",
    "print(\"\\n\")\n",
    "languages=['swift','java','python','go']\n",
    "for _ in languages:                               # for loop mai i value nahi di gayi.\n",
    "    print('hello')\n",
    "    print('hi')"
   ]
  },
  {
   "cell_type": "code",
   "execution_count": 5,
   "id": "f41c3174",
   "metadata": {},
   "outputs": [
    {
     "name": "stdout",
     "output_type": "stream",
     "text": [
      "greatest number : 72\n"
     ]
    }
   ],
   "source": [
    "list = [ 1,2,3,5,9,12,786,-1,-126,22,72]\n",
    "max=[0]\n",
    "for i in list:\n",
    "    max=i\n",
    "print('greatest number :',max)\n"
   ]
  },
  {
   "cell_type": "code",
   "execution_count": 6,
   "id": "8a9952c1",
   "metadata": {},
   "outputs": [
    {
     "name": "stdout",
     "output_type": "stream",
     "text": [
      "0 1 2 3 4 5 6 7 8 9 10 11 12 13 14 15 16 17 18 19 20 21 22 23 24 25 26 27 28 29 30 31 32 33 34 35 36 37 38 39 40 41 42 43 44 \n",
      "\n",
      "1 welcome\n",
      "2 welcome\n",
      "3 welcome\n",
      "4 welcome\n",
      "5 welcome\n",
      "6 welcome\n",
      "7 welcome\n",
      "8 welcome\n",
      "9 welcome\n",
      "10 welcome\n"
     ]
    }
   ],
   "source": [
    "##value incrment using while loop program.\n",
    "i =0\n",
    "while (i<45):\n",
    "    print(i,end=\" \")\n",
    "    i = i+1\n",
    "\n",
    "print(\"\\n\")\n",
    "i = 1\n",
    "while i <=10:\n",
    "    print(i,'welcome')\n",
    "    i = i+1\n",
    "    \n",
    "    "
   ]
  },
  {
   "cell_type": "code",
   "execution_count": 7,
   "id": "6d9e4435",
   "metadata": {},
   "outputs": [
    {
     "name": "stdout",
     "output_type": "stream",
     "text": [
      "10 9 8 7 6 5 4 3 2 1 "
     ]
    }
   ],
   "source": [
    "#value decrementing using while loop program.\n",
    "count = 10\n",
    "while(count>0):\n",
    "    print(count,end=\" \")\n",
    "    count = count -1"
   ]
  },
  {
   "cell_type": "code",
   "execution_count": null,
   "id": "5d4dfa1c",
   "metadata": {},
   "outputs": [],
   "source": [
    "name = input(\"Enter a name\")\n",
    "password ='xyz'\n",
    "enter_password = input(\"enter password\")   #very imp program in while loop.mere ko pasand aaya.\n",
    "while password != enter_password:\n",
    "    enter_password = input (\"Enter password:\")\n",
    "else:\n",
    "    print('UNLOCKED!!')"
   ]
  },
  {
   "cell_type": "code",
   "execution_count": 8,
   "id": "27aaa63a",
   "metadata": {},
   "outputs": [
    {
     "name": "stdout",
     "output_type": "stream",
     "text": [
      "the list of squares is : [4]\n",
      "the list of squares is : [4, 9]\n",
      "the list of squares is : [4, 9, 16]\n",
      "the list of squares is : [4, 9, 16, 4]\n",
      "the list of squares is : [4, 9, 16, 4, 100]\n"
     ]
    }
   ],
   "source": [
    "numbers = [2,3,4,-2,10]\n",
    "squares = []\n",
    "for i in numbers:\n",
    "    square = i**2                       #piramid type squares in for loop.!!\n",
    "    squares.append(square)\n",
    "    print(\"the list of squares is :\",squares)\n",
    "    "
   ]
  },
  {
   "cell_type": "code",
   "execution_count": 9,
   "id": "278a63da",
   "metadata": {},
   "outputs": [
    {
     "ename": "AttributeError",
     "evalue": "'int' object has no attribute 'append'",
     "output_type": "error",
     "traceback": [
      "\u001b[31m---------------------------------------------------------------------------\u001b[39m",
      "\u001b[31mAttributeError\u001b[39m                            Traceback (most recent call last)",
      "\u001b[36mCell\u001b[39m\u001b[36m \u001b[39m\u001b[32mIn[9]\u001b[39m\u001b[32m, line 5\u001b[39m\n\u001b[32m      3\u001b[39m \u001b[38;5;28;01mfor\u001b[39;00m i \u001b[38;5;129;01min\u001b[39;00m numbers:\n\u001b[32m      4\u001b[39m     squares = i**\u001b[32m2\u001b[39m                       \u001b[38;5;66;03m#run nai huva sorry for that.!!\u001b[39;00m\n\u001b[32m----> \u001b[39m\u001b[32m5\u001b[39m     \u001b[43msquares\u001b[49m\u001b[43m.\u001b[49m\u001b[43mappend\u001b[49m(squares)\n\u001b[32m      6\u001b[39m     \u001b[38;5;28mprint\u001b[39m(squares)\n",
      "\u001b[31mAttributeError\u001b[39m: 'int' object has no attribute 'append'"
     ]
    }
   ],
   "source": [
    "numbers = [2,3,4,-2,10]\n",
    "squares = []\n",
    "for i in numbers:\n",
    "    squares = i**2                       #run nai huva sorry for that.!!\n",
    "    squares.append(squares)\n",
    "    print(squares)\n"
   ]
  },
  {
   "cell_type": "code",
   "execution_count": 10,
   "id": "f0a2128a",
   "metadata": {},
   "outputs": [
    {
     "name": "stdout",
     "output_type": "stream",
     "text": [
      "samir\n",
      "ram\n",
      "shyam\n",
      "jenny\n",
      "hey , its me\n",
      "ram\n",
      "shyam\n"
     ]
    }
   ],
   "source": [
    "#part[1]\n",
    "names=['samir','ram','shyam']\n",
    "for i in names:\n",
    "    print(i)                         #part 1,2 mai sirf indent ka matter se output alag aaya !!\n",
    "if i == \"samir\":\n",
    "    print(\"hey,its me\")\n",
    "\n",
    "\n",
    "\n",
    "#-part[2]\n",
    "names = [\"jenny\",\"ram\",\"shyam\"]\n",
    "for i in names:\n",
    "    print(i)\n",
    "    if i==\"jenny\":\n",
    "        print(\"hey , its me\")"
   ]
  },
  {
   "cell_type": "code",
   "execution_count": 11,
   "id": "c0cdf04c",
   "metadata": {},
   "outputs": [
    {
     "name": "stdout",
     "output_type": "stream",
     "text": [
      "red\n",
      "r\n",
      "e\n",
      "d\n",
      "green\n",
      "g\n",
      "r\n",
      "e\n",
      "e\n",
      "n\n",
      "blue\n",
      "b\n",
      "l\n",
      "u\n",
      "e\n",
      "yellow\n",
      "y\n",
      "e\n",
      "l\n",
      "l\n",
      "o\n",
      "w\n"
     ]
    }
   ],
   "source": [
    "colors=[\"red\",\"green\",\"blue\",\"yellow\"]\n",
    "for color in colors:\n",
    "    print(color)\n",
    "    for i in color:\n",
    "        print(i)"
   ]
  },
  {
   "cell_type": "code",
   "execution_count": 12,
   "id": "2dc03758",
   "metadata": {},
   "outputs": [
    {
     "name": "stdout",
     "output_type": "stream",
     "text": [
      "22\n",
      "21\n",
      "64\n",
      "23\n",
      "233\n",
      "23\n",
      "6\n"
     ]
    }
   ],
   "source": [
    "# items=[int,float,\"harry\",5,3,22,21,64,23,233,23,6]\n",
    "# for item in items:\n",
    "#     if str(item) is numaric() and item>=6:                #error program\n",
    "#         print(item)\n",
    "\n",
    "#Fix this program\n",
    "\n",
    "items = [int, float, \"harry\", 5, 3, 22, 21, 64, 23, 233, 23, 6]   #class aur function ka mamala hai badame dejhenge......!\n",
    "\n",
    "for item in items:\n",
    "    if isinstance(item, (int, float)) and item >= 6:\n",
    "        print(item)\n"
   ]
  },
  {
   "cell_type": "code",
   "execution_count": 13,
   "id": "d0eaf1b4",
   "metadata": {},
   "outputs": [
    {
     "ename": "KeyboardInterrupt",
     "evalue": "Interrupted by user",
     "output_type": "error",
     "traceback": [
      "\u001b[31m---------------------------------------------------------------------------\u001b[39m",
      "\u001b[31mKeyboardInterrupt\u001b[39m                         Traceback (most recent call last)",
      "\u001b[36mCell\u001b[39m\u001b[36m \u001b[39m\u001b[32mIn[13]\u001b[39m\u001b[32m, line 2\u001b[39m\n\u001b[32m      1\u001b[39m \u001b[38;5;66;03m#i made this program....!!\u001b[39;00m\n\u001b[32m----> \u001b[39m\u001b[32m2\u001b[39m i=(\u001b[38;5;28;43minput\u001b[39;49m\u001b[43m(\u001b[49m\u001b[33;43m\"\u001b[39;49m\u001b[33;43mEnter a number:\u001b[39;49m\u001b[33;43m\"\u001b[39;49m\u001b[43m)\u001b[49m)\n\u001b[32m      3\u001b[39m \u001b[38;5;28;01mfor\u001b[39;00m a \u001b[38;5;129;01min\u001b[39;00m \u001b[38;5;28mrange\u001b[39m(\u001b[32m1\u001b[39m,\u001b[32m11\u001b[39m):\n\u001b[32m      4\u001b[39m     \u001b[38;5;28mprint\u001b[39m(\u001b[33m'\u001b[39m\u001b[33mperformance\u001b[39m\u001b[33m'\u001b[39m,i*a)\n",
      "\u001b[36mFile \u001b[39m\u001b[32m~\\AppData\\Roaming\\Python\\Python313\\site-packages\\ipykernel\\kernelbase.py:1282\u001b[39m, in \u001b[36mKernel.raw_input\u001b[39m\u001b[34m(self, prompt)\u001b[39m\n\u001b[32m   1280\u001b[39m     msg = \u001b[33m\"\u001b[39m\u001b[33mraw_input was called, but this frontend does not support input requests.\u001b[39m\u001b[33m\"\u001b[39m\n\u001b[32m   1281\u001b[39m     \u001b[38;5;28;01mraise\u001b[39;00m StdinNotImplementedError(msg)\n\u001b[32m-> \u001b[39m\u001b[32m1282\u001b[39m \u001b[38;5;28;01mreturn\u001b[39;00m \u001b[38;5;28;43mself\u001b[39;49m\u001b[43m.\u001b[49m\u001b[43m_input_request\u001b[49m\u001b[43m(\u001b[49m\n\u001b[32m   1283\u001b[39m \u001b[43m    \u001b[49m\u001b[38;5;28;43mstr\u001b[39;49m\u001b[43m(\u001b[49m\u001b[43mprompt\u001b[49m\u001b[43m)\u001b[49m\u001b[43m,\u001b[49m\n\u001b[32m   1284\u001b[39m \u001b[43m    \u001b[49m\u001b[38;5;28;43mself\u001b[39;49m\u001b[43m.\u001b[49m\u001b[43m_parent_ident\u001b[49m\u001b[43m[\u001b[49m\u001b[33;43m\"\u001b[39;49m\u001b[33;43mshell\u001b[39;49m\u001b[33;43m\"\u001b[39;49m\u001b[43m]\u001b[49m\u001b[43m,\u001b[49m\n\u001b[32m   1285\u001b[39m \u001b[43m    \u001b[49m\u001b[38;5;28;43mself\u001b[39;49m\u001b[43m.\u001b[49m\u001b[43mget_parent\u001b[49m\u001b[43m(\u001b[49m\u001b[33;43m\"\u001b[39;49m\u001b[33;43mshell\u001b[39;49m\u001b[33;43m\"\u001b[39;49m\u001b[43m)\u001b[49m\u001b[43m,\u001b[49m\n\u001b[32m   1286\u001b[39m \u001b[43m    \u001b[49m\u001b[43mpassword\u001b[49m\u001b[43m=\u001b[49m\u001b[38;5;28;43;01mFalse\u001b[39;49;00m\u001b[43m,\u001b[49m\n\u001b[32m   1287\u001b[39m \u001b[43m\u001b[49m\u001b[43m)\u001b[49m\n",
      "\u001b[36mFile \u001b[39m\u001b[32m~\\AppData\\Roaming\\Python\\Python313\\site-packages\\ipykernel\\kernelbase.py:1325\u001b[39m, in \u001b[36mKernel._input_request\u001b[39m\u001b[34m(self, prompt, ident, parent, password)\u001b[39m\n\u001b[32m   1322\u001b[39m \u001b[38;5;28;01mexcept\u001b[39;00m \u001b[38;5;167;01mKeyboardInterrupt\u001b[39;00m:\n\u001b[32m   1323\u001b[39m     \u001b[38;5;66;03m# re-raise KeyboardInterrupt, to truncate traceback\u001b[39;00m\n\u001b[32m   1324\u001b[39m     msg = \u001b[33m\"\u001b[39m\u001b[33mInterrupted by user\u001b[39m\u001b[33m\"\u001b[39m\n\u001b[32m-> \u001b[39m\u001b[32m1325\u001b[39m     \u001b[38;5;28;01mraise\u001b[39;00m \u001b[38;5;167;01mKeyboardInterrupt\u001b[39;00m(msg) \u001b[38;5;28;01mfrom\u001b[39;00m\u001b[38;5;250m \u001b[39m\u001b[38;5;28;01mNone\u001b[39;00m\n\u001b[32m   1326\u001b[39m \u001b[38;5;28;01mexcept\u001b[39;00m \u001b[38;5;167;01mException\u001b[39;00m:\n\u001b[32m   1327\u001b[39m     \u001b[38;5;28mself\u001b[39m.log.warning(\u001b[33m\"\u001b[39m\u001b[33mInvalid Message:\u001b[39m\u001b[33m\"\u001b[39m, exc_info=\u001b[38;5;28;01mTrue\u001b[39;00m)\n",
      "\u001b[31mKeyboardInterrupt\u001b[39m: Interrupted by user"
     ]
    }
   ],
   "source": [
    "#i made this program....!!\n",
    "i=(input(\"Enter a number:\"))\n",
    "for a in range(1,11):\n",
    "    print('performance',i*a)"
   ]
  },
  {
   "cell_type": "code",
   "execution_count": 14,
   "id": "a927ca53",
   "metadata": {},
   "outputs": [
    {
     "ename": "IndentationError",
     "evalue": "unexpected indent (1365508919.py, line 1)",
     "output_type": "error",
     "traceback": [
      "  \u001b[36mCell\u001b[39m\u001b[36m \u001b[39m\u001b[32mIn[14]\u001b[39m\u001b[32m, line 1\u001b[39m\n\u001b[31m    \u001b[39m\u001b[31mlanguage = ['swift','python','go','javascript']\u001b[39m\n    ^\n\u001b[31mIndentationError\u001b[39m\u001b[31m:\u001b[39m unexpected indent\n"
     ]
    }
   ],
   "source": [
    "    language = ['swift','python','go','javascript']\n",
    "for languages in language:\n",
    "    print(languages)\n",
    "    "
   ]
  },
  {
   "cell_type": "code",
   "execution_count": 15,
   "id": "dfc18772",
   "metadata": {},
   "outputs": [
    {
     "ename": "ValueError",
     "evalue": "invalid literal for int() with base 10: ''",
     "output_type": "error",
     "traceback": [
      "\u001b[31m---------------------------------------------------------------------------\u001b[39m",
      "\u001b[31mValueError\u001b[39m                                Traceback (most recent call last)",
      "\u001b[36mCell\u001b[39m\u001b[36m \u001b[39m\u001b[32mIn[15]\u001b[39m\u001b[32m, line 1\u001b[39m\n\u001b[32m----> \u001b[39m\u001b[32m1\u001b[39m a=\u001b[38;5;28;43mint\u001b[39;49m\u001b[43m(\u001b[49m\u001b[38;5;28;43minput\u001b[39;49m\u001b[43m(\u001b[49m\u001b[33;43m\"\u001b[39;49m\u001b[33;43mEnter a number:\u001b[39;49m\u001b[33;43m\"\u001b[39;49m\u001b[43m)\u001b[49m\u001b[43m)\u001b[49m      \u001b[38;5;66;03m# int lavalyavar uotput......!\u001b[39;00m\n\u001b[32m      2\u001b[39m \u001b[38;5;28;01mfor\u001b[39;00m b \u001b[38;5;129;01min\u001b[39;00m \u001b[38;5;28mrange\u001b[39m(\u001b[32m1\u001b[39m,\u001b[32m11\u001b[39m):\n\u001b[32m      3\u001b[39m     \u001b[38;5;28mprint\u001b[39m(b*a)\n",
      "\u001b[31mValueError\u001b[39m: invalid literal for int() with base 10: ''"
     ]
    }
   ],
   "source": [
    "a=int(input(\"Enter a number:\"))      # int lavalyavar uotput......!\n",
    "for b in range(1,11):\n",
    "    print(b*a)\n",
    "\n",
    "\n",
    "# #Enter a number: 3\n",
    "# 3\n",
    "# 6\n",
    "# 9\n",
    "# 12\n",
    "# 15\n",
    "# 18\n",
    "# 21\n",
    "# 24\n",
    "# 27\n",
    "# 30\n",
    "\n",
    "part[2]\n",
    "i=(input(\"Enter a number:\"))\n",
    "for a in range(1,11):                       # int nahi  lavalyavar uotput......!\n",
    "    print('performance',i*a)\n",
    "\n",
    "\n",
    "# #oputut-\n",
    "# Enter a number: 3\n",
    "# performance 3\n",
    "# performance 33\n",
    "# performance 333\n",
    "# performance 3333\n",
    "# performance 33333\n",
    "# performance 333333\n",
    "# performance 3333333\n",
    "# performance 33333333\n",
    "# performance 333333333\n",
    "# performance 3333333333\n"
   ]
  },
  {
   "cell_type": "code",
   "execution_count": 16,
   "id": "88385f21",
   "metadata": {},
   "outputs": [
    {
     "ename": "ValueError",
     "evalue": "invalid literal for int() with base 10: ''",
     "output_type": "error",
     "traceback": [
      "\u001b[31m---------------------------------------------------------------------------\u001b[39m",
      "\u001b[31mValueError\u001b[39m                                Traceback (most recent call last)",
      "\u001b[36mCell\u001b[39m\u001b[36m \u001b[39m\u001b[32mIn[16]\u001b[39m\u001b[32m, line 1\u001b[39m\n\u001b[32m----> \u001b[39m\u001b[32m1\u001b[39m user_input=\u001b[38;5;28;43mint\u001b[39;49m\u001b[43m(\u001b[49m\u001b[38;5;28;43minput\u001b[39;49m\u001b[43m(\u001b[49m\u001b[33;43m\"\u001b[39;49m\u001b[33;43mEnter the number :\u001b[39;49m\u001b[33;43m\"\u001b[39;49m\u001b[43m)\u001b[49m\u001b[43m)\u001b[49m\n\u001b[32m      2\u001b[39m \u001b[38;5;28;01mfor\u001b[39;00m  number \u001b[38;5;129;01min\u001b[39;00m \u001b[38;5;28mrange\u001b[39m(\u001b[32m1\u001b[39m,\u001b[32m11\u001b[39m):                          \u001b[38;5;66;03m#very imp program..!!\u001b[39;00m\n\u001b[32m      3\u001b[39m     \u001b[38;5;28mprint\u001b[39m(user_input*number)\n",
      "\u001b[31mValueError\u001b[39m: invalid literal for int() with base 10: ''"
     ]
    }
   ],
   "source": [
    "user_input=int(input(\"Enter the number :\"))\n",
    "for  number in range(1,11):                          #very imp program..!!\n",
    "    print(user_input*number)"
   ]
  },
  {
   "cell_type": "code",
   "execution_count": 17,
   "id": "44042864",
   "metadata": {},
   "outputs": [
    {
     "ename": "TypeError",
     "evalue": "'list' object is not callable",
     "output_type": "error",
     "traceback": [
      "\u001b[31m---------------------------------------------------------------------------\u001b[39m",
      "\u001b[31mTypeError\u001b[39m                                 Traceback (most recent call last)",
      "\u001b[36mCell\u001b[39m\u001b[36m \u001b[39m\u001b[32mIn[17]\u001b[39m\u001b[32m, line 13\u001b[39m\n\u001b[32m     10\u001b[39m mapped = \u001b[38;5;28mzip\u001b[39m(name, roll_no, marks)\n\u001b[32m     12\u001b[39m \u001b[38;5;66;03m# converting values to print as list\u001b[39;00m\n\u001b[32m---> \u001b[39m\u001b[32m13\u001b[39m mapped = \u001b[38;5;28;43mlist\u001b[39;49m\u001b[43m(\u001b[49m\u001b[43mmapped\u001b[49m\u001b[43m)\u001b[49m\n\u001b[32m     15\u001b[39m \u001b[38;5;66;03m# printing resultant values\u001b[39;00m\n\u001b[32m     16\u001b[39m \u001b[38;5;28mprint\u001b[39m(\u001b[33m\"\u001b[39m\u001b[33mThe zipped result is : \u001b[39m\u001b[33m\"\u001b[39m, end=\u001b[33m\"\u001b[39m\u001b[33m\"\u001b[39m)\n",
      "\u001b[31mTypeError\u001b[39m: 'list' object is not callable"
     ]
    }
   ],
   "source": [
    "# Python code to demonstrate the working of\n",
    "# unzip\n",
    "\n",
    "# initializing lists\n",
    "name = [\"Manjeet\", \"Nikhil\", \"Shambhavi\", \"Astha\"]\n",
    "roll_no = [4, 1, 3, 2]\n",
    "marks = [40, 50, 60, 70]\n",
    "\n",
    "# using zip() to map values\n",
    "mapped = zip(name, roll_no, marks)\n",
    "\n",
    "# converting values to print as list\n",
    "mapped = list(mapped)\n",
    "\n",
    "# printing resultant values\n",
    "print(\"The zipped result is : \", end=\"\")\n",
    "print(mapped)\n",
    "\n",
    "print(\"\\n\")\n",
    "\n",
    "# unzipping values\n",
    "namz, roll_noz, marksz = zip(*mapped)\n",
    "\n",
    "print(\"The unzipped result: \\n\", end=\"\")\n",
    "\n",
    "print(\"The name list is : \", end=\"\")\n",
    "print(namz)\n",
    "\n",
    "print(\"The roll_no list is : \", end=\"\")\n",
    "print(roll_noz)\n",
    "\n",
    "print(\"The marks list is : \", end=\"\")\n",
    "print(marksz)\n",
    "\n",
    "\n",
    "\n",
    "#simple type pe vistar kiya hai niche no tention\n",
    "a=[\"AB\", \"CD\", \"EF\", \"GH\"]\n",
    "b=[1,2,3,4]\n",
    "c=[40, 50, 60, 70]\n",
    "\n",
    "\n",
    "x=zip(a,b,c)     #sab a,b,c zip() kar \n",
    "x=list(x)        #zip kiye huve vairables list type ke kar \n",
    "\n",
    "\n",
    "print(\"the zipped result is:\",end=\" \") # adda type kar jo likha hai o!!\n",
    "print(x)                               #zip zur list kiye huye sab garbage print kar!!\n",
    "print(\"\\n\")\n",
    "\n",
    "az,bz,cz = zip (*x)                    #az,bz,cz, mai zip kar ke ek variable dal.!\n",
    " \n",
    "\n",
    "print('Unziped: \\n',end=\"\")          #jo likha hai o print kar...!      \n",
    "\n",
    "\n",
    "print('a list is',end=\" \")\n",
    "print(az)                            \n",
    "\n",
    "\n",
    "print(\"b list is\",end=\" \")\n",
    "print(bz)\n",
    "\n",
    "\n",
    "print(\"c list is\",end=\" \")\n",
    "print(cz)\n",
    "\n"
   ]
  },
  {
   "cell_type": "code",
   "execution_count": null,
   "id": "29f16206",
   "metadata": {},
   "outputs": [],
   "source": []
  },
  {
   "cell_type": "code",
   "execution_count": null,
   "id": "837baa54",
   "metadata": {},
   "outputs": [],
   "source": []
  },
  {
   "cell_type": "code",
   "execution_count": null,
   "id": "ab4fd23c",
   "metadata": {},
   "outputs": [],
   "source": []
  },
  {
   "cell_type": "code",
   "execution_count": null,
   "id": "5b04493e",
   "metadata": {},
   "outputs": [],
   "source": []
  },
  {
   "cell_type": "code",
   "execution_count": null,
   "id": "f45adcf7",
   "metadata": {},
   "outputs": [],
   "source": []
  },
  {
   "cell_type": "code",
   "execution_count": null,
   "metadata": {},
   "outputs": [],
   "source": []
  },
  {
   "cell_type": "code",
   "execution_count": null,
   "id": "63a0771b",
   "metadata": {},
   "outputs": [],
   "source": []
  }
 ],
 "metadata": {
  "kernelspec": {
   "display_name": "Python 3",
   "language": "python",
   "name": "python3"
  },
  "language_info": {
   "codemirror_mode": {
    "name": "ipython",
    "version": 3
   },
   "file_extension": ".py",
   "mimetype": "text/x-python",
   "name": "python",
   "nbconvert_exporter": "python",
   "pygments_lexer": "ipython3",
   "version": "3.13.3"
  }
 },
 "nbformat": 4,
 "nbformat_minor": 5
}
