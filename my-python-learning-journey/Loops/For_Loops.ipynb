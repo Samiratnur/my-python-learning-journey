{
 "cells": [
  {
   "cell_type": "code",
   "execution_count": 1,
   "id": "e188e4bc",
   "metadata": {},
   "outputs": [
    {
     "name": "stdout",
     "output_type": "stream",
     "text": [
      "['Geeks', 'for', 'Geeks']\n",
      "Geeks\n",
      "for\n",
      "Geeks\n"
     ]
    }
   ],
   "source": [
    "#for loop \n",
    "#[1]\n",
    "i=[\"Geeks\",\"for\",\"Geeks\"]\n",
    "print(i)              #normal output\n",
    "for i in i:           #for loop output.\n",
    "    print(i)"
   ]
  },
  {
   "cell_type": "code",
   "execution_count": 2,
   "id": "7ff30138",
   "metadata": {},
   "outputs": [
    {
     "name": "stdout",
     "output_type": "stream",
     "text": [
      "the sum of squares is :  9\n",
      "the sum of squares is :  34\n",
      "the sum of squares is :  563\n",
      "the sum of squares is :  599\n",
      "the sum of squares is :  624\n",
      "the sum of squares is :  625\n",
      "the sum of squares is :  629\n",
      "the sum of squares is :  710\n",
      "the sum of squares is :  774\n",
      "the sum of squre is: 25\n"
     ]
    }
   ],
   "source": [
    "#squares using for loop. \n",
    "numbers = [3,5,23,6,5,1,2,9,8]\n",
    "sum_=0\n",
    "for num in numbers:\n",
    "    sum_=sum_ + num**2\n",
    "    print(\"the sum of squares is : \",sum_)                              \n",
    "#_______________________________________________________________________# dono bhi program same hai niche ka simple krr ke run kiya hai.\n",
    "a=[5]   \n",
    "b=0\n",
    "for c in a:\n",
    "    b=b+c**2\n",
    "    print(\"the sum of squre is:\",b)\n",
    "    "
   ]
  },
  {
   "cell_type": "code",
   "execution_count": 3,
   "id": "386bcf35",
   "metadata": {},
   "outputs": [
    {
     "name": "stdout",
     "output_type": "stream",
     "text": [
      "the sum of sqaures: 783\n",
      "the sum of sqaures: 808\n",
      "the sum of sqaures: 1337\n",
      "the sum of sqaures: 1373\n",
      "the sum of sqaures: 1398\n",
      "the sum of sqaures: 1399\n",
      "the sum of sqaures: 1403\n",
      "the sum of sqaures: 1484\n",
      "the sum of sqaures: 1548\n"
     ]
    }
   ],
   "source": [
    "#create program using for loop and len() function.\n",
    "numbers=[3,5,23,6,5,1,2,9,8]\n",
    "sum=0\n",
    "for num in range(len(numbers)):\n",
    "    sum_=sum_+numbers[num]**2\n",
    "    print(\"the sum of sqaures:\",sum_)\n",
    "    "
   ]
  },
  {
   "cell_type": "code",
   "execution_count": 4,
   "id": "dc7a3cbd",
   "metadata": {},
   "outputs": [
    {
     "name": "stdout",
     "output_type": "stream",
     "text": [
      "Dictionary iteration\n",
      "xyz 123 \n",
      "abc 345 \n",
      "sam 123\n",
      "sham 345\n"
     ]
    }
   ],
   "source": [
    "#\n",
    "print(\"Dictionary iteration\")\n",
    "d=dict()\n",
    "d['xyz']=123\n",
    "d['abc']=345                              #explain rhehe gaya hai..\n",
    "for i in d:\n",
    "    print(\"%s %d \" %(i,d[i]))\n",
    "\n",
    "\n",
    "#____________________________________________________\n",
    "a=dict()\n",
    "a['sam']=123                                         #as posible simple upar program ka. \n",
    "a['sham']=345\n",
    "for i in a:\n",
    "    print(\"%s %d\"%(i,a[i]))\n",
    "    "
   ]
  },
  {
   "cell_type": "code",
   "execution_count": 5,
   "id": "6371bf93",
   "metadata": {},
   "outputs": [
    {
     "name": "stdout",
     "output_type": "stream",
     "text": [
      "b a n a n a _ p y t h o n "
     ]
    }
   ],
   "source": [
    "for  i in \"banana_\":\n",
    "    print(i,end=\" \")\n",
    "for x in \"python\":\n",
    "    print(x,end=\" \")"
   ]
  },
  {
   "cell_type": "code",
   "execution_count": 6,
   "id": "556e6678",
   "metadata": {},
   "outputs": [
    {
     "name": "stdout",
     "output_type": "stream",
     "text": [
      "0\n",
      "1\n",
      "2\n",
      "3\n"
     ]
    }
   ],
   "source": [
    "values=range(4)\n",
    "for i in values:\n",
    "    print(i)"
   ]
  },
  {
   "cell_type": "code",
   "execution_count": 7,
   "id": "6e7f68ac",
   "metadata": {},
   "outputs": [
    {
     "name": "stdout",
     "output_type": "stream",
     "text": [
      "hello\n",
      "hi\n",
      "hello\n",
      "hi\n",
      "hello\n",
      "hi\n",
      "hello\n",
      "hi\n",
      "\n",
      "\n",
      "hello\n",
      "hi\n",
      "hello\n",
      "hi\n",
      "hello\n",
      "hi\n",
      "hello\n",
      "hi\n"
     ]
    }
   ],
   "source": [
    "#using a for loop without accesing items.\n",
    "languages=['swift','java','python','go']\n",
    "for language in languages:                   \n",
    "    print('hello')\n",
    "    print('hi')\n",
    "\n",
    "#________________________________\n",
    "print(\"\\n\")\n",
    "languages=['swift','java','python','go']\n",
    "for _ in languages:                               # for loop mai i value nahi di gayi.\n",
    "    print('hello')\n",
    "    print('hi')"
   ]
  },
  {
   "cell_type": "code",
   "execution_count": 8,
   "metadata": {},
   "outputs": [
    {
     "name": "stdout",
     "output_type": "stream",
     "text": [
      "0\n",
      "1\n",
      "2\n",
      "3\n",
      "4\n",
      "5\n",
      "finally finished\n"
     ]
    }
   ],
   "source": [
    "#for loop with *****else****\n",
    "for i in range(6):\n",
    "    print(i)\n",
    "else:\n",
    "    print('finally finished')"
   ]
  },
  {
   "cell_type": "code",
   "execution_count": 9,
   "id": "eead23d8",
   "metadata": {},
   "outputs": [
    {
     "name": "stdout",
     "output_type": "stream",
     "text": [
      "0\n",
      "1\n",
      "5\n",
      "<class 'list'>\n"
     ]
    }
   ],
   "source": [
    "digit = [0,1,5]#list in for loop\n",
    "for i in digit:\n",
    "    print(i)\n",
    "print(type(digit))    "
   ]
  },
  {
   "cell_type": "code",
   "execution_count": 10,
   "metadata": {},
   "outputs": [
    {
     "name": "stdout",
     "output_type": "stream",
     "text": [
      "1\n",
      "2\n",
      "3\n",
      "no break\n",
      "\n"
     ]
    }
   ],
   "source": [
    "for i in range(1,4):\n",
    "    print(i)\n",
    "else:\n",
    "    print(\"no break\\n\")"
   ]
  },
  {
   "cell_type": "code",
   "execution_count": 11,
   "id": "4b50534a",
   "metadata": {},
   "outputs": [
    {
     "name": "stdout",
     "output_type": "stream",
     "text": [
      "apple is red\n",
      "banana is yellow\n",
      "cherry is green\n"
     ]
    }
   ],
   "source": [
    "#for loopwith zip()\n",
    "fruits = [\"apple\",\"banana\",\"cherry\"]\n",
    "colors = ['red','yellow','green']\n",
    "for fruit, color in zip(fruits,colors):               #imp program.\n",
    "    print(fruit,\"is\",color)"
   ]
  },
  {
   "cell_type": "code",
   "execution_count": 12,
   "id": "965246c7",
   "metadata": {},
   "outputs": [
    {
     "name": "stdout",
     "output_type": "stream",
     "text": [
      "0 Mukesh 24\n",
      "1 Roni 50\n",
      "2 Chari 18\n"
     ]
    }
   ],
   "source": [
    "#Python zip() with enumerate\n",
    "names = ['Mukesh', 'Roni', 'Chari']\n",
    "ages = [24, 50, 18]\n",
    "\n",
    "for i, (name, age) in enumerate(zip(names, ages)):\n",
    "\tprint(i, name, age)\n"
   ]
  },
  {
   "cell_type": "code",
   "execution_count": 13,
   "id": "94d7c867",
   "metadata": {},
   "outputs": [
    {
     "name": "stdout",
     "output_type": "stream",
     "text": [
      "1 2\n",
      "3 4\n",
      "5 6\n"
     ]
    }
   ],
   "source": [
    "#for loop with tuple.\n",
    "t=((1,2),(3,4),(5,6))\n",
    "for a,b in t:\n",
    "    print(a,b)"
   ]
  },
  {
   "cell_type": "code",
   "execution_count": 14,
   "id": "6529504b",
   "metadata": {},
   "outputs": [
    {
     "name": "stdout",
     "output_type": "stream",
     "text": [
      "['harry', 1]\n",
      "['larry', 2]\n",
      "['carry', 6]\n",
      "['marry', 250]\n"
     ]
    }
   ],
   "source": [
    "#list of list\n",
    "list1=[[\"harry\",1],[\"larry\",2],           \n",
    "      [\"carry\",6],[\"marry\",250]]\n",
    "for item in list1:\n",
    "    print(item)\n",
    "      "
   ]
  },
  {
   "cell_type": "code",
   "execution_count": 15,
   "id": "a27e4fa0",
   "metadata": {},
   "outputs": [
    {
     "ename": "ValueError",
     "evalue": "invalid literal for int() with base 10: ''",
     "output_type": "error",
     "traceback": [
      "\u001b[31m---------------------------------------------------------------------------\u001b[39m",
      "\u001b[31mValueError\u001b[39m                                Traceback (most recent call last)",
      "\u001b[36mCell\u001b[39m\u001b[36m \u001b[39m\u001b[32mIn[15]\u001b[39m\u001b[32m, line 1\u001b[39m\n\u001b[32m----> \u001b[39m\u001b[32m1\u001b[39m user_input=\u001b[38;5;28;43mint\u001b[39;49m\u001b[43m(\u001b[49m\u001b[38;5;28;43minput\u001b[39;49m\u001b[43m(\u001b[49m\u001b[33;43m\"\u001b[39;49m\u001b[33;43mEnter the number :\u001b[39;49m\u001b[33;43m\"\u001b[39;49m\u001b[43m)\u001b[49m\u001b[43m)\u001b[49m\n\u001b[32m      2\u001b[39m \u001b[38;5;28;01mfor\u001b[39;00m  number \u001b[38;5;129;01min\u001b[39;00m \u001b[38;5;28mrange\u001b[39m(\u001b[32m1\u001b[39m,\u001b[32m11\u001b[39m):                          \u001b[38;5;66;03m#very imp program..!!\u001b[39;00m\n\u001b[32m      3\u001b[39m     \u001b[38;5;28mprint\u001b[39m(user_input*number)\n",
      "\u001b[31mValueError\u001b[39m: invalid literal for int() with base 10: ''"
     ]
    }
   ],
   "source": [
    "user_input=int(input(\"Enter the number :\"))\n",
    "for  number in range(1,11):                          #very imp program..!!\n",
    "    print(user_input*number)"
   ]
  },
  {
   "cell_type": "code",
   "execution_count": 16,
   "id": "a9f7467e",
   "metadata": {},
   "outputs": [
    {
     "name": "stdout",
     "output_type": "stream",
     "text": [
      "swift\n",
      "python\n",
      "go\n",
      "javascript\n"
     ]
    }
   ],
   "source": [
    "language = ['swift','python','go','javascript']\n",
    "for languages in language:\n",
    "    print(languages)\n",
    "    "
   ]
  },
  {
   "cell_type": "code",
   "execution_count": 17,
   "id": "d72fa4bd",
   "metadata": {},
   "outputs": [
    {
     "ename": "SyntaxError",
     "evalue": "invalid syntax (298304352.py, line 3)",
     "output_type": "error",
     "traceback": [
      "  \u001b[36mCell\u001b[39m\u001b[36m \u001b[39m\u001b[32mIn[17]\u001b[39m\u001b[32m, line 3\u001b[39m\n\u001b[31m    \u001b[39m\u001b[31mif str(item).is numaric() and item>=6:             #not run this time..!!\u001b[39m\n                 ^\n\u001b[31mSyntaxError\u001b[39m\u001b[31m:\u001b[39m invalid syntax\n"
     ]
    }
   ],
   "source": [
    "items=[int,float,\"harry\",5,3,22,21,64,23,233,23,6]\n",
    "for item in items:\n",
    "    if str(item).is numaric() and item>=6:             #not run this time..!!\n",
    "        print(item)"
   ]
  },
  {
   "cell_type": "code",
   "execution_count": 18,
   "id": "5394cdfa",
   "metadata": {},
   "outputs": [
    {
     "name": "stdout",
     "output_type": "stream",
     "text": [
      "['harry', 1]\n",
      "['larry', 2]\n",
      "['carry', 3]\n",
      "['marry', 4]\n"
     ]
    }
   ],
   "source": [
    "list = [\"harry\",1],[\"larry\",2],[\"carry\",3],[\"marry\",4]\n",
    "for i in list:\n",
    "    print(i)"
   ]
  },
  {
   "cell_type": "code",
   "execution_count": null,
   "id": "d6c54aa6",
   "metadata": {},
   "outputs": [],
   "source": []
  },
  {
   "cell_type": "code",
   "execution_count": null,
   "id": "63a0771b",
   "metadata": {},
   "outputs": [],
   "source": []
  }
 ],
 "metadata": {
  "kernelspec": {
   "display_name": "Python 3",
   "language": "python",
   "name": "python3"
  },
  "language_info": {
   "codemirror_mode": {
    "name": "ipython",
    "version": 3
   },
   "file_extension": ".py",
   "mimetype": "text/x-python",
   "name": "python",
   "nbconvert_exporter": "python",
   "pygments_lexer": "ipython3",
   "version": "3.13.3"
  }
 },
 "nbformat": 4,
 "nbformat_minor": 5
}
