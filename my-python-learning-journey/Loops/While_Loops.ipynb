{
 "cells": [
  {
   "cell_type": "code",
   "execution_count": 2,
   "id": "46392f45",
   "metadata": {},
   "outputs": [],
   "source": [
    "a=5\n",
    "while (0>5):\n",
    "    print(a)\n",
    "    a=a-1"
   ]
  },
  {
   "cell_type": "code",
   "execution_count": 3,
   "id": "1fb08d93",
   "metadata": {},
   "outputs": [
    {
     "name": "stdout",
     "output_type": "stream",
     "text": [
      "1\n",
      "2\n",
      "3\n",
      "4\n",
      "5\n",
      "6\n",
      "7\n",
      "8\n",
      "9\n",
      "10\n",
      "end\n"
     ]
    }
   ],
   "source": [
    "a=1\n",
    "b=10\n",
    "while a<=b:\n",
    "     print(a)\n",
    "     a=a+1\n",
    "else:\n",
    "    print(\"end\")    "
   ]
  },
  {
   "cell_type": "code",
   "execution_count": null,
   "id": "641fb9ec",
   "metadata": {},
   "outputs": [],
   "source": [
    "a=(input(\"enter a numm:\"))\n",
    "while a != -1:\n",
    "    a=(input(\"enter a numm:\"))\n",
    "       \n",
    "    "
   ]
  },
  {
   "cell_type": "code",
   "execution_count": null,
   "id": "4a17fc0f",
   "metadata": {},
   "outputs": [],
   "source": [
    "i = 1\n",
    "while i<6:\n",
    "    i = i+1 \n",
    "    print(i)\n",
    "else:\n",
    "    print (\"i is no longer than 6\")"
   ]
  },
  {
   "cell_type": "code",
   "execution_count": null,
   "id": "ce800e18",
   "metadata": {},
   "outputs": [],
   "source": [
    "s=['ref','tgff','rggfrfe','grff']\n",
    "d=0\n",
    "while d<len(s):\n",
    "    element=len(d[s])\n",
    "    print(len(element))\n",
    "    d+=1  \n",
    "    \n"
   ]
  },
  {
   "cell_type": "code",
   "execution_count": null,
   "id": "5e9ea7be",
   "metadata": {},
   "outputs": [],
   "source": [
    "list_=['rwfgfwd','gfdsvcbhg''gfhy','jyhbtgujyh']\n",
    "z=0\n",
    "while z<len(list_):\n",
    "    element=len(list_[z])\n",
    "    print(element)\n",
    "    z+=1"
   ]
  },
  {
   "cell_type": "code",
   "execution_count": 1,
   "id": "e1d26c28",
   "metadata": {},
   "outputs": [
    {
     "name": "stdout",
     "output_type": "stream",
     "text": [
      "number of iterations : 0\n",
      "number of iterations : 1\n",
      "number of iterations : 2\n",
      "number of iterations : 3\n",
      "(15, 15)\n",
      "(13, 18)\n",
      "(11, 21)\n",
      "(9, 24)\n",
      "(7, 27)\n",
      "(5, 30)\n"
     ]
    },
    {
     "ename": "TypeError",
     "evalue": "len() takes exactly one argument (2 given)",
     "output_type": "error",
     "traceback": [
      "\u001b[31m---------------------------------------------------------------------------\u001b[39m",
      "\u001b[31mTypeError\u001b[39m                                 Traceback (most recent call last)",
      "\u001b[36mCell\u001b[39m\u001b[36m \u001b[39m\u001b[32mIn[1]\u001b[39m\u001b[32m, line 22\u001b[39m\n\u001b[32m     20\u001b[39m list_=[\u001b[32m3\u001b[39m,\u001b[32m4\u001b[39m,\u001b[32m8\u001b[39m,\u001b[32m10\u001b[39m,\u001b[32m34\u001b[39m,\u001b[32m45\u001b[39m,\u001b[32m67\u001b[39m,\u001b[32m80\u001b[39m]\n\u001b[32m     21\u001b[39m index = \u001b[32m0\u001b[39m\n\u001b[32m---> \u001b[39m\u001b[32m22\u001b[39m \u001b[38;5;28;01mwhile\u001b[39;00m index < \u001b[38;5;28;43mlen\u001b[39;49m\u001b[43m \u001b[49m\u001b[43m(\u001b[49m\u001b[43mlist_\u001b[49m\u001b[43m,\u001b[49m\u001b[43m[\u001b[49m\u001b[43mindex\u001b[49m\u001b[43m]\u001b[49m\u001b[43m)\u001b[49m:\n\u001b[32m     23\u001b[39m     element = list_[index]\n\u001b[32m     24\u001b[39m     \u001b[38;5;28;01mif\u001b[39;00m element %\u001b[32m2\u001b[39m== \u001b[32m0\u001b[39m :\n",
      "\u001b[31mTypeError\u001b[39m: len() takes exactly one argument (2 given)"
     ]
    }
   ],
   "source": [
    "# multiple logical expression using while loop !!\n",
    "num1 = 9\n",
    "num2 = 14\n",
    "maximum_value = 4\n",
    "counter = 0\n",
    "while (counter < num1 or counter < num2 ) and not counter  >= maximum_value :\n",
    "    print(f\"number of iterations : {counter}\")\n",
    "    counter +=1\n",
    "    \n",
    "    ###############################\n",
    "    #while using or opreator!!!\n",
    "num1 = 17\n",
    "num2 = 12\n",
    "while num1 > 5 or num2 <-5: \n",
    "    num1 -= 2\n",
    "    num2 += 3\n",
    "    print((num1 ,num2))\n",
    "    \n",
    "    #odd and even number!!\n",
    "list_=[3,4,8,10,34,45,67,80]\n",
    "index = 0\n",
    "while index < len (list_,[index]):\n",
    "    element = list_[index]\n",
    "    if element %2== 0 :\n",
    "        print('it is an even number')                 #program i note\\write is not correct that resion this program not run!!\n",
    "    else:\n",
    "        print('it is an odd number ')\n",
    "        index +=1\n",
    "        \n",
    "        #odd and even number!!\n",
    "list_=[3,4,8,10,34,45,67,80]\n",
    "index = 0\n",
    "while index < len (list_,[index]):\n",
    "    element = list_[index]\n",
    "    if element %2== 0 :\n",
    "        print('it is an even number')                 #program i note\\write is not correct that resion this program not run!!\n",
    "    else:\n",
    "        print('it is an odd number ')\n",
    "        index +=1\n",
    "        \n",
    "        \n",
    "        \n",
    "        n= int (input())\n",
    "n1 = str(n)\n",
    "l= len (n1)\n",
    "temp = n\n",
    "s = 0\n",
    "while n  != 0 :\n",
    "    r = n% 10                                         #pahijel tase run hot nahi !!\n",
    "if s== temp:\n",
    "    print(\"it is an Armstrong number \")\n",
    "else:\n",
    "    print(\"it is not an Aemstrong number \")\n",
    "    "
   ]
  },
  {
   "cell_type": "code",
   "execution_count": null,
   "metadata": {},
   "outputs": [],
   "source": [
    "#while using or opreator!!!\n",
    "num1 = 17\n",
    "num2 = 12\n",
    "while num1 > 5 or num2 <-5: \n",
    "    num1 -= 2\n",
    "    num2 += 3\n",
    "    print((num1 ,num2))"
   ]
  },
  {
   "cell_type": "code",
   "execution_count": null,
   "id": "0ac714b4",
   "metadata": {},
   "outputs": [],
   "source": [
    "#odd and even number!!\n",
    "list_=[3,4,8,10,34,45,67,80]\n",
    "index = 0\n",
    "while index < len (list_,[index]):\n",
    "    element = list_[index]\n",
    "    if element %2== 0 :\n",
    "        print('it is an even number')                 #program i note\\write is not correct that resion this program not run!!\n",
    "    else:\n",
    "        print('it is an odd number ')\n",
    "        index +=1"
   ]
  },
  {
   "cell_type": "code",
   "execution_count": null,
   "metadata": {},
   "outputs": [],
   "source": [
    "#while loop with list!!\n",
    "list_ [ 3,5,1,4,6]\n",
    "squares = []\n",
    "while list_:\n",
    "    squares.append(list_ .pop())**2)    #program i note\\write is not correct that resion this program not run!!\n",
    "print(squares)\n"
   ]
  },
  {
   "cell_type": "code",
   "execution_count": null,
   "id": "e72616fa",
   "metadata": {},
   "outputs": [],
   "source": [
    "# Multiplication Table using while!!\n",
    "num = 21\n",
    "counter =1 \n",
    "print(\" The Multiplication Table of : \",num)\n",
    "while counter <=10:\n",
    "    ans = num * counter \n",
    "    print(num , 'x' ,counter , '=' , ans)\n",
    "    counter +=1"
   ]
  },
  {
   "cell_type": "code",
   "execution_count": null,
   "id": "7665910f",
   "metadata": {},
   "outputs": [],
   "source": [
    "n= int (input())\n",
    "n1 = str(n)\n",
    "l= len (n1)\n",
    "temp = n\n",
    "s = 0\n",
    "while n  != 0 :\n",
    "    r = n% 10                                         #pahijel tase run hot nahi !!\n",
    "if s== temp:\n",
    "    print(\"it is an Armstrong number \")\n",
    "else:\n",
    "    print(\"it is not an Aemstrong number \")\n",
    "    "
   ]
  },
  {
   "cell_type": "code",
   "execution_count": null,
   "id": "41084c07",
   "metadata": {},
   "outputs": [],
   "source": [
    "i = 1\n",
    "while i <51:\n",
    "    if i%5 == 0 or i % 7 == 0:       #run  naai hora dekha jayega !!\n",
    "        \n",
    "        print (i,end = '  ')\n",
    "        i+= 1"
   ]
  },
  {
   "cell_type": "code",
   "execution_count": null,
   "id": "6e277138",
   "metadata": {},
   "outputs": [],
   "source": [
    "#Saqure root nikalana using while loop !!\n",
    "num = 15\n",
    "summation =0 \n",
    "c = 1\n",
    "while c <= num :\n",
    "    summation = c**2 + summation \n",
    "    c = c+1\n",
    "    print (\"The sum of squares is \", summation)\n",
    "                    "
   ]
  },
  {
   "cell_type": "code",
   "execution_count": null,
   "metadata": {},
   "outputs": [],
   "source": [
    "num1 = 9\n",
    "num2 = 14\n",
    "maximum_value = 4\n",
    "counter = 0\n",
    "while (counter < num1 or counter < num2 ) and not counter  >= maximum_value :\n",
    "    print(f\"number of iterations : {counter}\")\n",
    "    counter +=1"
   ]
  },
  {
   "cell_type": "code",
   "execution_count": null,
   "id": "c8546ac1",
   "metadata": {},
   "outputs": [],
   "source": [
    "a=[1,2,3,45,5]\n",
    "while a:\n",
    "    print(a.pop())"
   ]
  },
  {
   "cell_type": "code",
   "execution_count": null,
   "metadata": {},
   "outputs": [],
   "source": []
  },
  {
   "cell_type": "code",
   "execution_count": null,
   "id": "4718fb74",
   "metadata": {},
   "outputs": [],
   "source": []
  },
  {
   "cell_type": "code",
   "execution_count": null,
   "metadata": {},
   "outputs": [],
   "source": []
  },
  {
   "cell_type": "code",
   "execution_count": null,
   "id": "9e4419eb",
   "metadata": {},
   "outputs": [],
   "source": []
  },
  {
   "cell_type": "code",
   "execution_count": null,
   "metadata": {},
   "outputs": [],
   "source": []
  },
  {
   "cell_type": "code",
   "execution_count": null,
   "id": "a5bafdc9",
   "metadata": {},
   "outputs": [],
   "source": []
  },
  {
   "cell_type": "code",
   "execution_count": null,
   "metadata": {},
   "outputs": [],
   "source": []
  },
  {
   "cell_type": "code",
   "execution_count": null,
   "metadata": {},
   "outputs": [],
   "source": []
  },
  {
   "cell_type": "code",
   "execution_count": null,
   "id": "7b756796",
   "metadata": {},
   "outputs": [],
   "source": []
  }
 ],
 "metadata": {
  "kernelspec": {
   "display_name": "Python 3",
   "language": "python",
   "name": "python3"
  },
  "language_info": {
   "codemirror_mode": {
    "name": "ipython",
    "version": 3
   },
   "file_extension": ".py",
   "mimetype": "text/x-python",
   "name": "python",
   "nbconvert_exporter": "python",
   "pygments_lexer": "ipython3",
   "version": "3.13.3"
  }
 },
 "nbformat": 4,
 "nbformat_minor": 5
}
