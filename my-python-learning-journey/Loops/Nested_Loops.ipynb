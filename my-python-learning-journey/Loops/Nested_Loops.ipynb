{
 "cells": [
  {
   "cell_type": "code",
   "execution_count": 1,
   "id": "3d795970",
   "metadata": {},
   "outputs": [
    {
     "name": "stdout",
     "output_type": "stream",
     "text": [
      "b a n a n a _ p y t h o n "
     ]
    }
   ],
   "source": [
    "for  i in \"banana_\":\n",
    "    print(i,end=\" \")\n",
    "for x in \"python\":\n",
    "    print(x,end=\" \")"
   ]
  },
  {
   "cell_type": "code",
   "execution_count": 1,
   "id": "fa818680",
   "metadata": {},
   "outputs": [
    {
     "name": "stdout",
     "output_type": "stream",
     "text": [
      "* \n",
      "* * \n",
      "* * * \n",
      "* * * * \n",
      "* * * * * \n"
     ]
    }
   ],
   "source": [
    "rows = 5  # Number of rows\n",
    "\n",
    "for i in range(1, rows + 1):     # Outer loop for rows\n",
    "    for j in range(1, i + 1):    # Inner loop for columns (stars)\n",
    "        print(\"*\", end=\" \")\n",
    "    print()  # Move to the next line after each row\n"
   ]
  },
  {
   "cell_type": "code",
   "execution_count": 2,
   "id": "784c8357",
   "metadata": {},
   "outputs": [
    {
     "name": "stdout",
     "output_type": "stream",
     "text": [
      "1 \n",
      "1 2 \n",
      "1 2 3 \n",
      "1 2 3 4 \n",
      "1 2 3 4 5 \n"
     ]
    }
   ],
   "source": [
    "rows = 5\n",
    "\n",
    "for i in range(1, rows + 1):\n",
    "    for j in range(1, i + 1):\n",
    "        print(j, end=\" \")\n",
    "    print()\n"
   ]
  },
  {
   "cell_type": "code",
   "execution_count": 3,
   "id": "c4c12369",
   "metadata": {},
   "outputs": [
    {
     "name": "stdout",
     "output_type": "stream",
     "text": [
      "* * * * * \n",
      "* * * * \n",
      "* * * \n",
      "* * \n",
      "* \n"
     ]
    }
   ],
   "source": [
    "rows = 5\n",
    "\n",
    "for i in range(rows, 0, -1):  # Start from 5, go to 1\n",
    "    for j in range(1, i + 1):\n",
    "        print(\"*\", end=\" \")\n",
    "    print()\n"
   ]
  },
  {
   "cell_type": "code",
   "execution_count": null,
   "id": "14a94218",
   "metadata": {},
   "outputs": [],
   "source": [
    "#1. Print square pattern of stars\n",
    "for i in range(5):\n",
    "    for j in range(5):\n",
    "        print(\"*\", end=\" \")\n",
    "    print()\n"
   ]
  },
  {
   "cell_type": "code",
   "execution_count": null,
   "id": "a0c31c03",
   "metadata": {},
   "outputs": [],
   "source": [
    "#2. Print right-angled triangle of stars\n",
    "for i in range(1, 6):\n",
    "    for j in range(i):\n",
    "        print(\"*\", end=\" \")\n",
    "    print()\n"
   ]
  },
  {
   "cell_type": "code",
   "execution_count": null,
   "id": "a23ced27",
   "metadata": {},
   "outputs": [],
   "source": [
    "#3. Print inverted triangle of stars\n",
    "for i in range(5, 0, -1):\n",
    "    for j in range(i):\n",
    "        print(\"*\", end=\" \")\n",
    "    print()\n"
   ]
  },
  {
   "cell_type": "code",
   "execution_count": null,
   "id": "a94e51d6",
   "metadata": {},
   "outputs": [],
   "source": [
    "#4. Print number triangle\n",
    "for i in range(1, 6):\n",
    "    for j in range(1, i+1):\n",
    "        print(j, end=\" \")\n",
    "    print()\n"
   ]
  },
  {
   "cell_type": "code",
   "execution_count": null,
   "id": "9bfb7b70",
   "metadata": {},
   "outputs": [],
   "source": [
    "#5. Print reverse number triangle\n",
    "for i in range(5, 0, -1):\n",
    "    for j in range(1, i+1):\n",
    "        print(j, end=\" \")\n",
    "    print()\n"
   ]
  },
  {
   "cell_type": "code",
   "execution_count": null,
   "id": "4d33f168",
   "metadata": {},
   "outputs": [],
   "source": [
    "#6. Print multiplication table (1 to 5)\n",
    "for i in range(1, 6):\n",
    "    for j in range(1, 11):\n",
    "        print(f\"{i}x{j}={i*j}\", end=\"\\t\")\n",
    "    print()\n"
   ]
  },
  {
   "cell_type": "code",
   "execution_count": null,
   "id": "bb11e549",
   "metadata": {},
   "outputs": [],
   "source": [
    "#7. Print alphabet triangle\n",
    "for i in range(65, 70):\n",
    "    for j in range(65, i+1):\n",
    "        print(chr(j), end=\" \")\n",
    "    print()\n"
   ]
  },
  {
   "cell_type": "code",
   "execution_count": null,
   "id": "6c1ff3d5",
   "metadata": {},
   "outputs": [],
   "source": [
    "#8. Print pattern A\n",
    "for i in range(1, 4):\n",
    "    for j in range(65, 65+i):\n",
    "        print(chr(j), end=\" \")\n",
    "    print()\n"
   ]
  },
  {
   "cell_type": "code",
   "execution_count": null,
   "id": "c81431fa",
   "metadata": {},
   "outputs": [],
   "source": [
    "#9. Print pattern of repeated numbers\n",
    "for i in range(1, 6):\n",
    "    for j in range(i):\n",
    "        print(i, end=\" \")\n",
    "    print()\n",
    "\n"
   ]
  },
  {
   "cell_type": "code",
   "execution_count": null,
   "id": "51beb6b8",
   "metadata": {},
   "outputs": [],
   "source": [
    "#10. Print sum of rows in matrix\n",
    "matrix = [[1,2,3],[4,5,6],[7,8,9]]\n",
    "for row in matrix:\n",
    "    total = 0\n",
    "    for val in row:\n",
    "        total += val\n",
    "    print(\"Row sum:\", total)\n"
   ]
  },
  {
   "cell_type": "code",
   "execution_count": null,
   "id": "b33100bf",
   "metadata": {},
   "outputs": [],
   "source": [
    "#11. Print multiplication matrix 1–3\n",
    "for i in range(1, 4):\n",
    "    for j in range(1, 4):\n",
    "        print(i*j, end=\" \")\n",
    "    print()\n"
   ]
  },
  {
   "cell_type": "code",
   "execution_count": null,
   "id": "07b48813",
   "metadata": {},
   "outputs": [],
   "source": [
    "#12. Print diagonal stars\n",
    "for i in range(5):\n",
    "    for j in range(5):\n",
    "        if i == j:\n",
    "            print(\"*\", end=\" \")\n",
    "        else:\n",
    "            print(\" \", end=\" \")\n",
    "    print()\n"
   ]
  },
  {
   "cell_type": "code",
   "execution_count": null,
   "id": "4a4a2de6",
   "metadata": {},
   "outputs": [],
   "source": [
    "#13. Print hollow square\n",
    "n = 5\n",
    "for i in range(n):\n",
    "    for j in range(n):\n",
    "        if i==0 or i==n-1 or j==0 or j==n-1:\n",
    "            print(\"*\", end=\" \")\n",
    "        else:\n",
    "            print(\" \", end=\" \")\n",
    "    print()\n"
   ]
  },
  {
   "cell_type": "code",
   "execution_count": null,
   "id": "cbacfd2a",
   "metadata": {},
   "outputs": [],
   "source": [
    "#14. Print right-angled number triangle\n",
    "for i in range(1, 6):\n",
    "    for j in range(1, i+1):\n",
    "        print(j, end=\" \")\n",
    "    print()\n"
   ]
  },
  {
   "cell_type": "code",
   "execution_count": null,
   "id": "a4222605",
   "metadata": {},
   "outputs": [],
   "source": [
    "#15. Print inverted right-angled number triangle\n",
    "for i in range(5, 0, -1):\n",
    "    for j in range(1, i+1):\n",
    "        print(j, end=\" \")\n",
    "    print()\n"
   ]
  },
  {
   "cell_type": "code",
   "execution_count": null,
   "id": "73d57a6e",
   "metadata": {},
   "outputs": [],
   "source": []
  }
 ],
 "metadata": {
  "kernelspec": {
   "display_name": "Python 3",
   "language": "python",
   "name": "python3"
  },
  "language_info": {
   "codemirror_mode": {
    "name": "ipython",
    "version": 3
   },
   "file_extension": ".py",
   "mimetype": "text/x-python",
   "name": "python",
   "nbconvert_exporter": "python",
   "pygments_lexer": "ipython3",
   "version": "3.13.4"
  }
 },
 "nbformat": 4,
 "nbformat_minor": 5
}
