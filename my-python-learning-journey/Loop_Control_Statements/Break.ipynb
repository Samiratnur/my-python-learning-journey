{
 "cells": [
  {
   "cell_type": "code",
   "execution_count": 2,
   "id": "8e3c8e29",
   "metadata": {},
   "outputs": [
    {
     "name": "stdout",
     "output_type": "stream",
     "text": [
      "0 1 2 3 4 5 6 8 9 complet\n",
      "0 1 2 3 4 5 6 7 8 9 complete\n",
      "0 1 2 3 4 5 6 complete\n"
     ]
    }
   ],
   "source": [
    "#most importent and simple example break continue pass!!\n",
    "\n",
    "#[1] continue\n",
    "for i in range(10):\n",
    "    \n",
    "    if i== 7:\n",
    "        continue                                     #continue statement laganese jo \"if\" me mentioned hai ve value output me display nahi hoti!!\n",
    "    print(i,end=\" \")\n",
    "print(\"complet\")\n",
    "\n",
    "#output- 0 1 2 3 4 5 6 8 9 complet\n",
    "\n",
    "#[2]pass\n",
    "for i in range(10):\n",
    "    if i== 7:\n",
    "        pass                                      #pass satement mai pass ka koi impact nahi hota output me aap dek sakate ho output mai!!\n",
    "    print(i,end=\" \")\n",
    "print(\"complete\")\n",
    "\n",
    "#output- 0 1 2 3 4 5 6 7 8 9 complete\n",
    "\n",
    "#[3] break\n",
    "\n",
    "for i in range(10):\n",
    "    if i== 7:\n",
    "        break                                    #break lagane ke baad \"if\" mai jo mention ki gai hai thik vaise hi output aaye ga break ka!!\n",
    "    print(i,end=\" \")\n",
    "print(\"complete\")\n",
    "\n",
    "#output-0 1 2 3 4 5 6 complete"
   ]
  },
  {
   "cell_type": "code",
   "execution_count": 1,
   "id": "093be5d7",
   "metadata": {},
   "outputs": [
    {
     "name": "stdout",
     "output_type": "stream",
     "text": [
      "0\n",
      "1\n",
      "2\n",
      "3\n",
      "4\n",
      "end of game with : 5\n"
     ]
    }
   ],
   "source": [
    "# i made 1st break program.....!!\n",
    "\n",
    "for i in range(10):\n",
    "    if i ==5:\n",
    "        break\n",
    "    print(i)\n",
    "print(\"end of game with :\",i)"
   ]
  },
  {
   "cell_type": "code",
   "execution_count": 3,
   "metadata": {},
   "outputs": [
    {
     "name": "stdout",
     "output_type": "stream",
     "text": [
      "0\n",
      "1\n",
      "2\n"
     ]
    }
   ],
   "source": [
    "#simple example........!!\n",
    "for i in range(10):\n",
    "    print(i)\n",
    "    if i == 2:\n",
    "        break\n",
    "    "
   ]
  },
  {
   "cell_type": "code",
   "execution_count": 4,
   "id": "e3fe05ce",
   "metadata": {},
   "outputs": [
    {
     "name": "stdout",
     "output_type": "stream",
     "text": [
      "0\n",
      "1\n",
      "2\n",
      "3\n"
     ]
    }
   ],
   "source": [
    "#End the loop if i is larger than 3....!\n",
    "for i in range(9):\n",
    "    if i >3:\n",
    "        break\n",
    "    print(i)"
   ]
  },
  {
   "cell_type": "code",
   "execution_count": null,
   "metadata": {},
   "outputs": [],
   "source": [
    "i=1\n",
    "while i<10:\n",
    "    if i == 5:\n",
    "        i+=1\n",
    "        break\n",
    "        print('ok')\n",
    "    else:\n",
    "        print('out of if block')\n",
    "print('end')"
   ]
  },
  {
   "cell_type": "code",
   "execution_count": 5,
   "id": "87d5552b",
   "metadata": {},
   "outputs": [
    {
     "name": "stdout",
     "output_type": "stream",
     "text": [
      "0\n",
      "1\n",
      "2\n",
      "3\n",
      "4\n",
      "5\n"
     ]
    }
   ],
   "source": [
    "# 2nd\n",
    "a= range(9)\n",
    "for i in a:\n",
    "    if i >5:\n",
    "        break\n",
    "    print(i)\n",
    "    \n",
    "    "
   ]
  },
  {
   "cell_type": "code",
   "execution_count": 6,
   "metadata": {},
   "outputs": [
    {
     "name": "stdout",
     "output_type": "stream",
     "text": [
      "1\n",
      "2\n",
      "3\n"
     ]
    }
   ],
   "source": [
    "#break out of loop while loop Ex-\n",
    "i = 1\n",
    "while i < 9:\n",
    "    print (i)\n",
    "    if i == 3:\n",
    "        break\n",
    "    i+=1"
   ]
  },
  {
   "cell_type": "code",
   "execution_count": 7,
   "id": "0732c88f",
   "metadata": {},
   "outputs": [
    {
     "name": "stdout",
     "output_type": "stream",
     "text": [
      "H\n",
      "e\n",
      "l\n",
      "l\n"
     ]
    }
   ],
   "source": [
    "#simple break statment with string value performe.....!\n",
    "s= 'Hello , world'\n",
    "for char in s:\n",
    "    if char == 'o':\n",
    "        break\n",
    "    print(char)     "
   ]
  },
  {
   "cell_type": "code",
   "execution_count": 8,
   "id": "a759643e",
   "metadata": {},
   "outputs": [
    {
     "ename": "IndentationError",
     "evalue": "unexpected indent (4276649704.py, line 4)",
     "output_type": "error",
     "traceback": [
      "  \u001b[36mCell\u001b[39m\u001b[36m \u001b[39m\u001b[32mIn[8]\u001b[39m\u001b[32m, line 4\u001b[39m\n\u001b[31m    \u001b[39m\u001b[31mif i =='m':\u001b[39m\n    ^\n\u001b[31mIndentationError\u001b[39m\u001b[31m:\u001b[39m unexpected indent\n"
     ]
    }
   ],
   "source": [
    "#2nd\n",
    "x='samir'\n",
    "for i in x:                     9\n",
    "    if i =='m':\n",
    "        break\n",
    "    print(i)    "
   ]
  },
  {
   "cell_type": "code",
   "execution_count": 9,
   "id": "66edf411",
   "metadata": {},
   "outputs": [
    {
     "name": "stdout",
     "output_type": "stream",
     "text": [
      "H\n",
      "e\n",
      "l\n",
      "l\n",
      "o\n",
      " \n",
      ",\n"
     ]
    }
   ],
   "source": [
    "#3d \n",
    "s= 'Hello , world'\n",
    "for char in s:                       #program 1,2,3 is not same thoda direnceestion hai tinomebhi...!\n",
    "    print(char)\n",
    "    if char == ',':\n",
    "        break\n",
    "    "
   ]
  },
  {
   "cell_type": "code",
   "execution_count": 10,
   "id": "90aa6bf0",
   "metadata": {},
   "outputs": [
    {
     "name": "stdout",
     "output_type": "stream",
     "text": [
      " the first number greater than 100 is : 123\n"
     ]
    }
   ],
   "source": [
    "numbers = [ 23,45,67,89,123,167,189,245,277,]\n",
    "for num in numbers:\n",
    "    if num > 100:\n",
    "        print (\" the first number greater than 100 is :\",num)\n",
    "        break\n",
    "    "
   ]
  },
  {
   "cell_type": "code",
   "execution_count": 11,
   "id": "483d8a4b",
   "metadata": {},
   "outputs": [
    {
     "name": "stdout",
     "output_type": "stream",
     "text": [
      "end Element length of:  ramesh 6\n",
      "end Element length of:  rahul 5\n",
      "end if with: karan 5\n"
     ]
    }
   ],
   "source": [
    "# words = [ 'banana', 'cherry','apricot','coconut','kiwi']\n",
    "# for word in words:\n",
    "#     if word.startwith \"a\" or word=='t:                 #run nahi ho raha hai badame dekha jayegaa............!!!\n",
    "#         print(word ):\n",
    "#         break\n",
    "        \n",
    "        \n",
    "#[2]\n",
    "list_=['ramesh', 'rahul', 'karan', 'kiran']\n",
    "for i in list_:\n",
    "    if i.startswith('k'):\n",
    "        print(\"end if with:\",i,len(i))\n",
    "        break\n",
    "    else:\n",
    "        print(\"end Element length of: \",i,len(i))        "
   ]
  },
  {
   "cell_type": "code",
   "execution_count": 12,
   "id": "3a92e888",
   "metadata": {},
   "outputs": [
    {
     "name": "stdout",
     "output_type": "stream",
     "text": [
      "0 0\n",
      "0 1\n",
      "0 2\n",
      "0 3\n",
      "0 4\n",
      "1 0\n",
      "1 1\n",
      "1 2\n",
      "1 3\n",
      "1 4\n",
      "2 0\n",
      "2 1\n",
      "3 0\n",
      "4 0\n",
      "4 1\n",
      "4 2\n",
      "4 3\n",
      "4 4\n"
     ]
    }
   ],
   "source": [
    "# Using python break in nested loop....!\n",
    "for i in range (5):\n",
    "    for j in range(5):\n",
    "        if  i==2 and j == 2:\n",
    "            break                                            # bohot gafalat hai isame run hota hai par program samaj nahi aa raha hai.!!!!!!!\n",
    "        print(i,j)\n",
    "        if i == 3:\n",
    "            break \n",
    "        \n",
    "        \n",
    "        \n",
    "        "
   ]
  },
  {
   "cell_type": "code",
   "execution_count": 13,
   "id": "b873743e",
   "metadata": {},
   "outputs": [
    {
     "name": "stdout",
     "output_type": "stream",
     "text": [
      "g\n",
      "e\n",
      "out of for loop \n",
      "\n",
      "g\n",
      "e\n",
      "out of while loop\n"
     ]
    }
   ],
   "source": [
    "#using ,for ,while ,if ,in  break statement......!!\n",
    "s = 'geeksforgeeks'\n",
    "for  letter in s:\n",
    "    print(letter)\n",
    "    if letter == 'e' or letter == 's':\n",
    "        break \n",
    "print(\"out of for loop \")\n",
    "print ()\n",
    "i = 0\n",
    "while True:\n",
    "    print (s[i])\n",
    "    if s[i] == 'e' or s[i] == 's':\n",
    "        break \n",
    "    i+=1\n",
    "print (\"out of while loop\")      \n",
    "\n",
    "\n",
    "# #[2 Ex-]\n",
    "# a=\"Lovefromindia\"\n",
    "# for i in a:\n",
    "#     print(i)\n",
    "#     if i=='z' or i=='n':\n",
    "#         break\n",
    "    \n",
    "# print(\"end of loop1\")\n",
    "\n",
    "# print()\n",
    "\n",
    "# b=0\n",
    "# while True:\n",
    "#     print(a[b])\n",
    "#     if (a[b])=='r' or (a[b])=='c':\n",
    "#         break\n",
    "#     b+=1\n",
    "# print(\"end of loop\")\n",
    "    "
   ]
  },
  {
   "cell_type": "code",
   "execution_count": 14,
   "id": "8261962c",
   "metadata": {},
   "outputs": [
    {
     "name": "stdout",
     "output_type": "stream",
     "text": [
      "The num has value: 1\n",
      "The num has value: 2\n",
      "The num has value: 3\n",
      "The num has value: 4\n",
      "The num has value: 5\n",
      "The num has value: 6\n",
      "The num has value: 7\n",
      "out of loop\n",
      "the num value is: 0\n",
      "the num value is: 1\n",
      "the num value is: 2\n",
      "the num value is: 3\n",
      "the num value is: 4\n",
      "the num value is: 5\n",
      "the num value is: 6\n",
      "the num value is: 7\n",
      "end of ......\n",
      "the value of x: 1\n",
      "the value of x: 2\n",
      "the value of x: 3\n",
      "the value of x: 4\n",
      "the value of x: 5\n",
      "the value of x: 6\n",
      "end\n"
     ]
    }
   ],
   "source": [
    "\n",
    "num= 0\n",
    "for i in range (10):\n",
    "    num+=1\n",
    "    if num == 8:\n",
    "        break \n",
    "    print (\"The num has value:\", num)\n",
    "print(\"out of loop\")\n",
    "\n",
    "\n",
    "i=0\n",
    "for x in range(10):\n",
    "    i+=1\n",
    "    if x==8:\n",
    "        break\n",
    "    print(\"the num value is:\",x)\n",
    "print(\"end of ......\")\n",
    "\n",
    "\n",
    "num =0\n",
    "for x in range(10):\n",
    "    num+=1\n",
    "    if x ==6:\n",
    "        break\n",
    "    print('the value of x:',num)\n",
    "print(\"end\")    \n",
    "\n",
    "\n",
    "\n"
   ]
  },
  {
   "cell_type": "code",
   "execution_count": 15,
   "id": "739bfeb0",
   "metadata": {},
   "outputs": [
    {
     "name": "stdout",
     "output_type": "stream",
     "text": [
      "current letter : p\n",
      "current letter : y\n",
      "current letter : t\n",
      "current variable value: 10\n",
      "current variable value: 9\n",
      "current variable value: 8\n",
      "current variable value: 7\n",
      "current variable value: 6\n",
      "Good bye...!\n",
      "current letter: p\n",
      "current letter: y\n",
      "current letter: t\n",
      "current variable value: 10\n",
      "current variable value: 9\n",
      "current variable value: 8\n",
      "current variable value: 7\n",
      "current variable value: 6\n",
      "Good bye\n"
     ]
    }
   ],
   "source": [
    "\n",
    "for letter in \"python\":\n",
    "    if letter == 'h':\n",
    "        break \n",
    "    print ('current letter :', letter)\n",
    "var = 10\n",
    "while var > 0:\n",
    "    print('current variable value:',var)\n",
    "    var = var -1\n",
    "    if var == 5 :\n",
    "        break\n",
    "print(\"Good bye...!\")\n",
    "\n",
    "\n",
    "\n",
    "# 2nd\n",
    "for i in 'python':\n",
    "    if i == 'h':\n",
    "        break\n",
    "    print('current letter:',i)\n",
    "    \n",
    "    \n",
    "var = 10\n",
    "while var >0:\n",
    "    print(\"current variable value:\",var)\n",
    "    var= var-1\n",
    "    if var == 5:\n",
    "        break\n",
    "print(\"Good bye\")        \n",
    "     \n",
    "     "
   ]
  },
  {
   "cell_type": "code",
   "execution_count": 16,
   "id": "2f6be11e",
   "metadata": {},
   "outputs": [
    {
     "name": "stdout",
     "output_type": "stream",
     "text": [
      "0\n",
      "1\n",
      "2\n"
     ]
    }
   ],
   "source": [
    "#break statement with for loop\n",
    "for i in range (5):\n",
    "    if i == 3:\n",
    "        break\n",
    "    print(i)"
   ]
  },
  {
   "cell_type": "code",
   "execution_count": 17,
   "id": "9d1e6629",
   "metadata": {},
   "outputs": [
    {
     "name": "stdout",
     "output_type": "stream",
     "text": [
      "6* 1 = 6\n",
      "6* 2 = 12\n",
      "6* 3 = 18\n",
      "6* 4 = 24\n",
      "6* 5 = 30\n"
     ]
    }
   ],
   "source": [
    "#python break statement with  while loop.....!\n",
    "i = 1\n",
    "while i<=10:\n",
    "    print('6*',(i), '=',6*i)\n",
    "    if i >=5:\n",
    "        break\n",
    "    i=i+1                                                    # 6*1 = 6"
   ]
  },
  {
   "cell_type": "code",
   "execution_count": 18,
   "id": "20bcc975",
   "metadata": {},
   "outputs": [
    {
     "name": "stdout",
     "output_type": "stream",
     "text": [
      "6 *  1 =  6\n",
      "6 *  2 =  12\n",
      "6 *  3 =  18\n",
      "6 *  4 =  24\n",
      "6 *  5 =  30\n",
      "6 *  6 =  36\n"
     ]
    }
   ],
   "source": [
    "#2nd part\n",
    "a=1\n",
    "while a<11:\n",
    "    print('6' ,'* ', a,'= ',6*a)\n",
    "    a=a+1\n",
    "    if a== 7:\n",
    "        break\n",
    "    \n",
    "\n",
    "    "
   ]
  },
  {
   "cell_type": "code",
   "execution_count": 19,
   "id": "7f9a413a",
   "metadata": {},
   "outputs": [
    {
     "name": "stdout",
     "output_type": "stream",
     "text": [
      "2 is prime number\n",
      "3 is prime number\n",
      "4 equals 2 * 2\n",
      "5 is prime number\n",
      "6 equals 2 * 3\n",
      "7 is prime number\n",
      "8 equals 2 * 4\n",
      "9 equals 3 * 3\n"
     ]
    }
   ],
   "source": [
    "# prime numbers using break statement......!!\n",
    "for n in range (2,10):\n",
    "    for x in range (2,n):\n",
    "        if n % x == 0:\n",
    "            print(n,'equals',x,'*',n//x)    # math ka program hai badame dekhana haiii....!!\n",
    "            break\n",
    "    else:\n",
    "        print(n,'is prime number')"
   ]
  },
  {
   "cell_type": "code",
   "execution_count": 20,
   "id": "91dcfff8",
   "metadata": {},
   "outputs": [
    {
     "data": {
      "text/plain": [
       "[7, 14, 21, 28, 35, 42, 49, 56, 63, 70]"
      ]
     },
     "execution_count": 20,
     "metadata": {},
     "output_type": "execute_result"
    }
   ],
   "source": [
    "#break statement ka istemal karake 7th ka table tayar kiya hai.......!!\n",
    "number = 0\n",
    "multiple_list = []\n",
    "while True :\n",
    "    number +=1\n",
    "    if number % 7 == 0:                               # math ka program hai badame dekhana haiii....!!\n",
    "        multiple_list.append (number)\n",
    "    if len(multiple_list) == 10:\n",
    "        break\n",
    "multiple_list"
   ]
  },
  {
   "cell_type": "code",
   "execution_count": 21,
   "id": "0f76847a",
   "metadata": {},
   "outputs": [
    {
     "name": "stdout",
     "output_type": "stream",
     "text": [
      "t\n",
      "h\n",
      "i\n",
      "break \n",
      "\n",
      "i\n",
      "break \n",
      "\n",
      "a\n",
      "l\n",
      "i\n",
      "break \n",
      "\n"
     ]
    }
   ],
   "source": [
    "#break nested loops..!!\n",
    "string = ['this','is' ,'a','list' ]\n",
    "for string in string:\n",
    "    for char in string :\n",
    "        print(char)\n",
    "        if char == 'i':\n",
    "            print('break \\n')\n",
    "            break"
   ]
  },
  {
   "cell_type": "code",
   "execution_count": 22,
   "id": "67dfad78",
   "metadata": {},
   "outputs": [
    {
     "name": "stdout",
     "output_type": "stream",
     "text": [
      "s\n",
      "a\n",
      "break \n",
      "\n",
      "m\n",
      "a\n",
      "break \n",
      "\n",
      "r\n",
      "o\n",
      "h\n",
      "a\n",
      "break \n",
      "\n",
      "a\n",
      "break \n",
      "\n"
     ]
    }
   ],
   "source": [
    "#2nd ex---\n",
    "var= ['samir','mayur','rohan','abhi']\n",
    "for i in var:\n",
    "    for char in i:\n",
    "        print(char)\n",
    "        if char == 'a':\n",
    "            print('break \\n')\n",
    "            break"
   ]
  },
  {
   "cell_type": "code",
   "execution_count": null,
   "id": "059f119a",
   "metadata": {},
   "outputs": [],
   "source": [
    "#infinite loop using break statement..!!\n",
    "while True:\n",
    "    res = (input(\"enter a number 5:\"))\n",
    "    if res == 5:\n",
    "        break"
   ]
  },
  {
   "cell_type": "code",
   "execution_count": null,
   "id": "4f26068c",
   "metadata": {},
   "outputs": [],
   "source": [
    "while True :\n",
    "    res = input(\"Enter the number 5:\")\n",
    "    try:\n",
    "        res=int (res)\n",
    "    except:                                  # try catch bloke vale methods vala hai ye abhhi nahi samaj aaye aponako badamee dekhate.....!!\n",
    "        pass\n",
    "    if res == 5:\n",
    "        print(\"thanks !\")\n",
    "        break"
   ]
  },
  {
   "cell_type": "code",
   "execution_count": 29,
   "id": "2dfafeaa",
   "metadata": {},
   "outputs": [
    {
     "name": "stdout",
     "output_type": "stream",
     "text": [
      "found at location  1\n",
      "found at location  1\n",
      "found at location  1\n",
      "item matched \n"
     ]
    }
   ],
   "source": [
    " #break with for loop...!!\n",
    "my_list = [ 1,2,3,4]\n",
    "count = 1\n",
    "for item in my_list :\n",
    "    if item == 4:\n",
    "        print(\"item matched \")\n",
    "        count +=1\n",
    "        break \n",
    "    print(\"found at location \",count )"
   ]
  },
  {
   "cell_type": "code",
   "execution_count": null,
   "id": "b0a4526e",
   "metadata": {},
   "outputs": [],
   "source": []
  },
  {
   "cell_type": "code",
   "execution_count": 26,
   "id": "3755b63c",
   "metadata": {},
   "outputs": [
    {
     "name": "stdout",
     "output_type": "stream",
     "text": [
      "p\n",
      "y\n",
      "t\n",
      "h\n"
     ]
    }
   ],
   "source": [
    "my_str = \"python\"\n",
    "for char in my_str:\n",
    "    if char == 'o':\n",
    "        break\n",
    "    print(char)\n"
   ]
  },
  {
   "cell_type": "code",
   "execution_count": 27,
   "id": "3ea07e8f",
   "metadata": {},
   "outputs": [
    {
     "name": "stdout",
     "output_type": "stream",
     "text": [
      "0 1 2 3 4 5 6 7 8 9 come out of while loop\n"
     ]
    }
   ],
   "source": [
    "#break statement with while loop\n",
    "i=0;\n",
    "while 1:\n",
    "    print (i , end=\" \" )\n",
    "    i= i+1\n",
    "    if i == 10:                      \n",
    "        break\n",
    "    \n",
    "print(\"come out of while loop\")\n",
    "\n",
    "        "
   ]
  },
  {
   "cell_type": "code",
   "execution_count": null,
   "id": "16c36776",
   "metadata": {},
   "outputs": [],
   "source": [
    "#break statement with nested loops\n",
    "n = 2\n",
    "while True :\n",
    "    i=1\n",
    "    while i<=10:\n",
    "        print ('%d x %d = %d \\n' %(n,i,n*i))\n",
    "        i+=1\n",
    "    choice = int (input(\"Do you want to continue printing the table of press no:\"))                      \n",
    "    if choice == 0:\n",
    "        print(\"Exiting the program....\")\n",
    "        break \n",
    "    n+=1\n",
    "print(\"Program finished successfully\")\n",
    "        "
   ]
  },
  {
   "cell_type": "code",
   "execution_count": null,
   "id": "8c68aa01",
   "metadata": {},
   "outputs": [],
   "source": [
    "#prime numbers using while loop.!!\n",
    "num = [34,12,54,23,75,34,11]\n",
    "def prime-number(number):\n",
    "    condition = 0\n",
    "    iteration = 2\n",
    "    while iteration <= number/2:\n",
    "        if number % iteration == 0:\n",
    "            condtion = 1\n",
    "            break                                            #incorrect program.\n",
    "        iteration = iteration +1\n",
    "    if condtion == 0:\n",
    "        print(f\"{number} is a PRIME number\")\n",
    "    else:\n",
    "        print(f\"{number} is not a PRIME number\")\n",
    "    else:\n",
    "        print(f\"{number} is not a PRIME number\")\n",
    "        for i in num:\n",
    "            print_number(i)\n",
    "            \n",
    "            "
   ]
  },
  {
   "cell_type": "code",
   "execution_count": null,
   "id": "5168d040",
   "metadata": {},
   "outputs": [],
   "source": [
    "#[2]\n",
    "#prime numbers using while loop.!!\n",
    "num = [34, 12, 54, 23, 75, 34, 11]\n",
    "\n",
    "def prime_number(number):\n",
    "    condition = 0\n",
    "    iteration = 2\n",
    "    while iteration <= number / 2:\n",
    "        if number % iteration == 0:\n",
    "            condition = 1                                      #this is correct satament.....!!!!!\n",
    "            break\n",
    "        iteration += 1\n",
    "    if number == 1:\n",
    "        print(f\"{number} is not a prime number\")\n",
    "    elif condition == 0:\n",
    "        print(f\"{number} is a PRIME number\")\n",
    "    else:\n",
    "        print(f\"{number} is not a prime number\")\n",
    "\n",
    "for i in num:\n",
    "    prime_number(i)\n"
   ]
  },
  {
   "cell_type": "code",
   "execution_count": null,
   "id": "b1536d01",
   "metadata": {},
   "outputs": [],
   "source": [
    "#simple statement.!!\n",
    "i = 1\n",
    "while i<10:\n",
    "    print(i)\n",
    "    if i==7:\n",
    "        break\n",
    "    i+=1\n",
    "    \n",
    "  \n",
    " #2nd\n",
    "counter = 0\n",
    "while counter<3:\n",
    "    if counter == 1:\n",
    "        break\n",
    "    print('Inside loop')\n",
    "    counter = counter+1\n",
    "else:\n",
    "    print('Inside else')  \n",
    "    "
   ]
  },
  {
   "cell_type": "code",
   "execution_count": null,
   "id": "06ec53c0",
   "metadata": {},
   "outputs": [],
   "source": [
    "i =0\n",
    "a='Geekforgeeks'\n",
    "while i <len(a):\n",
    "    if a[i]== 'r' or a[i] == 's':\n",
    "        i+=1\n",
    "        break\n",
    "    print('current Letter:',a[i])\n",
    "    i+=1\n",
    "    "
   ]
  },
  {
   "cell_type": "code",
   "execution_count": null,
   "id": "fa51da78",
   "metadata": {},
   "outputs": [],
   "source": [
    "i = 0\n",
    "while i < 4:\n",
    "    i+=1\n",
    "    print(i)\n",
    "else:\n",
    "    print(\"No break\\n\")\n",
    "i=0\n",
    "while i<4:\n",
    "    i+=1\n",
    "    print(i)\n",
    "    break\n",
    "else:\n",
    "    print(\"No break\")          "
   ]
  },
  {
   "cell_type": "code",
   "execution_count": null,
   "id": "5ca3b018",
   "metadata": {},
   "outputs": [],
   "source": [
    "n=5\n",
    "while n>0:\n",
    "    n-=1\n",
    "    if n == 2:\n",
    "        break \n",
    "    print(n)\n",
    "print('Loop ended:')"
   ]
  },
  {
   "cell_type": "code",
   "execution_count": 1,
   "id": "992a8f8d",
   "metadata": {},
   "outputs": [
    {
     "name": "stdout",
     "output_type": "stream",
     "text": [
      "0\n",
      "1\n",
      "2\n",
      "3\n",
      "4\n",
      "5\n"
     ]
    }
   ],
   "source": [
    "a= range(9)\n",
    "for i in a:\n",
    "    if i >5:\n",
    "        break\n",
    "    print(i)\n",
    "    \n",
    "    "
   ]
  },
  {
   "cell_type": "code",
   "execution_count": 2,
   "id": "d820a85f",
   "metadata": {},
   "outputs": [
    {
     "name": "stdout",
     "output_type": "stream",
     "text": [
      "1\n",
      "2\n",
      "3\n"
     ]
    }
   ],
   "source": [
    "i=1\n",
    "while i<9:\n",
    "    print(i)\n",
    "    if i == 3: \n",
    "        break\n",
    "    i+=1    "
   ]
  },
  {
   "cell_type": "code",
   "execution_count": 3,
   "id": "2d359b32",
   "metadata": {},
   "outputs": [
    {
     "name": "stdout",
     "output_type": "stream",
     "text": [
      "s\n",
      "a\n"
     ]
    }
   ],
   "source": [
    "x='samir'\n",
    "for i in x:\n",
    "    if i =='m':\n",
    "        break\n",
    "    print(i)    "
   ]
  },
  {
   "cell_type": "code",
   "execution_count": 4,
   "metadata": {},
   "outputs": [
    {
     "name": "stdout",
     "output_type": "stream",
     "text": [
      "44\n"
     ]
    }
   ],
   "source": [
    "A=[11,22,33,44,55,66,77,88,99]\n",
    "for L in A:\n",
    "    if L > 40:\n",
    "        print(L)\n",
    "        break\n",
    "           \n",
    "        "
   ]
  },
  {
   "cell_type": "code",
   "execution_count": 5,
   "id": "7791eab5",
   "metadata": {},
   "outputs": [
    {
     "name": "stdout",
     "output_type": "stream",
     "text": [
      "cherry\n",
      "end Element length of:  ramesh 6\n",
      "end Element length of:  rahul 5\n",
      "end if with: karan 5\n"
     ]
    }
   ],
   "source": [
    "words = [ 'banana', 'cherry','apricot','coconut','kiwi']\n",
    "for word in words:\n",
    "    if word.startswith('c'):\n",
    "        \n",
    "        print(word )\n",
    "        break\n",
    "\n",
    "\n",
    "\n",
    "#[2]\n",
    "list_=['ramesh', 'rahul', 'karan', 'kiran']\n",
    "for i in list_:\n",
    "    if i.startswith('k'):\n",
    "        print(\"end if with:\",i,len(i))\n",
    "        break\n",
    "    else:\n",
    "        print(\"end Element length of: \",i,len(i))\n"
   ]
  },
  {
   "cell_type": "code",
   "execution_count": 6,
   "id": "13b34029",
   "metadata": {},
   "outputs": [
    {
     "name": "stdout",
     "output_type": "stream",
     "text": [
      "0 0\n",
      "0 1\n",
      "0 2\n",
      "0 3\n",
      "0 4\n",
      "1 0\n",
      "1 1\n",
      "1 2\n",
      "1 3\n",
      "1 4\n",
      "2 0\n",
      "2 1\n",
      "3 0\n",
      "4 0\n",
      "4 1\n",
      "4 2\n",
      "4 3\n",
      "4 4\n"
     ]
    }
   ],
   "source": [
    "for i in range (5):\n",
    "    for j in range(5):\n",
    "        if  i==2 and j == 2:\n",
    "            break\n",
    "        print(i,j)\n",
    "        if i == 3:\n",
    "            break \n",
    "\n",
    "\n",
    "#[2]\n",
    "\n",
    "# for i in range(5,10):\n",
    "#     for a in range(5,10):\n",
    "#         if i==8 and a==8:\n",
    "#             break\n",
    "#         print(i,a)\n",
    "#         if i==9:\n",
    "#             break\n",
    "    \n",
    "\n",
    "#[3]\n",
    "# for l in range(15,21):\n",
    "#     for z in range(15,21):\n",
    "#         if l==17 and z==17:\n",
    "#             break\n",
    "#         print(l,z)\n",
    "#         if l==19:\n",
    "#             break\n",
    "  "
   ]
  },
  {
   "cell_type": "code",
   "execution_count": 7,
   "id": "c1c3f4bd",
   "metadata": {},
   "outputs": [
    {
     "name": "stdout",
     "output_type": "stream",
     "text": [
      "g\n",
      "e\n",
      "end of loop\n",
      "\n",
      "g\n",
      "e\n",
      "end of the loop\n",
      "m\n",
      "a\n",
      "y\n",
      "u\n",
      "r\n",
      "out of the loop\n",
      "\n",
      "m\n",
      "a\n",
      "y\n",
      "end of 2nd loop\n",
      "s\n",
      "a\n",
      "m\n",
      "end of the loop\n",
      "\n",
      "s\n",
      "a\n",
      "m\n",
      "end of the loop\n"
     ]
    }
   ],
   "source": [
    "s=\"geeksforgeeks\"\n",
    "for letter in s:\n",
    "    print (letter)\n",
    "    if letter== 'e' or letter== 's':\n",
    "        break\n",
    "print(\"end of loop\")\n",
    "print()\n",
    "i = 0\n",
    "while True:\n",
    "    print(s[i])\n",
    "    if s[i] == 'e' or s[i] == 's':\n",
    "        break\n",
    "    i+=1\n",
    "print(\"end of the loop\")\n",
    "\n",
    "\n",
    "o=\"mayurmore\"\n",
    "for i in o:\n",
    "    print(i)\n",
    "    if i=='z' or i=='r':\n",
    "        break\n",
    "print(\"out of the loop\")\n",
    "\n",
    "print()\n",
    "a = 0\n",
    "while True:\n",
    "    print(o[a])\n",
    "    if (o[a])=='y' or (o[a])=='e':\n",
    "        break\n",
    "    a+=1\n",
    "print('end of 2nd loop')\n",
    "\n",
    "\n",
    "\n",
    "\n",
    "\n",
    "\n",
    "\n",
    "\n",
    "#2\n",
    "\n",
    "str=\"samir_atnur\"\n",
    "for x in str:\n",
    "    print(x)\n",
    "    if x=='m' or x=='n':\n",
    "        break\n",
    "print(\"end of the loop\")\n",
    "\n",
    "print( )\n",
    "\n",
    "i=0\n",
    "while True:\n",
    "    print(str[i])\n",
    "    if (str[i]) == 'm' or (str[i]) == 'n':\n",
    "        break\n",
    "    i+=1\n",
    "print(\"end of the loop\")\n"
   ]
  },
  {
   "cell_type": "code",
   "execution_count": 8,
   "id": "2e3eeed0",
   "metadata": {},
   "outputs": [
    {
     "name": "stdout",
     "output_type": "stream",
     "text": [
      "s\n",
      "a\n",
      "m\n",
      "end of the loop\n",
      "\n",
      "s\n",
      "a\n",
      "m\n",
      "i\n",
      "r\n",
      "_\n",
      "a\n",
      "t\n",
      "n\n",
      "end of the loop\n",
      "s\n",
      "a\n",
      "m\n",
      "i\n",
      "r\n",
      "_\n",
      "a\n",
      "t\n",
      "s\n",
      "a\n",
      "m\n"
     ]
    }
   ],
   "source": [
    "str=\"samir_atnur\"\n",
    "for x in str:\n",
    "    print(x)\n",
    "    if x=='m' or x=='n':\n",
    "        break\n",
    "print(\"end of the loop\")\n",
    "\n",
    "print( )\n",
    "\n",
    "i=0\n",
    "while True:\n",
    "    print(str[i])\n",
    "    if (str[i]) == 'o' or (str[i]) == 'n':\n",
    "        break\n",
    "    i+=1\n",
    "print(\"end of the loop\")\n",
    "\n",
    "\n",
    "\n",
    "#[3]\n",
    "E=\"samir_atnur\"\n",
    "for x in E:\n",
    "    print(x)\n",
    "    if x=='t' or x=='u':\n",
    "        break\n",
    "    \n",
    "\n",
    "a=()\n",
    "\n",
    "b=0\n",
    "while True:\n",
    "    print(E[b])\n",
    "    if (E[b])=='m' or (E[b])=='i':\n",
    "        break\n",
    "    b+=1    \n",
    "\n",
    "    "
   ]
  },
  {
   "cell_type": "code",
   "execution_count": 10,
   "id": "6c4d6bdb",
   "metadata": {},
   "outputs": [
    {
     "name": "stdout",
     "output_type": "stream",
     "text": [
      "6 *  1 =  6\n",
      "6 *  2 =  12\n",
      "6 *  3 =  18\n",
      "6 *  4 =  24\n",
      "6 *  5 =  30\n",
      "6 *  6 =  36\n"
     ]
    }
   ],
   "source": [
    "#2nd part\n",
    "a=1\n",
    "while a<11:\n",
    "    print('6' ,'* ', a,'= ',6*a)\n",
    "    a=a+1                            #   i made this okk!!\n",
    "    if a== 7:\n",
    "        break\n",
    "    \n",
    "    \n",
    "    "
   ]
  },
  {
   "cell_type": "code",
   "execution_count": 11,
   "id": "fa0f6dee",
   "metadata": {},
   "outputs": [
    {
     "name": "stdout",
     "output_type": "stream",
     "text": [
      "s\n",
      "a\n",
      "break \n",
      "\n",
      "m\n",
      "a\n",
      "break \n",
      "\n",
      "r\n",
      "o\n",
      "h\n",
      "a\n",
      "break \n",
      "\n",
      "a\n",
      "break \n",
      "\n"
     ]
    }
   ],
   "source": [
    "var= ['samir','mayur','rohan','abhi']\n",
    "for i in var: \n",
    "    for char in i:\n",
    "        print(char)\n",
    "        if char == 'a':\n",
    "            print('break \\n')\n",
    "            break\n",
    "\n"
   ]
  },
  {
   "cell_type": "code",
   "execution_count": 12,
   "id": "1a957a1c",
   "metadata": {},
   "outputs": [
    {
     "ename": "KeyboardInterrupt",
     "evalue": "Interrupted by user",
     "output_type": "error",
     "traceback": [
      "\u001b[31m---------------------------------------------------------------------------\u001b[39m",
      "\u001b[31mKeyboardInterrupt\u001b[39m                         Traceback (most recent call last)",
      "\u001b[36mCell\u001b[39m\u001b[36m \u001b[39m\u001b[32mIn[12]\u001b[39m\u001b[32m, line 3\u001b[39m\n\u001b[32m      1\u001b[39m \u001b[38;5;66;03m#infinite loop using break statement..!!\u001b[39;00m\n\u001b[32m      2\u001b[39m \u001b[38;5;28;01mwhile\u001b[39;00m \u001b[38;5;28;01mTrue\u001b[39;00m:\n\u001b[32m----> \u001b[39m\u001b[32m3\u001b[39m     res = (\u001b[38;5;28;43minput\u001b[39;49m\u001b[43m(\u001b[49m\u001b[33;43m\"\u001b[39;49m\u001b[33;43menter a number 5:\u001b[39;49m\u001b[33;43m\"\u001b[39;49m\u001b[43m)\u001b[49m)\n\u001b[32m      4\u001b[39m     \u001b[38;5;28;01mif\u001b[39;00m res == \u001b[32m5\u001b[39m:\n\u001b[32m      5\u001b[39m         \u001b[38;5;28;01mbreak\u001b[39;00m\n",
      "\u001b[36mFile \u001b[39m\u001b[32m~\\AppData\\Roaming\\Python\\Python313\\site-packages\\ipykernel\\kernelbase.py:1282\u001b[39m, in \u001b[36mKernel.raw_input\u001b[39m\u001b[34m(self, prompt)\u001b[39m\n\u001b[32m   1280\u001b[39m     msg = \u001b[33m\"\u001b[39m\u001b[33mraw_input was called, but this frontend does not support input requests.\u001b[39m\u001b[33m\"\u001b[39m\n\u001b[32m   1281\u001b[39m     \u001b[38;5;28;01mraise\u001b[39;00m StdinNotImplementedError(msg)\n\u001b[32m-> \u001b[39m\u001b[32m1282\u001b[39m \u001b[38;5;28;01mreturn\u001b[39;00m \u001b[38;5;28;43mself\u001b[39;49m\u001b[43m.\u001b[49m\u001b[43m_input_request\u001b[49m\u001b[43m(\u001b[49m\n\u001b[32m   1283\u001b[39m \u001b[43m    \u001b[49m\u001b[38;5;28;43mstr\u001b[39;49m\u001b[43m(\u001b[49m\u001b[43mprompt\u001b[49m\u001b[43m)\u001b[49m\u001b[43m,\u001b[49m\n\u001b[32m   1284\u001b[39m \u001b[43m    \u001b[49m\u001b[38;5;28;43mself\u001b[39;49m\u001b[43m.\u001b[49m\u001b[43m_parent_ident\u001b[49m\u001b[43m[\u001b[49m\u001b[33;43m\"\u001b[39;49m\u001b[33;43mshell\u001b[39;49m\u001b[33;43m\"\u001b[39;49m\u001b[43m]\u001b[49m\u001b[43m,\u001b[49m\n\u001b[32m   1285\u001b[39m \u001b[43m    \u001b[49m\u001b[38;5;28;43mself\u001b[39;49m\u001b[43m.\u001b[49m\u001b[43mget_parent\u001b[49m\u001b[43m(\u001b[49m\u001b[33;43m\"\u001b[39;49m\u001b[33;43mshell\u001b[39;49m\u001b[33;43m\"\u001b[39;49m\u001b[43m)\u001b[49m\u001b[43m,\u001b[49m\n\u001b[32m   1286\u001b[39m \u001b[43m    \u001b[49m\u001b[43mpassword\u001b[49m\u001b[43m=\u001b[49m\u001b[38;5;28;43;01mFalse\u001b[39;49;00m\u001b[43m,\u001b[49m\n\u001b[32m   1287\u001b[39m \u001b[43m\u001b[49m\u001b[43m)\u001b[49m\n",
      "\u001b[36mFile \u001b[39m\u001b[32m~\\AppData\\Roaming\\Python\\Python313\\site-packages\\ipykernel\\kernelbase.py:1325\u001b[39m, in \u001b[36mKernel._input_request\u001b[39m\u001b[34m(self, prompt, ident, parent, password)\u001b[39m\n\u001b[32m   1322\u001b[39m \u001b[38;5;28;01mexcept\u001b[39;00m \u001b[38;5;167;01mKeyboardInterrupt\u001b[39;00m:\n\u001b[32m   1323\u001b[39m     \u001b[38;5;66;03m# re-raise KeyboardInterrupt, to truncate traceback\u001b[39;00m\n\u001b[32m   1324\u001b[39m     msg = \u001b[33m\"\u001b[39m\u001b[33mInterrupted by user\u001b[39m\u001b[33m\"\u001b[39m\n\u001b[32m-> \u001b[39m\u001b[32m1325\u001b[39m     \u001b[38;5;28;01mraise\u001b[39;00m \u001b[38;5;167;01mKeyboardInterrupt\u001b[39;00m(msg) \u001b[38;5;28;01mfrom\u001b[39;00m\u001b[38;5;250m \u001b[39m\u001b[38;5;28;01mNone\u001b[39;00m\n\u001b[32m   1326\u001b[39m \u001b[38;5;28;01mexcept\u001b[39;00m \u001b[38;5;167;01mException\u001b[39;00m:\n\u001b[32m   1327\u001b[39m     \u001b[38;5;28mself\u001b[39m.log.warning(\u001b[33m\"\u001b[39m\u001b[33mInvalid Message:\u001b[39m\u001b[33m\"\u001b[39m, exc_info=\u001b[38;5;28;01mTrue\u001b[39;00m)\n",
      "\u001b[31mKeyboardInterrupt\u001b[39m: Interrupted by user"
     ]
    }
   ],
   "source": [
    "#infinite loop using break statement..!!\n",
    "while True:\n",
    "    res = (input(\"enter a number 5:\"))\n",
    "    if res == 5:\n",
    "        break"
   ]
  },
  {
   "cell_type": "code",
   "execution_count": 14,
   "id": "3786e2a4",
   "metadata": {},
   "outputs": [
    {
     "ename": "KeyboardInterrupt",
     "evalue": "Interrupted by user",
     "output_type": "error",
     "traceback": [
      "\u001b[31m---------------------------------------------------------------------------\u001b[39m",
      "\u001b[31mKeyboardInterrupt\u001b[39m                         Traceback (most recent call last)",
      "\u001b[36mCell\u001b[39m\u001b[36m \u001b[39m\u001b[32mIn[14]\u001b[39m\u001b[32m, line 2\u001b[39m\n\u001b[32m      1\u001b[39m \u001b[38;5;28;01mwhile\u001b[39;00m \u001b[38;5;28;01mTrue\u001b[39;00m :\n\u001b[32m----> \u001b[39m\u001b[32m2\u001b[39m     res = \u001b[38;5;28;43minput\u001b[39;49m\u001b[43m(\u001b[49m\u001b[33;43m\"\u001b[39;49m\u001b[33;43mEnter the number 5:\u001b[39;49m\u001b[33;43m\"\u001b[39;49m\u001b[43m)\u001b[49m\n\u001b[32m      3\u001b[39m     \u001b[38;5;28;01mtry\u001b[39;00m:\n\u001b[32m      4\u001b[39m         res=\u001b[38;5;28mint\u001b[39m (res)\n",
      "\u001b[36mFile \u001b[39m\u001b[32m~\\AppData\\Roaming\\Python\\Python313\\site-packages\\ipykernel\\kernelbase.py:1282\u001b[39m, in \u001b[36mKernel.raw_input\u001b[39m\u001b[34m(self, prompt)\u001b[39m\n\u001b[32m   1280\u001b[39m     msg = \u001b[33m\"\u001b[39m\u001b[33mraw_input was called, but this frontend does not support input requests.\u001b[39m\u001b[33m\"\u001b[39m\n\u001b[32m   1281\u001b[39m     \u001b[38;5;28;01mraise\u001b[39;00m StdinNotImplementedError(msg)\n\u001b[32m-> \u001b[39m\u001b[32m1282\u001b[39m \u001b[38;5;28;01mreturn\u001b[39;00m \u001b[38;5;28;43mself\u001b[39;49m\u001b[43m.\u001b[49m\u001b[43m_input_request\u001b[49m\u001b[43m(\u001b[49m\n\u001b[32m   1283\u001b[39m \u001b[43m    \u001b[49m\u001b[38;5;28;43mstr\u001b[39;49m\u001b[43m(\u001b[49m\u001b[43mprompt\u001b[49m\u001b[43m)\u001b[49m\u001b[43m,\u001b[49m\n\u001b[32m   1284\u001b[39m \u001b[43m    \u001b[49m\u001b[38;5;28;43mself\u001b[39;49m\u001b[43m.\u001b[49m\u001b[43m_parent_ident\u001b[49m\u001b[43m[\u001b[49m\u001b[33;43m\"\u001b[39;49m\u001b[33;43mshell\u001b[39;49m\u001b[33;43m\"\u001b[39;49m\u001b[43m]\u001b[49m\u001b[43m,\u001b[49m\n\u001b[32m   1285\u001b[39m \u001b[43m    \u001b[49m\u001b[38;5;28;43mself\u001b[39;49m\u001b[43m.\u001b[49m\u001b[43mget_parent\u001b[49m\u001b[43m(\u001b[49m\u001b[33;43m\"\u001b[39;49m\u001b[33;43mshell\u001b[39;49m\u001b[33;43m\"\u001b[39;49m\u001b[43m)\u001b[49m\u001b[43m,\u001b[49m\n\u001b[32m   1286\u001b[39m \u001b[43m    \u001b[49m\u001b[43mpassword\u001b[49m\u001b[43m=\u001b[49m\u001b[38;5;28;43;01mFalse\u001b[39;49;00m\u001b[43m,\u001b[49m\n\u001b[32m   1287\u001b[39m \u001b[43m\u001b[49m\u001b[43m)\u001b[49m\n",
      "\u001b[36mFile \u001b[39m\u001b[32m~\\AppData\\Roaming\\Python\\Python313\\site-packages\\ipykernel\\kernelbase.py:1325\u001b[39m, in \u001b[36mKernel._input_request\u001b[39m\u001b[34m(self, prompt, ident, parent, password)\u001b[39m\n\u001b[32m   1322\u001b[39m \u001b[38;5;28;01mexcept\u001b[39;00m \u001b[38;5;167;01mKeyboardInterrupt\u001b[39;00m:\n\u001b[32m   1323\u001b[39m     \u001b[38;5;66;03m# re-raise KeyboardInterrupt, to truncate traceback\u001b[39;00m\n\u001b[32m   1324\u001b[39m     msg = \u001b[33m\"\u001b[39m\u001b[33mInterrupted by user\u001b[39m\u001b[33m\"\u001b[39m\n\u001b[32m-> \u001b[39m\u001b[32m1325\u001b[39m     \u001b[38;5;28;01mraise\u001b[39;00m \u001b[38;5;167;01mKeyboardInterrupt\u001b[39;00m(msg) \u001b[38;5;28;01mfrom\u001b[39;00m\u001b[38;5;250m \u001b[39m\u001b[38;5;28;01mNone\u001b[39;00m\n\u001b[32m   1326\u001b[39m \u001b[38;5;28;01mexcept\u001b[39;00m \u001b[38;5;167;01mException\u001b[39;00m:\n\u001b[32m   1327\u001b[39m     \u001b[38;5;28mself\u001b[39m.log.warning(\u001b[33m\"\u001b[39m\u001b[33mInvalid Message:\u001b[39m\u001b[33m\"\u001b[39m, exc_info=\u001b[38;5;28;01mTrue\u001b[39;00m)\n",
      "\u001b[31mKeyboardInterrupt\u001b[39m: Interrupted by user"
     ]
    }
   ],
   "source": [
    "while True :\n",
    "    res = input(\"Enter the number 5:\")\n",
    "    try:\n",
    "        res=int (res)\n",
    "    except:                                  # try catch bloke vale methods vala hai ye abhhi nahi samaj aaye aponako badamee dekhate.....!!\n",
    "        pass\n",
    "    if res == 5:\n",
    "        print(\"thanks !\")\n",
    "        break"
   ]
  },
  {
   "cell_type": "code",
   "execution_count": 15,
   "id": "77930f40",
   "metadata": {},
   "outputs": [
    {
     "name": "stdout",
     "output_type": "stream",
     "text": [
      "2 x 1 = 2 \n",
      "\n",
      "2 x 2 = 4 \n",
      "\n",
      "2 x 3 = 6 \n",
      "\n",
      "2 x 4 = 8 \n",
      "\n",
      "2 x 5 = 10 \n",
      "\n",
      "2 x 6 = 12 \n",
      "\n",
      "2 x 7 = 14 \n",
      "\n",
      "2 x 8 = 16 \n",
      "\n",
      "2 x 9 = 18 \n",
      "\n",
      "2 x 10 = 20 \n",
      "\n"
     ]
    },
    {
     "ename": "KeyboardInterrupt",
     "evalue": "Interrupted by user",
     "output_type": "error",
     "traceback": [
      "\u001b[31m---------------------------------------------------------------------------\u001b[39m",
      "\u001b[31mKeyboardInterrupt\u001b[39m                         Traceback (most recent call last)",
      "\u001b[36mCell\u001b[39m\u001b[36m \u001b[39m\u001b[32mIn[15]\u001b[39m\u001b[32m, line 7\u001b[39m\n\u001b[32m      5\u001b[39m     \u001b[38;5;28mprint\u001b[39m (\u001b[33m'\u001b[39m\u001b[38;5;132;01m%d\u001b[39;00m\u001b[33m x \u001b[39m\u001b[38;5;132;01m%d\u001b[39;00m\u001b[33m = \u001b[39m\u001b[38;5;132;01m%d\u001b[39;00m\u001b[33m \u001b[39m\u001b[38;5;130;01m\\n\u001b[39;00m\u001b[33m'\u001b[39m %(n,i,n*i))\n\u001b[32m      6\u001b[39m     i+=\u001b[32m1\u001b[39m\n\u001b[32m----> \u001b[39m\u001b[32m7\u001b[39m choice = \u001b[38;5;28mint\u001b[39m (\u001b[38;5;28;43minput\u001b[39;49m\u001b[43m(\u001b[49m\u001b[33;43m\"\u001b[39;49m\u001b[33;43mDo you want to continue printing the table of press no:\u001b[39;49m\u001b[33;43m\"\u001b[39;49m\u001b[43m)\u001b[49m)                      \n\u001b[32m      8\u001b[39m \u001b[38;5;28;01mif\u001b[39;00m choice == \u001b[32m0\u001b[39m:\n\u001b[32m      9\u001b[39m     \u001b[38;5;28mprint\u001b[39m(\u001b[33m\"\u001b[39m\u001b[33mExiting the program....\u001b[39m\u001b[33m\"\u001b[39m)\n",
      "\u001b[36mFile \u001b[39m\u001b[32m~\\AppData\\Roaming\\Python\\Python313\\site-packages\\ipykernel\\kernelbase.py:1282\u001b[39m, in \u001b[36mKernel.raw_input\u001b[39m\u001b[34m(self, prompt)\u001b[39m\n\u001b[32m   1280\u001b[39m     msg = \u001b[33m\"\u001b[39m\u001b[33mraw_input was called, but this frontend does not support input requests.\u001b[39m\u001b[33m\"\u001b[39m\n\u001b[32m   1281\u001b[39m     \u001b[38;5;28;01mraise\u001b[39;00m StdinNotImplementedError(msg)\n\u001b[32m-> \u001b[39m\u001b[32m1282\u001b[39m \u001b[38;5;28;01mreturn\u001b[39;00m \u001b[38;5;28;43mself\u001b[39;49m\u001b[43m.\u001b[49m\u001b[43m_input_request\u001b[49m\u001b[43m(\u001b[49m\n\u001b[32m   1283\u001b[39m \u001b[43m    \u001b[49m\u001b[38;5;28;43mstr\u001b[39;49m\u001b[43m(\u001b[49m\u001b[43mprompt\u001b[49m\u001b[43m)\u001b[49m\u001b[43m,\u001b[49m\n\u001b[32m   1284\u001b[39m \u001b[43m    \u001b[49m\u001b[38;5;28;43mself\u001b[39;49m\u001b[43m.\u001b[49m\u001b[43m_parent_ident\u001b[49m\u001b[43m[\u001b[49m\u001b[33;43m\"\u001b[39;49m\u001b[33;43mshell\u001b[39;49m\u001b[33;43m\"\u001b[39;49m\u001b[43m]\u001b[49m\u001b[43m,\u001b[49m\n\u001b[32m   1285\u001b[39m \u001b[43m    \u001b[49m\u001b[38;5;28;43mself\u001b[39;49m\u001b[43m.\u001b[49m\u001b[43mget_parent\u001b[49m\u001b[43m(\u001b[49m\u001b[33;43m\"\u001b[39;49m\u001b[33;43mshell\u001b[39;49m\u001b[33;43m\"\u001b[39;49m\u001b[43m)\u001b[49m\u001b[43m,\u001b[49m\n\u001b[32m   1286\u001b[39m \u001b[43m    \u001b[49m\u001b[43mpassword\u001b[49m\u001b[43m=\u001b[49m\u001b[38;5;28;43;01mFalse\u001b[39;49;00m\u001b[43m,\u001b[49m\n\u001b[32m   1287\u001b[39m \u001b[43m\u001b[49m\u001b[43m)\u001b[49m\n",
      "\u001b[36mFile \u001b[39m\u001b[32m~\\AppData\\Roaming\\Python\\Python313\\site-packages\\ipykernel\\kernelbase.py:1325\u001b[39m, in \u001b[36mKernel._input_request\u001b[39m\u001b[34m(self, prompt, ident, parent, password)\u001b[39m\n\u001b[32m   1322\u001b[39m \u001b[38;5;28;01mexcept\u001b[39;00m \u001b[38;5;167;01mKeyboardInterrupt\u001b[39;00m:\n\u001b[32m   1323\u001b[39m     \u001b[38;5;66;03m# re-raise KeyboardInterrupt, to truncate traceback\u001b[39;00m\n\u001b[32m   1324\u001b[39m     msg = \u001b[33m\"\u001b[39m\u001b[33mInterrupted by user\u001b[39m\u001b[33m\"\u001b[39m\n\u001b[32m-> \u001b[39m\u001b[32m1325\u001b[39m     \u001b[38;5;28;01mraise\u001b[39;00m \u001b[38;5;167;01mKeyboardInterrupt\u001b[39;00m(msg) \u001b[38;5;28;01mfrom\u001b[39;00m\u001b[38;5;250m \u001b[39m\u001b[38;5;28;01mNone\u001b[39;00m\n\u001b[32m   1326\u001b[39m \u001b[38;5;28;01mexcept\u001b[39;00m \u001b[38;5;167;01mException\u001b[39;00m:\n\u001b[32m   1327\u001b[39m     \u001b[38;5;28mself\u001b[39m.log.warning(\u001b[33m\"\u001b[39m\u001b[33mInvalid Message:\u001b[39m\u001b[33m\"\u001b[39m, exc_info=\u001b[38;5;28;01mTrue\u001b[39;00m)\n",
      "\u001b[31mKeyboardInterrupt\u001b[39m: Interrupted by user"
     ]
    }
   ],
   "source": [
    "n = 2\n",
    "while True :\n",
    "    i=1\n",
    "    while i<=10:\n",
    "        print ('%d x %d = %d \\n' %(n,i,n*i))\n",
    "        i+=1\n",
    "    choice = int (input(\"Do you want to continue printing the table of press no:\"))                      \n",
    "    if choice == 0:\n",
    "        print(\"Exiting the program....\")\n",
    "        break \n",
    "    n+=1\n",
    "print(\"Program finished successfully\")\n",
    "\n"
   ]
  },
  {
   "cell_type": "code",
   "execution_count": 16,
   "id": "d16c8ea8",
   "metadata": {},
   "outputs": [
    {
     "name": "stdout",
     "output_type": "stream",
     "text": [
      "2 x1 = 2 \n",
      "\n",
      "2 x2 = 4 \n",
      "\n",
      "2 x3 = 6 \n",
      "\n",
      "2 x4 = 8 \n",
      "\n",
      "2 x5 = 10 \n",
      "\n",
      "2 x6 = 12 \n",
      "\n",
      "2 x7 = 14 \n",
      "\n",
      "2 x8 = 16 \n",
      "\n",
      "2 x9 = 18 \n",
      "\n",
      "2 x10 = 20 \n",
      "\n"
     ]
    },
    {
     "ename": "ValueError",
     "evalue": "invalid literal for int() with base 10: ''",
     "output_type": "error",
     "traceback": [
      "\u001b[31m---------------------------------------------------------------------------\u001b[39m",
      "\u001b[31mValueError\u001b[39m                                Traceback (most recent call last)",
      "\u001b[36mCell\u001b[39m\u001b[36m \u001b[39m\u001b[32mIn[16]\u001b[39m\u001b[32m, line 7\u001b[39m\n\u001b[32m      5\u001b[39m     \u001b[38;5;28mprint\u001b[39m(\u001b[33m\"\u001b[39m\u001b[38;5;132;01m%d\u001b[39;00m\u001b[33m x\u001b[39m\u001b[38;5;132;01m%d\u001b[39;00m\u001b[33m = \u001b[39m\u001b[38;5;132;01m%d\u001b[39;00m\u001b[33m \u001b[39m\u001b[38;5;130;01m\\n\u001b[39;00m\u001b[33m\"\u001b[39m %(a,b,a*b))\n\u001b[32m      6\u001b[39m     b+=\u001b[32m1\u001b[39m\n\u001b[32m----> \u001b[39m\u001b[32m7\u001b[39m nivad = \u001b[38;5;28;43mint\u001b[39;49m\u001b[43m(\u001b[49m\u001b[38;5;28;43minput\u001b[39;49m\u001b[43m(\u001b[49m\u001b[33;43m\"\u001b[39;49m\u001b[33;43mIsage kya kya bolega tu:\u001b[39;49m\u001b[33;43m\"\u001b[39;49m\u001b[43m)\u001b[49m\u001b[43m)\u001b[49m\n\u001b[32m      8\u001b[39m \u001b[38;5;28;01mif\u001b[39;00m nivad == \u001b[32m0\u001b[39m:\n\u001b[32m      9\u001b[39m     \u001b[38;5;28mprint\u001b[39m(\u001b[33m\"\u001b[39m\u001b[33mkhatam program.......!\u001b[39m\u001b[33m\"\u001b[39m)\n",
      "\u001b[31mValueError\u001b[39m: invalid literal for int() with base 10: ''"
     ]
    }
   ],
   "source": [
    "a=2                                                      \n",
    "while True :\n",
    "    b= 1\n",
    "    while b <=10:\n",
    "        print(\"%d x%d = %d \\n\" %(a,b,a*b))\n",
    "        b+=1\n",
    "    nivad = int(input(\"Isage kya kya bolega tu:\"))\n",
    "    if nivad == 0:\n",
    "        print(\"khatam program.......!\")\n",
    "        break\n",
    "    n+=1\n",
    "print(\"program finished successfully\")    \n",
    "                                                                       "
   ]
  },
  {
   "cell_type": "code",
   "execution_count": null,
   "id": "7a2c8449",
   "metadata": {},
   "outputs": [],
   "source": [
    "a=2                                                      \n",
    "while True :\n",
    "    b= 1\n",
    "    while b <=10:\n",
    "        print(\"%d x%d = %d \\n\" %(a,b,a*b))\n",
    "        b+=1\n",
    "    nivad = int(input(\"Isage kya kya bolega tu:\"))\n",
    "    if nivad == 0:\n",
    "        print(\"khatam program.......!\")\n",
    "        break\n",
    "    n+=1\n",
    "print(\"program finished successfully\")    \n",
    "                                                                       "
   ]
  },
  {
   "cell_type": "code",
   "execution_count": 17,
   "id": "4371a31a",
   "metadata": {},
   "outputs": [
    {
     "ename": "SyntaxError",
     "evalue": "invalid syntax (755048671.py, line 12)",
     "output_type": "error",
     "traceback": [
      "  \u001b[36mCell\u001b[39m\u001b[36m \u001b[39m\u001b[32mIn[17]\u001b[39m\u001b[32m, line 12\u001b[39m\n\u001b[31m    \u001b[39m\u001b[31melif:\u001b[39m\n        ^\n\u001b[31mSyntaxError\u001b[39m\u001b[31m:\u001b[39m invalid syntax\n"
     ]
    }
   ],
   "source": [
    "num = [34,12,54,23,75,34,11]\n",
    "def prime_number(number):\n",
    "    condition = 0\n",
    "    iteration = 2\n",
    "    while iteration <= number/2:\n",
    "        if number % iteration == 0:\n",
    "            condtion = 1\n",
    "            break\n",
    "    iteration = iteration +1\n",
    "    if condtion == 0:\n",
    "        print(f\"{number} is a PRIME number\")\n",
    "    elif:\n",
    "        print(f\"{number} is not a PRIME number\")\n",
    "    else: \n",
    "         print (f\"{number} is not a prime number\")\n",
    "    for i in num:\n",
    "        print_number(i)"
   ]
  },
  {
   "cell_type": "code",
   "execution_count": null,
   "id": "957b1134",
   "metadata": {},
   "outputs": [],
   "source": [
    "num = [34, 12, 54, 23, 75, 34, 11]\n",
    "\n",
    "def prime_number(number):\n",
    "    condition = 0\n",
    "    iteration = 2\n",
    "    while iteration <= number / 2:\n",
    "        if number % iteration == 0:\n",
    "            condition = 1\n",
    "            break\n",
    "        iteration += 1\n",
    "    if number == 1:\n",
    "        print(f\"{number} is not a prime number\")\n",
    "    elif condition == 0:\n",
    "        print(f\"{number} is a PRIME number\")\n",
    "    else:\n",
    "        print(f\"{number} is not a prime number\")\n",
    "\n",
    "for i in num:\n",
    "    prime_number(i)\n"
   ]
  },
  {
   "cell_type": "code",
   "execution_count": 18,
   "id": "07623f6e",
   "metadata": {},
   "outputs": [
    {
     "name": "stdout",
     "output_type": "stream",
     "text": [
      "1\n",
      "2\n",
      "3\n",
      "4\n",
      "No break\n",
      "\n",
      "1\n"
     ]
    }
   ],
   "source": [
    "i = 0\n",
    "while i < 4:\n",
    "    i+=1\n",
    "    print(i)\n",
    "else:\n",
    "    print(\"No break\\n\")\n",
    "i=0\n",
    "while i<4:\n",
    "    i+=1\n",
    "    print(i)\n",
    "    break\n",
    "else:\n",
    "    print(\"No break\")          "
   ]
  },
  {
   "cell_type": "code",
   "execution_count": 19,
   "id": "3faabfa1",
   "metadata": {},
   "outputs": [
    {
     "name": "stdout",
     "output_type": "stream",
     "text": [
      "0 1 2 3 4 5 6 8 9 complet\n"
     ]
    }
   ],
   "source": [
    "#most importent example break continue pass!!\n",
    "\n",
    "#[1] continue\n",
    "for i in range(10):\n",
    "    \n",
    "    if i== 7:\n",
    "        continue\n",
    "    print(i,end=\" \")\n",
    "print(\"complet\")\n",
    "\n",
    "#output- 0 1 2 3 4 5 6 8 9 complet\n",
    "\n",
    "#[2]pa"
   ]
  },
  {
   "cell_type": "code",
   "execution_count": null,
   "id": "63e04c6c",
   "metadata": {},
   "outputs": [],
   "source": []
  },
  {
   "cell_type": "code",
   "execution_count": null,
   "id": "1c219aa1",
   "metadata": {},
   "outputs": [],
   "source": []
  }
 ],
 "metadata": {
  "kernelspec": {
   "display_name": "Python 3",
   "language": "python",
   "name": "python3"
  },
  "language_info": {
   "codemirror_mode": {
    "name": "ipython",
    "version": 3
   },
   "file_extension": ".py",
   "mimetype": "text/x-python",
   "name": "python",
   "nbconvert_exporter": "python",
   "pygments_lexer": "ipython3",
   "version": "3.13.4"
  }
 },
 "nbformat": 4,
 "nbformat_minor": 5
}
