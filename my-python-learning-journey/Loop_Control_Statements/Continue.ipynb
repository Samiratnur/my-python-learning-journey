{
 "cells": [
  {
   "cell_type": "code",
   "execution_count": 1,
   "id": "08521b07",
   "metadata": {},
   "outputs": [
    {
     "ename": "KeyboardInterrupt",
     "evalue": "",
     "output_type": "error",
     "traceback": [
      "\u001b[31m---------------------------------------------------------------------------\u001b[39m",
      "\u001b[31mKeyboardInterrupt\u001b[39m                         Traceback (most recent call last)",
      "\u001b[36mCell\u001b[39m\u001b[36m \u001b[39m\u001b[32mIn[1]\u001b[39m\u001b[32m, line 2\u001b[39m\n\u001b[32m      1\u001b[39m x=\u001b[32m1\u001b[39m\n\u001b[32m----> \u001b[39m\u001b[32m2\u001b[39m \u001b[38;5;28;01mwhile\u001b[39;00m x<\u001b[32m11\u001b[39m :\n\u001b[32m      3\u001b[39m     \u001b[38;5;28;01mif\u001b[39;00m x == \u001b[32m10\u001b[39m:\n\u001b[32m      4\u001b[39m         \u001b[38;5;28;01mcontinue\u001b[39;00m\n",
      "\u001b[31mKeyboardInterrupt\u001b[39m: "
     ]
    }
   ],
   "source": [
    "x=1\n",
    "while x<11 :\n",
    "    if x == 10:\n",
    "        continue\n",
    "        print(x)\n",
    "        x=x+1\n",
    "        "
   ]
  },
  {
   "cell_type": "code",
   "execution_count": null,
   "id": "5bf80113",
   "metadata": {},
   "outputs": [],
   "source": [
    "i=0\n",
    "while i<10:\n",
    "    if i ==5:\n",
    "        continue\n",
    "    print(i)\n",
    "    i+=1\n",
    "    "
   ]
  },
  {
   "cell_type": "code",
   "execution_count": 3,
   "id": "f7630c31",
   "metadata": {},
   "outputs": [
    {
     "name": "stdout",
     "output_type": "stream",
     "text": [
      "j v t p o i n t "
     ]
    }
   ],
   "source": [
    "string_ = 'javatpoint'\n",
    "iterator = 0\n",
    "while iterator < len(string_):\n",
    "    if string_ [iterator] == 'a':\n",
    "        iterator+=1\n",
    "        continue\n",
    "    print(string_[iterator],end=' ')\n",
    "    iterator+=1\n",
    "\n",
    "    \n",
    "        "
   ]
  },
  {
   "cell_type": "code",
   "execution_count": null,
   "id": "20a497db",
   "metadata": {},
   "outputs": [],
   "source": [
    "a='javatpoint'\n",
    "b=0\n",
    "while b < len(a):\n",
    "    if a [b] == 't':\n",
    "        continue\n",
    "        print(a[b])\n",
    "        b+=1\n",
    "        \n",
    "        "
   ]
  },
  {
   "cell_type": "code",
   "execution_count": 4,
   "id": "63db4aa0",
   "metadata": {},
   "outputs": [
    {
     "name": "stdout",
     "output_type": "stream",
     "text": [
      "corrent letter: G\n",
      "corrent letter: k\n",
      "corrent letter: f\n",
      "corrent letter: o\n",
      "corrent letter: r\n",
      "corrent letter: G\n",
      "corrent letter: k\n"
     ]
    }
   ],
   "source": [
    "i=0\n",
    "a='GeekforGeeks'\n",
    "while i<len(a):\n",
    "    if a[i]=='e'or a[i]=='s':\n",
    "        i+=1\n",
    "        continue\n",
    "    print(\"corrent letter:\",a[i])\n",
    "    i+=1"
   ]
  },
  {
   "cell_type": "code",
   "execution_count": 5,
   "id": "f87f7f5f",
   "metadata": {},
   "outputs": [
    {
     "name": "stdout",
     "output_type": "stream",
     "text": [
      "1\n",
      "2\n",
      "4\n",
      "5\n",
      "6\n",
      "7\n",
      "8\n",
      "9\n",
      "10\n"
     ]
    }
   ],
   "source": [
    "i=0\n",
    "while i<10:\n",
    "    i+=1\n",
    "    if i ==3:\n",
    "        continue\n",
    "    print (i)"
   ]
  },
  {
   "cell_type": "code",
   "execution_count": 6,
   "id": "effb8d4e",
   "metadata": {},
   "outputs": [
    {
     "name": "stdout",
     "output_type": "stream",
     "text": [
      "4\n",
      "3\n",
      "1\n",
      "0\n",
      "-1\n",
      "loop Ended\n"
     ]
    }
   ],
   "source": [
    "n=5\n",
    "while n>=0:\n",
    "    n-=1\n",
    "    if n==2:\n",
    "        continue\n",
    "    print(n)\n",
    "print(\"loop Ended\")"
   ]
  },
  {
   "cell_type": "code",
   "execution_count": null,
   "id": "0c819a61",
   "metadata": {},
   "outputs": [],
   "source": [
    "a=(input(\"enter no:\"))\n",
    "while True :\n",
    "    if a == 10:\n",
    "        continue \n",
    "    print (a)"
   ]
  },
  {
   "cell_type": "code",
   "execution_count": 8,
   "id": "f0fd8e90",
   "metadata": {},
   "outputs": [
    {
     "name": "stdout",
     "output_type": "stream",
     "text": [
      "prime factors for : 60\n",
      "2\n",
      "2\n",
      "3\n",
      "5\n"
     ]
    }
   ],
   "source": [
    "num = 60\n",
    "print (\"prime factors for :\",num)\n",
    "d= 2\n",
    "while num>1:\n",
    "    if num % d == 0:\n",
    "        print(d)                                                        \n",
    "        num = num/d\n",
    "        continue\n",
    "    d=d+1"
   ]
  },
  {
   "cell_type": "code",
   "execution_count": null,
   "id": "292fe03d",
   "metadata": {},
   "outputs": [],
   "source": [
    "num=int(input(\"enter a  number\"))\n",
    "for i in range(1,num+1):\n",
    "    if num%i == 0:\n",
    "        print(i)"
   ]
  },
  {
   "cell_type": "code",
   "execution_count": 11,
   "id": "96d9ed84",
   "metadata": {},
   "outputs": [
    {
     "name": "stdout",
     "output_type": "stream",
     "text": [
      "\n",
      "Multiplication table of 1\n",
      "1 2 3 4 5 6 7 8 9 10 \n",
      "Multiplication table of 2\n",
      "2 4 6 8 10 12 14 16 18 20 \n",
      "Multiplication table of 4\n",
      "4 8 12 16 20 24 28 32 36 40 \n",
      "Multiplication table of 5\n",
      "5 10 15 20 25 30 35 40 45 50 \n",
      "Multiplication table of 7\n",
      "7 14 21 28 35 42 49 56 63 70 \n",
      "Multiplication table of 8\n",
      "8 16 24 32 40 48 56 64 72 80 \n",
      "Multiplication table of 10\n",
      "10 20 30 40 50 60 70 80 90 100 "
     ]
    }
   ],
   "source": [
    "for i in range(1,11):\n",
    "    if i % 3==0:\n",
    "        continue\n",
    "    print(\"\\n\"'Multiplication table of' ,i)\n",
    "    for j in range(1,11):\n",
    "        print(i*j,end =\" \") "
   ]
  },
  {
   "cell_type": "code",
   "execution_count": 12,
   "id": "27ab7df0",
   "metadata": {},
   "outputs": [
    {
     "ename": "SyntaxError",
     "evalue": "invalid syntax (3956912654.py, line 2)",
     "output_type": "error",
     "traceback": [
      "  \u001b[36mCell\u001b[39m\u001b[36m \u001b[39m\u001b[32mIn[12]\u001b[39m\u001b[32m, line 2\u001b[39m\n\u001b[31m    \u001b[39m\u001b[31mif i % 2==0:          is line ka matalab if range se 1 value chod chod ke aage bhej ...! i.e-i%1 = 1\u001b[39m\n                          ^\n\u001b[31mSyntaxError\u001b[39m\u001b[31m:\u001b[39m invalid syntax\n"
     ]
    }
   ],
   "source": [
    "for i in range(1,11):\n",
    "    if i % 2==0:          is line ka matalab if range se 1 value chod chod ke aage bhej ...! i.e-i%1 = 1\n",
    "        continue          continue yahaper pura range suravat se start secheck karega            i%3 = 3\n",
    "    print(i)                                                                                     i%5 = 5"
   ]
  },
  {
   "cell_type": "code",
   "execution_count": 13,
   "id": "2079ffe6",
   "metadata": {},
   "outputs": [
    {
     "name": "stdout",
     "output_type": "stream",
     "text": [
      "2\n",
      "4\n",
      "6\n",
      "8\n",
      "10\n"
     ]
    }
   ],
   "source": [
    "for i in range(1,11):\n",
    "    if i % 2==0:      \n",
    "        print(i)\n",
    "    \n",
    "        "
   ]
  },
  {
   "cell_type": "code",
   "execution_count": 14,
   "id": "2ddebabe",
   "metadata": {},
   "outputs": [
    {
     "name": "stdout",
     "output_type": "stream",
     "text": [
      "1\n",
      "2\n",
      "3\n",
      "4\n",
      "5\n",
      "6\n",
      "7\n",
      "8\n",
      "9\n",
      "10\n"
     ]
    }
   ],
   "source": [
    "for i in range(1,11):           #yaha par if nahi lagaya isaliye pura table aa gaya...!\n",
    "    print(i)"
   ]
  },
  {
   "cell_type": "code",
   "execution_count": 15,
   "id": "398ea527",
   "metadata": {},
   "outputs": [
    {
     "name": "stdout",
     "output_type": "stream",
     "text": [
      "1\n",
      "2\n",
      "3\n",
      "4\n",
      "5\n",
      "6\n",
      "7\n",
      "8\n",
      "9\n"
     ]
    }
   ],
   "source": [
    "for i in range(1,10):\n",
    "    if i == 0:\n",
    "        continue\n",
    "    print(i)"
   ]
  },
  {
   "cell_type": "code",
   "execution_count": 17,
   "id": "3d2b0c94",
   "metadata": {},
   "outputs": [
    {
     "name": "stdout",
     "output_type": "stream",
     "text": [
      "3\n",
      "6\n",
      "9\n"
     ]
    }
   ],
   "source": [
    "\n",
    "for i in range(1,10):\n",
    "    if i % 3 == 0:\n",
    "        print(i)\n",
    "\n",
    "#djfnfhrnnhnbvftvf"
   ]
  },
  {
   "cell_type": "code",
   "execution_count": 18,
   "id": "e325ce30",
   "metadata": {},
   "outputs": [
    {
     "ename": "IndentationError",
     "evalue": "expected an indented block after 'if' statement on line 2 (4173962978.py, line 3)",
     "output_type": "error",
     "traceback": [
      "  \u001b[36mCell\u001b[39m\u001b[36m \u001b[39m\u001b[32mIn[18]\u001b[39m\u001b[32m, line 3\u001b[39m\n\u001b[31m    \u001b[39m\u001b[31mprint(i)\u001b[39m\n    ^\n\u001b[31mIndentationError\u001b[39m\u001b[31m:\u001b[39m expected an indented block after 'if' statement on line 2\n"
     ]
    }
   ],
   "source": [
    "for i in range(1,10):\n",
    "    if i == 0:\n",
    "    print(i)\n",
    "    "
   ]
  },
  {
   "cell_type": "code",
   "execution_count": 19,
   "id": "dbf050de",
   "metadata": {},
   "outputs": [],
   "source": [
    "for i in range(1,10):\n",
    "    if i == 0:\n",
    "        print(i)"
   ]
  },
  {
   "cell_type": "code",
   "execution_count": 20,
   "id": "9d3f793f",
   "metadata": {},
   "outputs": [
    {
     "name": "stdout",
     "output_type": "stream",
     "text": [
      "1\n",
      "2\n",
      "4\n",
      "5\n",
      "7\n",
      "8\n",
      "10\n"
     ]
    }
   ],
   "source": [
    "for i in range(1,11):\n",
    "    if i % 3==0: \n",
    "        continue\n",
    "    print(i)\n",
    "    "
   ]
  },
  {
   "cell_type": "code",
   "execution_count": null,
   "id": "b12c65bd",
   "metadata": {},
   "outputs": [],
   "source": [
    "#Line_____________________________________________________________________\n"
   ]
  },
  {
   "cell_type": "code",
   "execution_count": 1,
   "id": "147bae85",
   "metadata": {},
   "outputs": [
    {
     "ename": "KeyboardInterrupt",
     "evalue": "Interrupted by user",
     "output_type": "error",
     "traceback": [
      "\u001b[31m---------------------------------------------------------------------------\u001b[39m",
      "\u001b[31mKeyboardInterrupt\u001b[39m                         Traceback (most recent call last)",
      "\u001b[36mCell\u001b[39m\u001b[36m \u001b[39m\u001b[32mIn[1]\u001b[39m\u001b[32m, line 1\u001b[39m\n\u001b[32m----> \u001b[39m\u001b[32m1\u001b[39m a=(\u001b[38;5;28;43minput\u001b[39;49m\u001b[43m(\u001b[49m\u001b[33;43m\"\u001b[39;49m\u001b[33;43menter no:\u001b[39;49m\u001b[33;43m\"\u001b[39;49m\u001b[43m)\u001b[49m)\n\u001b[32m      2\u001b[39m \u001b[38;5;28;01mwhile\u001b[39;00m \u001b[38;5;28;01mTrue\u001b[39;00m :\n\u001b[32m      3\u001b[39m     \u001b[38;5;28;01mif\u001b[39;00m a == \u001b[32m10\u001b[39m:\n",
      "\u001b[36mFile \u001b[39m\u001b[32m~\\AppData\\Roaming\\Python\\Python313\\site-packages\\ipykernel\\kernelbase.py:1282\u001b[39m, in \u001b[36mKernel.raw_input\u001b[39m\u001b[34m(self, prompt)\u001b[39m\n\u001b[32m   1280\u001b[39m     msg = \u001b[33m\"\u001b[39m\u001b[33mraw_input was called, but this frontend does not support input requests.\u001b[39m\u001b[33m\"\u001b[39m\n\u001b[32m   1281\u001b[39m     \u001b[38;5;28;01mraise\u001b[39;00m StdinNotImplementedError(msg)\n\u001b[32m-> \u001b[39m\u001b[32m1282\u001b[39m \u001b[38;5;28;01mreturn\u001b[39;00m \u001b[38;5;28;43mself\u001b[39;49m\u001b[43m.\u001b[49m\u001b[43m_input_request\u001b[49m\u001b[43m(\u001b[49m\n\u001b[32m   1283\u001b[39m \u001b[43m    \u001b[49m\u001b[38;5;28;43mstr\u001b[39;49m\u001b[43m(\u001b[49m\u001b[43mprompt\u001b[49m\u001b[43m)\u001b[49m\u001b[43m,\u001b[49m\n\u001b[32m   1284\u001b[39m \u001b[43m    \u001b[49m\u001b[38;5;28;43mself\u001b[39;49m\u001b[43m.\u001b[49m\u001b[43m_parent_ident\u001b[49m\u001b[43m[\u001b[49m\u001b[33;43m\"\u001b[39;49m\u001b[33;43mshell\u001b[39;49m\u001b[33;43m\"\u001b[39;49m\u001b[43m]\u001b[49m\u001b[43m,\u001b[49m\n\u001b[32m   1285\u001b[39m \u001b[43m    \u001b[49m\u001b[38;5;28;43mself\u001b[39;49m\u001b[43m.\u001b[49m\u001b[43mget_parent\u001b[49m\u001b[43m(\u001b[49m\u001b[33;43m\"\u001b[39;49m\u001b[33;43mshell\u001b[39;49m\u001b[33;43m\"\u001b[39;49m\u001b[43m)\u001b[49m\u001b[43m,\u001b[49m\n\u001b[32m   1286\u001b[39m \u001b[43m    \u001b[49m\u001b[43mpassword\u001b[49m\u001b[43m=\u001b[49m\u001b[38;5;28;43;01mFalse\u001b[39;49;00m\u001b[43m,\u001b[49m\n\u001b[32m   1287\u001b[39m \u001b[43m\u001b[49m\u001b[43m)\u001b[49m\n",
      "\u001b[36mFile \u001b[39m\u001b[32m~\\AppData\\Roaming\\Python\\Python313\\site-packages\\ipykernel\\kernelbase.py:1325\u001b[39m, in \u001b[36mKernel._input_request\u001b[39m\u001b[34m(self, prompt, ident, parent, password)\u001b[39m\n\u001b[32m   1322\u001b[39m \u001b[38;5;28;01mexcept\u001b[39;00m \u001b[38;5;167;01mKeyboardInterrupt\u001b[39;00m:\n\u001b[32m   1323\u001b[39m     \u001b[38;5;66;03m# re-raise KeyboardInterrupt, to truncate traceback\u001b[39;00m\n\u001b[32m   1324\u001b[39m     msg = \u001b[33m\"\u001b[39m\u001b[33mInterrupted by user\u001b[39m\u001b[33m\"\u001b[39m\n\u001b[32m-> \u001b[39m\u001b[32m1325\u001b[39m     \u001b[38;5;28;01mraise\u001b[39;00m \u001b[38;5;167;01mKeyboardInterrupt\u001b[39;00m(msg) \u001b[38;5;28;01mfrom\u001b[39;00m\u001b[38;5;250m \u001b[39m\u001b[38;5;28;01mNone\u001b[39;00m\n\u001b[32m   1326\u001b[39m \u001b[38;5;28;01mexcept\u001b[39;00m \u001b[38;5;167;01mException\u001b[39;00m:\n\u001b[32m   1327\u001b[39m     \u001b[38;5;28mself\u001b[39m.log.warning(\u001b[33m\"\u001b[39m\u001b[33mInvalid Message:\u001b[39m\u001b[33m\"\u001b[39m, exc_info=\u001b[38;5;28;01mTrue\u001b[39;00m)\n",
      "\u001b[31mKeyboardInterrupt\u001b[39m: Interrupted by user"
     ]
    }
   ],
   "source": [
    "a=(input(\"enter no:\"))\n",
    "while True :\n",
    "    if a == 10:\n",
    "        continue \n",
    "    print (a)"
   ]
  },
  {
   "cell_type": "code",
   "execution_count": 2,
   "id": "14917fc5",
   "metadata": {},
   "outputs": [
    {
     "name": "stdout",
     "output_type": "stream",
     "text": [
      "G\n",
      "k\n",
      "f\n",
      "o\n",
      "r\n",
      "g\n",
      "k\n",
      "s\n"
     ]
    }
   ],
   "source": [
    "for var in \"Geekforgeeks\":\n",
    "    if var == \"e\":\n",
    "        continue \n",
    "    print(var)"
   ]
  },
  {
   "cell_type": "code",
   "execution_count": 3,
   "id": "10f95170",
   "metadata": {},
   "outputs": [
    {
     "name": "stdout",
     "output_type": "stream",
     "text": [
      "1 2 3 4 5 7 8 9 10 "
     ]
    }
   ],
   "source": [
    "for i in range(1,11):\n",
    "    if i ==6:\n",
    "        continue                 \n",
    "    else:\n",
    "        print(i,end=\" \")"
   ]
  },
  {
   "cell_type": "code",
   "execution_count": 4,
   "id": "2cf0e298",
   "metadata": {},
   "outputs": [
    {
     "name": "stdout",
     "output_type": "stream",
     "text": [
      "1\n",
      "2\n",
      "4\n",
      "5\n",
      "6\n",
      "7\n",
      "8\n",
      "9\n"
     ]
    }
   ],
   "source": [
    "nested_list=[1,2,3],[4,5,6,],[7,8,9]\n",
    "for i in nested_list:\n",
    "    for j in i:\n",
    "        if j == 3:\n",
    "            continue\n",
    "        print(j)"
   ]
  },
  {
   "cell_type": "code",
   "execution_count": 5,
   "id": "2b0d5c24",
   "metadata": {},
   "outputs": [
    {
     "name": "stdout",
     "output_type": "stream",
     "text": [
      "0\n",
      "1\n",
      "2\n",
      "3\n",
      "4\n",
      "6\n",
      "7\n",
      "8\n",
      "9\n"
     ]
    }
   ],
   "source": [
    "i=0\n",
    "while i<10:\n",
    "    if i ==5:\n",
    "        i=i+1\n",
    "        continue\n",
    "    print(i)\n",
    "    i+=1\n",
    "    \n",
    "    "
   ]
  },
  {
   "cell_type": "code",
   "execution_count": 6,
   "id": "be5cded0",
   "metadata": {},
   "outputs": [
    {
     "name": "stdout",
     "output_type": "stream",
     "text": [
      "3\n"
     ]
    }
   ],
   "source": [
    "a=2\n",
    "b=3\n",
    "\n",
    "a=a+1\n",
    "print(a)\n"
   ]
  },
  {
   "cell_type": "code",
   "execution_count": 7,
   "id": "133c68fe",
   "metadata": {},
   "outputs": [
    {
     "name": "stdout",
     "output_type": "stream",
     "text": [
      "0\n",
      "1\n",
      "2\n",
      "3\n",
      "4\n",
      "6\n",
      "7\n",
      "8\n",
      "9\n",
      "10\n"
     ]
    }
   ],
   "source": [
    "i = 0\n",
    "while i<=10:\n",
    "    if i==5:\n",
    "        i=i+1\n",
    "        continue\n",
    "    print(i)\n",
    "    i+=1\n",
    "        \n"
   ]
  },
  {
   "cell_type": "code",
   "execution_count": 8,
   "id": "431b4a65",
   "metadata": {},
   "outputs": [
    {
     "name": "stdout",
     "output_type": "stream",
     "text": [
      "0\n",
      "1\n",
      "2\n",
      "3\n",
      "4\n",
      "6\n",
      "7\n",
      "8\n",
      "9\n",
      "10\n"
     ]
    }
   ],
   "source": [
    "i=0\n",
    "while i<= 10:\n",
    "    if i==5:\n",
    "        i=i+1\n",
    "        continue\n",
    "    print(i)\n",
    "    i+=1"
   ]
  },
  {
   "cell_type": "code",
   "execution_count": 9,
   "id": "6b14c5c2",
   "metadata": {},
   "outputs": [
    {
     "name": "stdout",
     "output_type": "stream",
     "text": [
      "current letter: t\n",
      "current letter: u\n",
      "current letter:  \n",
      "current letter: k\n",
      "current letter: o\n",
      "current letter: n\n",
      "current letter:  \n",
      "current letter: b\n",
      "current letter: e\n",
      "current letter:  \n",
      "current letter: a\n",
      "current letter: r\n",
      "current letter: e\n",
      "current letter:  \n",
      "current letter: r\n",
      "current letter: a\n",
      "current letter: n\n",
      "current letter: g\n",
      "current letter:  \n",
      "current letter: k\n",
      "current letter: e\n"
     ]
    }
   ],
   "source": [
    "python=(\"tu kon be hare rang ke\")\n",
    "for letter in python:\n",
    "    if letter=='h':\n",
    "        continue\n",
    "    print(\"current letter:\",letter)"
   ]
  },
  {
   "cell_type": "code",
   "execution_count": 10,
   "id": "acda49a4",
   "metadata": {},
   "outputs": [
    {
     "name": "stdout",
     "output_type": "stream",
     "text": [
      "continue variable value: 9\n",
      "continue variable value: 8\n",
      "continue variable value: 7\n",
      "continue variable value: 6\n",
      "continue variable value: 4\n",
      "continue variable value: 3\n",
      "continue variable value: 2\n",
      "continue variable value: 1\n",
      "continue variable value: 0\n",
      "Good bye\n"
     ]
    }
   ],
   "source": [
    "var=10\n",
    "while var>0:\n",
    "    var=var-1\n",
    "    if var==5:\n",
    "        continue\n",
    "    print(\"continue variable value:\",var)\n",
    "print(\"Good bye\")"
   ]
  },
  {
   "cell_type": "code",
   "execution_count": 11,
   "id": "802100fc",
   "metadata": {},
   "outputs": [
    {
     "name": "stdout",
     "output_type": "stream",
     "text": [
      "prime factors for : 60\n",
      "2\n",
      "2\n",
      "3\n",
      "5\n"
     ]
    }
   ],
   "source": [
    "#prime numbers with while and continue.\n",
    "num = 60\n",
    "print (\"prime factors for :\",num)\n",
    "d= 2\n",
    "while num>1:\n",
    "    if num % d == 0:\n",
    "        print(d)                                                        #badame dekhenge !!!!!!!!\n",
    "        num = num/d\n",
    "        continue\n",
    "    d=d+1\n",
    "\n",
    "\n",
    "\n",
    "\n",
    "\n"
   ]
  },
  {
   "cell_type": "code",
   "execution_count": 12,
   "id": "8de96413",
   "metadata": {},
   "outputs": [
    {
     "name": "stdout",
     "output_type": "stream",
     "text": [
      "0 1 2 4 "
     ]
    }
   ],
   "source": [
    "for i in range(5):\n",
    "    if i ==3:\n",
    "        continue\n",
    "    print(i,end=\" \")\n",
    "    \n",
    "    "
   ]
  },
  {
   "cell_type": "code",
   "execution_count": 13,
   "id": "9c474557",
   "metadata": {},
   "outputs": [
    {
     "name": "stdout",
     "output_type": "stream",
     "text": [
      "1\n",
      "3\n",
      "5\n",
      "7\n",
      "9\n"
     ]
    }
   ],
   "source": [
    "#odd numbers with while and  continue.\n",
    "num =0\n",
    "while num <10:\n",
    "    num +=1                                                            #badame dekhenge.\n",
    "    if (num %2)==0:\n",
    "        continue \n",
    "    print (num)\n",
    "    "
   ]
  },
  {
   "cell_type": "code",
   "execution_count": 14,
   "id": "5407c590",
   "metadata": {},
   "outputs": [
    {
     "name": "stdout",
     "output_type": "stream",
     "text": [
      "current number is  2\n",
      "square of a current number is  4\n",
      "current number is  3\n",
      "square of a current number is  9\n",
      "current number is  11\n",
      "current number is  7\n",
      "square of a current number is  49\n"
     ]
    }
   ],
   "source": [
    "#square root numbers with while and continue..\n",
    "numbers = [2,3,11,7]\n",
    "for i in numbers:                                                                           #badame dekhenge \n",
    "    print (\"current number is \",i)\n",
    "    if i > 10:\n",
    "        continue\n",
    "    square = i*i\n",
    "    print ('square of a current number is ',square)"
   ]
  },
  {
   "cell_type": "code",
   "execution_count": 15,
   "id": "3fd38531",
   "metadata": {},
   "outputs": [
    {
     "name": "stdout",
     "output_type": "stream",
     "text": [
      "j e s a a "
     ]
    }
   ],
   "source": [
    "name = 'je sa a'\n",
    "size = len(name)\n",
    "i= -1\n",
    "while i <size -1:                  #badame samazenge...!\n",
    "    i= i+1\n",
    "    if name [i].isspace():\n",
    "        continue\n",
    "    print(name[i],end = ' ')\n",
    "    "
   ]
  },
  {
   "cell_type": "code",
   "execution_count": 16,
   "id": "d3afea2c",
   "metadata": {},
   "outputs": [
    {
     "name": "stdout",
     "output_type": "stream",
     "text": [
      "multiplication table of  1\n",
      "1  2  3  4  6  7  8  9  10   \n",
      "multiplication table of  2\n",
      "2  4  6  8  12  14  16  18  20   \n",
      "multiplication table of  3\n",
      "3  6  9  12  18  21  24  27  30   \n",
      "multiplication table of  4\n",
      "4  8  12  16  24  28  32  36  40   \n",
      "multiplication table of  5\n",
      "5  10  15  20  30  35  40  45  50   \n",
      "multiplication table of  6\n",
      "6  12  18  24  36  42  48  54  60   \n",
      "multiplication table of  7\n",
      "7  14  21  28  42  49  56  63  70   \n",
      "multiplication table of  8\n",
      "8  16  24  32  48  56  64  72  80   \n",
      "multiplication table of  9\n",
      "9  18  27  36  54  63  72  81  90   \n",
      "multiplication table of  10\n",
      "10  20  30  40  60  70  80  90  100   \n"
     ]
    }
   ],
   "source": [
    "for i in range(1,11):\n",
    "    print('multiplication table of ',i)\n",
    "    for j in range(1,11):\n",
    "        if j==5:\n",
    "            continue \n",
    "        print(i*j,end=\"  \")\n",
    "    print(' ')    "
   ]
  },
  {
   "cell_type": "code",
   "execution_count": 17,
   "id": "792e1f6e",
   "metadata": {},
   "outputs": [
    {
     "name": "stdout",
     "output_type": "stream",
     "text": [
      "10 , 11 , 12 , 13 , 14 , 16 , 17 , 18 , 19 , 20 , "
     ]
    }
   ],
   "source": [
    "for itreater in  range(10,21):\n",
    "    if itreater ==15:\n",
    "        continue\n",
    "    print (itreater,end=\" , \")"
   ]
  },
  {
   "cell_type": "code",
   "execution_count": 18,
   "id": "979bcb21",
   "metadata": {},
   "outputs": [
    {
     "name": "stdout",
     "output_type": "stream",
     "text": [
      "j v t p o i n t "
     ]
    }
   ],
   "source": [
    "string_ = 'javatpoint'\n",
    "iterator = 0\n",
    "while iterator < len(string_):\n",
    "    if string_ [iterator] == 'a':\n",
    "        iterator+=1\n",
    "        continue\n",
    "    print(string_[iterator],end=' ')                     \n",
    "    iterator+=1\n",
    "\n",
    "    \n",
    "        "
   ]
  },
  {
   "cell_type": "code",
   "execution_count": 19,
   "id": "75e54610",
   "metadata": {},
   "outputs": [
    {
     "name": "stdout",
     "output_type": "stream",
     "text": [
      "[4, 16, 36, 64, 100]\n"
     ]
    }
   ],
   "source": [
    "#\n",
    "numbers=[1,2,3,4,5,6,7,8,9,10]\n",
    "sq_num = [num **2 for num in numbers if num % 2== 0]                                   #badame dekhenge.....!\n",
    "print(sq_num)\n",
    "\n",
    "\n"
   ]
  },
  {
   "cell_type": "code",
   "execution_count": 20,
   "id": "ad35b4ad",
   "metadata": {},
   "outputs": [
    {
     "name": "stdout",
     "output_type": "stream",
     "text": [
      "current letter: G\n",
      "current letter: k\n",
      "current letter: f\n",
      "current letter: o\n",
      "current letter: r\n",
      "current letter: G\n",
      "current letter: k\n"
     ]
    }
   ],
   "source": [
    "i=0\n",
    "a= 'GeekforGeeks'\n",
    "while i<len (a):\n",
    "    if a [i] =='e'or a[i]=='s':\n",
    "        i+=1\n",
    "        continue\n",
    "    print('current letter:',a[i])\n",
    "    i+=1"
   ]
  },
  {
   "cell_type": "code",
   "execution_count": 21,
   "id": "c0631668",
   "metadata": {},
   "outputs": [
    {
     "name": "stdout",
     "output_type": "stream",
     "text": [
      "1\n",
      "2\n",
      "4\n",
      "5\n",
      "6\n"
     ]
    }
   ],
   "source": [
    "i=0\n",
    "while i<6:\n",
    "    i+=1\n",
    "    if i==3:\n",
    "        continue\n",
    "    print(i)\n",
    "\n"
   ]
  },
  {
   "cell_type": "code",
   "execution_count": 22,
   "id": "9dc4696c",
   "metadata": {},
   "outputs": [
    {
     "name": "stdout",
     "output_type": "stream",
     "text": [
      "4\n",
      "3\n",
      "1\n",
      "0\n",
      "-1\n",
      "loop Ended\n"
     ]
    }
   ],
   "source": [
    "n=5\n",
    "while n>=0:\n",
    "    n-=1\n",
    "    if n==2:\n",
    "        continue\n",
    "    print(n)\n",
    "print(\"loop Ended\")"
   ]
  },
  {
   "cell_type": "code",
   "execution_count": 24,
   "id": "5624536b",
   "metadata": {},
   "outputs": [
    {
     "ename": "SyntaxError",
     "evalue": "invalid character '१' (U+0967) (549720269.py, line 6)",
     "output_type": "error",
     "traceback": [
      "  \u001b[36mCell\u001b[39m\u001b[36m \u001b[39m\u001b[32mIn[24]\u001b[39m\u001b[32m, line 6\u001b[39m\n\u001b[31m    \u001b[39m\u001b[31mया कोडमध्ये, `for` लूप १ पासून १० पर्यंतचा प्रत्येक संख्येचा मूल्य `i` घेतला जातो. `if` असलेल्या शर्तानुसार, जर `i` चे २ने भाग सांख्यिक असेल (`i%2==0`), तर `continue` स्टेटमेंट चालू होतो. `continue` म्हणजे, जेव्हा शर्त पूर्ण होते तेव्हा त्या वेळी बाकीच्या कोडमधील भाग स्किप करा आणि लूपमध्ये पुन्हा सुरुवात करा.\u001b[39m\n                           ^\n\u001b[31mSyntaxError\u001b[39m\u001b[31m:\u001b[39m invalid character '१' (U+0967)\n"
     ]
    }
   ],
   "source": [
    "for i in range(1,11):\n",
    "    if i%2==0:\n",
    "        continue\n",
    "    print(i)\n",
    "    \n",
    "    या कोडमध्ये, `for` लूप १ पासून १० पर्यंतचा प्रत्येक संख्येचा मूल्य `i` घेतला जातो. `if` असलेल्या शर्तानुसार, जर `i` चे २ने भाग सांख्यिक असेल (`i%2==0`), तर `continue` स्टेटमेंट चालू होतो. `continue` म्हणजे, जेव्हा शर्त पूर्ण होते तेव्हा त्या वेळी बाकीच्या कोडमधील भाग स्किप करा आणि लूपमध्ये पुन्हा सुरुवात करा.\n",
    "\n",
    "आता, जेव्हा `i` ची किंमत `if` शर्तानुसार २ने भाग न येणारी असेल (`i` शिल्लक असेल), तेव्हा `print(i)` चालू होईल. तसेच, त्याची किंमत `i` ची किंमत (`i`) प्रिंट होईल.\n",
    "\n",
    "उदाहरणार्थ, `i` च्या मौल्यात `2` आणि `4` असल्यास, `i%2==0` शर्त पूर्ण होऊन `continue` चालू होईल. आणि कोड `i` मध्ये `1` आणि `3` असलेल्या सर्व संख्यांना प्रिंट करेल."
   ]
  },
  {
   "cell_type": "code",
   "execution_count": 23,
   "id": "b83f8495",
   "metadata": {},
   "outputs": [
    {
     "name": "stdout",
     "output_type": "stream",
     "text": [
      "10\n",
      "11\n",
      "12\n",
      "13\n",
      "14\n",
      "__\n",
      "16\n",
      "17\n",
      "18\n",
      "19\n",
      "20\n"
     ]
    }
   ],
   "source": [
    "for itreater in range (10,21):\n",
    "    if itreater == 15:\n",
    "        print('__')    \n",
    "        continue\n",
    "    print(itreater)"
   ]
  },
  {
   "cell_type": "code",
   "execution_count": 25,
   "id": "6550480f",
   "metadata": {},
   "outputs": [
    {
     "ename": "TypeError",
     "evalue": "'float' object cannot be interpreted as an integer",
     "output_type": "error",
     "traceback": [
      "\u001b[31m---------------------------------------------------------------------------\u001b[39m",
      "\u001b[31mTypeError\u001b[39m                                 Traceback (most recent call last)",
      "\u001b[36mCell\u001b[39m\u001b[36m \u001b[39m\u001b[32mIn[25]\u001b[39m\u001b[32m, line 1\u001b[39m\n\u001b[32m----> \u001b[39m\u001b[32m1\u001b[39m \u001b[38;5;28;01mfor\u001b[39;00m a \u001b[38;5;129;01min\u001b[39;00m \u001b[38;5;28;43mrange\u001b[39;49m\u001b[43m(\u001b[49m\u001b[32;43m1.11\u001b[39;49m\u001b[43m)\u001b[49m:\n\u001b[32m      2\u001b[39m     \u001b[38;5;28;01mif\u001b[39;00m a == \u001b[32m10\u001b[39m:\n\u001b[32m      3\u001b[39m         \u001b[38;5;28;01mcontinue\u001b[39;00m\n",
      "\u001b[31mTypeError\u001b[39m: 'float' object cannot be interpreted as an integer"
     ]
    }
   ],
   "source": [
    "for a in range(1.11):\n",
    "    if a == 10:\n",
    "        continue\n",
    "    print(a)\n",
    "    a+=1\n",
    "        \n",
    "          "
   ]
  },
  {
   "cell_type": "code",
   "execution_count": null,
   "id": "9aafbd8c",
   "metadata": {},
   "outputs": [],
   "source": []
  }
 ],
 "metadata": {
  "kernelspec": {
   "display_name": "Python 3",
   "language": "python",
   "name": "python3"
  },
  "language_info": {
   "codemirror_mode": {
    "name": "ipython",
    "version": 3
   },
   "file_extension": ".py",
   "mimetype": "text/x-python",
   "name": "python",
   "nbconvert_exporter": "python",
   "pygments_lexer": "ipython3",
   "version": "3.13.4"
  }
 },
 "nbformat": 4,
 "nbformat_minor": 5
}
