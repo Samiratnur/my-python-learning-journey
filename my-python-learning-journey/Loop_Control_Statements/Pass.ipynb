{
 "cells": [
  {
   "cell_type": "code",
   "execution_count": 1,
   "id": "c9920b0f",
   "metadata": {},
   "outputs": [
    {
     "ename": "TypeError",
     "evalue": "'>' not supported between instances of 'list' and 'int'",
     "output_type": "error",
     "traceback": [
      "\u001b[31m---------------------------------------------------------------------------\u001b[39m",
      "\u001b[31mTypeError\u001b[39m                                 Traceback (most recent call last)",
      "\u001b[36mCell\u001b[39m\u001b[36m \u001b[39m\u001b[32mIn[1]\u001b[39m\u001b[32m, line 2\u001b[39m\n\u001b[32m      1\u001b[39m \u001b[38;5;28mlist\u001b[39m=[\u001b[32m1\u001b[39m,\u001b[32m2\u001b[39m,\u001b[32m3\u001b[39m,\u001b[32m4\u001b[39m]\n\u001b[32m----> \u001b[39m\u001b[32m2\u001b[39m \u001b[38;5;28;01mwhile\u001b[39;00m \u001b[38;5;28;43mlist\u001b[39;49m\u001b[43m>\u001b[49m\u001b[32;43m5\u001b[39;49m:\n\u001b[32m      3\u001b[39m     \u001b[38;5;28;01mif\u001b[39;00m \u001b[38;5;28mlist\u001b[39m==\u001b[32m3\u001b[39m:\n\u001b[32m      4\u001b[39m         contnue\n",
      "\u001b[31mTypeError\u001b[39m: '>' not supported between instances of 'list' and 'int'"
     ]
    }
   ],
   "source": [
    "list=[1,2,3,4]\n",
    "while list>5:\n",
    "    if list==3:\n",
    "        contnue\n",
    "    print(list[i])"
   ]
  },
  {
   "cell_type": "code",
   "execution_count": 2,
   "id": "cdb10991",
   "metadata": {},
   "outputs": [
    {
     "name": "stdout",
     "output_type": "stream",
     "text": [
      "end\n"
     ]
    }
   ],
   "source": [
    "#using the pass keyword in an if statement.\n",
    "a=33\n",
    "b=200\n",
    "if b>a:\n",
    "    pass\n",
    "print('end')\n"
   ]
  },
  {
   "cell_type": "code",
   "execution_count": 4,
   "id": "203d6100",
   "metadata": {},
   "outputs": [],
   "source": [
    "#Indentation_Error massege. \n",
    "n=26\n",
    "if n>26:\n",
    "    #write code error..\n",
    "    print('geeks')    \n",
    "                      "
   ]
  },
  {
   "cell_type": "code",
   "execution_count": 5,
   "id": "cfa38a37",
   "metadata": {},
   "outputs": [],
   "source": [
    "#use of pass keyword in python loop-\n",
    "n=10\n",
    "for i in range(n):\n",
    "    #pass can be used as placeholder\n",
    "    #when code is to added later\n",
    "    pass   \n",
    "    \n"
   ]
  },
  {
   "cell_type": "code",
   "execution_count": 6,
   "id": "1a6c274f",
   "metadata": {},
   "outputs": [
    {
     "name": "stdout",
     "output_type": "stream",
     "text": [
      "end the game\n"
     ]
    }
   ],
   "source": [
    "#use of pass keyword in conditional statement-\n",
    "a=10\n",
    "b=20\n",
    "if a<b:                             #jab a small aahe b sebhi to aage  \n",
    "    pass                            #pass statement ja aur\n",
    "else:                               #nahi to else me jakar print kar('b<a')\n",
    "    print(\"b<a\")\n",
    "print('end the game')    \n",
    "    "
   ]
  },
  {
   "cell_type": "code",
   "execution_count": 7,
   "id": "bc3416e3",
   "metadata": {},
   "outputs": [
    {
     "name": "stdout",
     "output_type": "stream",
     "text": [
      "b\n",
      "c\n",
      "d\n",
      "e\n",
      "z\n",
      "y\n",
      "w\n",
      "v\n"
     ]
    }
   ],
   "source": [
    "#pass statement gets execute when the condition is ture\n",
    "li=['a','b','c','d','e']\n",
    "for i in li:\n",
    "    if (i=='a'):\n",
    "        pass\n",
    "    else:\n",
    "        print(i)\n",
    "        \n",
    "        \n",
    "\n",
    "\n",
    "miya=['z','y','x','w','v']\n",
    "for i in miya:\n",
    "    if (i=='x'):\n",
    "        pass\n",
    "    else:\n",
    "        print(i)\n",
    "        "
   ]
  },
  {
   "cell_type": "code",
   "execution_count": 8,
   "metadata": {},
   "outputs": [
    {
     "name": "stdout",
     "output_type": "stream",
     "text": [
      "1\n",
      "2\n",
      "3\n",
      "4\n",
      "6\n",
      "7\n",
      "8\n",
      "9\n",
      "10\n"
     ]
    }
   ],
   "source": [
    "for i in range(1,11):\n",
    "    if i ==5:\n",
    "        continue         #i ll try it but i cant made this program succsesfuly!!\n",
    "    print(i)\n",
    "    i=i+1\n",
    "        "
   ]
  },
  {
   "cell_type": "code",
   "execution_count": 9,
   "id": "bcb006d4",
   "metadata": {},
   "outputs": [
    {
     "name": "stdout",
     "output_type": "stream",
     "text": [
      "x is less than or equal to 10\n"
     ]
    }
   ],
   "source": [
    "#the python pass keyword (if)\n",
    "x=5\n",
    "if x>10:\n",
    "    pass\n",
    "else:\n",
    "    print(\"x is less than or equal to 10\")\n",
    "    "
   ]
  },
  {
   "cell_type": "code",
   "execution_count": 10,
   "id": "90d852e2",
   "metadata": {},
   "outputs": [
    {
     "name": "stdout",
     "output_type": "stream",
     "text": [
      "current letter : p\n",
      "Good\n",
      "current letter : y\n",
      "Good\n",
      "current letter : t\n",
      "Good\n",
      "This is pass block\n",
      "current letter : h\n",
      "Good\n",
      "current letter : o\n",
      "Good\n",
      "current letter : n\n",
      "Good\n"
     ]
    }
   ],
   "source": [
    "for letter in 'python':\n",
    "    if letter == 'h':\n",
    "        pass                                     #small hai par important bhi hai !!\n",
    "        print('This is pass block')\n",
    "    print('current letter :',letter)\n",
    "    print(\"Good\")    "
   ]
  },
  {
   "cell_type": "code",
   "execution_count": 11,
   "id": "54781ce7",
   "metadata": {},
   "outputs": [
    {
     "name": "stdout",
     "output_type": "stream",
     "text": [
      "1 2\n",
      "2 3\n",
      "3 4\n",
      "s satnur\n",
      "a aatnur\n",
      "m matnur\n",
      "i iatnur\n",
      "r ratnur\n"
     ]
    }
   ],
   "source": [
    "for x in  [1,2,3,]:\n",
    "    y = x+1\n",
    "    print(x,y)               #very imp.......\n",
    "    \n",
    "    \n",
    "    \n",
    "a=\"samir\"\n",
    "for i in a:\n",
    "    z=i+'atnur'\n",
    "    print(i,z)    \n",
    " "
   ]
  },
  {
   "cell_type": "code",
   "execution_count": 12,
   "id": "aa38c3e6",
   "metadata": {},
   "outputs": [
    {
     "name": "stdout",
     "output_type": "stream",
     "text": [
      "math is ok\n",
      "but this is to be expected\n"
     ]
    }
   ],
   "source": [
    "if 1 + 1 == 2:\n",
    "    print(\"math is ok\")\n",
    "    pass\n",
    "    print(\"but this is to be expected\")\n",
    "    \n",
    "    "
   ]
  },
  {
   "cell_type": "code",
   "execution_count": 13,
   "id": "04c69fb1",
   "metadata": {},
   "outputs": [
    {
     "name": "stdout",
     "output_type": "stream",
     "text": [
      "7is a multiple of 7\n",
      "14is a multiple of 7\n",
      "21is a multiple of 7\n",
      "28is a multiple of 7\n",
      "35is a multiple of 7\n",
      "42is a multiple of 7\n",
      "49is a multiple of 7\n",
      "56is a multiple of 7\n",
      "63is a multiple of 7\n",
      "70is a multiple of 7\n"
     ]
    }
   ],
   "source": [
    "for number in range(1,71):\n",
    "    if number % 7 !=0:\n",
    "        pass                                                               #its very imp phir se dekhana padega functions ka mamala hai ye\n",
    "    else:                                                     \n",
    "        print(f'{number}is a multiple of 7')"
   ]
  },
  {
   "cell_type": "code",
   "execution_count": 14,
   "id": "0a7e26d0",
   "metadata": {},
   "outputs": [
    {
     "name": "stdout",
     "output_type": "stream",
     "text": [
      "value of i: 13\n",
      "length of: 15\n"
     ]
    }
   ],
   "source": [
    "a='geekfor geeks'\n",
    "i= 0\n",
    "while i < len(a):\n",
    "    i+=1\n",
    "    pass\n",
    "print('value of i:',i)\n",
    "\n",
    "\n",
    "a='sony enterprize'\n",
    "b=0\n",
    "while b < len(a):\n",
    "    b+=1\n",
    "    pass\n",
    "print(\"length of:\",b)\n",
    "    "
   ]
  },
  {
   "cell_type": "code",
   "execution_count": 15,
   "id": "b839a916",
   "metadata": {},
   "outputs": [
    {
     "name": "stdout",
     "output_type": "stream",
     "text": [
      "10\n",
      "9\n",
      "8\n",
      "7\n",
      "6\n",
      "end of loop\n"
     ]
    }
   ],
   "source": [
    "a=10\n",
    "while a>0:\n",
    "    if a==5:\n",
    "        a=a-1\n",
    "        break\n",
    "    print(a)\n",
    "    a=a-1\n",
    "print(\"end of loop\")    "
   ]
  },
  {
   "cell_type": "code",
   "execution_count": 16,
   "id": "089fd305",
   "metadata": {},
   "outputs": [],
   "source": [
    "a=10\n",
    "b=20\n",
    "if a<b: \n",
    "    pass\n",
    "else:\n",
    "    print(\"a>b\")"
   ]
  },
  {
   "cell_type": "code",
   "execution_count": 17,
   "id": "d5e3fced",
   "metadata": {},
   "outputs": [
    {
     "name": "stdout",
     "output_type": "stream",
     "text": [
      "z\n",
      "y\n",
      "w\n",
      "v\n"
     ]
    }
   ],
   "source": [
    "miya=['z','y','x','w','v']\n",
    "for i in miya:\n",
    "    if (i=='x'):\n",
    "        pass\n",
    "    else:\n",
    "        print(i)\n"
   ]
  },
  {
   "cell_type": "code",
   "execution_count": 18,
   "id": "8264219e",
   "metadata": {},
   "outputs": [
    {
     "name": "stdout",
     "output_type": "stream",
     "text": [
      "x is not less than 10\n"
     ]
    }
   ],
   "source": [
    "#the python pass keyword (if)\n",
    "i=5\n",
    "if i>10:\n",
    "    print(\"ya ya\")\n",
    "    pass\n",
    "else:\n",
    "    print( \"x is not less than 10\")\n",
    "    "
   ]
  },
  {
   "cell_type": "code",
   "execution_count": null,
   "id": "356107f2",
   "metadata": {},
   "outputs": [],
   "source": [
    "\n",
    "for x in \"samihfneirenfjoqnfmrfmr\":\n",
    "    if (x == 'q'):\n",
    "        pass\n",
    "        print(\"i found leeter*_____*\")\n",
    "    print(\"another leeter\" ,x)\n",
    "    print(\"end\")"
   ]
  },
  {
   "cell_type": "code",
   "execution_count": 19,
   "id": "cd0444ba",
   "metadata": {},
   "outputs": [
    {
     "name": "stdout",
     "output_type": "stream",
     "text": [
      "7is a multiple of 7\n",
      "14is a multiple of 7\n",
      "21is a multiple of 7\n",
      "28is a multiple of 7\n",
      "35is a multiple of 7\n",
      "42is a multiple of 7\n",
      "49is a multiple of 7\n",
      "56is a multiple of 7\n",
      "63is a multiple of 7\n",
      "70is a multiple of 7\n"
     ]
    }
   ],
   "source": [
    "for number in range(1,71):\n",
    "    if number % 7 !=0:\n",
    "        pass                                                               #its very imp phir se dekhana padega functions ka mamala hai ye\n",
    "    else:                                                     \n",
    "        print(f'{number}is a multiple of 7')"
   ]
  },
  {
   "cell_type": "code",
   "execution_count": 20,
   "id": "d816d8e9",
   "metadata": {},
   "outputs": [
    {
     "name": "stdout",
     "output_type": "stream",
     "text": [
      "The unsorted list is: [5, 3, 8, 6, 7, 2]\n",
      "The sorted list is: [2, 3, 5, 6, 7, 8]\n"
     ]
    }
   ],
   "source": [
    "def bubble_sort(list1):\n",
    "    for i in range(0, n-1):\n",
    "        for j in range(0, n-1):\n",
    "            if (list1[j] > list1[j+1]):\n",
    "                temp = list1[j]\n",
    "                list1[j] = list1[j+1]\n",
    "                list1[j+1] = temp\n",
    "    return list1\n",
    "\n",
    "# Sample list\n",
    "list1 = [5, 3, 8, 6, 7, 2]\n",
    "n = len(list1)\n",
    "\n",
    "# Printing the unsorted list\n",
    "print(\"The unsorted list is:\", list1)\n",
    "\n",
    "# Calling the bubble_sort function and printing the sorted list\n",
    "sorted_list = bubble_sort(list1)\n",
    "print(\"The sorted list is:\", sorted_list)\n",
    "\n"
   ]
  },
  {
   "cell_type": "code",
   "execution_count": 21,
   "metadata": {},
   "outputs": [
    {
     "name": "stdout",
     "output_type": "stream",
     "text": [
      "length of i is 5\n"
     ]
    }
   ],
   "source": [
    "i=\"samir\"\n",
    "x=0\n",
    "while x<len(i):\n",
    "    i\n",
    "    x+=1\n",
    "    pass\n",
    "print(\"length of i is\",x)    "
   ]
  },
  {
   "cell_type": "code",
   "execution_count": 22,
   "id": "91e58996",
   "metadata": {},
   "outputs": [
    {
     "name": "stdout",
     "output_type": "stream",
     "text": [
      "The unsorted list is: [5, 3, 8, 6, 7, 2]\n",
      "The sorted list is: [2, 3, 5, 6, 7, 8]\n"
     ]
    }
   ],
   "source": [
    "\n",
    "# SORTING \n",
    "\n",
    "\n",
    "def bubble_sort(list1):\n",
    "    for i in range(0, n-1):\n",
    "        for j in range(0, n-1):\n",
    "            if (list1[j] > list1[j+1]):\n",
    "                temp = list1[j]\n",
    "                list1[j] = list1[j+1]\n",
    "                list1[j+1] = temp\n",
    "    return list1\n",
    "\n",
    "list1 = [5, 3, 8, 6, 7, 2]\n",
    "n = len(list1)\n",
    "\n",
    "print(\"The unsorted list is:\", list1)\n",
    "\n",
    "sorted_list = bubble_sort(list1)\n",
    "print(\"The sorted list is:\", sorted_list)"
   ]
  },
  {
   "cell_type": "code",
   "execution_count": 23,
   "metadata": {},
   "outputs": [
    {
     "name": "stdout",
     "output_type": "stream",
     "text": [
      "Element present at index 3\n"
     ]
    }
   ],
   "source": [
    "def binary_search(arr, x):\n",
    "    low = 0\n",
    "    high = len(arr) - 1\n",
    "    mid = 0\n",
    "\n",
    "    while low <= high:\n",
    "        mid = (high + low) // 2\n",
    "        \n",
    "        # If x is greater, ignore the left half\n",
    "        if arr[mid] < x:\n",
    "            low = mid + 1\n",
    "        \n",
    "        # If x is smaller, ignore the right half\n",
    "        elif arr[mid] > x:\n",
    "            high = mid - 1\n",
    "        \n",
    "        # x is present at mid\n",
    "        else:\n",
    "            return mid\n",
    "\n",
    "    # Element is not present in the array\n",
    "    return -1\n",
    "\n",
    "# Sample array\n",
    "arr = [2, 3, 4, 10, 40]\n",
    "x = 10\n",
    "\n",
    "# Call the binary_search function\n",
    "result = binary_search(arr, x)\n",
    "\n",
    "if result != -1:\n",
    "    print(\"Element present at index\", str(result))\n",
    "else:\n",
    "    print(\"Element is not present in array\")"
   ]
  },
  {
   "cell_type": "code",
   "execution_count": null,
   "id": "9abe5f3d",
   "metadata": {},
   "outputs": [],
   "source": [
    "def is_divisible_by_5(value):\n",
    "   \n",
    "    if value % 5 == 0:\n",
    "        return True\n",
    "    else:\n",
    "        return False\n",
    "\n",
    "\n",
    "user_input = int(input(\"Please enter a number: \"))\n",
    "\n",
    "print(is_divisible_by_5(user_input))\n"
   ]
  },
  {
   "cell_type": "code",
   "execution_count": null,
   "id": "7666f09c",
   "metadata": {},
   "outputs": [],
   "source": [
    "def division5(value):\n",
    "    if value % 5 == 0:\n",
    "        return True\n",
    "    else:\n",
    "         return False\n",
    "input = int(input(\"num:\"))\n",
    "print(division5(input))\n"
   ]
  },
  {
   "cell_type": "code",
   "execution_count": null,
   "id": "f931841a",
   "metadata": {},
   "outputs": [],
   "source": []
  },
  {
   "cell_type": "code",
   "execution_count": null,
   "id": "57b86c2f",
   "metadata": {},
   "outputs": [],
   "source": []
  },
  {
   "cell_type": "code",
   "execution_count": null,
   "metadata": {},
   "outputs": [],
   "source": []
  },
  {
   "cell_type": "code",
   "execution_count": null,
   "id": "b9db1fa3",
   "metadata": {},
   "outputs": [],
   "source": []
  },
  {
   "cell_type": "code",
   "execution_count": null,
   "metadata": {},
   "outputs": [],
   "source": []
  }
 ],
 "metadata": {
  "kernelspec": {
   "display_name": "Python 3",
   "language": "python",
   "name": "python3"
  },
  "language_info": {
   "codemirror_mode": {
    "name": "ipython",
    "version": 3
   },
   "file_extension": ".py",
   "mimetype": "text/x-python",
   "name": "python",
   "nbconvert_exporter": "python",
   "pygments_lexer": "ipython3",
   "version": "3.13.4"
  }
 },
 "nbformat": 4,
 "nbformat_minor": 5
}
