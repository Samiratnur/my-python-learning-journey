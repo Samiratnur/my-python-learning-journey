{
 "cells": [
  {
   "cell_type": "code",
   "execution_count": 1,
   "id": "7f88cf41",
   "metadata": {},
   "outputs": [
    {
     "name": "stdout",
     "output_type": "stream",
     "text": [
      "0b1010\n",
      "0b1000\n",
      "\n",
      "\n",
      "0b1010\n",
      "0b1000\n",
      "0b1000\n",
      "\n",
      "\n",
      "11\n"
     ]
    }
   ],
   "source": [
    "#bitwise operater \n",
    "# &(bitwise AND)\n",
    "# |(bitwise OR)\n",
    "# ^(bitwise XOR)\n",
    "# ~(bitwise NOT)\n",
    "# <<(bitwise left swift)\n",
    "# >>(bitwise right swift)\n",
    "#__________________________________\n",
    "# [1] & bitwise AND.\n",
    "x=10\n",
    "y=8\n",
    "print(bin(x))\n",
    "print(bin(y))\n",
    "\n",
    "print(\"\\n\")\n",
    "x=10\n",
    "y=8\n",
    "print(bin(x))\n",
    "print(bin(y))\n",
    "print(bin(x&y))\n",
    "\n",
    "print(\"\\n\")\n",
    "a=43\n",
    "b=95\n",
    "print(a&b)\n",
    "\n"
   ]
  },
  {
   "cell_type": "code",
   "execution_count": 2,
   "id": "d8a55235",
   "metadata": {},
   "outputs": [
    {
     "name": "stdout",
     "output_type": "stream",
     "text": [
      "0b1001011\n",
      "0b1110\n",
      "0b1001111\n",
      "79\n"
     ]
    }
   ],
   "source": [
    "#[2] |(bitwise OR)\n",
    "d=75\n",
    "h=14\n",
    "print(bin(d))\n",
    "print(bin(h))\n",
    "print(bin(d|h))\n",
    "print(d|h)"
   ]
  },
  {
   "cell_type": "code",
   "execution_count": 3,
   "id": "5bb6bb73",
   "metadata": {},
   "outputs": [
    {
     "name": "stdout",
     "output_type": "stream",
     "text": [
      "0b1100\n",
      "0b100000\n",
      "0b101100\n"
     ]
    }
   ],
   "source": [
    "#[3](**** ^ ****** bitwise XOR)\n",
    "x=12\n",
    "y=32\n",
    "v=x^y\n",
    "print(bin(x))\n",
    "print(bin(y))\n",
    "print(bin(v))\n"
   ]
  },
  {
   "cell_type": "code",
   "execution_count": 4,
   "id": "83753a44",
   "metadata": {},
   "outputs": [
    {
     "name": "stdout",
     "output_type": "stream",
     "text": [
      "~x= -87\n"
     ]
    }
   ],
   "source": [
    "#[4]~(bitwise NOT)\n",
    "x=86\n",
    "print(\"~x=\",~x)\n"
   ]
  },
  {
   "cell_type": "code",
   "execution_count": 5,
   "id": "897ef5d4",
   "metadata": {},
   "outputs": [
    {
     "name": "stdout",
     "output_type": "stream",
     "text": [
      "72\n",
      "208\n"
     ]
    }
   ],
   "source": [
    "#[5] <<(bitwise left swift)\n",
    "\n",
    "a=0b10010\n",
    "b=a<<2\n",
    "print(b)\n",
    "#______________________________\n",
    "a=0b110100\n",
    "b=a<<2\n",
    "print(b)"
   ]
  },
  {
   "cell_type": "code",
   "execution_count": 6,
   "id": "0a0f3712",
   "metadata": {},
   "outputs": [
    {
     "name": "stdout",
     "output_type": "stream",
     "text": [
      "5\n",
      "4\n"
     ]
    }
   ],
   "source": [
    "#[6] >>(bitwise right swift)\n",
    "\n",
    "x=0b10101\n",
    "b=x>>2\n",
    "print(b)\n",
    "\n",
    "a=0b10011\n",
    "b=a>>2\n",
    "print(b)"
   ]
  },
  {
   "cell_type": "code",
   "execution_count": 1,
   "id": "d48d0de4",
   "metadata": {},
   "outputs": [
    {
     "name": "stdout",
     "output_type": "stream",
     "text": [
      "5 & 3 = 1\n"
     ]
    }
   ],
   "source": [
    "#Program 1: Bitwise AND &\n",
    "a = 5       # Binary: 0101\n",
    "b = 3       # Binary: 0011\n",
    "result = a & b\n",
    "print(\"5 & 3 =\", result)\n"
   ]
  },
  {
   "cell_type": "code",
   "execution_count": 2,
   "id": "470f00a5",
   "metadata": {},
   "outputs": [
    {
     "name": "stdout",
     "output_type": "stream",
     "text": [
      "5 | 3 = 7\n"
     ]
    }
   ],
   "source": [
    "#Program 2: Bitwise OR |\n",
    "a = 5       # 0101\n",
    "b = 3       # 0011\n",
    "result = a | b\n",
    "print(\"5 | 3 =\", result)\n"
   ]
  },
  {
   "cell_type": "code",
   "execution_count": 3,
   "id": "0cf2483e",
   "metadata": {},
   "outputs": [
    {
     "name": "stdout",
     "output_type": "stream",
     "text": [
      "5 ^ 3 = 6\n"
     ]
    }
   ],
   "source": [
    "# Program 3: Bitwise XOR ^\n",
    "a = 5       # 0101\n",
    "b = 3       # 0011\n",
    "result = a ^ b\n",
    "print(\"5 ^ 3 =\", result)\n",
    "\n"
   ]
  },
  {
   "cell_type": "code",
   "execution_count": 1,
   "id": "d6c9a19f",
   "metadata": {},
   "outputs": [
    {
     "name": "stdout",
     "output_type": "stream",
     "text": [
      "~5 = -6\n"
     ]
    }
   ],
   "source": [
    "\n",
    "# Program 4: Bitwise NOT ~\n",
    "a = 5\n",
    "result = ~a\n",
    "print(\"~5 =\", result)\n",
    "\n"
   ]
  },
  {
   "cell_type": "code",
   "execution_count": 2,
   "id": "8a85e1f9",
   "metadata": {},
   "outputs": [
    {
     "name": "stdout",
     "output_type": "stream",
     "text": [
      "5 << 1 = 10\n"
     ]
    }
   ],
   "source": [
    "#Program 5: Left Shift <<\n",
    "a = 5       # 0101\n",
    "result = a << 1\n",
    "print(\"5 << 1 =\", result)\n"
   ]
  },
  {
   "cell_type": "code",
   "execution_count": 3,
   "id": "c3c7fef9",
   "metadata": {},
   "outputs": [
    {
     "name": "stdout",
     "output_type": "stream",
     "text": [
      "10 >> 1 = 5\n"
     ]
    }
   ],
   "source": [
    "#Program 6: Right Shift >>\n",
    "a = 10      # 1010\n",
    "result = a >> 1\n",
    "print(\"10 >> 1 =\", result)\n"
   ]
  },
  {
   "cell_type": "code",
   "execution_count": null,
   "id": "d94f315c",
   "metadata": {},
   "outputs": [],
   "source": [
    "#Program 6: Right Shift >>\n",
    "a = 10      # 1010\n",
    "result = a >> 1\n",
    "print(\"10 >> 1 =\", result)\n"
   ]
  },
  {
   "cell_type": "code",
   "execution_count": 4,
   "id": "ee23a663",
   "metadata": {},
   "outputs": [
    {
     "name": "stdout",
     "output_type": "stream",
     "text": [
      "Light status: On\n",
      "Light status: Off\n"
     ]
    }
   ],
   "source": [
    "#Program 7: Toggle Light Switch (Using XOR)\n",
    "light = 0  # 0 = off, 1 = on\n",
    "\n",
    "# Flip light\n",
    "light ^= 1\n",
    "print(\"Light status:\", \"On\" if light else \"Off\")\n",
    "\n",
    "light ^= 1\n",
    "print(\"Light status:\", \"On\" if light else \"Off\")\n"
   ]
  },
  {
   "cell_type": "code",
   "execution_count": 5,
   "id": "b4cabd92",
   "metadata": {},
   "outputs": [
    {
     "ename": "ValueError",
     "evalue": "invalid literal for int() with base 10: ''",
     "output_type": "error",
     "traceback": [
      "\u001b[31m---------------------------------------------------------------------------\u001b[39m",
      "\u001b[31mValueError\u001b[39m                                Traceback (most recent call last)",
      "\u001b[36mCell\u001b[39m\u001b[36m \u001b[39m\u001b[32mIn[5]\u001b[39m\u001b[32m, line 2\u001b[39m\n\u001b[32m      1\u001b[39m \u001b[38;5;66;03m# Program 8: Check Even or Odd (Using AND)\u001b[39;00m\n\u001b[32m----> \u001b[39m\u001b[32m2\u001b[39m num = \u001b[38;5;28;43mint\u001b[39;49m\u001b[43m(\u001b[49m\u001b[38;5;28;43minput\u001b[39;49m\u001b[43m(\u001b[49m\u001b[33;43m\"\u001b[39;49m\u001b[33;43mEnter a number: \u001b[39;49m\u001b[33;43m\"\u001b[39;49m\u001b[43m)\u001b[49m\u001b[43m)\u001b[49m\n\u001b[32m      4\u001b[39m \u001b[38;5;28;01mif\u001b[39;00m num & \u001b[32m1\u001b[39m:\n\u001b[32m      5\u001b[39m     \u001b[38;5;28mprint\u001b[39m(\u001b[33m\"\u001b[39m\u001b[33mOdd number\u001b[39m\u001b[33m\"\u001b[39m)\n",
      "\u001b[31mValueError\u001b[39m: invalid literal for int() with base 10: ''"
     ]
    }
   ],
   "source": [
    "# Program 8: Check Even or Odd (Using AND)\n",
    "num = int(input(\"Enter a number: \"))\n",
    "\n",
    "if num & 1:\n",
    "    print(\"Odd number\")\n",
    "else:\n",
    "    print(\"Even number\")\n"
   ]
  },
  {
   "cell_type": "code",
   "execution_count": 6,
   "id": "6ca9ba35",
   "metadata": {},
   "outputs": [
    {
     "name": "stdout",
     "output_type": "stream",
     "text": [
      "Double: 6\n",
      "Quadruple: 12\n"
     ]
    }
   ],
   "source": [
    "#Program 9: Multiply by Power of 2 (Using <<)\n",
    "num = 3\n",
    "double = num << 1   # 3 * 2\n",
    "quadruple = num << 2  # 3 * 4\n",
    "\n",
    "print(\"Double:\", double)\n",
    "print(\"Quadruple:\", quadruple)\n"
   ]
  },
  {
   "cell_type": "code",
   "execution_count": null,
   "id": "e51e6412",
   "metadata": {},
   "outputs": [],
   "source": [
    "#Program 10: Divide by Power of 2 (Using >>)\n",
    "num = 32\n",
    "half = num >> 1     # 32 / 2\n",
    "quarter = num >> 2  # 32 / 4\n",
    "\n",
    "print(\"Half:\", half)\n",
    "print(\"Quarter:\", quarter)\n"
   ]
  },
  {
   "cell_type": "code",
   "execution_count": 7,
   "id": "5a17a0cd",
   "metadata": {},
   "outputs": [
    {
     "name": "stdout",
     "output_type": "stream",
     "text": [
      "Before swap: a = 4 , b = 7\n",
      "After swap: a = 7 , b = 4\n"
     ]
    }
   ],
   "source": [
    "#rogram 11: Swap Two Numbers Using XOR\n",
    "a = 4\n",
    "b = 7\n",
    "\n",
    "print(\"Before swap: a =\", a, \", b =\", b)\n",
    "\n",
    "a = a ^ b\n",
    "b = a ^ b\n",
    "a = a ^ b\n",
    "\n",
    "print(\"After swap: a =\", a, \", b =\", b)\n"
   ]
  },
  {
   "cell_type": "code",
   "execution_count": null,
   "id": "9441cc9f",
   "metadata": {},
   "outputs": [],
   "source": []
  },
  {
   "cell_type": "code",
   "execution_count": null,
   "id": "10953ddd",
   "metadata": {},
   "outputs": [],
   "source": []
  },
  {
   "cell_type": "code",
   "execution_count": null,
   "id": "ca0b5467",
   "metadata": {},
   "outputs": [],
   "source": []
  },
  {
   "cell_type": "code",
   "execution_count": null,
   "id": "a7966c4e",
   "metadata": {},
   "outputs": [],
   "source": []
  },
  {
   "cell_type": "code",
   "execution_count": null,
   "id": "5dda95ec",
   "metadata": {},
   "outputs": [],
   "source": []
  }
 ],
 "metadata": {
  "kernelspec": {
   "display_name": "Python 3",
   "language": "python",
   "name": "python3"
  },
  "language_info": {
   "codemirror_mode": {
    "name": "ipython",
    "version": 3
   },
   "file_extension": ".py",
   "mimetype": "text/x-python",
   "name": "python",
   "nbconvert_exporter": "python",
   "pygments_lexer": "ipython3",
   "version": "3.13.4"
  }
 },
 "nbformat": 4,
 "nbformat_minor": 5
}
