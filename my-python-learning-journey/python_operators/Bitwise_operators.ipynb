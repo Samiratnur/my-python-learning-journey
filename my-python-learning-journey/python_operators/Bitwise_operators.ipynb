{
 "cells": [
  {
   "cell_type": "code",
   "execution_count": 1,
   "id": "7f88cf41",
   "metadata": {},
   "outputs": [
    {
     "name": "stdout",
     "output_type": "stream",
     "text": [
      "0b1010\n",
      "0b1000\n",
      "\n",
      "\n",
      "0b1010\n",
      "0b1000\n",
      "0b1000\n",
      "\n",
      "\n",
      "11\n"
     ]
    }
   ],
   "source": [
    "#bitwise operater \n",
    "# &(bitwise AND)\n",
    "# |(bitwise OR)\n",
    "# ^(bitwise XOR)\n",
    "# ~(bitwise NOT)\n",
    "# <<(bitwise left swift)\n",
    "# >>(bitwise right swift)\n",
    "#__________________________________\n",
    "# [1] & bitwise AND.\n",
    "x=10\n",
    "y=8\n",
    "print(bin(x))\n",
    "print(bin(y))\n",
    "\n",
    "print(\"\\n\")\n",
    "x=10\n",
    "y=8\n",
    "print(bin(x))\n",
    "print(bin(y))\n",
    "print(bin(x&y))\n",
    "\n",
    "print(\"\\n\")\n",
    "a=43\n",
    "b=95\n",
    "print(a&b)\n",
    "\n"
   ]
  },
  {
   "cell_type": "code",
   "execution_count": 2,
   "id": "d8a55235",
   "metadata": {},
   "outputs": [
    {
     "name": "stdout",
     "output_type": "stream",
     "text": [
      "0b1001011\n",
      "0b1110\n",
      "0b1001111\n",
      "79\n"
     ]
    }
   ],
   "source": [
    "#[2] |(bitwise OR)\n",
    "d=75\n",
    "h=14\n",
    "print(bin(d))\n",
    "print(bin(h))\n",
    "print(bin(d|h))\n",
    "print(d|h)"
   ]
  },
  {
   "cell_type": "code",
   "execution_count": 3,
   "id": "5bb6bb73",
   "metadata": {},
   "outputs": [
    {
     "name": "stdout",
     "output_type": "stream",
     "text": [
      "0b1100\n",
      "0b100000\n",
      "0b101100\n"
     ]
    }
   ],
   "source": [
    "#[3](**** ^ ****** bitwise XOR)\n",
    "x=12\n",
    "y=32\n",
    "v=x^y\n",
    "print(bin(x))\n",
    "print(bin(y))\n",
    "print(bin(v))\n"
   ]
  },
  {
   "cell_type": "code",
   "execution_count": 4,
   "id": "83753a44",
   "metadata": {},
   "outputs": [
    {
     "name": "stdout",
     "output_type": "stream",
     "text": [
      "~x= -87\n"
     ]
    }
   ],
   "source": [
    "#[4]~(bitwise NOT)\n",
    "x=86\n",
    "print(\"~x=\",~x)\n"
   ]
  },
  {
   "cell_type": "code",
   "execution_count": 5,
   "id": "897ef5d4",
   "metadata": {},
   "outputs": [
    {
     "name": "stdout",
     "output_type": "stream",
     "text": [
      "72\n",
      "208\n"
     ]
    }
   ],
   "source": [
    "#[5] <<(bitwise left swift)\n",
    "\n",
    "a=0b10010\n",
    "b=a<<2\n",
    "print(b)\n",
    "#______________________________\n",
    "a=0b110100\n",
    "b=a<<2\n",
    "print(b)"
   ]
  },
  {
   "cell_type": "code",
   "execution_count": 6,
   "id": "0a0f3712",
   "metadata": {},
   "outputs": [
    {
     "name": "stdout",
     "output_type": "stream",
     "text": [
      "5\n",
      "4\n"
     ]
    }
   ],
   "source": [
    "#[6] >>(bitwise right swift)\n",
    "\n",
    "x=0b10101\n",
    "b=x>>2\n",
    "print(b)\n",
    "\n",
    "a=0b10011\n",
    "b=a>>2\n",
    "print(b)"
   ]
  },
  {
   "cell_type": "code",
   "execution_count": null,
   "id": "d48d0de4",
   "metadata": {},
   "outputs": [],
   "source": []
  },
  {
   "cell_type": "code",
   "execution_count": null,
   "id": "470f00a5",
   "metadata": {},
   "outputs": [],
   "source": []
  },
  {
   "cell_type": "code",
   "execution_count": null,
   "id": "0cf2483e",
   "metadata": {},
   "outputs": [],
   "source": []
  }
 ],
 "metadata": {
  "kernelspec": {
   "display_name": "Python 3",
   "language": "python",
   "name": "python3"
  },
  "language_info": {
   "codemirror_mode": {
    "name": "ipython",
    "version": 3
   },
   "file_extension": ".py",
   "mimetype": "text/x-python",
   "name": "python",
   "nbconvert_exporter": "python",
   "pygments_lexer": "ipython3",
   "version": "3.13.3"
  }
 },
 "nbformat": 4,
 "nbformat_minor": 5
}
