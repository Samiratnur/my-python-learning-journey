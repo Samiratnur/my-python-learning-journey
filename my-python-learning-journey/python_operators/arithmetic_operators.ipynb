{
 "cells": [
  {
   "cell_type": "code",
   "execution_count": 1,
   "id": "c78c3327",
   "metadata": {},
   "outputs": [
    {
     "name": "stdout",
     "output_type": "stream",
     "text": [
      "66\n",
      "66\n"
     ]
    }
   ],
   "source": [
    "#addition[1]\n",
    "\n",
    "a=23\n",
    "b=43\n",
    "c=a+b\n",
    "print(c)\n",
    "\n",
    "a=23+43\n",
    "print(a)"
   ]
  },
  {
   "cell_type": "code",
   "execution_count": null,
   "id": "4fd7c3b6",
   "metadata": {},
   "outputs": [],
   "source": [
    "# substraction.[2]\n",
    "a=76\n",
    "b=43\n",
    "c=a-b\n",
    "print(c)\n",
    "\n",
    "a=76-43\n",
    "print(a)"
   ]
  },
  {
   "cell_type": "code",
   "execution_count": 2,
   "id": "7e2a7eb5",
   "metadata": {},
   "outputs": [
    {
     "name": "stdout",
     "output_type": "stream",
     "text": [
      "1131\n",
      "3268\n"
     ]
    }
   ],
   "source": [
    "#multiplication opreations.[3]\n",
    "a=13\n",
    "b=87\n",
    "c=a*b\n",
    "print(c)\n",
    "\n",
    "a=76*43\n",
    "print(a)"
   ]
  },
  {
   "cell_type": "code",
   "execution_count": 3,
   "id": "d1ac9d33",
   "metadata": {},
   "outputs": [
    {
     "name": "stdout",
     "output_type": "stream",
     "text": [
      "2.6\n",
      "0.3333333333333333\n"
     ]
    }
   ],
   "source": [
    "#division opreation.[4]\n",
    "a=13\n",
    "b=5\n",
    "c=a/b\n",
    "print(c)\n",
    "\n",
    "a=7/21\n",
    "print(a)"
   ]
  },
  {
   "cell_type": "code",
   "execution_count": 1,
   "id": "3e5e2005",
   "metadata": {},
   "outputs": [
    {
     "name": "stdout",
     "output_type": "stream",
     "text": [
      "3\n",
      "7\n"
     ]
    }
   ],
   "source": [
    "#modules opreations.[5]\n",
    "a=13\n",
    "b=5\n",
    "c=a%b\n",
    "print(c)\n",
    "\n",
    "a=7%21\n",
    "print(a)"
   ]
  },
  {
   "cell_type": "code",
   "execution_count": 2,
   "id": "fce0a538",
   "metadata": {},
   "outputs": [
    {
     "name": "stdout",
     "output_type": "stream",
     "text": [
      "371293\n",
      "558545864083284007\n"
     ]
    }
   ],
   "source": [
    "# exponentiation opreations.[6]\n",
    "a=13\n",
    "b=5\n",
    "c=a**b\n",
    "print(c)\n",
    "\n",
    "a=7**21\n",
    "print(a)"
   ]
  },
  {
   "cell_type": "code",
   "execution_count": 3,
   "id": "b935933f",
   "metadata": {},
   "outputs": [
    {
     "name": "stdout",
     "output_type": "stream",
     "text": [
      "2\n",
      "0\n"
     ]
    }
   ],
   "source": [
    "a=13\n",
    "b=5\n",
    "c=a//b\n",
    "print(c)\n",
    "\n",
    "a=7//21\n",
    "print(a)"
   ]
  },
  {
   "cell_type": "code",
   "execution_count": 4,
   "id": "2bb22131",
   "metadata": {},
   "outputs": [
    {
     "name": "stdout",
     "output_type": "stream",
     "text": [
      "1.0\n",
      "5.0\n",
      "-5.0\n",
      "10.0\n",
      "\n",
      " 3\n",
      "-3\n",
      "2.0\n",
      "-3.0\n"
     ]
    }
   ],
   "source": [
    "#division in arthmetic operaters-\n",
    "#float division \n",
    "#integer division\n",
    "print(5/5)\n",
    "print(10/2)\n",
    "print(-10/2)\n",
    "print(20.0/2)\n",
    "\n",
    "#_____________________________________\n",
    "#integer division.\n",
    "print(\"\\n\",10//3)\n",
    "print(-5//2)\n",
    "print(5.0//2)\n",
    "print(-5.0//2)"
   ]
  },
  {
   "cell_type": "code",
   "execution_count": null,
   "id": "2d2568a7",
   "metadata": {},
   "outputs": [],
   "source": []
  },
  {
   "cell_type": "code",
   "execution_count": null,
   "id": "6009e077",
   "metadata": {},
   "outputs": [],
   "source": []
  },
  {
   "cell_type": "code",
   "execution_count": null,
   "id": "c756ee2d",
   "metadata": {},
   "outputs": [],
   "source": []
  },
  {
   "cell_type": "code",
   "execution_count": null,
   "metadata": {},
   "outputs": [],
   "source": []
  },
  {
   "cell_type": "code",
   "execution_count": null,
   "id": "2a93af56",
   "metadata": {},
   "outputs": [],
   "source": []
  },
  {
   "cell_type": "code",
   "execution_count": null,
   "id": "76bdca08",
   "metadata": {},
   "outputs": [],
   "source": []
  }
 ],
 "metadata": {
  "kernelspec": {
   "display_name": "Python 3",
   "language": "python",
   "name": "python3"
  },
  "language_info": {
   "codemirror_mode": {
    "name": "ipython",
    "version": 3
   },
   "file_extension": ".py",
   "mimetype": "text/x-python",
   "name": "python",
   "nbconvert_exporter": "python",
   "pygments_lexer": "ipython3",
   "version": "3.13.3"
  }
 },
 "nbformat": 4,
 "nbformat_minor": 5
}
