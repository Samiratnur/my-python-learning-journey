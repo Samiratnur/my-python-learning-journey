{
 "cells": [
  {
   "cell_type": "code",
   "execution_count": 1,
   "id": "c78c3327",
   "metadata": {},
   "outputs": [
    {
     "name": "stdout",
     "output_type": "stream",
     "text": [
      "66\n",
      "66\n"
     ]
    }
   ],
   "source": [
    "#addition[1]\n",
    "\n",
    "a=23\n",
    "b=43\n",
    "c=a+b\n",
    "print(c)\n",
    "\n",
    "a=23+43\n",
    "print(a)"
   ]
  },
  {
   "cell_type": "code",
   "execution_count": null,
   "id": "4fd7c3b6",
   "metadata": {},
   "outputs": [],
   "source": [
    "# substraction.[2]\n",
    "a=76\n",
    "b=43\n",
    "c=a-b\n",
    "print(c)\n",
    "\n",
    "a=76-43\n",
    "print(a)"
   ]
  },
  {
   "cell_type": "code",
   "execution_count": 2,
   "id": "7e2a7eb5",
   "metadata": {},
   "outputs": [
    {
     "name": "stdout",
     "output_type": "stream",
     "text": [
      "1131\n",
      "3268\n"
     ]
    }
   ],
   "source": [
    "#multiplication opreations.[3]\n",
    "a=13\n",
    "b=87\n",
    "c=a*b\n",
    "print(c)\n",
    "\n",
    "a=76*43\n",
    "print(a)"
   ]
  },
  {
   "cell_type": "code",
   "execution_count": 3,
   "id": "d1ac9d33",
   "metadata": {},
   "outputs": [
    {
     "name": "stdout",
     "output_type": "stream",
     "text": [
      "2.6\n",
      "0.3333333333333333\n"
     ]
    }
   ],
   "source": [
    "#division opreation.[4]\n",
    "a=13\n",
    "b=5\n",
    "c=a/b\n",
    "print(c)\n",
    "\n",
    "a=7/21\n",
    "print(a)"
   ]
  },
  {
   "cell_type": "code",
   "execution_count": 1,
   "id": "3e5e2005",
   "metadata": {},
   "outputs": [
    {
     "name": "stdout",
     "output_type": "stream",
     "text": [
      "3\n",
      "7\n"
     ]
    }
   ],
   "source": [
    "#modules opreations.[5]\n",
    "a=13\n",
    "b=5\n",
    "c=a%b\n",
    "print(c)\n",
    "\n",
    "a=7%21\n",
    "print(a)"
   ]
  },
  {
   "cell_type": "code",
   "execution_count": 2,
   "id": "fce0a538",
   "metadata": {},
   "outputs": [
    {
     "name": "stdout",
     "output_type": "stream",
     "text": [
      "371293\n",
      "558545864083284007\n"
     ]
    }
   ],
   "source": [
    "# exponentiation opreations.[6]\n",
    "a=13\n",
    "b=5\n",
    "c=a**b\n",
    "print(c)\n",
    "\n",
    "a=7**21\n",
    "print(a)"
   ]
  },
  {
   "cell_type": "code",
   "execution_count": 3,
   "id": "b935933f",
   "metadata": {},
   "outputs": [
    {
     "name": "stdout",
     "output_type": "stream",
     "text": [
      "2\n",
      "0\n"
     ]
    }
   ],
   "source": [
    "a=13\n",
    "b=5\n",
    "c=a//b\n",
    "print(c)\n",
    "\n",
    "a=7//21\n",
    "print(a)"
   ]
  },
  {
   "cell_type": "code",
   "execution_count": 4,
   "id": "2bb22131",
   "metadata": {},
   "outputs": [
    {
     "name": "stdout",
     "output_type": "stream",
     "text": [
      "1.0\n",
      "5.0\n",
      "-5.0\n",
      "10.0\n",
      "\n",
      " 3\n",
      "-3\n",
      "2.0\n",
      "-3.0\n"
     ]
    }
   ],
   "source": [
    "#division in arthmetic operaters-\n",
    "#float division \n",
    "#integer division\n",
    "print(5/5)\n",
    "print(10/2)\n",
    "print(-10/2)\n",
    "print(20.0/2)\n",
    "\n",
    "#_____________________________________\n",
    "#integer division.\n",
    "print(\"\\n\",10//3)\n",
    "print(-5//2)\n",
    "print(5.0//2)\n",
    "print(-5.0//2)"
   ]
  },
  {
   "cell_type": "code",
   "execution_count": null,
   "id": "2d2568a7",
   "metadata": {},
   "outputs": [],
   "source": [
    "#1. Basic Arithmetic Calculator\n",
    "a = int(input(\"Enter first number: \"))\n",
    "b = int(input(\"Enter second number: \"))\n",
    "\n",
    "print(\"Addition:\", a + b)\n",
    "print(\"Subtraction:\", a - b)\n",
    "print(\"Multiplication:\", a * b)\n",
    "print(\"Division:\", a / b)\n",
    "print(\"Floor Division:\", a // b)\n",
    "print(\"Modulus (Remainder):\", a % b)\n",
    "print(\"Exponentiation:\", a ** b)\n"
   ]
  },
  {
   "cell_type": "code",
   "execution_count": 2,
   "id": "6009e077",
   "metadata": {},
   "outputs": [
    {
     "ename": "ValueError",
     "evalue": "invalid literal for int() with base 10: ''",
     "output_type": "error",
     "traceback": [
      "\u001b[31m---------------------------------------------------------------------------\u001b[39m",
      "\u001b[31mValueError\u001b[39m                                Traceback (most recent call last)",
      "\u001b[36mCell\u001b[39m\u001b[36m \u001b[39m\u001b[32mIn[2]\u001b[39m\u001b[32m, line 2\u001b[39m\n\u001b[32m      1\u001b[39m \u001b[38;5;66;03m#2. Area of a Rectangle\u001b[39;00m\n\u001b[32m----> \u001b[39m\u001b[32m2\u001b[39m length = \u001b[38;5;28;43mint\u001b[39;49m\u001b[43m(\u001b[49m\u001b[38;5;28;43minput\u001b[39;49m\u001b[43m(\u001b[49m\u001b[33;43m\"\u001b[39;49m\u001b[33;43mEnter length: \u001b[39;49m\u001b[33;43m\"\u001b[39;49m\u001b[43m)\u001b[49m\u001b[43m)\u001b[49m\n\u001b[32m      3\u001b[39m width = \u001b[38;5;28mint\u001b[39m(\u001b[38;5;28minput\u001b[39m(\u001b[33m\"\u001b[39m\u001b[33mEnter width: \u001b[39m\u001b[33m\"\u001b[39m))\n\u001b[32m      4\u001b[39m area = length * width\n",
      "\u001b[31mValueError\u001b[39m: invalid literal for int() with base 10: ''"
     ]
    }
   ],
   "source": [
    "#2. Area of a Rectangle\n",
    "length = int(input(\"Enter length: \"))\n",
    "width = int(input(\"Enter width: \"))\n",
    "area = length * width\n",
    "\n",
    "print(\"Area of rectangle:\", area)\n"
   ]
  },
  {
   "cell_type": "code",
   "execution_count": null,
   "id": "c756ee2d",
   "metadata": {},
   "outputs": [],
   "source": [
    "#3. Simple Interest Calculator\n",
    "p = int(input(\"Enter principal amount: \"))\n",
    "r = int(input(\"Enter rate of interest: \"))\n",
    "t = int(input(\"Enter time (in years): \"))\n",
    "\n",
    "si = (p * r * t) / 100\n",
    "print(\"Simple Interest is:\", si)\n"
   ]
  },
  {
   "cell_type": "code",
   "execution_count": null,
   "metadata": {},
   "outputs": [],
   "source": [
    "#4. Convert Days into Years and Weeks\n",
    "days = int(input(\"Enter number of days: \"))\n",
    "years = days // 365\n",
    "weeks = (days % 365) // 7\n",
    "\n",
    "print(\"Years:\", years)\n",
    "print(\"Weeks:\", weeks)\n"
   ]
  },
  {
   "cell_type": "code",
   "execution_count": null,
   "id": "2a93af56",
   "metadata": {},
   "outputs": [],
   "source": [
    "# 5. Swap Two Numbers Without Third Variable\n",
    "a = int(input(\"Enter first number: \"))\n",
    "b = int(input(\"Enter second number: \"))\n",
    "\n",
    "a = a + b\n",
    "b = a - b\n",
    "a = a - b\n",
    "\n",
    "print(\"After swapping:\")\n",
    "print(\"a =\", a)\n",
    "print(\"b =\", b)\n"
   ]
  },
  {
   "cell_type": "code",
   "execution_count": null,
   "id": "76bdca08",
   "metadata": {},
   "outputs": [],
   "source": [
    "#6. Find Average of 5 Numbers\n",
    "a = int(input(\"Enter number 1: \"))\n",
    "b = int(input(\"Enter number 2: \"))\n",
    "c = int(input(\"Enter number 3: \"))\n",
    "d = int(input(\"Enter number 4: \"))\n",
    "e = int(input(\"Enter number 5: \"))\n",
    "\n",
    "average = (a + b + c + d + e) / 5\n",
    "print(\"Average:\", average)\n"
   ]
  },
  {
   "cell_type": "code",
   "execution_count": null,
   "id": "e978fd86",
   "metadata": {},
   "outputs": [],
   "source": [
    "#7. Calculate Square and Cube of a Number\n",
    "num = int(input(\"Enter a number: \"))\n",
    "\n",
    "square = num ** 2\n",
    "cube = num ** 3\n",
    "\n",
    "print(\"Square:\", square)\n",
    "print(\"Cube:\", cube)\n"
   ]
  },
  {
   "cell_type": "code",
   "execution_count": null,
   "id": "5dcb58dd",
   "metadata": {},
   "outputs": [],
   "source": [
    "# 8. Check if a Number is Divisible by 3 and 5\n",
    "num = int(input(\"Enter a number: \"))\n",
    "\n",
    "if num % 3 == 0 and num % 5 == 0:\n",
    "    print(\"Divisible by both 3 and 5\")\n",
    "else:\n",
    "    print(\"Not divisible by both\")\n",
    "\n"
   ]
  },
  {
   "cell_type": "code",
   "execution_count": null,
   "id": "48c39c51",
   "metadata": {},
   "outputs": [],
   "source": [
    "#9. Split a Bill Between Friends\n",
    "total_bill = int(input(\"Enter total bill amount: \"))\n",
    "people = int(input(\"How many friends?: \"))\n",
    "\n",
    "share = total_bill / people\n",
    "print(\"Each friend should pay:\", share)\n"
   ]
  },
  {
   "cell_type": "code",
   "execution_count": null,
   "id": "c0d3f668",
   "metadata": {},
   "outputs": [],
   "source": [
    "#10. Convert Minutes to Hours and Minutes\n",
    "minutes = int(input(\"Enter total minutes: \"))\n",
    "hours = minutes // 60\n",
    "remaining_minutes = minutes % 60\n",
    "\n",
    "print(hours, \"Hours and\", remaining_minutes, \"Minutes\")\n"
   ]
  },
  {
   "cell_type": "code",
   "execution_count": null,
   "id": "57f8a0b1",
   "metadata": {},
   "outputs": [],
   "source": [
    "#11. Calculate Body Mass Index (BMI)\n",
    "weight = float(input(\"Enter weight in kg: \"))\n",
    "height = float(input(\"Enter height in meters: \"))\n",
    "\n",
    "bmi = weight / (height ** 2)\n",
    "print(\"Your BMI is:\", round(bmi, 2))\n"
   ]
  },
  {
   "cell_type": "code",
   "execution_count": null,
   "id": "ab93fac1",
   "metadata": {},
   "outputs": [],
   "source": [
    "#12. Convert Temperature (Celsius to Fahrenheit)\n",
    "celsius = float(input(\"Enter temperature in Celsius: \"))\n",
    "fahrenheit = (celsius * 9/5) + 32\n",
    "\n",
    "print(\"Temperature in Fahrenheit:\", fahrenheit)\n"
   ]
  },
  {
   "cell_type": "code",
   "execution_count": null,
   "id": "d75110f2",
   "metadata": {},
   "outputs": [],
   "source": [
    "#13. Break Amount into Currency Notes\n",
    "amount = int(input(\"Enter amount: \"))\n",
    "\n",
    "notes_100 = amount // 100\n",
    "notes_50 = (amount % 100) // 50\n",
    "notes_10 = ((amount % 100) % 50) // 10\n",
    "notes_1 = ((amount % 100) % 50) % 10\n",
    "\n",
    "print(\"100s:\", notes_100)\n",
    "print(\"50s:\", notes_50)\n",
    "print(\"10s:\", notes_10)\n",
    "print(\"1s:\", notes_1)\n"
   ]
  },
  {
   "cell_type": "code",
   "execution_count": null,
   "metadata": {},
   "outputs": [],
   "source": [
    "#   14. Even or Odd Checker\n",
    "num = int(input(\"Enter a number: \"))\n",
    "\n",
    "if num % 2 == 0:\n",
    "    print(\"Even Number\")\n",
    "else:\n",
    "    print(\"Odd Number\")\n"
   ]
  },
  {
   "cell_type": "code",
   "execution_count": 1,
   "id": "6a487d65",
   "metadata": {},
   "outputs": [
    {
     "ename": "ValueError",
     "evalue": "invalid literal for int() with base 10: ''",
     "output_type": "error",
     "traceback": [
      "\u001b[31m---------------------------------------------------------------------------\u001b[39m",
      "\u001b[31mValueError\u001b[39m                                Traceback (most recent call last)",
      "\u001b[36mCell\u001b[39m\u001b[36m \u001b[39m\u001b[32mIn[1]\u001b[39m\u001b[32m, line 3\u001b[39m\n\u001b[32m      1\u001b[39m \u001b[38;5;66;03m# 15. Perimeter of a Square & Rectangle\u001b[39;00m\n\u001b[32m      2\u001b[39m \u001b[38;5;66;03m# Square\u001b[39;00m\n\u001b[32m----> \u001b[39m\u001b[32m3\u001b[39m side = \u001b[38;5;28;43mint\u001b[39;49m\u001b[43m(\u001b[49m\u001b[38;5;28;43minput\u001b[39;49m\u001b[43m(\u001b[49m\u001b[33;43m\"\u001b[39;49m\u001b[33;43mEnter side of square: \u001b[39;49m\u001b[33;43m\"\u001b[39;49m\u001b[43m)\u001b[49m\u001b[43m)\u001b[49m\n\u001b[32m      4\u001b[39m \u001b[38;5;28mprint\u001b[39m(\u001b[33m\"\u001b[39m\u001b[33mPerimeter of Square:\u001b[39m\u001b[33m\"\u001b[39m, \u001b[32m4\u001b[39m * side)\n\u001b[32m      6\u001b[39m \u001b[38;5;66;03m# Rectangle\u001b[39;00m\n",
      "\u001b[31mValueError\u001b[39m: invalid literal for int() with base 10: ''"
     ]
    }
   ],
   "source": [
    "# 15. Perimeter of a Square & Rectangle\n",
    "# Square\n",
    "side = int(input(\"Enter side of square: \"))\n",
    "print(\"Perimeter of Square:\", 4 * side)\n",
    "\n",
    "# Rectangle\n",
    "length = int(input(\"Enter length: \"))\n",
    "width = int(input(\"Enter width: \"))\n",
    "print(\"Perimeter of Rectangle:\", 2 * (length + width))\n"
   ]
  },
  {
   "cell_type": "code",
   "execution_count": null,
   "metadata": {},
   "outputs": [],
   "source": [
    "#16. Convert Seconds into Hours, Minutes, Seconds\n",
    "seconds = int(input(\"Enter time in seconds: \"))\n",
    "hours = seconds // 3600\n",
    "minutes = (seconds % 3600) // 60\n",
    "secs = seconds % 60\n",
    "\n",
    "print(\"Time = \", hours, \"Hours\", minutes, \"Minutes\", secs, \"Seconds\")\n"
   ]
  },
  {
   "cell_type": "code",
   "execution_count": null,
   "id": "2e77548a",
   "metadata": {},
   "outputs": [],
   "source": [
    "#17. Percentage Calculator for Exam\n",
    "marks1 = int(input(\"Enter marks for Subject 1: \"))\n",
    "marks2 = int(input(\"Enter marks for Subject 2: \"))\n",
    "marks3 = int(input(\"Enter marks for Subject 3: \"))\n",
    "\n",
    "total = marks1 + marks2 + marks3\n",
    "percentage = (total / 300) * 100\n",
    "\n",
    "print(\"Total Marks:\", total)\n",
    "print(\"Percentage:\", percentage, \"%\")\n"
   ]
  },
  {
   "cell_type": "code",
   "execution_count": null,
   "metadata": {},
   "outputs": [],
   "source": [
    "# 18. Digit Sum of a 3-digit Number\n",
    "num = int(input(\"Enter a 3-digit number: \"))\n",
    "a = num // 100\n",
    "b = (num % 100) // 10\n",
    "c = num % 10\n",
    "\n",
    "print(\"Sum of digits:\", a + b + c)\n"
   ]
  },
  {
   "cell_type": "code",
   "execution_count": null,
   "id": "c2737ae1",
   "metadata": {},
   "outputs": [],
   "source": [
    "#19. Tip Calculator\n",
    "bill = float(input(\"Enter total bill: \"))\n",
    "tip_percent = int(input(\"Enter tip percentage: \"))\n",
    "\n",
    "tip = (bill * tip_percent) / 100\n",
    "total = bill + tip\n",
    "\n",
    "print(\"Tip amount:\", round(tip, 2))\n",
    "print(\"Total bill with tip:\", round(total, 2))\n"
   ]
  },
  {
   "cell_type": "code",
   "execution_count": null,
   "id": "cfd33001",
   "metadata": {},
   "outputs": [],
   "source": [
    "#20. Find Cube Root of a Number\n",
    "num = float(input(\"Enter a number: \"))\n",
    "cube_root = num ** (1/3)\n",
    "\n",
    "print(\"Cube root is:\", round(cube_root, 3))\n"
   ]
  },
  {
   "cell_type": "code",
   "execution_count": null,
   "id": "d617c60c",
   "metadata": {},
   "outputs": [],
   "source": []
  },
  {
   "cell_type": "code",
   "execution_count": null,
   "id": "e2a09128",
   "metadata": {},
   "outputs": [],
   "source": []
  },
  {
   "cell_type": "code",
   "execution_count": null,
   "id": "e309425e",
   "metadata": {},
   "outputs": [],
   "source": []
  },
  {
   "cell_type": "code",
   "execution_count": null,
   "id": "3ea6c855",
   "metadata": {},
   "outputs": [],
   "source": []
  },
  {
   "cell_type": "code",
   "execution_count": null,
   "id": "15eafb70",
   "metadata": {},
   "outputs": [],
   "source": []
  },
  {
   "cell_type": "code",
   "execution_count": null,
   "id": "d8753b77",
   "metadata": {},
   "outputs": [],
   "source": []
  }
 ],
 "metadata": {
  "kernelspec": {
   "display_name": "Python 3",
   "language": "python",
   "name": "python3"
  },
  "language_info": {
   "codemirror_mode": {
    "name": "ipython",
    "version": 3
   },
   "file_extension": ".py",
   "mimetype": "text/x-python",
   "name": "python",
   "nbconvert_exporter": "python",
   "pygments_lexer": "ipython3",
   "version": "3.11.0"
  }
 },
 "nbformat": 4,
 "nbformat_minor": 5
}
