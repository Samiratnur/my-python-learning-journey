{
 "cells": [
  {
   "cell_type": "code",
   "execution_count": 1,
   "id": "9c9c0195",
   "metadata": {},
   "outputs": [
    {
     "ename": "SyntaxError",
     "evalue": "invalid syntax (2300709409.py, line 2)",
     "output_type": "error",
     "traceback": [
      "  \u001b[36mCell\u001b[39m\u001b[36m \u001b[39m\u001b[32mIn[1]\u001b[39m\u001b[32m, line 2\u001b[39m\n\u001b[31m    \u001b[39m\u001b[31m1 in\u001b[39m\n        ^\n\u001b[31mSyntaxError\u001b[39m\u001b[31m:\u001b[39m invalid syntax\n"
     ]
    }
   ],
   "source": [
    "#membership opreater\n",
    "1 in\n",
    "2 not in \n",
    "used in list,tuple,dictonary.\n"
   ]
  },
  {
   "cell_type": "code",
   "execution_count": 2,
   "id": "7e296984",
   "metadata": {},
   "outputs": [
    {
     "name": "stdout",
     "output_type": "stream",
     "text": [
      "False\n",
      "<class 'str'>\n",
      "True\n",
      "<class 'list'>\n",
      "dict_keys(['age', 'name', 'per'])\n",
      "dict_values([23, 'sami', 99])\n",
      "True\n",
      "<class 'dict'>\n"
     ]
    },
    {
     "data": {
      "text/plain": [
       "''"
      ]
     },
     "execution_count": 2,
     "metadata": {},
     "output_type": "execute_result"
    }
   ],
   "source": [
    "# in membership opreater\n",
    "name='samir'                            #string\n",
    "print('A' in name)\n",
    "print(type(name))\n",
    "\n",
    "num=[23,43,5,65,-5,65,65-45]            #list\n",
    "print( 43 in num)\n",
    "print(type(num))\n",
    "\n",
    "x={'age':23,'name':'sami','per':99}    #dict\n",
    "print(x.keys())\n",
    "print(x.values())\n",
    "print('age' in x)                       #in  membership\n",
    "print(type(x))\n",
    "\"\""
   ]
  },
  {
   "cell_type": "code",
   "execution_count": 3,
   "id": "899bc94e",
   "metadata": {},
   "outputs": [
    {
     "name": "stdout",
     "output_type": "stream",
     "text": [
      "True\n",
      "<class 'str'>\n",
      "False\n",
      "<class 'list'>\n",
      "dict_keys(['age', 'name', 'per'])\n",
      "dict_values([23, 'sami', 99])\n",
      "False\n",
      "<class 'dict'>\n",
      "True\n",
      "x is  not present in given list\n",
      "y is present in given list\n"
     ]
    }
   ],
   "source": [
    "# not in  membership opreater\n",
    "name='samir'                            #string\n",
    "print('A' not in name)\n",
    "print(type(name))\n",
    "\n",
    "num=[23,43,5,65,-5,65,65-45]            #list\n",
    "print( 43 not in num)\n",
    "print(type(num))\n",
    "\n",
    "x={'age':23,'name':'sami','per':99}    #dict\n",
    "print(x.keys())\n",
    "print(x.values())\n",
    "print('age' not in x)                       #in  membership\n",
    "print(type(x))\n",
    "\n",
    "\n",
    "\n",
    "\n",
    "i=[10,20,30,40]\n",
    "print(50 not in i)\n",
    "\n",
    "x=24                                                     #simple if else program in in and not in.\n",
    "y=20\n",
    "list=[10,20,30,40,50,60,70,]\n",
    "if(x not in  list):\n",
    "    print(\"x is  not present in given list\")\n",
    "else:\n",
    "    print(\"x is present in given list\")\n",
    "if (y not in list):\n",
    "    print(\"y is  not present in given list\")\n",
    "else:\n",
    "    print(\"y is present in given list\")\n",
    "\n"
   ]
  },
  {
   "cell_type": "code",
   "execution_count": 1,
   "id": "065fae8e",
   "metadata": {},
   "outputs": [
    {
     "name": "stdout",
     "output_type": "stream",
     "text": [
      "red\n",
      "r\n",
      "e\n",
      "d\n",
      "Green\n",
      "G\n",
      "r\n",
      "e\n",
      "e\n",
      "n\n",
      "blue\n",
      "b\n",
      "l\n",
      "u\n",
      "e\n",
      "yellow\n",
      "y\n",
      "e\n",
      "l\n",
      "l\n",
      "o\n",
      "w\n"
     ]
    }
   ],
   "source": [
    "colors = [\"red\",\"Green\",\"blue\",\"yellow\"]\n",
    "for color in colors:\n",
    "    print(color)\n",
    "    for i in color :\n",
    "        print(i)"
   ]
  },
  {
   "cell_type": "code",
   "execution_count": 1,
   "id": "ea7c02b3",
   "metadata": {},
   "outputs": [],
   "source": [
    "arr=[1,455,244,2344,556]\n",
    "for i in ( ):\n",
    "    print(i)"
   ]
  },
  {
   "cell_type": "code",
   "execution_count": 1,
   "id": "79e9db46",
   "metadata": {},
   "outputs": [
    {
     "name": "stdout",
     "output_type": "stream",
     "text": [
      "True\n",
      "False\n"
     ]
    }
   ],
   "source": [
    "#1. Check if a number is in a list\n",
    "nums = [1, 2, 3, 4, 5]\n",
    "print(3 in nums)      # True\n",
    "print(10 in nums)     # False\n"
   ]
  },
  {
   "cell_type": "code",
   "execution_count": 2,
   "id": "3b6f9320",
   "metadata": {},
   "outputs": [
    {
     "name": "stdout",
     "output_type": "stream",
     "text": [
      "True\n",
      "True\n"
     ]
    }
   ],
   "source": [
    "#2. Check if a character is in a string\n",
    "text = \"python\"\n",
    "print(\"p\" in text)      # True\n",
    "print(\"z\" not in text)  # True\n"
   ]
  },
  {
   "cell_type": "code",
   "execution_count": 3,
   "id": "0f9d2974",
   "metadata": {},
   "outputs": [
    {
     "name": "stdout",
     "output_type": "stream",
     "text": [
      "True\n",
      "True\n"
     ]
    }
   ],
   "source": [
    "#3. Search for a word in a sentence\n",
    "sentence = \"Python is fun to learn\"\n",
    "print(\"fun\" in sentence)      # True\n",
    "print(\"boring\" not in sentence)  # True\n"
   ]
  },
  {
   "cell_type": "code",
   "execution_count": null,
   "id": "7c6c8189",
   "metadata": {},
   "outputs": [],
   "source": []
  }
 ],
 "metadata": {
  "kernelspec": {
   "display_name": "Python 3",
   "language": "python",
   "name": "python3"
  },
  "language_info": {
   "codemirror_mode": {
    "name": "ipython",
    "version": 3
   },
   "file_extension": ".py",
   "mimetype": "text/x-python",
   "name": "python",
   "nbconvert_exporter": "python",
   "pygments_lexer": "ipython3",
   "version": "3.13.4"
  }
 },
 "nbformat": 4,
 "nbformat_minor": 5
}
