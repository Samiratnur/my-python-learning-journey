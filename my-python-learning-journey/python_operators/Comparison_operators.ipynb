{
 "cells": [
  {
   "cell_type": "code",
   "execution_count": 1,
   "id": "3d3d8b1f",
   "metadata": {},
   "outputs": [
    {
     "name": "stdout",
     "output_type": "stream",
     "text": [
      "False\n",
      "True\n",
      "False\n",
      "True\n",
      "False\n",
      "True\n"
     ]
    }
   ],
   "source": [
    "#Comparison opreater.[2]\n",
    "a=32\n",
    "b=65\n",
    "print(a>b)\n",
    "\n",
    "s=43\n",
    "h=76\n",
    "print(s<h)\n",
    "\n",
    "R=34\n",
    "S=79\n",
    "print(R==S)\n",
    "\n",
    "D=86\n",
    "E=64\n",
    "print(D!=E)\n",
    "\n",
    "F=35\n",
    "G=96\n",
    "print(F>=G)\n",
    "\n",
    "H=38\n",
    "I=85\n",
    "print(H<=I)\n"
   ]
  },
  {
   "cell_type": "code",
   "execution_count": null,
   "id": "bb808c5a",
   "metadata": {},
   "outputs": [],
   "source": []
  },
  {
   "cell_type": "code",
   "execution_count": null,
   "id": "5e17be54",
   "metadata": {},
   "outputs": [],
   "source": []
  },
  {
   "cell_type": "code",
   "execution_count": null,
   "id": "1b255b22",
   "metadata": {},
   "outputs": [],
   "source": []
  },
  {
   "cell_type": "code",
   "execution_count": null,
   "id": "14cc133f",
   "metadata": {},
   "outputs": [],
   "source": []
  }
 ],
 "metadata": {
  "kernelspec": {
   "display_name": "Python 3",
   "language": "python",
   "name": "python3"
  },
  "language_info": {
   "codemirror_mode": {
    "name": "ipython",
    "version": 3
   },
   "file_extension": ".py",
   "mimetype": "text/x-python",
   "name": "python",
   "nbconvert_exporter": "python",
   "pygments_lexer": "ipython3",
   "version": "3.13.3"
  }
 },
 "nbformat": 4,
 "nbformat_minor": 5
}
