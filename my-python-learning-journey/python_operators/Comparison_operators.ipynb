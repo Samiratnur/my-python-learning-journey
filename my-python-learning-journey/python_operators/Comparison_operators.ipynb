{
 "cells": [
  {
   "cell_type": "code",
   "execution_count": 1,
   "id": "3d3d8b1f",
   "metadata": {},
   "outputs": [
    {
     "name": "stdout",
     "output_type": "stream",
     "text": [
      "False\n",
      "True\n",
      "False\n",
      "True\n",
      "False\n",
      "True\n"
     ]
    }
   ],
   "source": [
    "#Comparison opreater.[2]\n",
    "a=32\n",
    "b=65\n",
    "print(a>b)\n",
    "\n",
    "s=43\n",
    "h=76\n",
    "print(s<h)\n",
    "\n",
    "R=34\n",
    "S=79\n",
    "print(R==S)\n",
    "\n",
    "D=86\n",
    "E=64\n",
    "print(D!=E)\n",
    "\n",
    "F=35\n",
    "G=96\n",
    "print(F>=G)\n",
    "\n",
    "H=38\n",
    "I=85\n",
    "print(H<=I)\n"
   ]
  },
  {
   "cell_type": "code",
   "execution_count": 1,
   "id": "bb808c5a",
   "metadata": {},
   "outputs": [
    {
     "name": "stdout",
     "output_type": "stream",
     "text": [
      "True\n"
     ]
    }
   ],
   "source": [
    "#1. Check if a number is greater than another\n",
    "a = 10\n",
    "b = 5\n",
    "print(a > b)  # True because 10 is greater than 5\n"
   ]
  },
  {
   "cell_type": "code",
   "execution_count": 2,
   "id": "5e17be54",
   "metadata": {},
   "outputs": [
    {
     "name": "stdout",
     "output_type": "stream",
     "text": [
      "True\n"
     ]
    }
   ],
   "source": [
    "#2. Check if two numbers are equal\n",
    "x = 7\n",
    "y = 7\n",
    "print(x == y)  # True because both are equal\n",
    "\n"
   ]
  },
  {
   "cell_type": "code",
   "execution_count": 7,
   "id": "1b255b22",
   "metadata": {},
   "outputs": [
    {
     "name": "stdout",
     "output_type": "stream",
     "text": [
      "True\n"
     ]
    }
   ],
   "source": [
    "#3. Check if a number is less than another\n",
    "p = 3\n",
    "q = 8\n",
    "print(p < q)  # True because 3 is less than 8\n"
   ]
  },
  {
   "cell_type": "code",
   "execution_count": 8,
   "id": "14cc133f",
   "metadata": {},
   "outputs": [
    {
     "name": "stdout",
     "output_type": "stream",
     "text": [
      "False\n"
     ]
    }
   ],
   "source": [
    "#4. Check if two strings are equal\n",
    "name1 = \"Python\"\n",
    "name2 = \"python\"\n",
    "print(name1 == name2)  # False because P and p are different\n"
   ]
  },
  {
   "cell_type": "code",
   "execution_count": 9,
   "id": "904a7567",
   "metadata": {},
   "outputs": [
    {
     "name": "stdout",
     "output_type": "stream",
     "text": [
      "True\n"
     ]
    }
   ],
   "source": [
    "#5. Check if a number is not equal to another\n",
    "m = 15\n",
    "n = 20\n",
    "print(m != n)  # True because they are not equal\n"
   ]
  },
  {
   "cell_type": "code",
   "execution_count": 10,
   "id": "c4acb679",
   "metadata": {},
   "outputs": [
    {
     "name": "stdout",
     "output_type": "stream",
     "text": [
      "num2 is bigger\n"
     ]
    }
   ],
   "source": [
    "#6. Find the bigger number using >\n",
    "num1 = 25\n",
    "num2 = 40\n",
    "if num1 > num2:\n",
    "    print(\"num1 is bigger\")\n",
    "else:\n",
    "    print(\"num2 is bigger\")\n"
   ]
  },
  {
   "cell_type": "code",
   "execution_count": 11,
   "id": "950aeb7b",
   "metadata": {},
   "outputs": [
    {
     "name": "stdout",
     "output_type": "stream",
     "text": [
      "True\n"
     ]
    }
   ],
   "source": [
    "#7. Check if a person is eligible to vote\n",
    "age = 18\n",
    "print(age >= 18)  # True because 18 is equal to 18\n"
   ]
  },
  {
   "cell_type": "code",
   "execution_count": 12,
   "id": "032fca6f",
   "metadata": {},
   "outputs": [
    {
     "name": "stdout",
     "output_type": "stream",
     "text": [
      "True\n"
     ]
    }
   ],
   "source": [
    "#8. Check if a number is within a range\n",
    "num = 15\n",
    "print(num >= 10 and num <= 20)  # True because 15 lies between 10 and 20\n"
   ]
  },
  {
   "cell_type": "code",
   "execution_count": 13,
   "id": "c71bc76d",
   "metadata": {},
   "outputs": [
    {
     "name": "stdout",
     "output_type": "stream",
     "text": [
      "False\n"
     ]
    }
   ],
   "source": [
    "#9. Compare length of two strings\n",
    "str1 = \"apple\"\n",
    "str2 = \"banana\"\n",
    "print(len(str1) > len(str2))  # False because apple(5) is smaller than banana(6)\n"
   ]
  },
  {
   "cell_type": "code",
   "execution_count": 14,
   "id": "31a4824b",
   "metadata": {},
   "outputs": [
    {
     "name": "stdout",
     "output_type": "stream",
     "text": [
      "True\n"
     ]
    }
   ],
   "source": [
    "#10 Compare price before and after discount\n",
    "old_price = 500\n",
    "new_price = 450\n",
    "print(new_price < old_price)  # True because new price is less\n"
   ]
  },
  {
   "cell_type": "code",
   "execution_count": 15,
   "id": "3881a719",
   "metadata": {},
   "outputs": [
    {
     "name": "stdout",
     "output_type": "stream",
     "text": [
      "=== Product Check ===\n",
      "Wireless Earbuds is now cheaper!\n",
      "Stock is available ✅\n",
      "Product has good ratings 👍\n",
      "Discount applied!\n",
      "Available for purchase 🛒\n",
      "Another product is cheaper!\n"
     ]
    }
   ],
   "source": [
    "#Online Shopping Cart Price Checker\n",
    "#mini real-life project using all comparison operators\n",
    "# Product details\n",
    "product_name = \"Wireless Earbuds\"\n",
    "original_price = 1500\n",
    "discounted_price = 1200\n",
    "available_stock = 8\n",
    "min_stock_required = 5\n",
    "user_rating = 4.5\n",
    "required_rating = 4.0\n",
    "\n",
    "print(\"=== Product Check ===\")\n",
    "\n",
    "# 1. Check if product price has reduced\n",
    "if discounted_price < original_price:\n",
    "    print(f\"{product_name} is now cheaper!\")\n",
    "else:\n",
    "    print(\"Price has not changed.\")\n",
    "\n",
    "# 2. Check if stock is enough\n",
    "if available_stock >= min_stock_required:\n",
    "    print(\"Stock is available ✅\")\n",
    "else:\n",
    "    print(\"Stock is low ❌\")\n",
    "\n",
    "# 3. Check if rating meets requirement\n",
    "if user_rating >= required_rating:\n",
    "    print(\"Product has good ratings 👍\")\n",
    "else:\n",
    "    print(\"Ratings are too low 👎\")\n",
    "\n",
    "# 4. Check if discounted price equals original price\n",
    "if discounted_price == original_price:\n",
    "    print(\"No discount given.\")\n",
    "else:\n",
    "    print(\"Discount applied!\")\n",
    "\n",
    "# 5. Check if product is out of stock\n",
    "if available_stock == 0:\n",
    "    print(\"Out of Stock 🚫\")\n",
    "else:\n",
    "    print(\"Available for purchase 🛒\")\n",
    "\n",
    "# 6. Compare prices between two products\n",
    "other_product_price = 1100\n",
    "if discounted_price > other_product_price:\n",
    "    print(\"Another product is cheaper!\")\n",
    "else:\n",
    "    print(\"This product is a better deal!\")\n"
   ]
  },
  {
   "cell_type": "code",
   "execution_count": 1,
   "id": "2a070fdf",
   "metadata": {},
   "outputs": [
    {
     "name": "stdout",
     "output_type": "stream",
     "text": [
      "True\n"
     ]
    }
   ],
   "source": [
    "#1 Check if a number is positive\n",
    "num = 10\n",
    "print(num > 0)  # True because 10 is greater than 0\n"
   ]
  },
  {
   "cell_type": "code",
   "execution_count": null,
   "id": "18671289",
   "metadata": {},
   "outputs": [],
   "source": [
    "#2 Check if two numbers are equal\n",
    "a = 5\n",
    "b = 5\n",
    "print(a == b)  # True because both are the same\n",
    "\n",
    "    "
   ]
  },
  {
   "cell_type": "code",
   "execution_count": 2,
   "id": "5aae9f2a",
   "metadata": {},
   "outputs": [
    {
     "name": "stdout",
     "output_type": "stream",
     "text": [
      "True\n"
     ]
    }
   ],
   "source": [
    "#3 Check if two values are not equal\n",
    "x = 15\n",
    "y = 10\n",
    "print(x != y)  # True because 15 is not equal to 10\n"
   ]
  },
  {
   "cell_type": "code",
   "execution_count": 3,
   "id": "949428eb",
   "metadata": {},
   "outputs": [
    {
     "name": "stdout",
     "output_type": "stream",
     "text": [
      "b is bigger\n"
     ]
    }
   ],
   "source": [
    "#4 Find the bigger number\n",
    "a = 25\n",
    "b = 40\n",
    "if a > b:\n",
    "    print(\"a is bigger\")\n",
    "else:\n",
    "    print(\"b is bigger\")\n"
   ]
  },
  {
   "cell_type": "code",
   "execution_count": 1,
   "id": "9c02d8d7",
   "metadata": {},
   "outputs": [
    {
     "name": "stdout",
     "output_type": "stream",
     "text": [
      "Eligible for driving\n"
     ]
    }
   ],
   "source": [
    "#5️⃣ Check if eligible for driving\n",
    "age = 18\n",
    "if age >= 18:\n",
    "    print(\"Eligible for driving\")\n",
    "else:\n",
    "    print(\"Not eligible for driving\")\n"
   ]
  },
  {
   "cell_type": "code",
   "execution_count": 2,
   "id": "bc29b6fc",
   "metadata": {},
   "outputs": [
    {
     "name": "stdout",
     "output_type": "stream",
     "text": [
      "True\n"
     ]
    }
   ],
   "source": [
    "#6️⃣ Check if marks pass the exam\n",
    "marks = 33\n",
    "passing_marks = 33\n",
    "print(marks >= passing_marks)  # True because 33 equals passing marks\n"
   ]
  },
  {
   "cell_type": "code",
   "execution_count": 3,
   "id": "5582a304",
   "metadata": {},
   "outputs": [
    {
     "name": "stdout",
     "output_type": "stream",
     "text": [
      "True\n"
     ]
    }
   ],
   "source": [
    "#7️⃣ Check if a number is within a range\n",
    "num = 15\n",
    "print(num >= 10 and num <= 20)  # True because 15 is between 10 and 20\n"
   ]
  },
  {
   "cell_type": "code",
   "execution_count": 4,
   "id": "cf3c58ba",
   "metadata": {},
   "outputs": [
    {
     "name": "stdout",
     "output_type": "stream",
     "text": [
      "False\n"
     ]
    }
   ],
   "source": [
    "#8️⃣ Compare two strings\n",
    "str1 = \"Apple\"\n",
    "str2 = \"apple\"\n",
    "print(str1 == str2)  # False because Python is case-sensitive\n"
   ]
  },
  {
   "cell_type": "code",
   "execution_count": 6,
   "id": "252585c9",
   "metadata": {},
   "outputs": [
    {
     "name": "stdout",
     "output_type": "stream",
     "text": [
      "True\n"
     ]
    }
   ],
   "source": [
    "#9️⃣ Check if a list has more items than another\n",
    "list1 = [1, 2, 3]\n",
    "list2 = [4, 5]\n",
    "print(len(list1) > len(list2))  # True because 3 > 2\n"
   ]
  },
  {
   "cell_type": "code",
   "execution_count": 8,
   "id": "56a9f03d",
   "metadata": {},
   "outputs": [
    {
     "name": "stdout",
     "output_type": "stream",
     "text": [
      "Price dropped!\n"
     ]
    }
   ],
   "source": [
    "#🔟 Check if price dropped\n",
    "old_price = 500\n",
    "new_price = 450\n",
    "if new_price < old_price:\n",
    "    print(\"Price dropped!\")\n",
    "else:\n",
    "    print(\"No change or increased.\")\n"
   ]
  },
  {
   "cell_type": "code",
   "execution_count": null,
   "id": "7299c55f",
   "metadata": {},
   "outputs": [],
   "source": []
  },
  {
   "cell_type": "code",
   "execution_count": null,
   "id": "177898ab",
   "metadata": {},
   "outputs": [],
   "source": []
  },
  {
   "cell_type": "code",
   "execution_count": null,
   "id": "070e47f4",
   "metadata": {},
   "outputs": [],
   "source": []
  },
  {
   "cell_type": "code",
   "execution_count": null,
   "id": "1f218831",
   "metadata": {},
   "outputs": [],
   "source": []
  }
 ],
 "metadata": {
  "kernelspec": {
   "display_name": "Python 3",
   "language": "python",
   "name": "python3"
  },
  "language_info": {
   "codemirror_mode": {
    "name": "ipython",
    "version": 3
   },
   "file_extension": ".py",
   "mimetype": "text/x-python",
   "name": "python",
   "nbconvert_exporter": "python",
   "pygments_lexer": "ipython3",
   "version": "3.13.4"
  }
 },
 "nbformat": 4,
 "nbformat_minor": 5
}
