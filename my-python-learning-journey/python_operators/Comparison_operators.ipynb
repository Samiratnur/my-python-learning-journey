{
 "cells": [
  {
   "cell_type": "code",
   "execution_count": 1,
   "id": "3d3d8b1f",
   "metadata": {},
   "outputs": [
    {
     "name": "stdout",
     "output_type": "stream",
     "text": [
      "False\n",
      "True\n",
      "False\n",
      "True\n",
      "False\n",
      "True\n"
     ]
    }
   ],
   "source": [
    "#Comparison opreater.[2]\n",
    "a=32\n",
    "b=65\n",
    "print(a>b)\n",
    "\n",
    "s=43\n",
    "h=76\n",
    "print(s<h)\n",
    "\n",
    "R=34\n",
    "S=79\n",
    "print(R==S)\n",
    "\n",
    "D=86\n",
    "E=64\n",
    "print(D!=E)\n",
    "\n",
    "F=35\n",
    "G=96\n",
    "print(F>=G)\n",
    "\n",
    "H=38\n",
    "I=85\n",
    "print(H<=I)\n"
   ]
  },
  {
   "cell_type": "code",
   "execution_count": 1,
   "id": "bb808c5a",
   "metadata": {},
   "outputs": [
    {
     "name": "stdout",
     "output_type": "stream",
     "text": [
      "True\n"
     ]
    }
   ],
   "source": [
    "#1. Check if a number is greater than another\n",
    "a = 10\n",
    "b = 5\n",
    "print(a > b)  # True because 10 is greater than 5\n"
   ]
  },
  {
   "cell_type": "code",
   "execution_count": 2,
   "id": "5e17be54",
   "metadata": {},
   "outputs": [
    {
     "name": "stdout",
     "output_type": "stream",
     "text": [
      "True\n"
     ]
    }
   ],
   "source": [
    "#2. Check if two numbers are equal\n",
    "x = 7\n",
    "y = 7\n",
    "print(x == y)  # True because both are equal\n",
    "\n"
   ]
  },
  {
   "cell_type": "code",
   "execution_count": 7,
   "id": "1b255b22",
   "metadata": {},
   "outputs": [
    {
     "name": "stdout",
     "output_type": "stream",
     "text": [
      "True\n"
     ]
    }
   ],
   "source": [
    "#3. Check if a number is less than another\n",
    "p = 3\n",
    "q = 8\n",
    "print(p < q)  # True because 3 is less than 8\n"
   ]
  },
  {
   "cell_type": "code",
   "execution_count": 8,
   "id": "14cc133f",
   "metadata": {},
   "outputs": [
    {
     "name": "stdout",
     "output_type": "stream",
     "text": [
      "False\n"
     ]
    }
   ],
   "source": [
    "#4. Check if two strings are equal\n",
    "name1 = \"Python\"\n",
    "name2 = \"python\"\n",
    "print(name1 == name2)  # False because P and p are different\n"
   ]
  },
  {
   "cell_type": "code",
   "execution_count": 9,
   "id": "904a7567",
   "metadata": {},
   "outputs": [
    {
     "name": "stdout",
     "output_type": "stream",
     "text": [
      "True\n"
     ]
    }
   ],
   "source": [
    "#5. Check if a number is not equal to another\n",
    "m = 15\n",
    "n = 20\n",
    "print(m != n)  # True because they are not equal\n"
   ]
  },
  {
   "cell_type": "code",
   "execution_count": 10,
   "id": "c4acb679",
   "metadata": {},
   "outputs": [
    {
     "name": "stdout",
     "output_type": "stream",
     "text": [
      "num2 is bigger\n"
     ]
    }
   ],
   "source": [
    "#6. Find the bigger number using >\n",
    "num1 = 25\n",
    "num2 = 40\n",
    "if num1 > num2:\n",
    "    print(\"num1 is bigger\")\n",
    "else:\n",
    "    print(\"num2 is bigger\")\n"
   ]
  },
  {
   "cell_type": "code",
   "execution_count": 11,
   "id": "950aeb7b",
   "metadata": {},
   "outputs": [
    {
     "name": "stdout",
     "output_type": "stream",
     "text": [
      "True\n"
     ]
    }
   ],
   "source": [
    "#7. Check if a person is eligible to vote\n",
    "age = 18\n",
    "print(age >= 18)  # True because 18 is equal to 18\n"
   ]
  },
  {
   "cell_type": "code",
   "execution_count": 12,
   "id": "032fca6f",
   "metadata": {},
   "outputs": [
    {
     "name": "stdout",
     "output_type": "stream",
     "text": [
      "True\n"
     ]
    }
   ],
   "source": [
    "#8. Check if a number is within a range\n",
    "num = 15\n",
    "print(num >= 10 and num <= 20)  # True because 15 lies between 10 and 20\n"
   ]
  },
  {
   "cell_type": "code",
   "execution_count": 13,
   "id": "c71bc76d",
   "metadata": {},
   "outputs": [
    {
     "name": "stdout",
     "output_type": "stream",
     "text": [
      "False\n"
     ]
    }
   ],
   "source": [
    "#9. Compare length of two strings\n",
    "str1 = \"apple\"\n",
    "str2 = \"banana\"\n",
    "print(len(str1) > len(str2))  # False because apple(5) is smaller than banana(6)\n"
   ]
  },
  {
   "cell_type": "code",
   "execution_count": null,
   "id": "31a4824b",
   "metadata": {},
   "outputs": [],
   "source": []
  }
 ],
 "metadata": {
  "kernelspec": {
   "display_name": "Python 3",
   "language": "python",
   "name": "python3"
  },
  "language_info": {
   "codemirror_mode": {
    "name": "ipython",
    "version": 3
   },
   "file_extension": ".py",
   "mimetype": "text/x-python",
   "name": "python",
   "nbconvert_exporter": "python",
   "pygments_lexer": "ipython3",
   "version": "3.13.4"
  }
 },
 "nbformat": 4,
 "nbformat_minor": 5
}
