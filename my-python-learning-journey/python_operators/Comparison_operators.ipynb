{
 "cells": [
  {
   "cell_type": "code",
   "execution_count": 1,
   "id": "3d3d8b1f",
   "metadata": {},
   "outputs": [
    {
     "name": "stdout",
     "output_type": "stream",
     "text": [
      "False\n",
      "True\n",
      "False\n",
      "True\n",
      "False\n",
      "True\n"
     ]
    }
   ],
   "source": [
    "#Comparison opreater.[2]\n",
    "a=32\n",
    "b=65\n",
    "print(a>b)\n",
    "\n",
    "s=43\n",
    "h=76\n",
    "print(s<h)\n",
    "\n",
    "R=34\n",
    "S=79\n",
    "print(R==S)\n",
    "\n",
    "D=86\n",
    "E=64\n",
    "print(D!=E)\n",
    "\n",
    "F=35\n",
    "G=96\n",
    "print(F>=G)\n",
    "\n",
    "H=38\n",
    "I=85\n",
    "print(H<=I)\n"
   ]
  },
  {
   "cell_type": "code",
   "execution_count": 1,
   "id": "bb808c5a",
   "metadata": {},
   "outputs": [
    {
     "name": "stdout",
     "output_type": "stream",
     "text": [
      "True\n"
     ]
    }
   ],
   "source": [
    "#1. Check if a number is greater than another\n",
    "a = 10\n",
    "b = 5\n",
    "print(a > b)  # True because 10 is greater than 5\n"
   ]
  },
  {
   "cell_type": "code",
   "execution_count": 2,
   "id": "5e17be54",
   "metadata": {},
   "outputs": [
    {
     "name": "stdout",
     "output_type": "stream",
     "text": [
      "True\n"
     ]
    }
   ],
   "source": [
    "#2. Check if two numbers are equal\n",
    "x = 7\n",
    "y = 7\n",
    "print(x == y)  # True because both are equal\n",
    "\n"
   ]
  },
  {
   "cell_type": "code",
   "execution_count": 3,
   "id": "1b255b22",
   "metadata": {},
   "outputs": [
    {
     "name": "stdout",
     "output_type": "stream",
     "text": [
      "True\n"
     ]
    }
   ],
   "source": [
    "#3. Check if a number is less than another\n",
    "p = 3\n",
    "q = 8\n",
    "print(p < q)  # True because 3 is less than 8\n"
   ]
  },
  {
   "cell_type": "code",
   "execution_count": null,
   "id": "14cc133f",
   "metadata": {},
   "outputs": [],
   "source": []
  }
 ],
 "metadata": {
  "kernelspec": {
   "display_name": "Python 3",
   "language": "python",
   "name": "python3"
  },
  "language_info": {
   "codemirror_mode": {
    "name": "ipython",
    "version": 3
   },
   "file_extension": ".py",
   "mimetype": "text/x-python",
   "name": "python",
   "nbconvert_exporter": "python",
   "pygments_lexer": "ipython3",
   "version": "3.13.4"
  }
 },
 "nbformat": 4,
 "nbformat_minor": 5
}
