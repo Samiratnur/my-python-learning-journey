{
 "cells": [
  {
   "cell_type": "code",
   "execution_count": 1,
   "id": "f8b040ca",
   "metadata": {},
   "outputs": [
    {
     "ename": "SyntaxError",
     "evalue": "invalid syntax (224944268.py, line 10)",
     "output_type": "error",
     "traceback": [
      "  \u001b[36mCell\u001b[39m\u001b[36m \u001b[39m\u001b[32mIn[1]\u001b[39m\u001b[32m, line 10\u001b[39m\n\u001b[31m    \u001b[39m\u001b[31m=\t      x = 5\t        x = 5\u001b[39m\n    ^\n\u001b[31mSyntaxError\u001b[39m\u001b[31m:\u001b[39m invalid syntax\n"
     ]
    }
   ],
   "source": [
    "#assignment opreater \n",
    "#....=,+=,-=,*=,/=,%=,//=,**=,$=,|=,^=,>>=,<<=.\n",
    "\n",
    "a=3\n",
    "b=6\n",
    "c=a+b\n",
    "print(c)#**** = ****\n",
    "\n",
    "#Operator EX-            EX-\n",
    "=\t      x = 5\t        x = 5\t\n",
    "+=\t      x += 3\t    x = x + 3\t\n",
    "-=\t      x -= 3\t    x = x - 3\t\n",
    "*=\t      x *= 3\t    x = x * 3\t\n",
    "/=\t      x /= 3\t    x = x / 3\t\n",
    "%=\t      x %= 3\t    x = x % 3\t\n",
    "//=\t      x //= 3\t    x = x // 3\t\n",
    "**=\t      x **= 3\t    x = x ** 3\t\n",
    "&=\t      x &= 3\t    x = x & 3\t\n",
    "|=\t      x |= 3\t    x = x | 3\t\n",
    "^=\t      x ^= 3\t    x = x ^ 3\t\n",
    ">>=\t      x >>= 3\t    x = x >> 3\t\n",
    "<<=\t      x <<= 3\t    x = x << 3\t\n",
    "\n"
   ]
  },
  {
   "cell_type": "code",
   "execution_count": null,
   "id": "8b127901",
   "metadata": {},
   "outputs": [],
   "source": []
  },
  {
   "cell_type": "code",
   "execution_count": null,
   "id": "3288581f",
   "metadata": {},
   "outputs": [],
   "source": []
  },
  {
   "cell_type": "code",
   "execution_count": null,
   "id": "3a59d515",
   "metadata": {},
   "outputs": [],
   "source": []
  },
  {
   "cell_type": "code",
   "execution_count": null,
   "id": "54a22e67",
   "metadata": {},
   "outputs": [],
   "source": []
  },
  {
   "cell_type": "code",
   "execution_count": null,
   "id": "76b178fe",
   "metadata": {},
   "outputs": [],
   "source": []
  }
 ],
 "metadata": {
  "kernelspec": {
   "display_name": "Python 3",
   "language": "python",
   "name": "python3"
  },
  "language_info": {
   "codemirror_mode": {
    "name": "ipython",
    "version": 3
   },
   "file_extension": ".py",
   "mimetype": "text/x-python",
   "name": "python",
   "nbconvert_exporter": "python",
   "pygments_lexer": "ipython3",
   "version": "3.13.3"
  }
 },
 "nbformat": 4,
 "nbformat_minor": 5
}
