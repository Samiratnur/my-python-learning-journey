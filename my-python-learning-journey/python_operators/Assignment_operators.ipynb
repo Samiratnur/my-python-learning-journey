{
 "cells": [
  {
   "cell_type": "code",
   "execution_count": 1,
   "id": "f8b040ca",
   "metadata": {},
   "outputs": [
    {
     "ename": "SyntaxError",
     "evalue": "invalid syntax (224944268.py, line 10)",
     "output_type": "error",
     "traceback": [
      "  \u001b[36mCell\u001b[39m\u001b[36m \u001b[39m\u001b[32mIn[1]\u001b[39m\u001b[32m, line 10\u001b[39m\n\u001b[31m    \u001b[39m\u001b[31m=\t      x = 5\t        x = 5\u001b[39m\n    ^\n\u001b[31mSyntaxError\u001b[39m\u001b[31m:\u001b[39m invalid syntax\n"
     ]
    }
   ],
   "source": [
    "#assignment opreater \n",
    "#....=,+=,-=,*=,/=,%=,//=,**=,$=,|=,^=,>>=,<<=.\n",
    "\n",
    "a=3\n",
    "b=6\n",
    "c=a+b\n",
    "print(c)#**** = ****\n",
    "\n",
    "#Operator EX-            EX-\n",
    "=\t      x = 5\t        x = 5\t\n",
    "+=\t      x += 3\t    x = x + 3\t\n",
    "-=\t      x -= 3\t    x = x - 3\t\n",
    "*=\t      x *= 3\t    x = x * 3\t\n",
    "/=\t      x /= 3\t    x = x / 3\t\n",
    "%=\t      x %= 3\t    x = x % 3\t\n",
    "//=\t      x //= 3\t    x = x // 3\t\n",
    "**=\t      x **= 3\t    x = x ** 3\t\n",
    "&=\t      x &= 3\t    x = x & 3\t\n",
    "|=\t      x |= 3\t    x = x | 3\t\n",
    "^=\t      x ^= 3\t    x = x ^ 3\t\n",
    ">>=\t      x >>= 3\t    x = x >> 3\t\n",
    "<<=\t      x <<= 3\t    x = x << 3\t\n",
    "\n"
   ]
  },
  {
   "cell_type": "code",
   "execution_count": 1,
   "id": "8b127901",
   "metadata": {},
   "outputs": [
    {
     "name": "stdout",
     "output_type": "stream",
     "text": [
      "Updated salary is: 10500\n"
     ]
    }
   ],
   "source": [
    "#Program 1: Basic Salary Increment\n",
    "salary = 10000\n",
    "bonus = 500\n",
    "salary += bonus  # salary = salary + bonus\n",
    "print(\"Updated salary is:\", salary)\n"
   ]
  },
  {
   "cell_type": "code",
   "execution_count": 2,
   "id": "3288581f",
   "metadata": {},
   "outputs": [
    {
     "name": "stdout",
     "output_type": "stream",
     "text": [
      "Countdown starts from: 10\n",
      "After 1 second: 9\n"
     ]
    }
   ],
   "source": [
    "#Program 2: Countdown Using -=\n",
    "countdown = 10\n",
    "print(\"Countdown starts from:\", countdown)\n",
    "countdown -= 1\n",
    "print(\"After 1 second:\", countdown)\n"
   ]
  },
  {
   "cell_type": "code",
   "execution_count": 3,
   "id": "3a59d515",
   "metadata": {},
   "outputs": [
    {
     "name": "stdout",
     "output_type": "stream",
     "text": [
      "Total score is: 15\n"
     ]
    }
   ],
   "source": [
    "#Program 3: Multiplying Points in a Game\n",
    "points = 5\n",
    "multiplier = 3\n",
    "points *= multiplier  # points = points * multiplier\n",
    "print(\"Total score is:\", points)\n"
   ]
  },
  {
   "cell_type": "code",
   "execution_count": 4,
   "id": "54a22e67",
   "metadata": {},
   "outputs": [
    {
     "name": "stdout",
     "output_type": "stream",
     "text": [
      "2 to the power 3 is: 8\n"
     ]
    }
   ],
   "source": [
    "# Program 4: Learning Power **=\n",
    "base = 2\n",
    "base **= 3  # base = base ** 3\n",
    "print(\"2 to the power 3 is:\", base)\n"
   ]
  },
  {
   "cell_type": "code",
   "execution_count": 5,
   "id": "76b178fe",
   "metadata": {},
   "outputs": [
    {
     "name": "stdout",
     "output_type": "stream",
     "text": [
      "Remainder when 7 is divided by 2: 1\n"
     ]
    }
   ],
   "source": [
    "#Program 5: Even or Odd with %= Operator\n",
    "num = 7\n",
    "num %= 2  # num = num % 2\n",
    "print(\"Remainder when 7 is divided by 2:\", num)\n"
   ]
  },
  {
   "cell_type": "code",
   "execution_count": 6,
   "id": "063ec9ea",
   "metadata": {},
   "outputs": [
    {
     "name": "stdout",
     "output_type": "stream",
     "text": [
      "Initial amount: 1200\n",
      "After 1st EMI: 800\n",
      "After 2nd EMI: 400\n"
     ]
    }
   ],
   "source": [
    "#Program 6: Simple EMI Installment Tracker\n",
    "total_amount = 1200\n",
    "emi = 400\n",
    "print(\"Initial amount:\", total_amount)\n",
    "\n",
    "total_amount -= emi  # After 1st payment\n",
    "print(\"After 1st EMI:\", total_amount)\n",
    "\n",
    "total_amount -= emi  # After 2nd payment\n",
    "print(\"After 2nd EMI:\", total_amount)\n"
   ]
  },
  {
   "cell_type": "code",
   "execution_count": 7,
   "id": "8cd7dbfe",
   "metadata": {},
   "outputs": [
    {
     "name": "stdout",
     "output_type": "stream",
     "text": [
      "Apples per person: 4\n"
     ]
    }
   ],
   "source": [
    "#Program 7: Dividing Apples in a Group\n",
    "apples = 12\n",
    "group = 3\n",
    "apples //= group\n",
    "print(\"Apples per person:\", apples)\n"
   ]
  },
  {
   "cell_type": "code",
   "execution_count": 1,
   "id": "cbd23813",
   "metadata": {},
   "outputs": [
    {
     "name": "stdout",
     "output_type": "stream",
     "text": [
      "Water in bottle: 1000 ml\n",
      "After 1st sip: 750 ml\n",
      "After 2nd sip: 500 ml\n"
     ]
    }
   ],
   "source": [
    "#Program 8: Water Bottle Tracker (using -=)\n",
    "water_bottle_ml = 1000  # ml\n",
    "drink_ml = 250\n",
    "\n",
    "print(\"Water in bottle:\", water_bottle_ml, \"ml\")\n",
    "water_bottle_ml -= drink_ml\n",
    "print(\"After 1st sip:\", water_bottle_ml, \"ml\")\n",
    "water_bottle_ml -= drink_ml\n",
    "print(\"After 2nd sip:\", water_bottle_ml, \"ml\")\n"
   ]
  },
  {
   "cell_type": "code",
   "execution_count": 2,
   "id": "c6782d63",
   "metadata": {},
   "outputs": [
    {
     "name": "stdout",
     "output_type": "stream",
     "text": [
      "Total views after boost: 1000\n"
     ]
    }
   ],
   "source": [
    "#Program 9: YouTube Views Multiplier (using *=)\n",
    "views = 100\n",
    "viral_boost = 10\n",
    "\n",
    "views *= viral_boost\n",
    "print(\"Total views after boost:\", views)\n",
    "\n"
   ]
  },
  {
   "cell_type": "code",
   "execution_count": 3,
   "id": "9c0db369",
   "metadata": {},
   "outputs": [
    {
     "name": "stdout",
     "output_type": "stream",
     "text": [
      "Total watch time: 95 minutes\n"
     ]
    }
   ],
   "source": [
    "#Program 10: Movie Watch Time Tracker (using +=)\n",
    "watch_time = 0\n",
    "episode1 = 45  # minutes\n",
    "episode2 = 50\n",
    "\n",
    "watch_time += episode1\n",
    "watch_time += episode2\n",
    "\n",
    "print(\"Total watch time:\", watch_time, \"minutes\")\n"
   ]
  },
  {
   "cell_type": "code",
   "execution_count": 4,
   "id": "e71ce1a4",
   "metadata": {},
   "outputs": [
    {
     "name": "stdout",
     "output_type": "stream",
     "text": [
      "Battery after charging: 35 %\n"
     ]
    }
   ],
   "source": [
    "#Program 11: Battery Charging (using +=)\n",
    "battery = 20  # 20%\n",
    "charge = 15\n",
    "\n",
    "battery += charge\n",
    "print(\"Battery after charging:\", battery, \"%\")\n"
   ]
  },
  {
   "cell_type": "code",
   "execution_count": 5,
   "id": "b966b041",
   "metadata": {},
   "outputs": [
    {
     "name": "stdout",
     "output_type": "stream",
     "text": [
      "Lives at start: 3\n",
      "Lost one life! Remaining: 2\n",
      "Lost another! Remaining: 1\n"
     ]
    }
   ],
   "source": [
    "# Program 12: Game Lives Tracker (using -=)\n",
    "lives = 3\n",
    "print(\"Lives at start:\", lives)\n",
    "\n",
    "lives -= 1\n",
    "print(\"Lost one life! Remaining:\", lives)\n",
    "\n",
    "lives -= 1\n",
    "print(\"Lost another! Remaining:\", lives)\n"
   ]
  },
  {
   "cell_type": "code",
   "execution_count": null,
   "id": "a9c8e300",
   "metadata": {},
   "outputs": [],
   "source": []
  }
 ],
 "metadata": {
  "kernelspec": {
   "display_name": "Python 3",
   "language": "python",
   "name": "python3"
  },
  "language_info": {
   "codemirror_mode": {
    "name": "ipython",
    "version": 3
   },
   "file_extension": ".py",
   "mimetype": "text/x-python",
   "name": "python",
   "nbconvert_exporter": "python",
   "pygments_lexer": "ipython3",
   "version": "3.13.4"
  }
 },
 "nbformat": 4,
 "nbformat_minor": 5
}
