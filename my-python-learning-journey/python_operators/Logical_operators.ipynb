{
 "cells": [
  {
   "cell_type": "code",
   "execution_count": 1,
   "id": "9bb612f7",
   "metadata": {},
   "outputs": [
    {
     "name": "stdout",
     "output_type": "stream",
     "text": [
      "false\n",
      "true\n",
      "False\n"
     ]
    }
   ],
   "source": [
    "    #logical opreater.\n",
    "    a='true'\n",
    "    b='false'\n",
    "    print(a and b)\n",
    "    print(a or b)\n",
    "    print( not b)"
   ]
  },
  {
   "cell_type": "code",
   "execution_count": 2,
   "id": "ff4bdd3f",
   "metadata": {},
   "outputs": [
    {
     "name": "stdout",
     "output_type": "stream",
     "text": [
      "54\n",
      "43\n",
      "False\n"
     ]
    }
   ],
   "source": [
    "a=43\n",
    "b=54\n",
    "print(a and b)\n",
    "print(a or b)\n",
    "print( not b)"
   ]
  },
  {
   "cell_type": "code",
   "execution_count": null,
   "id": "a9cfa8a1",
   "metadata": {},
   "outputs": [],
   "source": []
  }
 ],
 "metadata": {
  "kernelspec": {
   "display_name": "Python 3",
   "language": "python",
   "name": "python3"
  },
  "language_info": {
   "codemirror_mode": {
    "name": "ipython",
    "version": 3
   },
   "file_extension": ".py",
   "mimetype": "text/x-python",
   "name": "python",
   "nbconvert_exporter": "python",
   "pygments_lexer": "ipython3",
   "version": "3.13.3"
  }
 },
 "nbformat": 4,
 "nbformat_minor": 5
}
