{
 "cells": [
  {
   "cell_type": "code",
   "execution_count": 1,
   "id": "9bb612f7",
   "metadata": {},
   "outputs": [
    {
     "name": "stdout",
     "output_type": "stream",
     "text": [
      "false\n",
      "true\n",
      "False\n"
     ]
    }
   ],
   "source": [
    "    #logical opreater.\n",
    "    a='true'\n",
    "    b='false'\n",
    "    print(a and b)\n",
    "    print(a or b)\n",
    "    print( not b)"
   ]
  },
  {
   "cell_type": "code",
   "execution_count": 2,
   "id": "ff4bdd3f",
   "metadata": {},
   "outputs": [
    {
     "name": "stdout",
     "output_type": "stream",
     "text": [
      "54\n",
      "43\n",
      "False\n"
     ]
    }
   ],
   "source": [
    "a=43\n",
    "b=54\n",
    "print(a and b)\n",
    "print(a or b)\n",
    "print( not b)"
   ]
  },
  {
   "cell_type": "code",
   "execution_count": null,
   "id": "ff90bb3e",
   "metadata": {},
   "outputs": [],
   "source": [
    "and → True if both conditions are true\n",
    "\n",
    "or → True if at least one condition is true\n",
    "\n",
    "not → Reverses the result"
   ]
  },
  {
   "cell_type": "code",
   "execution_count": null,
   "id": "a9cfa8a1",
   "metadata": {},
   "outputs": [
    {
     "name": "stdout",
     "output_type": "stream",
     "text": [
      "True\n"
     ]
    }
   ],
   "source": [
    "# 1 Check if a number is between 10 and 20\n",
    "num = 15\n",
    "print(num > 10 and num < 20)  # True\n"
   ]
  },
  {
   "cell_type": "code",
   "execution_count": 2,
   "id": "49fb0864",
   "metadata": {},
   "outputs": [
    {
     "name": "stdout",
     "output_type": "stream",
     "text": [
      "True\n"
     ]
    }
   ],
   "source": [
    "#2. Check if age is valid for voting\n",
    "age = 18\n",
    "print(age >= 18 and age <= 100)  # True\n"
   ]
  },
  {
   "cell_type": "code",
   "execution_count": null,
   "id": "80a8c007",
   "metadata": {},
   "outputs": [
    {
     "name": "stdout",
     "output_type": "stream",
     "text": [
      "True\n"
     ]
    }
   ],
   "source": [
    "#3.Check if temperature is too hot or too cold\n",
    "temp = 35\n",
    "print(temp < 10 or temp > 30)  # True\n"
   ]
  },
  {
   "cell_type": "code",
   "execution_count": null,
   "id": "ef961c7b",
   "metadata": {},
   "outputs": [
    {
     "name": "stdout",
     "output_type": "stream",
     "text": [
      "True\n"
     ]
    }
   ],
   "source": [
    "#4.Check if discount is not available\n",
    "discount = 0\n",
    "print(not discount > 0)  # True\n"
   ]
  },
  {
   "cell_type": "code",
   "execution_count": 5,
   "id": "6c34f497",
   "metadata": {},
   "outputs": [
    {
     "name": "stdout",
     "output_type": "stream",
     "text": [
      "True\n"
     ]
    }
   ],
   "source": [
    "#5.Valid login check\n",
    "username = \"admin\"\n",
    "password = \"1234\"\n",
    "print(username == \"admin\" and password == \"1234\")  # True\n"
   ]
  },
  {
   "cell_type": "code",
   "execution_count": 6,
   "id": "14e3caee",
   "metadata": {},
   "outputs": [
    {
     "name": "stdout",
     "output_type": "stream",
     "text": [
      "True\n"
     ]
    }
   ],
   "source": [
    "#6. Weekend check\n",
    "day = \"Sunday\"\n",
    "print(day == \"Saturday\" or day == \"Sunday\")  # True\n"
   ]
  },
  {
   "cell_type": "code",
   "execution_count": null,
   "id": "32d37b1d",
   "metadata": {},
   "outputs": [],
   "source": []
  }
 ],
 "metadata": {
  "kernelspec": {
   "display_name": "Python 3",
   "language": "python",
   "name": "python3"
  },
  "language_info": {
   "codemirror_mode": {
    "name": "ipython",
    "version": 3
   },
   "file_extension": ".py",
   "mimetype": "text/x-python",
   "name": "python",
   "nbconvert_exporter": "python",
   "pygments_lexer": "ipython3",
   "version": "3.13.4"
  }
 },
 "nbformat": 4,
 "nbformat_minor": 5
}
