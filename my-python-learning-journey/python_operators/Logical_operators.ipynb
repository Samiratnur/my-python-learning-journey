{
 "cells": [
  {
   "cell_type": "code",
   "execution_count": 1,
   "id": "9bb612f7",
   "metadata": {},
   "outputs": [
    {
     "name": "stdout",
     "output_type": "stream",
     "text": [
      "false\n",
      "true\n",
      "False\n"
     ]
    }
   ],
   "source": [
    "    #logical opreater.\n",
    "    a='true'\n",
    "    b='false'\n",
    "    print(a and b)\n",
    "    print(a or b)\n",
    "    print( not b)"
   ]
  },
  {
   "cell_type": "code",
   "execution_count": 2,
   "id": "ff4bdd3f",
   "metadata": {},
   "outputs": [
    {
     "name": "stdout",
     "output_type": "stream",
     "text": [
      "54\n",
      "43\n",
      "False\n"
     ]
    }
   ],
   "source": [
    "a=43\n",
    "b=54\n",
    "print(a and b)\n",
    "print(a or b)\n",
    "print( not b)"
   ]
  },
  {
   "cell_type": "code",
   "execution_count": null,
   "id": "ff90bb3e",
   "metadata": {},
   "outputs": [],
   "source": [
    "and → True if both conditions are true\n",
    "\n",
    "or → True if at least one condition is true\n",
    "\n",
    "not → Reverses the result"
   ]
  },
  {
   "cell_type": "code",
   "execution_count": null,
   "id": "a9cfa8a1",
   "metadata": {},
   "outputs": [
    {
     "name": "stdout",
     "output_type": "stream",
     "text": [
      "True\n"
     ]
    }
   ],
   "source": [
    "# 1 Check if a number is between 10 and 20\n",
    "num = 15\n",
    "print(num > 10 and num < 20)  # True\n"
   ]
  },
  {
   "cell_type": "code",
   "execution_count": 2,
   "id": "49fb0864",
   "metadata": {},
   "outputs": [
    {
     "name": "stdout",
     "output_type": "stream",
     "text": [
      "True\n"
     ]
    }
   ],
   "source": [
    "#2. Check if age is valid for voting\n",
    "age = 18\n",
    "print(age >= 18 and age <= 100)  # True\n"
   ]
  },
  {
   "cell_type": "code",
   "execution_count": null,
   "id": "80a8c007",
   "metadata": {},
   "outputs": [
    {
     "name": "stdout",
     "output_type": "stream",
     "text": [
      "True\n"
     ]
    }
   ],
   "source": [
    "#3.Check if temperature is too hot or too cold\n",
    "temp = 35\n",
    "print(temp < 10 or temp > 30)  # True\n"
   ]
  },
  {
   "cell_type": "code",
   "execution_count": null,
   "id": "ef961c7b",
   "metadata": {},
   "outputs": [
    {
     "name": "stdout",
     "output_type": "stream",
     "text": [
      "True\n"
     ]
    }
   ],
   "source": [
    "#4.Check if discount is not available\n",
    "discount = 0\n",
    "print(not discount > 0)  # True\n"
   ]
  },
  {
   "cell_type": "code",
   "execution_count": 5,
   "id": "6c34f497",
   "metadata": {},
   "outputs": [
    {
     "name": "stdout",
     "output_type": "stream",
     "text": [
      "True\n"
     ]
    }
   ],
   "source": [
    "#5.Valid login check\n",
    "username = \"admin\"\n",
    "password = \"1234\"\n",
    "print(username == \"admin\" and password == \"1234\")  # True\n"
   ]
  },
  {
   "cell_type": "code",
   "execution_count": 6,
   "id": "14e3caee",
   "metadata": {},
   "outputs": [
    {
     "name": "stdout",
     "output_type": "stream",
     "text": [
      "True\n"
     ]
    }
   ],
   "source": [
    "#6. Weekend check\n",
    "day = \"Sunday\"\n",
    "print(day == \"Saturday\" or day == \"Sunday\")  # True\n"
   ]
  },
  {
   "cell_type": "code",
   "execution_count": 7,
   "id": "32d37b1d",
   "metadata": {},
   "outputs": [
    {
     "name": "stdout",
     "output_type": "stream",
     "text": [
      "True\n"
     ]
    }
   ],
   "source": [
    "#7. Not operator with boolean\n",
    "is_logged_in = False\n",
    "print(not is_logged_in)  # True\n"
   ]
  },
  {
   "cell_type": "code",
   "execution_count": 8,
   "id": "3fa8fc18",
   "metadata": {},
   "outputs": [
    {
     "name": "stdout",
     "output_type": "stream",
     "text": [
      "True\n"
     ]
    }
   ],
   "source": [
    "#8. Student grade check\n",
    "marks = 85\n",
    "print(marks >= 80 and marks <= 100)  # True\n",
    "\n"
   ]
  },
  {
   "cell_type": "code",
   "execution_count": 9,
   "id": "c3e977f3",
   "metadata": {},
   "outputs": [
    {
     "name": "stdout",
     "output_type": "stream",
     "text": [
      "True\n"
     ]
    }
   ],
   "source": [
    "#9. Movie age restriction\n",
    "age = 16\n",
    "print(age >= 13 and age <= 18)  # True\n"
   ]
  },
  {
   "cell_type": "code",
   "execution_count": 10,
   "id": "1c490076",
   "metadata": {},
   "outputs": [
    {
     "name": "stdout",
     "output_type": "stream",
     "text": [
      "True\n"
     ]
    }
   ],
   "source": [
    "#10. Check if number is positive\n",
    "num = 5\n",
    "print(num > 0 and num != 0)  # True\n"
   ]
  },
  {
   "cell_type": "code",
   "execution_count": 11,
   "id": "f758dc9f",
   "metadata": {},
   "outputs": [
    {
     "name": "stdout",
     "output_type": "stream",
     "text": [
      "True\n"
     ]
    }
   ],
   "source": [
    "#11. Check if email or phone number is entered\n",
    "email = \"\"\n",
    "phone = \"9876543210\"\n",
    "print(email != \"\" or phone != \"\")  # True\n"
   ]
  },
  {
   "cell_type": "code",
   "execution_count": 12,
   "id": "1a0acc56",
   "metadata": {},
   "outputs": [
    {
     "name": "stdout",
     "output_type": "stream",
     "text": [
      "True\n"
     ]
    }
   ],
   "source": [
    "#12. Voting eligibility\n",
    "age = 20\n",
    "citizen = True\n",
    "print(age >= 18 and citizen)  # True\n"
   ]
  },
  {
   "cell_type": "code",
   "execution_count": 13,
   "id": "fe6954a6",
   "metadata": {},
   "outputs": [
    {
     "name": "stdout",
     "output_type": "stream",
     "text": [
      "True\n"
     ]
    }
   ],
   "source": [
    "#13. Not equal check\n",
    "x = 10\n",
    "print(not x == 5)  # True\n",
    "\n"
   ]
  },
  {
   "cell_type": "code",
   "execution_count": 14,
   "id": "7516b787",
   "metadata": {},
   "outputs": [
    {
     "name": "stdout",
     "output_type": "stream",
     "text": [
      "True\n"
     ]
    }
   ],
   "source": [
    "#14. Internet connection status\n",
    "wifi = True\n",
    "mobile_data = False\n",
    "print(wifi or mobile_data)  # True\n"
   ]
  },
  {
   "cell_type": "code",
   "execution_count": 15,
   "id": "bb3da9de",
   "metadata": {},
   "outputs": [
    {
     "name": "stdout",
     "output_type": "stream",
     "text": [
      "True\n"
     ]
    }
   ],
   "source": [
    "#15. Check if number is odd or even\n",
    "num = 7\n",
    "print(num % 2 == 0 or num % 2 == 1)  # True\n"
   ]
  },
  {
   "cell_type": "code",
   "execution_count": 17,
   "id": "2be684ba",
   "metadata": {},
   "outputs": [
    {
     "name": "stdout",
     "output_type": "stream",
     "text": [
      "True\n"
     ]
    }
   ],
   "source": [
    "#16. Eligibility for exam\n",
    "attendance = 75\n",
    "assignment_done = True\n",
    "print(attendance >= 70 and assignment_done)  # True\n"
   ]
  },
  {
   "cell_type": "code",
   "execution_count": 18,
   "id": "1a5eebc5",
   "metadata": {},
   "outputs": [
    {
     "name": "stdout",
     "output_type": "stream",
     "text": [
      "True\n"
     ]
    }
   ],
   "source": [
    "#17. Check if letter is vowel\n",
    "ch = 'a'\n",
    "print(ch in \"aeiou\" or ch in \"AEIOU\")  # True\n"
   ]
  },
  {
   "cell_type": "code",
   "execution_count": 19,
   "id": "76d6a087",
   "metadata": {},
   "outputs": [
    {
     "name": "stdout",
     "output_type": "stream",
     "text": [
      "True\n"
     ]
    }
   ],
   "source": [
    "#18. Security system lock\n",
    "password = \"abc\"\n",
    "pin = \"1234\"\n",
    "print(password == \"abc\" and pin == \"1234\")  # True\n"
   ]
  },
  {
   "cell_type": "code",
   "execution_count": 20,
   "id": "7d24e1f1",
   "metadata": {},
   "outputs": [
    {
     "name": "stdout",
     "output_type": "stream",
     "text": [
      "False\n"
     ]
    }
   ],
   "source": [
    "#19. ATM withdrawal check\n",
    "balance = 500\n",
    "withdraw = 600\n",
    "print(balance >= withdraw and withdraw > 0)  # False\n"
   ]
  },
  {
   "cell_type": "code",
   "execution_count": 21,
   "id": "61677180",
   "metadata": {},
   "outputs": [
    {
     "name": "stdout",
     "output_type": "stream",
     "text": [
      "True\n"
     ]
    }
   ],
   "source": [
    "#20. Check if person is teenager\n",
    "age = 14\n",
    "print(age >= 13 and age <= 19)  # True\n"
   ]
  },
  {
   "cell_type": "code",
   "execution_count": 22,
   "id": "4697a110",
   "metadata": {},
   "outputs": [
    {
     "name": "stdout",
     "output_type": "stream",
     "text": [
      "True\n"
     ]
    }
   ],
   "source": [
    "#21. Light switch example\n",
    "switch1 = False\n",
    "switch2 = True\n",
    "print(switch1 or switch2)  # True\n"
   ]
  },
  {
   "cell_type": "code",
   "execution_count": null,
   "id": "41446f93",
   "metadata": {},
   "outputs": [],
   "source": []
  },
  {
   "cell_type": "code",
   "execution_count": null,
   "id": "2e14bf59",
   "metadata": {},
   "outputs": [],
   "source": []
  },
  {
   "cell_type": "code",
   "execution_count": null,
   "id": "5126577b",
   "metadata": {},
   "outputs": [],
   "source": []
  },
  {
   "cell_type": "code",
   "execution_count": null,
   "id": "6b4b83e1",
   "metadata": {},
   "outputs": [],
   "source": []
  },
  {
   "cell_type": "code",
   "execution_count": null,
   "id": "07ba50b1",
   "metadata": {},
   "outputs": [],
   "source": []
  },
  {
   "cell_type": "code",
   "execution_count": null,
   "id": "015df31f",
   "metadata": {},
   "outputs": [],
   "source": []
  },
  {
   "cell_type": "code",
   "execution_count": null,
   "id": "64661b0e",
   "metadata": {},
   "outputs": [],
   "source": []
  },
  {
   "cell_type": "code",
   "execution_count": null,
   "id": "e38be3e2",
   "metadata": {},
   "outputs": [],
   "source": []
  },
  {
   "cell_type": "code",
   "execution_count": null,
   "id": "5efba5c1",
   "metadata": {},
   "outputs": [],
   "source": []
  },
  {
   "cell_type": "code",
   "execution_count": null,
   "id": "4c914dad",
   "metadata": {},
   "outputs": [],
   "source": [
    "#"
   ]
  }
 ],
 "metadata": {
  "kernelspec": {
   "display_name": "Python 3",
   "language": "python",
   "name": "python3"
  },
  "language_info": {
   "codemirror_mode": {
    "name": "ipython",
    "version": 3
   },
   "file_extension": ".py",
   "mimetype": "text/x-python",
   "name": "python",
   "nbconvert_exporter": "python",
   "pygments_lexer": "ipython3",
   "version": "3.13.4"
  }
 },
 "nbformat": 4,
 "nbformat_minor": 5
}
