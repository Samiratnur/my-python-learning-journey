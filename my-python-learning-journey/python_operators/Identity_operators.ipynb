{
 "cells": [
  {
   "cell_type": "code",
   "execution_count": null,
   "id": "19ef5e84",
   "metadata": {},
   "outputs": [],
   "source": [
    "#is → returns True if both variables refer to the same object in memory.\n",
    "\n",
    "#is not → returns True if both variables do NOT refer to the same object in memory."
   ]
  },
  {
   "cell_type": "code",
   "execution_count": null,
   "id": "9976f0cc",
   "metadata": {},
   "outputs": [],
   "source": [
    "#Example 1: Checking same object\n",
    "x = 10\n",
    "y = 10\n",
    "\n",
    "print(x is y)       # True → because both refer to same memory location (small integers are cached)\n",
    "print(x is not y)   # False\n"
   ]
  },
  {
   "cell_type": "code",
   "execution_count": null,
   "id": "44e86308",
   "metadata": {},
   "outputs": [],
   "source": [
    "#Example 2: With strings\n",
    "a = \"hello\"\n",
    "b = \"hello\"\n",
    "c = \"HELLO\"\n",
    "\n",
    "print(a is b)       # True → both point to same string object\n",
    "print(a is c)       # False → different object\n"
   ]
  },
  {
   "cell_type": "code",
   "execution_count": null,
   "metadata": {},
   "outputs": [],
   "source": [
    "#Example 3: With lists (mutable objects)\n",
    "list1 = [1, 2, 3]\n",
    "list2 = [1, 2, 3]\n",
    "\n",
    "print(list1 == list2)   # True → values are same\n",
    "print(list1 is list2)   # False → different objects in memory\n"
   ]
  },
  {
   "cell_type": "code",
   "execution_count": null,
   "id": "16edf4f2",
   "metadata": {},
   "outputs": [],
   "source": [
    "#"
   ]
  },
  {
   "cell_type": "code",
   "execution_count": null,
   "metadata": {},
   "outputs": [],
   "source": []
  },
  {
   "cell_type": "code",
   "execution_count": null,
   "id": "a27ce7b5",
   "metadata": {},
   "outputs": [],
   "source": []
  },
  {
   "cell_type": "code",
   "execution_count": null,
   "id": "51ef7b8c",
   "metadata": {},
   "outputs": [],
   "source": []
  },
  {
   "cell_type": "code",
   "execution_count": null,
   "id": "a5520be8",
   "metadata": {},
   "outputs": [],
   "source": []
  },
  {
   "cell_type": "code",
   "execution_count": null,
   "id": "fbcc3377",
   "metadata": {},
   "outputs": [],
   "source": []
  },
  {
   "cell_type": "code",
   "execution_count": null,
   "id": "de3bcfcc",
   "metadata": {},
   "outputs": [],
   "source": []
  },
  {
   "cell_type": "code",
   "execution_count": null,
   "id": "38f4f131",
   "metadata": {},
   "outputs": [],
   "source": []
  },
  {
   "cell_type": "code",
   "execution_count": null,
   "id": "973ce3d4",
   "metadata": {},
   "outputs": [],
   "source": []
  },
  {
   "cell_type": "code",
   "execution_count": null,
   "id": "3d4d4400",
   "metadata": {},
   "outputs": [],
   "source": []
  },
  {
   "cell_type": "code",
   "execution_count": null,
   "id": "d674c5eb",
   "metadata": {},
   "outputs": [],
   "source": []
  }
 ],
 "metadata": {
  "language_info": {
   "name": "python"
  }
 },
 "nbformat": 4,
 "nbformat_minor": 5
}
