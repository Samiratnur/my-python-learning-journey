{
 "cells": [
  {
   "cell_type": "code",
   "execution_count": null,
   "id": "19ef5e84",
   "metadata": {},
   "outputs": [],
   "source": [
    "#is → returns True if both variables refer to the same object in memory.\n",
    "\n",
    "#is not → returns True if both variables do NOT refer to the same object in memory."
   ]
  },
  {
   "cell_type": "code",
   "execution_count": null,
   "id": "9976f0cc",
   "metadata": {},
   "outputs": [],
   "source": [
    "#Example 1: Checking same object\n",
    "x = 10\n",
    "y = 10\n",
    "\n",
    "print(x is y)       # True → because both refer to same memory location (small integers are cached)\n",
    "print(x is not y)   # False\n"
   ]
  },
  {
   "cell_type": "code",
   "execution_count": null,
   "id": "44e86308",
   "metadata": {},
   "outputs": [],
   "source": [
    "#Example 2: With strings\n",
    "a = \"hello\"\n",
    "b = \"hello\"\n",
    "c = \"HELLO\"\n",
    "\n",
    "print(a is b)       # True → both point to same string object\n",
    "print(a is c)       # False → different object\n"
   ]
  },
  {
   "cell_type": "code",
   "execution_count": null,
   "metadata": {},
   "outputs": [],
   "source": [
    "#Example 3: With lists (mutable objects)\n",
    "list1 = [1, 2, 3]\n",
    "list2 = [1, 2, 3]\n",
    "\n",
    "print(list1 == list2)   # True → values are same\n",
    "print(list1 is list2)   # False → different objects in memory\n"
   ]
  },
  {
   "cell_type": "code",
   "execution_count": null,
   "id": "16edf4f2",
   "metadata": {},
   "outputs": [],
   "source": [
    "#Example 4: Assigning same reference\n",
    "listA = [10, 20, 30]\n",
    "listB = listA   # both point to same object\n",
    "\n",
    "print(listA is listB)     # True → same reference\n",
    "print(listA is not listB) # False\n"
   ]
  },
  {
   "cell_type": "code",
   "execution_count": null,
   "metadata": {},
   "outputs": [],
   "source": [
    "#Example 5: With None\n",
    "x = None\n",
    "y = None\n",
    "\n",
    "print(x is None)   # True → both are None object\n",
    "print(y is None)   # True\n"
   ]
  },
  {
   "cell_type": "code",
   "execution_count": 1,
   "id": "a27ce7b5",
   "metadata": {},
   "outputs": [
    {
     "name": "stdout",
     "output_type": "stream",
     "text": [
      "True\n",
      "False\n"
     ]
    }
   ],
   "source": [
    "#6. Basic identity check\n",
    "a = 10\n",
    "b = 10\n",
    "print(a is b)      # True\n",
    "print(a is not b)  # False\n"
   ]
  },
  {
   "cell_type": "code",
   "execution_count": 1,
   "id": "51ef7b8c",
   "metadata": {},
   "outputs": [
    {
     "name": "stdout",
     "output_type": "stream",
     "text": [
      "False\n",
      "True\n"
     ]
    }
   ],
   "source": [
    "#7. With lists\n",
    "list1 = [1, 2, 3]\n",
    "list2 = [1, 2, 3]\n",
    "print(list1 is list2)       # False (different memory locations)\n",
    "print(list1 is not list2)   # True\n"
   ]
  },
  {
   "cell_type": "code",
   "execution_count": 2,
   "id": "a5520be8",
   "metadata": {},
   "outputs": [
    {
     "name": "stdout",
     "output_type": "stream",
     "text": [
      "True\n",
      "False\n"
     ]
    }
   ],
   "source": [
    "#8 With None check\n",
    "x = None\n",
    "print(x is None)        # True\n",
    "print(x is not None)    # False\n"
   ]
  },
  {
   "cell_type": "code",
   "execution_count": 3,
   "id": "fbcc3377",
   "metadata": {},
   "outputs": [
    {
     "name": "stdout",
     "output_type": "stream",
     "text": [
      "True\n"
     ]
    }
   ],
   "source": [
    "#9. String comparison (interning in Python)\n",
    "str1 = \"hello\"\n",
    "str2 = \"hello\"\n",
    "print(str1 is str2)      # True (Python caches small strings)\n"
   ]
  },
  {
   "cell_type": "code",
   "execution_count": 4,
   "id": "de3bcfcc",
   "metadata": {},
   "outputs": [
    {
     "name": "stdout",
     "output_type": "stream",
     "text": [
      "False\n"
     ]
    }
   ],
   "source": [
    "#10. Large integers\n",
    "a = 500\n",
    "b = 500\n",
    "print(a is b)  # False (large integers are not cached like small ones)\n"
   ]
  },
  {
   "cell_type": "code",
   "execution_count": null,
   "id": "38f4f131",
   "metadata": {},
   "outputs": [],
   "source": []
  },
  {
   "cell_type": "code",
   "execution_count": null,
   "id": "973ce3d4",
   "metadata": {},
   "outputs": [],
   "source": []
  },
  {
   "cell_type": "code",
   "execution_count": null,
   "id": "3d4d4400",
   "metadata": {},
   "outputs": [],
   "source": []
  },
  {
   "cell_type": "code",
   "execution_count": null,
   "id": "d674c5eb",
   "metadata": {},
   "outputs": [],
   "source": []
  }
 ],
 "metadata": {
  "kernelspec": {
   "display_name": "Python 3",
   "language": "python",
   "name": "python3"
  },
  "language_info": {
   "codemirror_mode": {
    "name": "ipython",
    "version": 3
   },
   "file_extension": ".py",
   "mimetype": "text/x-python",
   "name": "python",
   "nbconvert_exporter": "python",
   "pygments_lexer": "ipython3",
   "version": "3.13.4"
  }
 },
 "nbformat": 4,
 "nbformat_minor": 5
}
