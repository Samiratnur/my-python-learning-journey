{
 "cells": [
  {
   "cell_type": "code",
   "execution_count": null,
   "id": "11f37870",
   "metadata": {},
   "outputs": [],
   "source": [
    "Password = \"learn coding\"\n",
    "input_password = input(\"enter password :\")\n",
    "\n",
    "while Password != input_password:\n",
    "    input_password = input(\"enter password :\")\n",
    "else:\n",
    "    print(\"done\")\n",
    "    \n",
    "    \n"
   ]
  },
  {
   "cell_type": "code",
   "execution_count": null,
   "id": "8a52b305",
   "metadata": {},
   "outputs": [],
   "source": [
    "valid_num= \"prakash\"\n",
    "enter = input(\"enter a password:-\")\n",
    "while valid_num != enter:\n",
    "    enter = input(\"enter a password:-\")\n",
    "else:\n",
    "    print(\"done!\")\n",
    "    "
   ]
  },
  {
   "cell_type": "code",
   "execution_count": null,
   "id": "680e95dc",
   "metadata": {},
   "outputs": [],
   "source": []
  }
 ],
 "metadata": {
  "kernelspec": {
   "display_name": "Python 3",
   "language": "python",
   "name": "python3"
  },
  "language_info": {
   "codemirror_mode": {
    "name": "ipython",
    "version": 3
   },
   "file_extension": ".py",
   "mimetype": "text/x-python",
   "name": "python",
   "nbconvert_exporter": "python",
   "pygments_lexer": "ipython3",
   "version": "3.13.3"
  }
 },
 "nbformat": 4,
 "nbformat_minor": 5
}
