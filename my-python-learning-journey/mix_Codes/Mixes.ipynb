{
 "cells": [
  {
   "cell_type": "code",
   "execution_count": null,
   "id": "11f37870",
   "metadata": {},
   "outputs": [],
   "source": [
    "Password = \"learn coding\"\n",
    "input_password = input(\"enter password :\")\n",
    "\n",
    "while Password != input_password:\n",
    "    input_password = input(\"enter password :\")\n",
    "else:\n",
    "    print(\"done\")\n",
    "    \n",
    "    \n"
   ]
  },
  {
   "cell_type": "code",
   "execution_count": null,
   "id": "8a52b305",
   "metadata": {},
   "outputs": [],
   "source": [
    "valid_num= \"prakash\"\n",
    "enter = input(\"enter a password:-\")\n",
    "while valid_num != enter:\n",
    "    enter = input(\"enter a password:-\")\n",
    "else:\n",
    "    print(\"done!\")\n",
    "    "
   ]
  },
  {
   "cell_type": "code",
   "execution_count": null,
   "id": "680e95dc",
   "metadata": {},
   "outputs": [],
   "source": [
    "valid_num= \"prakash\"\n",
    "enter = input(\"enter a password:-\")\n",
    "while valid_num != enter:\n",
    "    enter = input(\"enter a password:-\")\n",
    "else:\n",
    "    print(\"done!\")\n",
    "    "
   ]
  },
  {
   "cell_type": "code",
   "execution_count": 1,
   "id": "0dbcadf0",
   "metadata": {},
   "outputs": [
    {
     "ename": "NameError",
     "evalue": "name 'i' is not defined",
     "output_type": "error",
     "traceback": [
      "\u001b[31m---------------------------------------------------------------------------\u001b[39m",
      "\u001b[31mNameError\u001b[39m                                 Traceback (most recent call last)",
      "\u001b[36mCell\u001b[39m\u001b[36m \u001b[39m\u001b[32mIn[1]\u001b[39m\u001b[32m, line 4\u001b[39m\n\u001b[32m      1\u001b[39m colors = [\u001b[33m\"\u001b[39m\u001b[33mred\u001b[39m\u001b[33m\"\u001b[39m,\u001b[33m\"\u001b[39m\u001b[33mGreen\u001b[39m\u001b[33m\"\u001b[39m,\u001b[33m\"\u001b[39m\u001b[33mblue\u001b[39m\u001b[33m\"\u001b[39m,\u001b[33m\"\u001b[39m\u001b[33myellow\u001b[39m\u001b[33m\"\u001b[39m]\n\u001b[32m      2\u001b[39m \u001b[38;5;28;01mfor\u001b[39;00m color \u001b[38;5;129;01min\u001b[39;00m colors:\n\u001b[32m----> \u001b[39m\u001b[32m4\u001b[39m         \u001b[38;5;28mprint\u001b[39m(\u001b[43mi\u001b[49m)\n",
      "\u001b[31mNameError\u001b[39m: name 'i' is not defined"
     ]
    }
   ],
   "source": [
    "colors = [\"red\",\"Green\",\"blue\",\"yellow\"]\n",
    "for color in colors:\n",
    "     \n",
    "        print(i)"
   ]
  },
  {
   "cell_type": "code",
   "execution_count": 1,
   "id": "296c33de",
   "metadata": {},
   "outputs": [
    {
     "name": "stdout",
     "output_type": "stream",
     "text": [
      "The zipped result is : [('Manjeet', 4, 40), ('Nikhil', 1, 50), ('Shambhavi', 3, 60), ('Astha', 2, 70)]\n",
      "\n",
      "\n",
      "The unzipped result: \n",
      "The name list is : ('Manjeet', 'Nikhil', 'Shambhavi', 'Astha')\n",
      "The roll_no list is : (4, 1, 3, 2)\n",
      "The marks list is : (40, 50, 60, 70)\n"
     ]
    }
   ],
   "source": [
    "# Python code to demonstrate the working of\n",
    "# unzip\n",
    "\n",
    "# initializing lists\n",
    "name = [\"Manjeet\", \"Nikhil\", \"Shambhavi\", \"Astha\"]\n",
    "roll_no = [4, 1, 3, 2]\n",
    "marks = [40, 50, 60, 70]\n",
    "\n",
    "# using zip() to map values\n",
    "mapped = zip(name, roll_no, marks)\n",
    "\n",
    "# converting values to print as list\n",
    "mapped = list(mapped)\n",
    "\n",
    "# printing resultant values\n",
    "print(\"The zipped result is : \", end=\"\")\n",
    "print(mapped)\n",
    "\n",
    "print(\"\\n\")\n",
    "\n",
    "# unzipping values\n",
    "namz, roll_noz, marksz = zip(*mapped)\n",
    "\n",
    "print(\"The unzipped result: \\n\", end=\"\")\n",
    "\n",
    "print(\"The name list is : \", end=\"\")\n",
    "print(namz)\n",
    "\n",
    "print(\"The roll_no list is : \", end=\"\")\n",
    "print(roll_noz)\n",
    "\n",
    "print(\"The marks list is : \", end=\"\")\n",
    "print(marksz)\n"
   ]
  },
  {
   "cell_type": "code",
   "execution_count": null,
   "id": "b967645e",
   "metadata": {},
   "outputs": [],
   "source": []
  }
 ],
 "metadata": {
  "kernelspec": {
   "display_name": "Python 3",
   "language": "python",
   "name": "python3"
  },
  "language_info": {
   "codemirror_mode": {
    "name": "ipython",
    "version": 3
   },
   "file_extension": ".py",
   "mimetype": "text/x-python",
   "name": "python",
   "nbconvert_exporter": "python",
   "pygments_lexer": "ipython3",
   "version": "3.13.4"
  }
 },
 "nbformat": 4,
 "nbformat_minor": 5
}
