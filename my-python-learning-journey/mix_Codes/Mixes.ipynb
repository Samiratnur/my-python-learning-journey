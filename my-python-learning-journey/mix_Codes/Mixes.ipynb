{
 "cells": [
  {
   "cell_type": "code",
   "execution_count": null,
   "id": "11f37870",
   "metadata": {},
   "outputs": [],
   "source": [
    "Password = \"learn coding\"\n",
    "input_password = input(\"enter password :\")\n",
    "\n",
    "while Password != input_password:\n",
    "    input_password = input(\"enter password :\")\n",
    "else:\n",
    "    print(\"done\")\n",
    "    \n",
    "    \n"
   ]
  },
  {
   "cell_type": "code",
   "execution_count": null,
   "id": "8a52b305",
   "metadata": {},
   "outputs": [],
   "source": [
    "valid_num= \"prakash\"\n",
    "enter = input(\"enter a password:-\")\n",
    "while valid_num != enter:\n",
    "    enter = input(\"enter a password:-\")\n",
    "else:\n",
    "    print(\"done!\")\n",
    "    "
   ]
  },
  {
   "cell_type": "code",
   "execution_count": null,
   "id": "680e95dc",
   "metadata": {},
   "outputs": [],
   "source": [
    "valid_num= \"prakash\"\n",
    "enter = input(\"enter a password:-\")\n",
    "while valid_num != enter:\n",
    "    enter = input(\"enter a password:-\")\n",
    "else:\n",
    "    print(\"done!\")\n",
    "    "
   ]
  },
  {
   "cell_type": "code",
   "execution_count": 1,
   "id": "0dbcadf0",
   "metadata": {},
   "outputs": [
    {
     "ename": "NameError",
     "evalue": "name 'i' is not defined",
     "output_type": "error",
     "traceback": [
      "\u001b[31m---------------------------------------------------------------------------\u001b[39m",
      "\u001b[31mNameError\u001b[39m                                 Traceback (most recent call last)",
      "\u001b[36mCell\u001b[39m\u001b[36m \u001b[39m\u001b[32mIn[1]\u001b[39m\u001b[32m, line 4\u001b[39m\n\u001b[32m      1\u001b[39m colors = [\u001b[33m\"\u001b[39m\u001b[33mred\u001b[39m\u001b[33m\"\u001b[39m,\u001b[33m\"\u001b[39m\u001b[33mGreen\u001b[39m\u001b[33m\"\u001b[39m,\u001b[33m\"\u001b[39m\u001b[33mblue\u001b[39m\u001b[33m\"\u001b[39m,\u001b[33m\"\u001b[39m\u001b[33myellow\u001b[39m\u001b[33m\"\u001b[39m]\n\u001b[32m      2\u001b[39m \u001b[38;5;28;01mfor\u001b[39;00m color \u001b[38;5;129;01min\u001b[39;00m colors:\n\u001b[32m----> \u001b[39m\u001b[32m4\u001b[39m         \u001b[38;5;28mprint\u001b[39m(\u001b[43mi\u001b[49m)\n",
      "\u001b[31mNameError\u001b[39m: name 'i' is not defined"
     ]
    }
   ],
   "source": [
    "colors = [\"red\",\"Green\",\"blue\",\"yellow\"]\n",
    "for color in colors:\n",
    "     \n",
    "        print(i)"
   ]
  },
  {
   "cell_type": "code",
   "execution_count": null,
   "id": "296c33de",
   "metadata": {},
   "outputs": [],
   "source": []
  }
 ],
 "metadata": {
  "kernelspec": {
   "display_name": "Python 3",
   "language": "python",
   "name": "python3"
  },
  "language_info": {
   "codemirror_mode": {
    "name": "ipython",
    "version": 3
   },
   "file_extension": ".py",
   "mimetype": "text/x-python",
   "name": "python",
   "nbconvert_exporter": "python",
   "pygments_lexer": "ipython3",
   "version": "3.13.3"
  }
 },
 "nbformat": 4,
 "nbformat_minor": 5
}
