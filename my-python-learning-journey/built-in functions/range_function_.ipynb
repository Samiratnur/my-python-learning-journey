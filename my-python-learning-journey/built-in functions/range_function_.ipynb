{
 "cells": [
  {
   "cell_type": "code",
   "execution_count": 1,
   "id": "19ddd7ca-1455-4253-89a9-3b405eb7fe19",
   "metadata": {},
   "outputs": [
    {
     "name": "stdout",
     "output_type": "stream",
     "text": [
      "today we have learn range fuction,okey!\n"
     ]
    }
   ],
   "source": [
    "print(\"today we have learn range fuction,okey!\")"
   ]
  },
  {
   "cell_type": "code",
   "execution_count": 121,
   "id": "de5569a1-cc94-4dd7-8faa-10eabe861e81",
   "metadata": {},
   "outputs": [
    {
     "name": "stdout",
     "output_type": "stream",
     "text": [
      "0\n",
      "1\n",
      "2\n",
      "3\n",
      "4\n"
     ]
    }
   ],
   "source": [
    "#print range 0t05 using start&stop.\n",
    "x=range(0,5)\n",
    "for i in x:\n",
    "    print(i)    "
   ]
  },
  {
   "cell_type": "code",
   "execution_count": 10,
   "id": "f82f3a99-2510-4a5e-9b39-eea96d1dab4a",
   "metadata": {},
   "outputs": [
    {
     "name": "stdout",
     "output_type": "stream",
     "text": [
      "1,2,3,4,5,"
     ]
    }
   ],
   "source": [
    "#ADAVE print karane value.\n",
    "num=range(1,6)\n",
    "for i in num:\n",
    "    print(i,end=\",\")"
   ]
  },
  {
   "cell_type": "code",
   "execution_count": 12,
   "id": "6feb4664-4a07-4094-b1a1-ead48de452aa",
   "metadata": {},
   "outputs": [
    {
     "name": "stdout",
     "output_type": "stream",
     "text": [
      "1 2 3 4 5 6 7 8 9 10 "
     ]
    }
   ],
   "source": [
    "#directe declare value in for loop.\n",
    "for i in range(1,11):\n",
    "    print(i,end=\" \")"
   ]
  },
  {
   "cell_type": "code",
   "execution_count": 14,
   "id": "0066c436-2ab9-466a-afc7-5e2fc7addae5",
   "metadata": {},
   "outputs": [
    {
     "name": "stdout",
     "output_type": "stream",
     "text": [
      "[0, 1, 2, 3, 4, 5, 6, 7, 8, 9]\n"
     ]
    }
   ],
   "source": [
    "#list print in range.\n",
    "number=range(0,10)\n",
    "print(list(number))"
   ]
  },
  {
   "cell_type": "code",
   "execution_count": 25,
   "id": "a00f7694-b57b-47d5-b9b8-47cfe9c2cbad",
   "metadata": {},
   "outputs": [
    {
     "name": "stdout",
     "output_type": "stream",
     "text": [
      "[]\n",
      "[]\n",
      "[]\n"
     ]
    }
   ],
   "source": [
    "#empty list range.\n",
    "#01__________________\n",
    "num=range(-4)\n",
    "print(list(num))\n",
    "#02__________________\n",
    "num=list(range(-5))\n",
    "print(num)\n",
    "#03__________________\n",
    "num=(list(range(4,2)))\n",
    "print(num)"
   ]
  },
  {
   "cell_type": "code",
   "execution_count": 22,
   "id": "bb77114e-e99f-400a-9260-c672371ef0b1",
   "metadata": {},
   "outputs": [
    {
     "name": "stdout",
     "output_type": "stream",
     "text": [
      "[0, 1, 2, 3, 4]\n",
      "[1, 2, 3, 4, 5, 6, 7, 8, 9, 10]\n",
      "[-1, 0, 1, 2, 3, 4]\n"
     ]
    }
   ],
   "source": [
    "#range start,stop,step using list.\n",
    "var=(list(range(5)))\n",
    "print(var)\n",
    "#______________________\n",
    "var=(list(range(1,11)))\n",
    "print(var)\n",
    "#_________________________\n",
    "#combine negative num & positive num.\n",
    "var=(list(range(-1,5)))\n",
    "print(var)\n",
    "#________________________"
   ]
  },
  {
   "cell_type": "code",
   "execution_count": 4,
   "id": "28948a82-3c24-4e98-aaa0-1432152ad6c7",
   "metadata": {},
   "outputs": [
    {
     "name": "stdout",
     "output_type": "stream",
     "text": [
      "[2, 4, 6, 8, 10]\n",
      "[5, 4, 3, 2, 1, 0]\n"
     ]
    }
   ],
   "source": [
    "#increment numbers in range function.\n",
    "#01___________________________________\n",
    "num=list(range(2,11,2))\n",
    "print(num)\n",
    "#02___________________________________\n",
    "num=range(5,-1,-1)\n",
    "print(list(num))"
   ]
  },
  {
   "cell_type": "code",
   "execution_count": 47,
   "id": "cf2f4b63-b21b-48fb-81a6-466b3b998fb3",
   "metadata": {},
   "outputs": [
    {
     "name": "stdout",
     "output_type": "stream",
     "text": [
      "0 samir\n",
      "1 samir\n",
      "2 samir\n",
      "3 samir\n",
      "4 samir\n",
      "0 .samie atnur\n",
      "1 .samie atnur\n",
      "2 .samie atnur\n",
      "3 .samie atnur\n",
      "4 .samie atnur\n",
      "5 .samie atnur\n"
     ]
    }
   ],
   "source": [
    "#for loop in range\n",
    "num=range(5)\n",
    "for i in num:\n",
    "    print(i,'samir')\n",
    "#_________________________________________\n",
    "\n",
    "#string value print using string.\n",
    "num=range(6)\n",
    "for i in   num:\n",
    "    print(i,'.samie atnur',)"
   ]
  },
  {
   "cell_type": "code",
   "execution_count": 61,
   "id": "db7b11a7-c145-4d6c-8c60-3a982de4a7c8",
   "metadata": {},
   "outputs": [
    {
     "name": "stdout",
     "output_type": "stream",
     "text": [
      "1\n",
      "5\n",
      "9\n",
      "13\n",
      "17\n",
      "21\n",
      "25\n",
      "29\n",
      "20  18  16  14  12  10  8  6  4  2  0  "
     ]
    }
   ],
   "source": [
    "#positive & negative range.\n",
    "a=(list(range(1,30,4)))\n",
    "for i in a:\n",
    "     print(i)        \n",
    "#______________________________\n",
    "a=list(range(20,-1,-2))\n",
    "for i in a:\n",
    "       print(i,end=\"  \")\n"
   ]
  },
  {
   "cell_type": "code",
   "execution_count": 63,
   "id": "b5051ba2-b4a2-4a53-a7e8-a59ddfdced2f",
   "metadata": {},
   "outputs": [
    {
     "ename": "TypeError",
     "evalue": "'float' object cannot be interpreted as an integer",
     "output_type": "error",
     "traceback": [
      "\u001b[1;31m---------------------------------------------------------------------------\u001b[0m",
      "\u001b[1;31mTypeError\u001b[0m                                 Traceback (most recent call last)",
      "Cell \u001b[1;32mIn[63], line 1\u001b[0m\n\u001b[1;32m----> 1\u001b[0m \u001b[38;5;28;01mfor\u001b[39;00m i \u001b[38;5;129;01min\u001b[39;00m \u001b[38;5;28;43mrange\u001b[39;49m\u001b[43m(\u001b[49m\u001b[38;5;241;43m9.4\u001b[39;49m\u001b[43m)\u001b[49m:\n\u001b[0;32m      2\u001b[0m     \u001b[38;5;28mprint\u001b[39m(i)\n",
      "\u001b[1;31mTypeError\u001b[0m: 'float' object cannot be interpreted as an integer"
     ]
    }
   ],
   "source": [
    "#float value difine error in range function.\n",
    "for i in range(9.4):\n",
    "    print(i)"
   ]
  },
  {
   "cell_type": "code",
   "execution_count": 70,
   "id": "f762a350-2334-461b-b974-abda3b9184b9",
   "metadata": {},
   "outputs": [
    {
     "name": "stdout",
     "output_type": "stream",
     "text": [
      "concating the result\n",
      "range(0, 5)\n",
      "range(10, 20, 2)\n"
     ]
    }
   ],
   "source": [
    "\n",
    "print('concating the result')\n",
    "res=(range(5),range(10,20,2))\n",
    "for i in res:\n",
    "          print(i)\n"
   ]
  },
  {
   "cell_type": "code",
   "execution_count": 1,
   "id": "fc99c444-bc94-4a04-b34c-8f8c718e8aee",
   "metadata": {},
   "outputs": [
    {
     "name": "stdout",
     "output_type": "stream",
     "text": [
      "first element: 0\n",
      "\n",
      " Last element: 9\n",
      "\n",
      " fifth element: 4\n",
      "zero value 0\n",
      "last value  19\n",
      "sixth value 3\n"
     ]
    }
   ],
   "source": [
    "#accessing range with index value ex-\n",
    "#01__________________________________________________\n",
    "sam=range(10)[0]                 #first value.\n",
    "print('first element:',sam)   \n",
    "var=range(10)[-1]                #last value\n",
    "print('\\n Last element:',var)\n",
    "x=range(10)[4]                   #fifth value \n",
    "print('\\n fifth element:',x) \n",
    "#02____________________________________________________\n",
    "sam=range(10)[0]\n",
    "ram=range(20)[-1]\n",
    "tam=range(10)[3]\n",
    "print('zero value',sam)\n",
    "print('last value ',ram)\n",
    "print('sixth value',tam)"
   ]
  },
  {
   "cell_type": "code",
   "execution_count": 89,
   "id": "a723f8bb-732d-4ec3-8952-da4089093c0e",
   "metadata": {},
   "outputs": [
    {
     "name": "stdout",
     "output_type": "stream",
     "text": [
      "\n",
      " mayur \n",
      " raju \n",
      " mayur \n",
      " aslam \n",
      " shubhu "
     ]
    }
   ],
   "source": [
    "#range function with list.\n",
    "#01__________________________\n",
    "NAME=['mayur','raju','mayur','aslam','shubhu']\n",
    "for i in range(len(NAME)):\n",
    "    print(\"\\n\",NAME[i],end=\" \")"
   ]
  },
  {
   "cell_type": "code",
   "execution_count": 13,
   "id": "37502f2b-86ba-43f3-a032-1f9850205087",
   "metadata": {},
   "outputs": [
    {
     "name": "stdout",
     "output_type": "stream",
     "text": [
      "2* 1 = 2\n",
      "2* 2 = 4\n",
      "2* 3 = 6\n",
      "2* 4 = 8\n",
      "2* 5 = 10\n",
      "2* 6 = 12\n",
      "2* 7 = 14\n",
      "2* 8 = 16\n",
      "2* 9 = 18\n",
      "2* 10 = 20\n",
      "\n",
      "\n",
      "2 4 6 8 10 12 14 16 18 20 "
     ]
    }
   ],
   "source": [
    "#2 table example.\n",
    "#01_______________________________\n",
    "for i in range(1,11):\n",
    "    print(\"2*\",i,\"=\",2*i)\n",
    "#02_______________________________\n",
    "print(\"\\n\")\n",
    "for i in range(2,21,2):\n",
    "    print(i,end=\" \")"
   ]
  },
  {
   "cell_type": "code",
   "execution_count": 98,
   "id": "07ed9ac2-2bee-4154-8c6d-7cce02515735",
   "metadata": {},
   "outputs": [
    {
     "name": "stdout",
     "output_type": "stream",
     "text": [
      "hello\n",
      "hello\n",
      "hello\n",
      "hello\n",
      "hello\n"
     ]
    }
   ],
   "source": [
    "#more times prints\n",
    "for i in range(5):\n",
    "    print(\"hello\")"
   ]
  },
  {
   "cell_type": "code",
   "execution_count": 47,
   "id": "cd1fceb9-0896-4fbb-8b74-e40841b113f0",
   "metadata": {},
   "outputs": [
    {
     "name": "stdout",
     "output_type": "stream",
     "text": [
      "sam\n",
      "manu\n",
      "233\n",
      "3.4\n",
      "_sabbir\n"
     ]
    }
   ],
   "source": [
    "#--count total list itams to range() using a len() \n",
    "var=['sam',\"manu\",233,3.4,\"_sabbir\"]\n",
    "for i in range(len(var)):\n",
    "    print(var[i])"
   ]
  },
  {
   "cell_type": "code",
   "execution_count": 39,
   "id": "edaf05d6-20be-4ae5-ab9f-11d3ef1bafd0",
   "metadata": {},
   "outputs": [
    {
     "name": "stdout",
     "output_type": "stream",
     "text": [
      "\n",
      "1 \n",
      "2 2 \n",
      "3 3 3 \n",
      "4 4 4 4 \n",
      "5 5 5 5 5 \n",
      "\n",
      "1 \n",
      "2 2 \n",
      "3 3 3 \n",
      "4 4 4 4 \n",
      "5 5 5 5 5 \n",
      "1 1 1 1 1 \n",
      "2 2 2 2 \n",
      "3 3 3 \n",
      "4 4 \n",
      "5 \n"
     ]
    }
   ],
   "source": [
    "#number pattern.\n",
    "#01______________________________-\n",
    "for num in range(6):\n",
    "    for i in range(num):\n",
    "        print(num,end=\" \")\n",
    "    print()    \n",
    "#02_________________________________-\n",
    "rows = 6\n",
    "for i in range(rows):\n",
    "    for j in range(i):\n",
    "        print(i, end=' ')\n",
    "    print('')\n",
    "\n",
    "#inverted pyramid pattern of numbers .\n",
    "rows = 5\n",
    "b = 0                                     #its not imp to this time okey!!\n",
    "for i in range(rows, 0, -1):\n",
    "    b += 1\n",
    "    for j in range(1, i + 1):\n",
    "        print(b, end=' ')\n",
    "    print('\\r')\n",
    "    \n",
    "\n",
    "          "
   ]
  },
  {
   "cell_type": "markdown",
   "id": "7afcaeb9-5257-4877-9330-6d9eaf4dcab0",
   "metadata": {},
   "source": [
    "###### reverse range value for loop\n",
    "#simple type.\n",
    "for i in range(10,0,-1):\n",
    "    print(i)\n",
    "#_________________________________\n",
    "for i in reversed(range(10,20,2)):\n",
    "    print(i)"
   ]
  },
  {
   "cell_type": "code",
   "execution_count": 8,
   "id": "58da57cc-2f3d-49f3-8a77-66588d341610",
   "metadata": {},
   "outputs": [
    {
     "name": "stdout",
     "output_type": "stream",
     "text": [
      "5 4 3 2 1 0 \n",
      "\n",
      "20  19  18  17  16  15  14  13  12  11  10  \n",
      "\n",
      "20  18  16  14  12  10  "
     ]
    }
   ],
   "source": [
    "#reversed\n",
    "for i in range(5,-1,-1):\n",
    "    print(i,end=\" \")\n",
    "\n",
    "#_____________________________\n",
    "print(\"\\n\")\n",
    "for i in reversed(range (10,21)):\n",
    "    print(i,end=\"  \")\n",
    "\n",
    "#_______________________________\n",
    "print(\"\\n\")\n",
    "for i in reversed(range(10,21,2)):\n",
    "    print(i,end=\"  \")\n",
    "\n",
    "\n",
    "for i in reversed(range(10,1)):\n",
    "    print(i)\n"
   ]
  },
  {
   "cell_type": "code",
   "execution_count": 22,
   "id": "38498d01-6195-4bb3-b961-1a44bd85f969",
   "metadata": {},
   "outputs": [
    {
     "name": "stdout",
     "output_type": "stream",
     "text": [
      "Thu Wed Tue Mon "
     ]
    }
   ],
   "source": [
    "list1 = ['Mon', 'Tue', 'Wed', 'Thu']\n",
    "\n",
    "for i in range(len(list1) - 1, -1, -1):\n",
    "    print(list1[i], end=' ')"
   ]
  },
  {
   "cell_type": "code",
   "execution_count": 2,
   "id": "6816e5b7-9b07-40d5-963d-45c80a6c711f",
   "metadata": {},
   "outputs": [
    {
     "name": "stdout",
     "output_type": "stream",
     "text": [
      "676565\n"
     ]
    }
   ],
   "source": [
    "#minimum number using for loop.\n",
    "a=[2,433,545,4546,655,76676,8765,676565,]\n",
    "max=a[0]\n",
    "for i in a:\n",
    "    if i>max: \n",
    "        max=i\n",
    "print(max)"
   ]
  },
  {
   "cell_type": "code",
   "execution_count": 53,
   "id": "09720412-5faa-44c3-992b-b1b1b7b3042e",
   "metadata": {},
   "outputs": [
    {
     "name": "stdout",
     "output_type": "stream",
     "text": [
      "6 5 4 3 2 1 0 "
     ]
    }
   ],
   "source": [
    "#revese range using for loop. \n",
    "for i in range(6,-1,-1):\n",
    "        print(i,end=\" \")\n",
    "      "
   ]
  },
  {
   "cell_type": "code",
   "execution_count": 81,
   "id": "1c69a5d7-a62b-47e6-919b-c5c97fbf1895",
   "metadata": {},
   "outputs": [
    {
     "name": "stdout",
     "output_type": "stream",
     "text": [
      "<class 'range'>\n"
     ]
    }
   ],
   "source": [
    "range( 4 )\n",
    "print(range)"
   ]
  },
  {
   "cell_type": "code",
   "execution_count": 70,
   "id": "d2593c6d-3037-4a21-9ed1-1bc71f489473",
   "metadata": {},
   "outputs": [
    {
     "name": "stdout",
     "output_type": "stream",
     "text": [
      "<class 'range'>\n"
     ]
    }
   ],
   "source": [
    "print(type(range(0,5)))"
   ]
  },
  {
   "cell_type": "code",
   "execution_count": 72,
   "id": "5ff19dcb-b895-42b9-8b58-aec5e805261f",
   "metadata": {},
   "outputs": [
    {
     "name": "stdout",
     "output_type": "stream",
     "text": [
      "<class 'range_iterator'>\n"
     ]
    }
   ],
   "source": [
    "print(type(reversed(range(0,5))))"
   ]
  },
  {
   "cell_type": "code",
   "execution_count": 27,
   "id": "317d151d-25c3-49c6-a2f4-aea133e05474",
   "metadata": {},
   "outputs": [
    {
     "name": "stdout",
     "output_type": "stream",
     "text": [
      "50 40 30 20 10 "
     ]
    }
   ],
   "source": [
    "#reversed list create using range.\n",
    "list=[10,20,30,40,50,]\n",
    "for i in range(len(list)-1,-1,-1):\n",
    "    print(list[i],end=\" \")\n",
    "    "
   ]
  },
  {
   "cell_type": "code",
   "execution_count": 5,
   "id": "6baedf15-f3fc-4292-8fda-ffc4c76beef4",
   "metadata": {},
   "outputs": [
    {
     "name": "stdout",
     "output_type": "stream",
     "text": [
      "0 \n",
      "\n",
      "2 \n",
      "\n",
      "4 \n",
      "\n",
      "6 \n",
      "\n",
      "8 \n",
      "\n",
      "10 \n",
      "\n",
      "30 28 26 24 22 20 18 16 14 12 "
     ]
    }
   ],
   "source": [
    "#increment ,decremennt using step.\n",
    "for i in range(0,11,2):\n",
    "    print(i,end=' ')\n",
    "    print(\"\\n\")\n",
    "\n",
    "#02____________________________\n",
    "for i in range(30,11,-2):\n",
    "    print(i,end=\" \")\n",
    "    "
   ]
  },
  {
   "cell_type": "code",
   "execution_count": 7,
   "id": "f60c1e0c-53f2-4c19-8820-95d412dc22dd",
   "metadata": {},
   "outputs": [
    {
     "name": "stdout",
     "output_type": "stream",
     "text": [
      "7\n",
      "14\n",
      "21\n",
      "28\n",
      "35\n",
      "42\n",
      "49\n",
      "56\n",
      "63\n",
      "70\n"
     ]
    }
   ],
   "source": [
    "#multiplay by 7 start stop step create 7 table.\n",
    "a=range(7,71,7)\n",
    "for i in a:\n",
    "    print(i)"
   ]
  },
  {
   "cell_type": "code",
   "execution_count": 13,
   "id": "d346fcbb-a447-4ce4-9d1f-d78051524de3",
   "metadata": {},
   "outputs": [
    {
     "name": "stdout",
     "output_type": "stream",
     "text": [
      "1, 2, 3, 4, 5, 6, 7, 8, 9, 10, 11, 12, 13, 14, 15, 16, 17, 18, 19, "
     ]
    }
   ],
   "source": [
    "#valuerror in step(0)\n",
    "for i in range(1,20,1):\n",
    "    print(i,end=\"\")\n",
    "    print(',', end=\" \")"
   ]
  },
  {
   "cell_type": "code",
   "execution_count": 21,
   "id": "1076d614-a287-4bc9-a834-b37984c0515f",
   "metadata": {},
   "outputs": [
    {
     "name": "stdout",
     "output_type": "stream",
     "text": [
      "-1 -2 -3 -4 -5 -6 -7 -8 -9 -10 2\n",
      "1\n",
      "0\n",
      "-1\n",
      "-2\n",
      "-3\n",
      "-4\n"
     ]
    }
   ],
   "source": [
    "#negative range program.\n",
    "for i in range(-1,-11,-1):\n",
    "    print(i,end=\" \")\n",
    "\n",
    "#______________________________________\n",
    "#combition to negative&positve num.\n",
    "for i in range(2,-5,-1):\n",
    "    print (i)\n"
   ]
  },
  {
   "cell_type": "code",
   "execution_count": 3,
   "id": "7651d784-d147-4add-950b-0e274bf379c0",
   "metadata": {},
   "outputs": [
    {
     "name": "stdout",
     "output_type": "stream",
     "text": [
      "<class 'list'>\n",
      "20 21 22 23 24 25 26 27 28 29 "
     ]
    }
   ],
   "source": [
    "#converte range to lst.\n",
    "#https://youtube.com/shorts/8z4d3zOaD1o?si=gyX4LmbjstYQReFA\n",
    "a=list(range(20,30))       #list type kel mhanun list value aali \n",
    "print(type(a))\n",
    "for i in a:\n",
    "   print(i,end=\" \")"
   ]
  },
  {
   "cell_type": "code",
   "execution_count": 26,
   "id": "cc06235b-f8e3-48d1-9c06-f07f55ff8801",
   "metadata": {},
   "outputs": [
    {
     "name": "stdout",
     "output_type": "stream",
     "text": [
      "[20, 40, 60, 80, 100, 120, 140, 160, 180]\n"
     ]
    }
   ],
   "source": [
    "#access & modify list itam using range().\n",
    "sample_list = list(range(10,100,10))\n",
    "for i in range(0,len(sample_list),1):\n",
    "     sample_list[i]=sample_list[i]*2\n",
    "print(sample_list)"
   ]
  },
  {
   "cell_type": "code",
   "execution_count": 60,
   "id": "24202795-51c5-49f1-a59b-10965bbcb908",
   "metadata": {},
   "outputs": [
    {
     "name": "stdout",
     "output_type": "stream",
     "text": [
      "1 2 3 4 5 6 7 8 9 10 \n",
      "\n",
      "1 2 3 4 5 6 7 8 9 10 \n",
      "\n",
      "2 3 4 5 6 7 8 9 10 "
     ]
    }
   ],
   "source": [
    "#inclusive range.\n",
    "#01\n",
    "start=1\n",
    "stop=10\n",
    "step=1\n",
    "stop+=step\n",
    "for i in range(start,stop,step):\n",
    "    print(i,end=\" \")\n",
    "#__________________________________\n",
    "#02_______________________________\n",
    "print(\"\\n\")\n",
    "a=(1)                                                #program 2,3 madhe print (\\n) lihile aahe te jast imp nahi!!.\n",
    "b=(10)\n",
    "c=(1)                                                #b+=c karaneke ke bbad 10 bhi type karake aata hai.\n",
    "b+=c\n",
    "for i in range(a,b,c):\n",
    "    print(i,end=\" \")\n",
    "\n",
    "#_____________________________________\n",
    "#even inclusive range()\n",
    "print(\"\\n\")\n",
    "for i in range(2,10+step,step):\n",
    "    print(i,end=\" \")\n",
    "    \n"
   ]
  },
  {
   "cell_type": "code",
   "execution_count": 1,
   "id": "cdce86a1-0178-4325-91d6-edecaa05d633",
   "metadata": {},
   "outputs": [
    {
     "name": "stdout",
     "output_type": "stream",
     "text": [
      "0\n",
      "10\n",
      "1\n",
      "\n",
      "\n",
      "0\n",
      "5\n",
      "9\n"
     ]
    }
   ],
   "source": [
    "#range() indexing & slicing\n",
    "num1=range(0,10)\n",
    "print(num1.start)\n",
    "print(num1.stop)\n",
    "print(num1.step)\n",
    "#_____________________\n",
    "print(\"\\n\")\n",
    "range1=range(0,10)\n",
    "print(range1[0])\n",
    "print(range1[5])\n",
    "print(range1[range1.stop-1])\n",
    "\n",
    "\n",
    "\n",
    "        "
   ]
  },
  {
   "cell_type": "code",
   "execution_count": 2,
   "id": "618497fc-cb0e-43dc-98f1-000347a9d379",
   "metadata": {},
   "outputs": [
    {
     "name": "stdout",
     "output_type": "stream",
     "text": [
      "9\n",
      "8\n"
     ]
    }
   ],
   "source": [
    "#negative indexing.\n",
    "print(range(10)[-1])\n",
    "print(range(10)[-2])\n"
   ]
  },
  {
   "cell_type": "code",
   "execution_count": 8,
   "id": "42e18560-374f-4030-9f46-aeea2e706ecb",
   "metadata": {},
   "outputs": [
    {
     "name": "stdout",
     "output_type": "stream",
     "text": [
      "3 4 5 6 7 "
     ]
    }
   ],
   "source": [
    "#slicing.\n",
    "for i in range(10)[3:8]:\n",
    "    print(i,end=\" \")"
   ]
  },
  {
   "cell_type": "code",
   "execution_count": 13,
   "id": "a585db80-8ac7-4b1e-8d3c-958e063dba44",
   "metadata": {},
   "outputs": [
    {
     "ename": "TypeError",
     "evalue": "'str' object cannot be interpreted as an integer",
     "output_type": "error",
     "traceback": [
      "\u001b[1;31m---------------------------------------------------------------------------\u001b[0m",
      "\u001b[1;31mTypeError\u001b[0m                                 Traceback (most recent call last)",
      "Cell \u001b[1;32mIn[13], line 2\u001b[0m\n\u001b[0;32m      1\u001b[0m \u001b[38;5;66;03m#range()over character or alphabet.\u001b[39;00m\n\u001b[1;32m----> 2\u001b[0m \u001b[38;5;28;01mfor\u001b[39;00m char \u001b[38;5;129;01min\u001b[39;00m \u001b[38;5;28;43mrange\u001b[39;49m\u001b[43m(\u001b[49m\u001b[38;5;124;43m'\u001b[39;49m\u001b[38;5;124;43ma\u001b[39;49m\u001b[38;5;124;43m'\u001b[39;49m\u001b[43m,\u001b[49m\u001b[38;5;124;43m'\u001b[39;49m\u001b[38;5;124;43mz\u001b[39;49m\u001b[38;5;124;43m'\u001b[39;49m\u001b[43m)\u001b[49m:\n\u001b[0;32m      3\u001b[0m     \u001b[38;5;28mprint\u001b[39m(char)\n",
      "\u001b[1;31mTypeError\u001b[0m: 'str' object cannot be interpreted as an integer"
     ]
    }
   ],
   "source": [
    "#range()over character or alphabet.\n",
    "for char in range('a','z'):\n",
    "    print(char)"
   ]
  },
  {
   "cell_type": "code",
   "execution_count": 1,
   "id": "0e927acc-dca7-4425-87d9-b5bc0e6f8b1f",
   "metadata": {},
   "outputs": [
    {
     "name": "stdout",
     "output_type": "stream",
     "text": [
      "sample\n"
     ]
    }
   ],
   "source": [
    "def character_range(char1,char2):\n",
    "    for char in range(ord(char1),ord(char2)+1):\n",
    "        yield(char)\n",
    "for letter in character_range('a','2'):\n",
    "    print(char(letter),end=' , ')\n",
    "print('sample')"
   ]
  },
  {
   "cell_type": "code",
   "execution_count": null,
   "id": "38a8a786-f383-48b6-9cc3-ecb2e5aa5966",
   "metadata": {},
   "outputs": [],
   "source": [
    "#____________________-----------------------_________________________________-------------"
   ]
  },
  {
   "cell_type": "code",
   "execution_count": null,
   "id": "fe7acb1b",
   "metadata": {},
   "outputs": [],
   "source": [
    "items=[int,float,\"harry\",5,3,22,21,64,23,233,23,6]\n",
    "for item in items:\n",
    "    if str(item) is numaric() and item>=6:             #not run this time..!!\n",
    "        print(item)"
   ]
  },
  {
   "cell_type": "code",
   "execution_count": 14,
   "id": "acda37b6-4fe6-4c6d-ab65-26c418b0a9ed",
   "metadata": {},
   "outputs": [
    {
     "name": "stdout",
     "output_type": "stream",
     "text": [
      "Enter the number:  23\n",
      "Enter the number sabji:  32\n"
     ]
    },
    {
     "name": "stdout",
     "output_type": "stream",
     "text": [
      "32\n"
     ]
    },
    {
     "name": "stdout",
     "output_type": "stream",
     "text": [
      "Enter the number sabji:  53\n"
     ]
    },
    {
     "name": "stdout",
     "output_type": "stream",
     "text": [
      "53\n"
     ]
    },
    {
     "name": "stdout",
     "output_type": "stream",
     "text": [
      "Enter the number sabji:  33\n"
     ]
    },
    {
     "name": "stdout",
     "output_type": "stream",
     "text": [
      "33\n"
     ]
    },
    {
     "name": "stdout",
     "output_type": "stream",
     "text": [
      "Enter the number sabji:  443\n"
     ]
    },
    {
     "name": "stdout",
     "output_type": "stream",
     "text": [
      "443\n",
      "end loop\n"
     ]
    }
   ],
   "source": [
    "i=int(input(\"Enter the number: \"))\n",
    "while(i<=55):\n",
    "    i=int(input(\"Enter the number sabji: \"))\n",
    "    print(i)\n",
    "    \n",
    "print(\"end loop\")    \n",
    "\n",
    "    \n"
   ]
  },
  {
   "cell_type": "code",
   "execution_count": null,
   "id": "6dd6dacd",
   "metadata": {},
   "outputs": [],
   "source": []
  },
  {
   "cell_type": "code",
   "execution_count": null,
   "metadata": {},
   "outputs": [],
   "source": []
  },
  {
   "cell_type": "code",
   "execution_count": null,
   "id": "8c57c6cf",
   "metadata": {},
   "outputs": [],
   "source": []
  },
  {
   "cell_type": "code",
   "execution_count": null,
   "id": "68f2185a",
   "metadata": {},
   "outputs": [],
   "source": []
  },
  {
   "cell_type": "code",
   "execution_count": null,
   "id": "14b88013",
   "metadata": {},
   "outputs": [],
   "source": []
  }
 ],
 "metadata": {
  "kernelspec": {
   "display_name": "Python 3 (ipykernel)",
   "language": "python",
   "name": "python3"
  },
  "language_info": {
   "codemirror_mode": {
    "name": "ipython",
    "version": 3
   },
   "file_extension": ".py",
   "mimetype": "text/x-python",
   "name": "python",
   "nbconvert_exporter": "python",
   "pygments_lexer": "ipython3",
   "version": "3.11.4"
  }
 },
 "nbformat": 4,
 "nbformat_minor": 5
}
