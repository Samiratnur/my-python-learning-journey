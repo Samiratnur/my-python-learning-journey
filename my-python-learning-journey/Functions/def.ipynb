{
 "cells": [
  {
   "cell_type": "code",
   "execution_count": 1,
   "id": "ff981267",
   "metadata": {},
   "outputs": [
    {
     "name": "stdout",
     "output_type": "stream",
     "text": [
      "10\n"
     ]
    }
   ],
   "source": [
    "def cal(a,b):\n",
    "    print(a+b)\n",
    "    \n",
    "cal(3,7)    \n",
    "        "
   ]
  },
  {
   "cell_type": "code",
   "execution_count": null,
   "id": "dbccf0fc",
   "metadata": {},
   "outputs": [],
   "source": [
    "def cal():\n",
    "    print(a+b)\n",
    "    \n",
    "cal(3+5)    "
   ]
  },
  {
   "cell_type": "code",
   "execution_count": 4,
   "id": "14902342",
   "metadata": {},
   "outputs": [
    {
     "ename": "SyntaxError",
     "evalue": "invalid syntax (472609547.py, line 3)",
     "output_type": "error",
     "traceback": [
      "  \u001b[36mCell\u001b[39m\u001b[36m \u001b[39m\u001b[32mIn[4]\u001b[39m\u001b[32m, line 3\u001b[39m\n\u001b[31m    \u001b[39m\u001b[31mreturn output....!\u001b[39m\n                 ^\n\u001b[31mSyntaxError\u001b[39m\u001b[31m:\u001b[39m invalid syntax\n"
     ]
    }
   ],
   "source": [
    "def greet():\n",
    "    return\"Good morninig\"\n",
    "    return output....!"
   ]
  },
  {
   "cell_type": "code",
   "execution_count": 5,
   "id": "4320b7d1",
   "metadata": {},
   "outputs": [
    {
     "data": {
      "text/plain": [
       "'Good morninig'"
      ]
     },
     "execution_count": 5,
     "metadata": {},
     "output_type": "execute_result"
    }
   ],
   "source": [
    "def greet():\n",
    "    return\"Good morninig\"                                 #type 1\n",
    "greet()    "
   ]
  },
  {
   "cell_type": "code",
   "execution_count": 6,
   "id": "de89b1a8",
   "metadata": {},
   "outputs": [
    {
     "name": "stdout",
     "output_type": "stream",
     "text": [
      "Good morninig\n"
     ]
    }
   ],
   "source": [
    "def greet():\n",
    "    return\"Good morninig\"\n",
    "                                                    #tupe 2\n",
    "msg=greet()\n",
    "print(msg)"
   ]
  },
  {
   "cell_type": "code",
   "execution_count": 7,
   "id": "cbaaa351",
   "metadata": {},
   "outputs": [
    {
     "name": "stdout",
     "output_type": "stream",
     "text": [
      "good morning\n"
     ]
    }
   ],
   "source": [
    "def xyz(name):\n",
    "    print(\"good morning\")\n",
    "\n",
    "xyz(\"samir\")    "
   ]
  },
  {
   "cell_type": "code",
   "execution_count": 8,
   "id": "892cae9b",
   "metadata": {},
   "outputs": [
    {
     "name": "stdout",
     "output_type": "stream",
     "text": [
      "good morning: ram\n"
     ]
    }
   ],
   "source": [
    "def xyz(name):\n",
    "    print(\"good morning:\",name)\n",
    "\n",
    "xyz(\"ram\") "
   ]
  },
  {
   "cell_type": "code",
   "execution_count": 9,
   "id": "7c3d1761",
   "metadata": {},
   "outputs": [
    {
     "name": "stdout",
     "output_type": "stream",
     "text": [
      "wel-come samir atnur\n"
     ]
    }
   ],
   "source": [
    "def dec(first_name,last_name):\n",
    "    print(\"wel-come\",first_name,last_name)\n",
    "dec(\"samir\",\"atnur\")   \n",
    "    "
   ]
  },
  {
   "cell_type": "code",
   "execution_count": 10,
   "id": "fb3e6eb2",
   "metadata": {},
   "outputs": [
    {
     "name": "stdout",
     "output_type": "stream",
     "text": [
      "105\n"
     ]
    }
   ],
   "source": [
    "def name(a,b=5):\n",
    "    print(a+b)\n",
    "    \n",
    "\n",
    "name(100)"
   ]
  },
  {
   "cell_type": "code",
   "execution_count": 11,
   "id": "81121dce",
   "metadata": {},
   "outputs": [
    {
     "name": "stdout",
     "output_type": "stream",
     "text": [
      "hello:\n",
      "hii i  am don\n"
     ]
    }
   ],
   "source": [
    "def A(a):\n",
    "    print('hii i  am',a)\n",
    "    \n",
    "print(\"hello:\")\n",
    "A('don')\n",
    "    "
   ]
  },
  {
   "cell_type": "code",
   "execution_count": 12,
   "id": "54d6a1ec",
   "metadata": {},
   "outputs": [],
   "source": [
    "def my_function (*args):\n",
    "    print(args)\n",
    "    my_function(2,4,0,18,8,1)"
   ]
  },
  {
   "cell_type": "code",
   "execution_count": null,
   "id": "0a883237",
   "metadata": {},
   "outputs": [],
   "source": []
  },
  {
   "cell_type": "code",
   "execution_count": null,
   "id": "4ec84744",
   "metadata": {},
   "outputs": [],
   "source": []
  },
  {
   "cell_type": "code",
   "execution_count": null,
   "id": "fe31f216",
   "metadata": {},
   "outputs": [],
   "source": []
  },
  {
   "cell_type": "code",
   "execution_count": null,
   "id": "5a402edb",
   "metadata": {},
   "outputs": [],
   "source": []
  },
  {
   "cell_type": "code",
   "execution_count": null,
   "id": "1ac85e6e",
   "metadata": {},
   "outputs": [],
   "source": []
  },
  {
   "cell_type": "code",
   "execution_count": null,
   "metadata": {},
   "outputs": [],
   "source": []
  }
 ],
 "metadata": {
  "kernelspec": {
   "display_name": "Python 3",
   "language": "python",
   "name": "python3"
  },
  "language_info": {
   "codemirror_mode": {
    "name": "ipython",
    "version": 3
   },
   "file_extension": ".py",
   "mimetype": "text/x-python",
   "name": "python",
   "nbconvert_exporter": "python",
   "pygments_lexer": "ipython3",
   "version": "3.13.4"
  }
 },
 "nbformat": 4,
 "nbformat_minor": 5
}
