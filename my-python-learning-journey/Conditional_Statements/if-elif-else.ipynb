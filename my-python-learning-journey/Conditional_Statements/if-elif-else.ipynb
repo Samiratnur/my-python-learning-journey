{
 "cells": [
  {
   "cell_type": "code",
   "execution_count": 1,
   "id": "344076f8",
   "metadata": {},
   "outputs": [
    {
     "ename": "KeyboardInterrupt",
     "evalue": "Interrupted by user",
     "output_type": "error",
     "traceback": [
      "\u001b[31m---------------------------------------------------------------------------\u001b[39m",
      "\u001b[31mKeyboardInterrupt\u001b[39m                         Traceback (most recent call last)",
      "\u001b[36mCell\u001b[39m\u001b[36m \u001b[39m\u001b[32mIn[1]\u001b[39m\u001b[32m, line 2\u001b[39m\n\u001b[32m      1\u001b[39m \u001b[38;5;66;03m#Salary and Bonus\u001b[39;00m\n\u001b[32m----> \u001b[39m\u001b[32m2\u001b[39m gender=\u001b[38;5;28;43minput\u001b[39;49m\u001b[43m(\u001b[49m\u001b[33;43m\"\u001b[39;49m\u001b[33;43mEnter your gender(M/F):\u001b[39;49m\u001b[33;43m\"\u001b[39;49m\u001b[43m)\u001b[49m\n\u001b[32m      3\u001b[39m sal=\u001b[38;5;28mint\u001b[39m(\u001b[38;5;28minput\u001b[39m(\u001b[33m\"\u001b[39m\u001b[33mEnter your  salary:\u001b[39m\u001b[33m\"\u001b[39m))\n\u001b[32m      4\u001b[39m \u001b[38;5;28;01mif\u001b[39;00m gender == \u001b[33m'\u001b[39m\u001b[33mM\u001b[39m\u001b[33m'\u001b[39m:\n",
      "\u001b[36mFile \u001b[39m\u001b[32m~\\AppData\\Roaming\\Python\\Python313\\site-packages\\ipykernel\\kernelbase.py:1282\u001b[39m, in \u001b[36mKernel.raw_input\u001b[39m\u001b[34m(self, prompt)\u001b[39m\n\u001b[32m   1280\u001b[39m     msg = \u001b[33m\"\u001b[39m\u001b[33mraw_input was called, but this frontend does not support input requests.\u001b[39m\u001b[33m\"\u001b[39m\n\u001b[32m   1281\u001b[39m     \u001b[38;5;28;01mraise\u001b[39;00m StdinNotImplementedError(msg)\n\u001b[32m-> \u001b[39m\u001b[32m1282\u001b[39m \u001b[38;5;28;01mreturn\u001b[39;00m \u001b[38;5;28;43mself\u001b[39;49m\u001b[43m.\u001b[49m\u001b[43m_input_request\u001b[49m\u001b[43m(\u001b[49m\n\u001b[32m   1283\u001b[39m \u001b[43m    \u001b[49m\u001b[38;5;28;43mstr\u001b[39;49m\u001b[43m(\u001b[49m\u001b[43mprompt\u001b[49m\u001b[43m)\u001b[49m\u001b[43m,\u001b[49m\n\u001b[32m   1284\u001b[39m \u001b[43m    \u001b[49m\u001b[38;5;28;43mself\u001b[39;49m\u001b[43m.\u001b[49m\u001b[43m_parent_ident\u001b[49m\u001b[43m[\u001b[49m\u001b[33;43m\"\u001b[39;49m\u001b[33;43mshell\u001b[39;49m\u001b[33;43m\"\u001b[39;49m\u001b[43m]\u001b[49m\u001b[43m,\u001b[49m\n\u001b[32m   1285\u001b[39m \u001b[43m    \u001b[49m\u001b[38;5;28;43mself\u001b[39;49m\u001b[43m.\u001b[49m\u001b[43mget_parent\u001b[49m\u001b[43m(\u001b[49m\u001b[33;43m\"\u001b[39;49m\u001b[33;43mshell\u001b[39;49m\u001b[33;43m\"\u001b[39;49m\u001b[43m)\u001b[49m\u001b[43m,\u001b[49m\n\u001b[32m   1286\u001b[39m \u001b[43m    \u001b[49m\u001b[43mpassword\u001b[49m\u001b[43m=\u001b[49m\u001b[38;5;28;43;01mFalse\u001b[39;49;00m\u001b[43m,\u001b[49m\n\u001b[32m   1287\u001b[39m \u001b[43m\u001b[49m\u001b[43m)\u001b[49m\n",
      "\u001b[36mFile \u001b[39m\u001b[32m~\\AppData\\Roaming\\Python\\Python313\\site-packages\\ipykernel\\kernelbase.py:1325\u001b[39m, in \u001b[36mKernel._input_request\u001b[39m\u001b[34m(self, prompt, ident, parent, password)\u001b[39m\n\u001b[32m   1322\u001b[39m \u001b[38;5;28;01mexcept\u001b[39;00m \u001b[38;5;167;01mKeyboardInterrupt\u001b[39;00m:\n\u001b[32m   1323\u001b[39m     \u001b[38;5;66;03m# re-raise KeyboardInterrupt, to truncate traceback\u001b[39;00m\n\u001b[32m   1324\u001b[39m     msg = \u001b[33m\"\u001b[39m\u001b[33mInterrupted by user\u001b[39m\u001b[33m\"\u001b[39m\n\u001b[32m-> \u001b[39m\u001b[32m1325\u001b[39m     \u001b[38;5;28;01mraise\u001b[39;00m \u001b[38;5;167;01mKeyboardInterrupt\u001b[39;00m(msg) \u001b[38;5;28;01mfrom\u001b[39;00m\u001b[38;5;250m \u001b[39m\u001b[38;5;28;01mNone\u001b[39;00m\n\u001b[32m   1326\u001b[39m \u001b[38;5;28;01mexcept\u001b[39;00m \u001b[38;5;167;01mException\u001b[39;00m:\n\u001b[32m   1327\u001b[39m     \u001b[38;5;28mself\u001b[39m.log.warning(\u001b[33m\"\u001b[39m\u001b[33mInvalid Message:\u001b[39m\u001b[33m\"\u001b[39m, exc_info=\u001b[38;5;28;01mTrue\u001b[39;00m)\n",
      "\u001b[31mKeyboardInterrupt\u001b[39m: Interrupted by user"
     ]
    }
   ],
   "source": [
    "#Salary and Bonus\n",
    "gender=input(\"Enter your gender(M/F):\")\n",
    "sal=int(input(\"Enter your  salary:\"))\n",
    "if gender == 'M':\n",
    "    bonus=5000\n",
    "    if sal<=1000:\n",
    "        bonus=7000\n",
    "if gender == 'f':\n",
    "    bonus = 7000\n",
    "    if sal<=10000:\n",
    "        bonus=9000\n",
    "if gender =='f':\n",
    "    bonus = 7000\n",
    "    if sal<=10000:\n",
    "        bonus=9000\n",
    "        amount=sal+bonus\n",
    "        print(\"Gender =\",Gender)\n",
    "        print(\"salary=\",sal)\n",
    "        print(\"bonus =\",bonus)\n",
    "        print(\"**********************\")\n",
    "        print(\"Amount = \",Amount)\n",
    "        "
   ]
  },
  {
   "cell_type": "code",
   "execution_count": 2,
   "id": "668be11d",
   "metadata": {},
   "outputs": [
    {
     "ename": "ValueError",
     "evalue": "invalid literal for int() with base 10: ''",
     "output_type": "error",
     "traceback": [
      "\u001b[31m---------------------------------------------------------------------------\u001b[39m",
      "\u001b[31mValueError\u001b[39m                                Traceback (most recent call last)",
      "\u001b[36mCell\u001b[39m\u001b[36m \u001b[39m\u001b[32mIn[2]\u001b[39m\u001b[32m, line 4\u001b[39m\n\u001b[32m      2\u001b[39m num1=\u001b[32m12\u001b[39m\n\u001b[32m      3\u001b[39m num2=\u001b[32m87\u001b[39m\n\u001b[32m----> \u001b[39m\u001b[32m4\u001b[39m num3=\u001b[38;5;28;43mint\u001b[39;49m\u001b[43m(\u001b[49m\u001b[38;5;28;43minput\u001b[39;49m\u001b[43m(\u001b[49m\u001b[43m)\u001b[49m\u001b[43m)\u001b[49m\n\u001b[32m      5\u001b[39m \u001b[38;5;28;01mif\u001b[39;00m (num2<num3):\n\u001b[32m      6\u001b[39m     \u001b[38;5;28mprint\u001b[39m(\u001b[33m\"\u001b[39m\u001b[33mlesser\u001b[39m\u001b[33m\"\u001b[39m)\n",
      "\u001b[31mValueError\u001b[39m: invalid literal for int() with base 10: ''"
     ]
    }
   ],
   "source": [
    "#equal, lesser, grater\n",
    "num1=12\n",
    "num2=87\n",
    "num3=int(input())\n",
    "if (num2<num3):\n",
    "    print(\"lesser\")\n",
    "    \n",
    "if(num1==num3):\n",
    "       print(\"equal\")\n",
    "else:\n",
    "    print(\"grater\")"
   ]
  },
  {
   "cell_type": "code",
   "execution_count": 3,
   "id": "6b456ee3",
   "metadata": {},
   "outputs": [
    {
     "name": "stdout",
     "output_type": "stream",
     "text": [
      "True\n"
     ]
    }
   ],
   "source": [
    "#simple elif program\n",
    "i=20\n",
    "if (i==10):\n",
    "    print(i==10)\n",
    "elif(i==30):\n",
    "    print(i==30)\n",
    "elif(i==20):\n",
    "    print(i==20)\n",
    "else:\n",
    "    print(\"i is not present\")    "
   ]
  },
  {
   "cell_type": "code",
   "execution_count": 4,
   "id": "d6f47a9c",
   "metadata": {},
   "outputs": [
    {
     "name": "stdout",
     "output_type": "stream",
     "text": [
      "i is not present\n"
     ]
    }
   ],
   "source": [
    "#simple elif program 02\n",
    "i=20\n",
    "if (i==10):\n",
    "    print(i==10)\n",
    "elif(i==30):\n",
    "    print(i==30)\n",
    "elif(i==80):\n",
    "    print(i==80)\n",
    "else:\n",
    "    print(\"i is not present\")   "
   ]
  },
  {
   "cell_type": "code",
   "execution_count": 5,
   "id": "339ba08b",
   "metadata": {},
   "outputs": [
    {
     "ename": "ValueError",
     "evalue": "invalid literal for int() with base 10: ''",
     "output_type": "error",
     "traceback": [
      "\u001b[31m---------------------------------------------------------------------------\u001b[39m",
      "\u001b[31mValueError\u001b[39m                                Traceback (most recent call last)",
      "\u001b[36mCell\u001b[39m\u001b[36m \u001b[39m\u001b[32mIn[5]\u001b[39m\u001b[32m, line 1\u001b[39m\n\u001b[32m----> \u001b[39m\u001b[32m1\u001b[39m a=\u001b[38;5;28;43mint\u001b[39;49m\u001b[43m(\u001b[49m\u001b[38;5;28;43minput\u001b[39;49m\u001b[43m(\u001b[49m\u001b[33;43m\"\u001b[39;49m\u001b[33;43mEnter a percentile\u001b[39;49m\u001b[33;43m\"\u001b[39;49m\u001b[43m)\u001b[49m\u001b[43m)\u001b[49m\n\u001b[32m      2\u001b[39m \u001b[38;5;28;01mif\u001b[39;00m a>=\u001b[32m80\u001b[39m \u001b[38;5;129;01mand\u001b[39;00m a<=\u001b[32m100\u001b[39m: \n\u001b[32m      3\u001b[39m     \u001b[38;5;28mprint\u001b[39m(\u001b[33m\"\u001b[39m\u001b[33myour grade is A+\u001b[39m\u001b[33m\"\u001b[39m)\n",
      "\u001b[31mValueError\u001b[39m: invalid literal for int() with base 10: ''"
     ]
    }
   ],
   "source": [
    "a=int(input(\"Enter a percentile\"))\n",
    "if a>=80 and a<=100: \n",
    "    print(\"your grade is A+\")\n",
    "elif a>60 and a<70:\n",
    "    print(\"your grade is b+\")\n",
    "elif a>50 and a<60:\n",
    "    print(\"your grade is c+\")\n",
    "elif a>10 and a<35:\n",
    "    print(\"sorry,but you are fail\")\n",
    "\n"
   ]
  },
  {
   "cell_type": "code",
   "execution_count": null,
   "id": "a3de3120",
   "metadata": {},
   "outputs": [],
   "source": [
    "num=int(input(\"Enter a number\"))\n",
    "if num<0:\n",
    "    print(\"Number is negetive\")\n",
    "elif num==0:\n",
    "    print(\"Number is zero\")\n",
    "elif num<67:\n",
    "    print(\"Number is positive\")\n",
    "else:\n",
    "    num==99\n",
    "    print(\"Number is speical \")\n",
    "    print('happy')"
   ]
  },
  {
   "cell_type": "code",
   "execution_count": null,
   "id": "74fe6ffd",
   "metadata": {},
   "outputs": [],
   "source": [
    "name=input(\"enter a name\")\n",
    "password='xyz'\n",
    "enter_password = input(\"enter password\")\n",
    "while password != enter_password:\n",
    "    enter_password = input(\"enter password :\")\n",
    "else:\n",
    "    print('UNLOCKED !!')\n",
    "    \n"
   ]
  },
  {
   "cell_type": "code",
   "execution_count": 1,
   "id": "bde43f0c",
   "metadata": {},
   "outputs": [
    {
     "ename": "IndentationError",
     "evalue": "unexpected indent (2580502710.py, line 2)",
     "output_type": "error",
     "traceback": [
      "  \u001b[36mCell\u001b[39m\u001b[36m \u001b[39m\u001b[32mIn[1]\u001b[39m\u001b[32m, line 2\u001b[39m\n\u001b[31m    \u001b[39m\u001b[31mnum = int(input(\"Enter a number: \"))\u001b[39m\n    ^\n\u001b[31mIndentationError\u001b[39m\u001b[31m:\u001b[39m unexpected indent\n"
     ]
    }
   ],
   "source": [
    "#1. Positive, Negative, or Zero\n",
    "    num = int(input(\"Enter a number: \"))\n",
    "if num > 0:\n",
    "    print(\"Positive\")\n",
    "elif num < 0:\n",
    "    print(\"Negative\")\n",
    "else:\n",
    "    print(\"Zero\")\n"
   ]
  },
  {
   "cell_type": "code",
   "execution_count": 2,
   "id": "56ab5f32",
   "metadata": {},
   "outputs": [
    {
     "ename": "ValueError",
     "evalue": "invalid literal for int() with base 10: ''",
     "output_type": "error",
     "traceback": [
      "\u001b[31m---------------------------------------------------------------------------\u001b[39m",
      "\u001b[31mValueError\u001b[39m                                Traceback (most recent call last)",
      "\u001b[36mCell\u001b[39m\u001b[36m \u001b[39m\u001b[32mIn[2]\u001b[39m\u001b[32m, line 2\u001b[39m\n\u001b[32m      1\u001b[39m \u001b[38;5;66;03m#2. Even or Odd\u001b[39;00m\n\u001b[32m----> \u001b[39m\u001b[32m2\u001b[39m n = \u001b[38;5;28;43mint\u001b[39;49m\u001b[43m(\u001b[49m\u001b[38;5;28;43minput\u001b[39;49m\u001b[43m(\u001b[49m\u001b[33;43m\"\u001b[39;49m\u001b[33;43mEnter a number: \u001b[39;49m\u001b[33;43m\"\u001b[39;49m\u001b[43m)\u001b[49m\u001b[43m)\u001b[49m\n\u001b[32m      3\u001b[39m \u001b[38;5;28;01mif\u001b[39;00m n % \u001b[32m2\u001b[39m == \u001b[32m0\u001b[39m:\n\u001b[32m      4\u001b[39m     \u001b[38;5;28mprint\u001b[39m(\u001b[33m\"\u001b[39m\u001b[33mEven\u001b[39m\u001b[33m\"\u001b[39m)\n",
      "\u001b[31mValueError\u001b[39m: invalid literal for int() with base 10: ''"
     ]
    }
   ],
   "source": [
    "#2. Even or Odd\n",
    "n = int(input(\"Enter a number: \"))\n",
    "if n % 2 == 0:\n",
    "    print(\"Even\")\n",
    "else:\n",
    "    print(\"Odd\")\n"
   ]
  },
  {
   "cell_type": "code",
   "execution_count": null,
   "id": "49b34c90",
   "metadata": {},
   "outputs": [],
   "source": [
    "#3. Find Largest of Two Numbers\n",
    "a, b = 10, 20\n",
    "if a > b:\n",
    "    print(\"a is larger\")\n",
    "elif b > a:\n",
    "    print(\"b is larger\")\n",
    "else:\n",
    "    print(\"Both are equal\") \n"
   ]
  },
  {
   "cell_type": "code",
   "execution_count": null,
   "id": "bab95028",
   "metadata": {},
   "outputs": [],
   "source": [
    "#4. Find Largest of Three Numbers\n",
    "a, b, c = 15, 25, 10\n",
    "if a > b and a > c:\n",
    "    print(\"a is largest\")\n",
    "elif b > c:\n",
    "    print(\"b is largest\")\n",
    "else:\n",
    "    print(\"c is largest\")\n"
   ]
  },
  {
   "cell_type": "code",
   "execution_count": null,
   "id": "31c59222",
   "metadata": {},
   "outputs": [],
   "source": [
    "#5. Check Voting Eligibility\n",
    "age = int(input(\"Enter age: \"))\n",
    "if age >= 18:\n",
    "    print(\"Eligible to vote\")\n",
    "else:\n",
    "    print(\"Not eligible\")\n"
   ]
  },
  {
   "cell_type": "code",
   "execution_count": 1,
   "id": "07c8e883",
   "metadata": {},
   "outputs": [
    {
     "name": "stdout",
     "output_type": "stream",
     "text": [
      "Grade B\n"
     ]
    }
   ],
   "source": [
    "#6. Check Grade\n",
    "marks = 78\n",
    "if marks >= 90:\n",
    "    print(\"Grade A\")\n",
    "elif marks >= 75:\n",
    "    print(\"Grade B\")\n",
    "elif marks >= 50:\n",
    "    print(\"Grade C\")\n",
    "else:\n",
    "    print(\"Fail\")\n"
   ]
  },
  {
   "cell_type": "code",
   "execution_count": 3,
   "id": "4e1c503e",
   "metadata": {},
   "outputs": [
    {
     "name": "stdout",
     "output_type": "stream",
     "text": [
      "Leap Year\n"
     ]
    }
   ],
   "source": [
    "#7. Check Leap Year\n",
    "year = 2024\n",
    "if year % 400 == 0:\n",
    "    print(\"Leap Year\")\n",
    "elif year % 100 == 0:\n",
    "    print(\"Not Leap Year\")\n",
    "elif year % 4 == 0:\n",
    "    print(\"Leap Year\")\n",
    "else:\n",
    "    print(\"Not Leap Year\")\n"
   ]
  },
  {
   "cell_type": "code",
   "execution_count": 4,
   "id": "49a9f149",
   "metadata": {},
   "outputs": [
    {
     "name": "stdout",
     "output_type": "stream",
     "text": [
      "Alphabet\n"
     ]
    }
   ],
   "source": [
    "#8. Check Character Type\n",
    "ch = \"A\"\n",
    "if ch.isdigit():\n",
    "    print(\"Digit\")\n",
    "elif ch.isalpha():\n",
    "    print(\"Alphabet\")\n",
    "else:\n",
    "    print(\"Special Character\")\n"
   ]
  },
  {
   "cell_type": "code",
   "execution_count": 5,
   "id": "c99151bb",
   "metadata": {},
   "outputs": [
    {
     "name": "stdout",
     "output_type": "stream",
     "text": [
      "Vowel\n"
     ]
    }
   ],
   "source": [
    "#9. Check Vowel or Consonant\n",
    "ch = \"e\"\n",
    "if ch in \"aeiouAEIOU\":\n",
    "    print(\"Vowel\")\n",
    "else:\n",
    "    print(\"Consonant\")\n"
   ]
  },
  {
   "cell_type": "code",
   "execution_count": 6,
   "id": "001729ff",
   "metadata": {},
   "outputs": [
    {
     "name": "stdout",
     "output_type": "stream",
     "text": [
      "Divisible by both 3 and 5\n"
     ]
    }
   ],
   "source": [
    "#10. Check Divisibility\n",
    "n = 15\n",
    "if n % 3 == 0 and n % 5 == 0:\n",
    "    print(\"Divisible by both 3 and 5\")\n",
    "elif n % 3 == 0:\n",
    "    print(\"Divisible by 3\")\n",
    "elif n % 5 == 0:\n",
    "    print(\"Divisible by 5\")\n",
    "else:\n",
    "    print(\"Not divisible by 3 or 5\")\n"
   ]
  },
  {
   "cell_type": "code",
   "execution_count": 7,
   "id": "caf8999e",
   "metadata": {},
   "outputs": [
    {
     "name": "stdout",
     "output_type": "stream",
     "text": [
      "Transaction Successful\n"
     ]
    }
   ],
   "source": [
    "#11. ATM Cash Withdrawal\n",
    "balance = 1000\n",
    "withdraw = 500\n",
    "if withdraw <= balance:\n",
    "    print(\"Transaction Successful\")\n",
    "else:\n",
    "    print(\"Insufficient Balance\")\n"
   ]
  },
  {
   "cell_type": "code",
   "execution_count": 8,
   "id": "6289d489",
   "metadata": {},
   "outputs": [
    {
     "name": "stdout",
     "output_type": "stream",
     "text": [
      "Half Scholarship\n"
     ]
    }
   ],
   "source": [
    "#12. Student Scholarship Check\n",
    "marks = 85\n",
    "if marks >= 90:\n",
    "    print(\"Full Scholarship\")\n",
    "elif marks >= 75:\n",
    "    print(\"Half Scholarship\")\n",
    "else:\n",
    "    print(\"No Scholarship\")\n"
   ]
  },
  {
   "cell_type": "code",
   "execution_count": 9,
   "id": "0126f5af",
   "metadata": {},
   "outputs": [
    {
     "name": "stdout",
     "output_type": "stream",
     "text": [
      "c is smallest\n"
     ]
    }
   ],
   "source": [
    "#13. Find Smallest of Three\n",
    "a, b, c = 5, 9, 2\n",
    "if a < b and a < c:\n",
    "    print(\"a is smallest\")\n",
    "elif b < c:\n",
    "    print(\"b is smallest\")\n",
    "else:\n",
    "    print(\"c is smallest\")\n"
   ]
  },
  {
   "cell_type": "code",
   "execution_count": 10,
   "id": "94ba377f",
   "metadata": {},
   "outputs": [
    {
     "name": "stdout",
     "output_type": "stream",
     "text": [
      "Half Day\n"
     ]
    }
   ],
   "source": [
    "#14. Check Working Hours\n",
    "hours = 7\n",
    "if hours >= 9:\n",
    "    print(\"Full Day\")\n",
    "elif hours >= 5:\n",
    "    print(\"Half Day\")\n",
    "else:\n",
    "    print(\"Absent\")\n"
   ]
  },
  {
   "cell_type": "code",
   "execution_count": 11,
   "id": "acdab042",
   "metadata": {},
   "outputs": [
    {
     "name": "stdout",
     "output_type": "stream",
     "text": [
      "15\n"
     ]
    }
   ],
   "source": [
    "#15. Find Absolute Value\n",
    "num = -15\n",
    "if num < 0:\n",
    "    print(-num)\n",
    "else:\n",
    "    print(num)\n"
   ]
  },
  {
   "cell_type": "code",
   "execution_count": 12,
   "id": "fd05d5f7",
   "metadata": {},
   "outputs": [
    {
     "name": "stdout",
     "output_type": "stream",
     "text": [
      "Child Ticket: 50 INR\n"
     ]
    }
   ],
   "source": [
    "#16. Check Ticket Price by Age\n",
    "age = 12\n",
    "if age < 5:\n",
    "    print(\"Free Ticket\")\n",
    "elif age < 18:\n",
    "    print(\"Child Ticket: 50 INR\")\n",
    "else:\n",
    "    print(\"Adult Ticket: 100 INR\")\n"
   ]
  },
  {
   "cell_type": "code",
   "execution_count": 13,
   "id": "784ec0b1",
   "metadata": {},
   "outputs": [
    {
     "name": "stdout",
     "output_type": "stream",
     "text": [
      "15\n"
     ]
    }
   ],
   "source": [
    "#17. Simple Calculator\n",
    "a, b, op = 10, 5, \"+\"\n",
    "if op == \"+\":\n",
    "    print(a + b)\n",
    "elif op == \"-\":\n",
    "    print(a - b)\n",
    "elif op == \"*\":\n",
    "    print(a * b)\n",
    "elif op == \"/\":\n",
    "    print(a / b)\n",
    "else:\n",
    "    print(\"Invalid operator\")\n"
   ]
  },
  {
   "cell_type": "code",
   "execution_count": 14,
   "id": "15fa6653",
   "metadata": {},
   "outputs": [
    {
     "name": "stdout",
     "output_type": "stream",
     "text": [
      "Hot\n"
     ]
    }
   ],
   "source": [
    "#18. Temperature Check\n",
    "temp = 35\n",
    "if temp > 40:\n",
    "    print(\"Very Hot\")\n",
    "elif temp > 30:\n",
    "    print(\"Hot\")\n",
    "elif temp > 20:\n",
    "    print(\"Warm\")\n",
    "else:\n",
    "    print(\"Cold\")\n"
   ]
  },
  {
   "cell_type": "code",
   "execution_count": 16,
   "id": "bbb02132",
   "metadata": {},
   "outputs": [
    {
     "name": "stdout",
     "output_type": "stream",
     "text": [
      "Wait\n"
     ]
    }
   ],
   "source": [
    "#19. Traffic Light System\n",
    "signal = \"yellow\"\n",
    "if signal == \"red\":\n",
    "    print(\"Stop\")\n",
    "elif signal == \"yellow\":\n",
    "    print(\"Wait\")\n",
    "else:\n",
    "    print(\"Go\")\n"
   ]
  },
  {
   "cell_type": "code",
   "execution_count": 17,
   "id": "fa125320",
   "metadata": {},
   "outputs": [
    {
     "name": "stdout",
     "output_type": "stream",
     "text": [
      "Weekend\n"
     ]
    }
   ],
   "source": [
    "#20. Check Day Type\n",
    "day = \"Sunday\"\n",
    "if day in [\"Saturday\", \"Sunday\"]:\n",
    "    print(\"Weekend\")\n",
    "else:\n",
    "    print(\"Weekday\")\n"
   ]
  },
  {
   "cell_type": "code",
   "execution_count": 18,
   "id": "31ef38e9",
   "metadata": {},
   "outputs": [
    {
     "name": "stdout",
     "output_type": "stream",
     "text": [
      "Too Low\n"
     ]
    }
   ],
   "source": [
    "#21. Guess Number Game\n",
    "secret = 7\n",
    "guess = 5\n",
    "if guess == secret:\n",
    "    print(\"Correct Guess!\")\n",
    "elif guess < secret:\n",
    "    print(\"Too Low\")\n",
    "else:\n",
    "    print(\"Too High\")\n"
   ]
  },
  {
   "cell_type": "code",
   "execution_count": null,
   "id": "ce7c9817",
   "metadata": {},
   "outputs": [],
   "source": []
  }
 ],
 "metadata": {
  "kernelspec": {
   "display_name": "Python 3",
   "language": "python",
   "name": "python3"
  },
  "language_info": {
   "codemirror_mode": {
    "name": "ipython",
    "version": 3
   },
   "file_extension": ".py",
   "mimetype": "text/x-python",
   "name": "python",
   "nbconvert_exporter": "python",
   "pygments_lexer": "ipython3",
   "version": "3.13.4"
  }
 },
 "nbformat": 4,
 "nbformat_minor": 5
}
