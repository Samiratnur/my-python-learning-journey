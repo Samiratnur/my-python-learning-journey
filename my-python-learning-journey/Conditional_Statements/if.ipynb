{
 "cells": [
  {
   "cell_type": "code",
   "execution_count": 1,
   "id": "40bc6eff",
   "metadata": {},
   "outputs": [
    {
     "name": "stdout",
     "output_type": "stream",
     "text": [
      "a is graeter than b\n"
     ]
    }
   ],
   "source": [
    "a=43\n",
    "b=34\n",
    "if a>b:\n",
    "    print(\"a is graeter than b\")\n",
    "    "
   ]
  },
  {
   "cell_type": "code",
   "execution_count": 2,
   "id": "7472d718",
   "metadata": {},
   "outputs": [
    {
     "name": "stdout",
     "output_type": "stream",
     "text": [
      "yess\n"
     ]
    }
   ],
   "source": [
    "#and\n",
    "a=32\n",
    "b=54\n",
    "if(\"a>b\"):\n",
    "    print(\"yess\")\n",
    "    \n"
   ]
  },
  {
   "cell_type": "code",
   "execution_count": 3,
   "id": "63ea923f",
   "metadata": {},
   "outputs": [],
   "source": [
    "#pass\n",
    "a=33\n",
    "b=54\n",
    "if b>a:\n",
    "    pass"
   ]
  },
  {
   "cell_type": "code",
   "execution_count": null,
   "id": "24a2b038",
   "metadata": {},
   "outputs": [],
   "source": [
    "#1. Check if a number is positive\n",
    "num = 5\n",
    "if num > 0:\n",
    "    print(\"Positive number\")\n"
   ]
  },
  {
   "cell_type": "code",
   "execution_count": 1,
   "id": "c97705d3",
   "metadata": {},
   "outputs": [
    {
     "name": "stdout",
     "output_type": "stream",
     "text": [
      "Negative number\n"
     ]
    }
   ],
   "source": [
    "#2. Check if a number is negative\n",
    "num = -8\n",
    "if num < 0:\n",
    "    print(\"Negative number\")\n"
   ]
  },
  {
   "cell_type": "code",
   "execution_count": 2,
   "id": "19757a83",
   "metadata": {},
   "outputs": [
    {
     "name": "stdout",
     "output_type": "stream",
     "text": [
      "Number is zero\n"
     ]
    }
   ],
   "source": [
    "#3. Check if a number is zero\n",
    "num = 0\n",
    "if num == 0:\n",
    "    print(\"Number is zero\")\n"
   ]
  },
  {
   "cell_type": "code",
   "execution_count": 3,
   "id": "935a3345",
   "metadata": {},
   "outputs": [
    {
     "name": "stdout",
     "output_type": "stream",
     "text": [
      "You are an adult\n"
     ]
    }
   ],
   "source": [
    "#4. Check if a person is adult\n",
    "age = 18\n",
    "if age >= 18:\n",
    "    print(\"You are an adult\")\n"
   ]
  },
  {
   "cell_type": "code",
   "execution_count": 4,
   "id": "6cfe7f72",
   "metadata": {},
   "outputs": [
    {
     "name": "stdout",
     "output_type": "stream",
     "text": [
      "Even number\n"
     ]
    }
   ],
   "source": [
    "#5. Check if a number is even\n",
    "num = 10\n",
    "if num % 2 == 0:\n",
    "    print(\"Even number\")\n"
   ]
  },
  {
   "cell_type": "code",
   "execution_count": 5,
   "id": "e5672c37",
   "metadata": {},
   "outputs": [
    {
     "name": "stdout",
     "output_type": "stream",
     "text": [
      "Odd number\n"
     ]
    }
   ],
   "source": [
    "#6. Check if a number is odd\n",
    "num = 9\n",
    "if num % 2 != 0:\n",
    "    print(\"Odd number\")\n"
   ]
  },
  {
   "cell_type": "code",
   "execution_count": 6,
   "id": "fe2bb5f5",
   "metadata": {},
   "outputs": [
    {
     "name": "stdout",
     "output_type": "stream",
     "text": [
      "Pass\n"
     ]
    }
   ],
   "source": [
    "#7. Check if a student passed\n",
    "marks = 45\n",
    "if marks >= 40:\n",
    "    print(\"Pass\")\n"
   ]
  },
  {
   "cell_type": "code",
   "execution_count": 7,
   "id": "07dbade1",
   "metadata": {},
   "outputs": [
    {
     "name": "stdout",
     "output_type": "stream",
     "text": [
      "Take an umbrella ☔\n"
     ]
    }
   ],
   "source": [
    "#8. Check if it’s raining\n",
    "is_raining = True\n",
    "if is_raining:\n",
    "    print(\"Take an umbrella ☔\")\n",
    "\n"
   ]
  },
  {
   "cell_type": "code",
   "execution_count": 8,
   "id": "ab3a91df",
   "metadata": {},
   "outputs": [
    {
     "name": "stdout",
     "output_type": "stream",
     "text": [
      "Access Granted\n"
     ]
    }
   ],
   "source": [
    "#9. Check if user entered correct password\n",
    "password = \"admin123\"\n",
    "if password == \"admin123\":\n",
    "    print(\"Access Granted\")\n"
   ]
  },
  {
   "cell_type": "code",
   "execution_count": 9,
   "id": "a74c034b",
   "metadata": {},
   "outputs": [
    {
     "name": "stdout",
     "output_type": "stream",
     "text": [
      "Word starts with P\n"
     ]
    }
   ],
   "source": [
    "#10. Check if string starts with specific letter\n",
    "word = \"Python\"\n",
    "if word[0] == 'P':\n",
    "    print(\"Word starts with P\")\n"
   ]
  },
  {
   "cell_type": "code",
   "execution_count": 10,
   "id": "283bb1ed",
   "metadata": {},
   "outputs": [
    {
     "name": "stdout",
     "output_type": "stream",
     "text": [
      "Number is big\n"
     ]
    }
   ],
   "source": [
    "#11. Check if number is greater than 100\n",
    "num = 150\n",
    "if num > 100:\n",
    "    print(\"Number is big\")\n"
   ]
  },
  {
   "cell_type": "code",
   "execution_count": 11,
   "id": "e3919e32",
   "metadata": {},
   "outputs": [
    {
     "name": "stdout",
     "output_type": "stream",
     "text": [
      "You can vote 🗳️\n"
     ]
    }
   ],
   "source": [
    "#12. Check if user is eligible to vote\n",
    "age = 20\n",
    "if age >= 18:\n",
    "    print(\"You can vote 🗳️\")\n"
   ]
  },
  {
   "cell_type": "code",
   "execution_count": 12,
   "id": "f95280bd",
   "metadata": {},
   "outputs": [
    {
     "name": "stdout",
     "output_type": "stream",
     "text": [
      "It's hot outside ☀️\n"
     ]
    }
   ],
   "source": [
    "#13. Check if temperature is hot\n",
    "temp = 35\n",
    "if temp > 30:\n",
    "    print(\"It's hot outside ☀️\")\n"
   ]
  },
  {
   "cell_type": "code",
   "execution_count": 13,
   "id": "35fadea6",
   "metadata": {},
   "outputs": [
    {
     "name": "stdout",
     "output_type": "stream",
     "text": [
      "Multiple of 5\n"
     ]
    }
   ],
   "source": [
    "#14. Check if a number is multiple of 5\n",
    "num = 25\n",
    "if num % 5 == 0:\n",
    "    print(\"Multiple of 5\")\n"
   ]
  },
  {
   "cell_type": "code",
   "execution_count": 14,
   "id": "3a064db2",
   "metadata": {},
   "outputs": [
    {
     "name": "stdout",
     "output_type": "stream",
     "text": [
      "Uppercase letter\n"
     ]
    }
   ],
   "source": [
    "#15. Check if user entered capital letter\n",
    "ch = 'A'\n",
    "if ch.isupper():\n",
    "    print(\"Uppercase letter\")\n"
   ]
  },
  {
   "cell_type": "code",
   "execution_count": 1,
   "id": "21834162",
   "metadata": {},
   "outputs": [
    {
     "name": "stdout",
     "output_type": "stream",
     "text": [
      "Lowercase letter\n"
     ]
    }
   ],
   "source": [
    "#16. Check if user entered small letter\n",
    "ch = 'b'\n",
    "if ch.islower():\n",
    "    print(\"Lowercase letter\")\n"
   ]
  },
  {
   "cell_type": "code",
   "execution_count": 2,
   "id": "845c09f5",
   "metadata": {},
   "outputs": [
    {
     "name": "stdout",
     "output_type": "stream",
     "text": [
      "Number is within range\n"
     ]
    }
   ],
   "source": [
    "#17. Check if a number is in range 1–10\n",
    "num = 7\n",
    "if 1 <= num <= 10:\n",
    "    print(\"Number is within range\")\n"
   ]
  },
  {
   "cell_type": "code",
   "execution_count": 3,
   "id": "5e7c0769",
   "metadata": {},
   "outputs": [
    {
     "name": "stdout",
     "output_type": "stream",
     "text": [
      "Found the word python\n"
     ]
    }
   ],
   "source": [
    "#18. Check if string contains “python”\n",
    "text = \"I am learning python\"\n",
    "if \"python\" in text:\n",
    "    print(\"Found the word python\")\n"
   ]
  },
  {
   "cell_type": "code",
   "execution_count": 4,
   "id": "afa82b82",
   "metadata": {},
   "outputs": [
    {
     "name": "stdout",
     "output_type": "stream",
     "text": [
      "Divisible by 3\n"
     ]
    }
   ],
   "source": [
    "#19. Check if given number is divisible by 3\n",
    "num = 9\n",
    "if num % 3 == 0:\n",
    "    print(\"Divisible by 3\")\n"
   ]
  },
  {
   "cell_type": "code",
   "execution_count": 5,
   "id": "b6b3fbaf",
   "metadata": {},
   "outputs": [
    {
     "name": "stdout",
     "output_type": "stream",
     "text": [
      "It's a text file\n"
     ]
    }
   ],
   "source": [
    "#20. Check if file has .txt extension\n",
    "filename = \"notes.txt\"\n",
    "if filename.endswith(\".txt\"):\n",
    "    print(\"It's a text file\")\n"
   ]
  },
  {
   "cell_type": "code",
   "execution_count": 6,
   "id": "fe114132",
   "metadata": {},
   "outputs": [
    {
     "name": "stdout",
     "output_type": "stream",
     "text": [
      "Valid username\n"
     ]
    }
   ],
   "source": [
    "#21. Check if username length is valid\n",
    "username = \"samir123\"\n",
    "if len(username) >= 5:\n",
    "    print(\"Valid username\")\n"
   ]
  },
  {
   "cell_type": "code",
   "execution_count": 7,
   "id": "132da8e8",
   "metadata": {},
   "outputs": [
    {
     "name": "stdout",
     "output_type": "stream",
     "text": [
      "Valid mobile number\n"
     ]
    }
   ],
   "source": [
    "#22. Check if mobile number has 10 digits\n",
    "mobile = \"9876543210\"\n",
    "if len(mobile) == 10:\n",
    "    print(\"Valid mobile number\")\n"
   ]
  },
  {
   "cell_type": "code",
   "execution_count": 8,
   "id": "7c8939c2",
   "metadata": {},
   "outputs": [
    {
     "name": "stdout",
     "output_type": "stream",
     "text": [
      "Strong password (symbol found)\n"
     ]
    }
   ],
   "source": [
    "#23. Check if password contains @ symbol\n",
    "password = \"abc@123\"\n",
    "if \"@\" in password:\n",
    "    print(\"Strong password (symbol found)\")\n"
   ]
  },
  {
   "cell_type": "code",
   "execution_count": 9,
   "id": "ce86d50f",
   "metadata": {},
   "outputs": [
    {
     "name": "stdout",
     "output_type": "stream",
     "text": [
      "Palindrome word\n"
     ]
    }
   ],
   "source": [
    "#24. Check if a given word is palindrome\n",
    "word = \"madam\"\n",
    "if word == word[::-1]:\n",
    "    print(\"Palindrome word\")\n"
   ]
  },
  {
   "cell_type": "code",
   "execution_count": 1,
   "id": "dc4a19f4",
   "metadata": {},
   "outputs": [
    {
     "name": "stdout",
     "output_type": "stream",
     "text": [
      "Distinction 🏆\n"
     ]
    }
   ],
   "source": [
    "#25. Check if student got distinction\n",
    "marks = 85\n",
    "if marks >= 75:\n",
    "    print(\"Distinction 🏆\")\n"
   ]
  },
  {
   "cell_type": "code",
   "execution_count": 2,
   "id": "1d5a2867",
   "metadata": {},
   "outputs": [
    {
     "name": "stdout",
     "output_type": "stream",
     "text": [
      "Three-digit number\n"
     ]
    }
   ],
   "source": [
    "#26. Check if number is three-digit\n",
    "num = 345\n",
    "if 100 <= num <= 999:\n",
    "    print(\"Three-digit number\")\n"
   ]
  },
  {
   "cell_type": "code",
   "execution_count": 3,
   "id": "88cec9fd",
   "metadata": {},
   "outputs": [
    {
     "name": "stdout",
     "output_type": "stream",
     "text": [
      "Number ends with 5\n"
     ]
    }
   ],
   "source": [
    "#27. Check if number ends with digit 5\n",
    "num = 245\n",
    "if num % 10 == 5:\n",
    "    print(\"Number ends with 5\")\n"
   ]
  },
  {
   "cell_type": "code",
   "execution_count": 1,
   "id": "7140fd11",
   "metadata": {},
   "outputs": [
    {
     "name": "stdout",
     "output_type": "stream",
     "text": [
      "Name contains letter 'a'\n"
     ]
    }
   ],
   "source": [
    "#28. Check if name contains letter ‘a’\n",
    "name = \"Ramesh\"\n",
    "if 'a' in name.lower():\n",
    "    print(\"Name contains letter 'a'\")\n"
   ]
  },
  {
   "cell_type": "code",
   "execution_count": 2,
   "id": "31ff6b5a",
   "metadata": {},
   "outputs": [
    {
     "name": "stdout",
     "output_type": "stream",
     "text": [
      "Eligible for scholarship 🎓\n"
     ]
    }
   ],
   "source": [
    "#29. Check if marks greater than 90 for scholarship\n",
    "marks = 92\n",
    "if marks > 90:\n",
    "    print(\"Eligible for scholarship 🎓\")\n"
   ]
  },
  {
   "cell_type": "code",
   "execution_count": 3,
   "id": "87445130",
   "metadata": {},
   "outputs": [
    {
     "name": "stdout",
     "output_type": "stream",
     "text": [
      "Weekend! 😎\n"
     ]
    }
   ],
   "source": [
    "#30. Check if today is weekend\n",
    "day = \"Sunday\"\n",
    "if day.lower() in [\"saturday\", \"sunday\"]:\n",
    "    print(\"Weekend! 😎\")\n"
   ]
  },
  {
   "cell_type": "code",
   "execution_count": null,
   "id": "d1d83f6f",
   "metadata": {},
   "outputs": [],
   "source": [
    "#"
   ]
  }
 ],
 "metadata": {
  "kernelspec": {
   "display_name": "Python 3.11 (jupyter_env)",
   "language": "python",
   "name": "jupyter_env"
  },
  "language_info": {
   "codemirror_mode": {
    "name": "ipython",
    "version": 3
   },
   "file_extension": ".py",
   "mimetype": "text/x-python",
   "name": "python",
   "nbconvert_exporter": "python",
   "pygments_lexer": "ipython3",
   "version": "3.13.4"
  }
 },
 "nbformat": 4,
 "nbformat_minor": 5
}
