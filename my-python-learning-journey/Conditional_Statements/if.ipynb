{
 "cells": [
  {
   "cell_type": "code",
   "execution_count": 1,
   "id": "40bc6eff",
   "metadata": {},
   "outputs": [
    {
     "name": "stdout",
     "output_type": "stream",
     "text": [
      "a is graeter than b\n"
     ]
    }
   ],
   "source": [
    "a=43\n",
    "b=34\n",
    "if a>b:\n",
    "    print(\"a is graeter than b\")\n",
    "    "
   ]
  },
  {
   "cell_type": "code",
   "execution_count": 2,
   "id": "7472d718",
   "metadata": {},
   "outputs": [
    {
     "name": "stdout",
     "output_type": "stream",
     "text": [
      "yess\n"
     ]
    }
   ],
   "source": [
    "#and\n",
    "a=32\n",
    "b=54\n",
    "if(\"a>b\"):\n",
    "    print(\"yess\")\n",
    "    \n"
   ]
  },
  {
   "cell_type": "code",
   "execution_count": 3,
   "id": "63ea923f",
   "metadata": {},
   "outputs": [],
   "source": [
    "#pass\n",
    "a=33\n",
    "b=54\n",
    "if b>a:\n",
    "    pass"
   ]
  },
  {
   "cell_type": "code",
   "execution_count": null,
   "id": "24a2b038",
   "metadata": {},
   "outputs": [],
   "source": [
    "#1. Check if a number is positive\n",
    "num = 5\n",
    "if num > 0:\n",
    "    print(\"Positive number\")\n"
   ]
  },
  {
   "cell_type": "code",
   "execution_count": 1,
   "id": "c97705d3",
   "metadata": {},
   "outputs": [
    {
     "name": "stdout",
     "output_type": "stream",
     "text": [
      "Negative number\n"
     ]
    }
   ],
   "source": [
    "#2. Check if a number is negative\n",
    "num = -8\n",
    "if num < 0:\n",
    "    print(\"Negative number\")\n"
   ]
  },
  {
   "cell_type": "code",
   "execution_count": 2,
   "id": "19757a83",
   "metadata": {},
   "outputs": [
    {
     "name": "stdout",
     "output_type": "stream",
     "text": [
      "Number is zero\n"
     ]
    }
   ],
   "source": [
    "#3. Check if a number is zero\n",
    "num = 0\n",
    "if num == 0:\n",
    "    print(\"Number is zero\")\n"
   ]
  },
  {
   "cell_type": "code",
   "execution_count": null,
   "id": "935a3345",
   "metadata": {},
   "outputs": [],
   "source": [
    "#"
   ]
  }
 ],
 "metadata": {
  "kernelspec": {
   "display_name": "Python 3.11 (jupyter_env)",
   "language": "python",
   "name": "jupyter_env"
  },
  "language_info": {
   "codemirror_mode": {
    "name": "ipython",
    "version": 3
   },
   "file_extension": ".py",
   "mimetype": "text/x-python",
   "name": "python",
   "nbconvert_exporter": "python",
   "pygments_lexer": "ipython3",
   "version": "3.13.4"
  }
 },
 "nbformat": 4,
 "nbformat_minor": 5
}
