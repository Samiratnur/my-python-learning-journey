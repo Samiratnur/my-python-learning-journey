{
 "cells": [
  {
   "cell_type": "code",
   "execution_count": 1,
   "id": "178bf30a",
   "metadata": {},
   "outputs": [
    {
     "name": "stdout",
     "output_type": "stream",
     "text": [
      "a ye 78 se chota hai aur 20 se bada hai\n",
      "yes\n"
     ]
    }
   ],
   "source": [
    "a=78\n",
    "b=23\n",
    "if(\"a>45\" and \"20<a\"):\n",
    "    print(\"a ye 78 se chota hai aur 20 se bada hai\")\n",
    "    if(\"if!=a\"):\n",
    "        print(\"yes\")\n",
    "    else:\n",
    "        print(\"ye to galat hai\")\n",
    "        \n",
    "    \n"
   ]
  },
  {
   "cell_type": "code",
   "execution_count": 2,
   "id": "e833af49",
   "metadata": {},
   "outputs": [
    {
     "name": "stdout",
     "output_type": "stream",
     "text": [
      "True\n"
     ]
    }
   ],
   "source": [
    "a=(input('Enter a number'))\n",
    "if(\"a==39\"):\n",
    "    print(\"True\")\n",
    "else:\n",
    "    print(\"False\")\n",
    "    "
   ]
  },
  {
   "cell_type": "code",
   "execution_count": 3,
   "id": "a86ac2a4",
   "metadata": {},
   "outputs": [
    {
     "ename": "ValueError",
     "evalue": "invalid literal for int() with base 10: ''",
     "output_type": "error",
     "traceback": [
      "\u001b[31m---------------------------------------------------------------------------\u001b[39m",
      "\u001b[31mValueError\u001b[39m                                Traceback (most recent call last)",
      "\u001b[36mCell\u001b[39m\u001b[36m \u001b[39m\u001b[32mIn[3]\u001b[39m\u001b[32m, line 2\u001b[39m\n\u001b[32m      1\u001b[39m age1=\u001b[32m90\u001b[39m\n\u001b[32m----> \u001b[39m\u001b[32m2\u001b[39m age2=\u001b[38;5;28;43mint\u001b[39;49m\u001b[43m(\u001b[49m\u001b[38;5;28;43minput\u001b[39;49m\u001b[43m(\u001b[49m\u001b[33;43m'\u001b[39;49m\u001b[33;43mEnter a age\u001b[39;49m\u001b[33;43m'\u001b[39;49m\u001b[43m)\u001b[49m\u001b[43m)\u001b[49m\n\u001b[32m      3\u001b[39m \u001b[38;5;28;01mif\u001b[39;00m y>a:\n\u001b[32m      4\u001b[39m    \u001b[38;5;28mprint\u001b[39m(\u001b[33m\"\u001b[39m\u001b[33mage is greter than 90\u001b[39m\u001b[33m\"\u001b[39m)\n",
      "\u001b[31mValueError\u001b[39m: invalid literal for int() with base 10: ''"
     ]
    }
   ],
   "source": [
    "age1=90\n",
    "age2=int(input('Enter a age'))\n",
    "if y>a:\n",
    "   print(\"age is greter than 90\")\n",
    "else:\n",
    "   print(\"age is lesser than 90\")\n",
    "\n"
   ]
  },
  {
   "cell_type": "code",
   "execution_count": null,
   "id": "840043fb",
   "metadata": {},
   "outputs": [],
   "source": [
    "a=400\n",
    "b=200\n",
    "c=100\n",
    "if a<b and b>c:\n",
    "    print(\"both condition is true\")\n",
    "else:\n",
    "    print(\"at is on\")"
   ]
  },
  {
   "cell_type": "code",
   "execution_count": null,
   "id": "0b24c43c",
   "metadata": {},
   "outputs": [],
   "source": [
    "a=400\n",
    "b=500\n",
    "c=54\n",
    "if(a>b or b<c):\n",
    "    print('At list one condion is ture')\n",
    "else:\n",
    "    print('ye false hai')\n",
    "    "
   ]
  },
  {
   "cell_type": "code",
   "execution_count": 4,
   "id": "6b767d8b",
   "metadata": {},
   "outputs": [
    {
     "name": "stdout",
     "output_type": "stream",
     "text": [
      "a is greater than b\n"
     ]
    }
   ],
   "source": [
    "#not\n",
    "a=33\n",
    "b=54\n",
    "if not a<b:\n",
    "    print(\"a not greater than b\")\n",
    "else:\n",
    "    print (\"a is greater than b\")\n"
   ]
  },
  {
   "cell_type": "code",
   "execution_count": 5,
   "id": "e99ac92b",
   "metadata": {},
   "outputs": [
    {
     "ename": "ValueError",
     "evalue": "invalid literal for int() with base 10: ''",
     "output_type": "error",
     "traceback": [
      "\u001b[31m---------------------------------------------------------------------------\u001b[39m",
      "\u001b[31mValueError\u001b[39m                                Traceback (most recent call last)",
      "\u001b[36mCell\u001b[39m\u001b[36m \u001b[39m\u001b[32mIn[5]\u001b[39m\u001b[32m, line 2\u001b[39m\n\u001b[32m      1\u001b[39m \u001b[38;5;66;03m#small if else program\u001b[39;00m\n\u001b[32m----> \u001b[39m\u001b[32m2\u001b[39m a=\u001b[38;5;28;43mint\u001b[39;49m\u001b[43m(\u001b[49m\u001b[38;5;28;43minput\u001b[39;49m\u001b[43m(\u001b[49m\u001b[33;43m\"\u001b[39;49m\u001b[33;43mEnter a Number\u001b[39;49m\u001b[33;43m\"\u001b[39;49m\u001b[43m)\u001b[49m\u001b[43m)\u001b[49m\n\u001b[32m      3\u001b[39m \u001b[38;5;28mprint\u001b[39m(\u001b[33m\"\u001b[39m\u001b[33mYour age is:\u001b[39m\u001b[33m\"\u001b[39m,a)\n\u001b[32m      4\u001b[39m \u001b[38;5;28;01mif\u001b[39;00m a>\u001b[32m18\u001b[39m:\n",
      "\u001b[31mValueError\u001b[39m: invalid literal for int() with base 10: ''"
     ]
    }
   ],
   "source": [
    "#small if else program\n",
    "a=int(input(\"Enter a Number\"))\n",
    "print(\"Your age is:\",a)\n",
    "if a>18:\n",
    "    print(\"yes you can drive\")\n",
    "else:\n",
    "    print(\"wait for the licence\")"
   ]
  },
  {
   "cell_type": "code",
   "execution_count": null,
   "id": "1b0972ef",
   "metadata": {},
   "outputs": [],
   "source": [
    "#bargening lists \n",
    "apples=310\n",
    "baget=300\n",
    "if(apples<=baget):\n",
    "    print(\"Alexa,add 1 kg apples to car\")\n",
    "else:\n",
    "    print(\"Alexa, do not get apples in the cart\")"
   ]
  },
  {
   "cell_type": "code",
   "execution_count": 6,
   "id": "0d2d4eed",
   "metadata": {},
   "outputs": [
    {
     "ename": "ValueError",
     "evalue": "invalid literal for int() with base 10: ''",
     "output_type": "error",
     "traceback": [
      "\u001b[31m---------------------------------------------------------------------------\u001b[39m",
      "\u001b[31mValueError\u001b[39m                                Traceback (most recent call last)",
      "\u001b[36mCell\u001b[39m\u001b[36m \u001b[39m\u001b[32mIn[6]\u001b[39m\u001b[32m, line 2\u001b[39m\n\u001b[32m      1\u001b[39m \u001b[38;5;66;03m#%%\u001b[39;00m\n\u001b[32m----> \u001b[39m\u001b[32m2\u001b[39m num=\u001b[38;5;28;43mint\u001b[39;49m\u001b[43m \u001b[49m\u001b[43m(\u001b[49m\u001b[38;5;28;43minput\u001b[39;49m\u001b[43m(\u001b[49m\u001b[33;43m\"\u001b[39;49m\u001b[33;43menter an number\u001b[39;49m\u001b[33;43m\"\u001b[39;49m\u001b[43m)\u001b[49m\u001b[43m)\u001b[49m\n\u001b[32m      3\u001b[39m \u001b[38;5;28;01mif\u001b[39;00m num%\u001b[32m2\u001b[39m==\u001b[32m0\u001b[39m:\n\u001b[32m      4\u001b[39m     \u001b[38;5;28mprint\u001b[39m(\u001b[33m\"\u001b[39m\u001b[33mthe given number is even\u001b[39m\u001b[33m\"\u001b[39m)\n",
      "\u001b[31mValueError\u001b[39m: invalid literal for int() with base 10: ''"
     ]
    }
   ],
   "source": [
    "#%%\n",
    "num=int (input(\"enter an number\"))\n",
    "if num%2==0:\n",
    "    print(\"the given number is even\")\n",
    "else:\n",
    "    print(\"the given is a odd\")"
   ]
  },
  {
   "cell_type": "code",
   "execution_count": null,
   "id": "6eddf975",
   "metadata": {},
   "outputs": [],
   "source": []
  }
 ],
 "metadata": {
  "kernelspec": {
   "display_name": "Python 3",
   "language": "python",
   "name": "python3"
  },
  "language_info": {
   "codemirror_mode": {
    "name": "ipython",
    "version": 3
   },
   "file_extension": ".py",
   "mimetype": "text/x-python",
   "name": "python",
   "nbconvert_exporter": "python",
   "pygments_lexer": "ipython3",
   "version": "3.13.4"
  }
 },
 "nbformat": 4,
 "nbformat_minor": 5
}
