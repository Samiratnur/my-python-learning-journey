{
 "cells": [
  {
   "cell_type": "code",
   "execution_count": 1,
   "id": "178bf30a",
   "metadata": {},
   "outputs": [
    {
     "name": "stdout",
     "output_type": "stream",
     "text": [
      "a ye 78 se chota hai aur 20 se bada hai\n",
      "yes\n"
     ]
    }
   ],
   "source": [
    "a=78\n",
    "b=23\n",
    "if(\"a>45\" and \"20<a\"):\n",
    "    print(\"a ye 78 se chota hai aur 20 se bada hai\")\n",
    "    if(\"if!=a\"):\n",
    "        print(\"yes\")\n",
    "    else:\n",
    "        print(\"ye to galat hai\")\n",
    "        \n",
    "    \n"
   ]
  },
  {
   "cell_type": "code",
   "execution_count": 2,
   "id": "e833af49",
   "metadata": {},
   "outputs": [
    {
     "name": "stdout",
     "output_type": "stream",
     "text": [
      "True\n"
     ]
    }
   ],
   "source": [
    "a=(input('Enter a number'))\n",
    "if(\"a==39\"):\n",
    "    print(\"True\")\n",
    "else:\n",
    "    print(\"False\")\n",
    "    "
   ]
  },
  {
   "cell_type": "code",
   "execution_count": 3,
   "id": "a86ac2a4",
   "metadata": {},
   "outputs": [
    {
     "ename": "ValueError",
     "evalue": "invalid literal for int() with base 10: ''",
     "output_type": "error",
     "traceback": [
      "\u001b[31m---------------------------------------------------------------------------\u001b[39m",
      "\u001b[31mValueError\u001b[39m                                Traceback (most recent call last)",
      "\u001b[36mCell\u001b[39m\u001b[36m \u001b[39m\u001b[32mIn[3]\u001b[39m\u001b[32m, line 2\u001b[39m\n\u001b[32m      1\u001b[39m age1=\u001b[32m90\u001b[39m\n\u001b[32m----> \u001b[39m\u001b[32m2\u001b[39m age2=\u001b[38;5;28;43mint\u001b[39;49m\u001b[43m(\u001b[49m\u001b[38;5;28;43minput\u001b[39;49m\u001b[43m(\u001b[49m\u001b[33;43m'\u001b[39;49m\u001b[33;43mEnter a age\u001b[39;49m\u001b[33;43m'\u001b[39;49m\u001b[43m)\u001b[49m\u001b[43m)\u001b[49m\n\u001b[32m      3\u001b[39m \u001b[38;5;28;01mif\u001b[39;00m y>a:\n\u001b[32m      4\u001b[39m    \u001b[38;5;28mprint\u001b[39m(\u001b[33m\"\u001b[39m\u001b[33mage is greter than 90\u001b[39m\u001b[33m\"\u001b[39m)\n",
      "\u001b[31mValueError\u001b[39m: invalid literal for int() with base 10: ''"
     ]
    }
   ],
   "source": [
    "age1=90\n",
    "age2=int(input('Enter a age'))\n",
    "if y>a:\n",
    "   print(\"age is greter than 90\")\n",
    "else:\n",
    "   print(\"age is lesser than 90\")\n",
    "\n"
   ]
  },
  {
   "cell_type": "code",
   "execution_count": null,
   "id": "840043fb",
   "metadata": {},
   "outputs": [],
   "source": [
    "a=400\n",
    "b=200\n",
    "c=100\n",
    "if a<b and b>c:\n",
    "    print(\"both condition is true\")\n",
    "else:\n",
    "    print(\"at is on\")"
   ]
  },
  {
   "cell_type": "code",
   "execution_count": null,
   "id": "0b24c43c",
   "metadata": {},
   "outputs": [],
   "source": [
    "a=400\n",
    "b=500\n",
    "c=54\n",
    "if(a>b or b<c):\n",
    "    print('At list one condion is ture')\n",
    "else:\n",
    "    print('ye false hai')\n",
    "    "
   ]
  },
  {
   "cell_type": "code",
   "execution_count": 4,
   "id": "6b767d8b",
   "metadata": {},
   "outputs": [
    {
     "name": "stdout",
     "output_type": "stream",
     "text": [
      "a is greater than b\n"
     ]
    }
   ],
   "source": [
    "#not\n",
    "a=33\n",
    "b=54\n",
    "if not a<b:\n",
    "    print(\"a not greater than b\")\n",
    "else:\n",
    "    print (\"a is greater than b\")\n"
   ]
  },
  {
   "cell_type": "code",
   "execution_count": 5,
   "id": "e99ac92b",
   "metadata": {},
   "outputs": [
    {
     "ename": "ValueError",
     "evalue": "invalid literal for int() with base 10: ''",
     "output_type": "error",
     "traceback": [
      "\u001b[31m---------------------------------------------------------------------------\u001b[39m",
      "\u001b[31mValueError\u001b[39m                                Traceback (most recent call last)",
      "\u001b[36mCell\u001b[39m\u001b[36m \u001b[39m\u001b[32mIn[5]\u001b[39m\u001b[32m, line 2\u001b[39m\n\u001b[32m      1\u001b[39m \u001b[38;5;66;03m#small if else program\u001b[39;00m\n\u001b[32m----> \u001b[39m\u001b[32m2\u001b[39m a=\u001b[38;5;28;43mint\u001b[39;49m\u001b[43m(\u001b[49m\u001b[38;5;28;43minput\u001b[39;49m\u001b[43m(\u001b[49m\u001b[33;43m\"\u001b[39;49m\u001b[33;43mEnter a Number\u001b[39;49m\u001b[33;43m\"\u001b[39;49m\u001b[43m)\u001b[49m\u001b[43m)\u001b[49m\n\u001b[32m      3\u001b[39m \u001b[38;5;28mprint\u001b[39m(\u001b[33m\"\u001b[39m\u001b[33mYour age is:\u001b[39m\u001b[33m\"\u001b[39m,a)\n\u001b[32m      4\u001b[39m \u001b[38;5;28;01mif\u001b[39;00m a>\u001b[32m18\u001b[39m:\n",
      "\u001b[31mValueError\u001b[39m: invalid literal for int() with base 10: ''"
     ]
    }
   ],
   "source": [
    "#small if else program\n",
    "a=int(input(\"Enter a Number\"))\n",
    "print(\"Your age is:\",a)\n",
    "if a>18:\n",
    "    print(\"yes you can drive\")\n",
    "else:\n",
    "    print(\"wait for the licence\")"
   ]
  },
  {
   "cell_type": "code",
   "execution_count": null,
   "id": "1b0972ef",
   "metadata": {},
   "outputs": [],
   "source": [
    "#bargening lists \n",
    "apples=310\n",
    "baget=300\n",
    "if(apples<=baget):\n",
    "    print(\"Alexa,add 1 kg apples to car\")\n",
    "else:\n",
    "    print(\"Alexa, do not get apples in the cart\")"
   ]
  },
  {
   "cell_type": "code",
   "execution_count": 6,
   "id": "0d2d4eed",
   "metadata": {},
   "outputs": [
    {
     "ename": "ValueError",
     "evalue": "invalid literal for int() with base 10: ''",
     "output_type": "error",
     "traceback": [
      "\u001b[31m---------------------------------------------------------------------------\u001b[39m",
      "\u001b[31mValueError\u001b[39m                                Traceback (most recent call last)",
      "\u001b[36mCell\u001b[39m\u001b[36m \u001b[39m\u001b[32mIn[6]\u001b[39m\u001b[32m, line 2\u001b[39m\n\u001b[32m      1\u001b[39m \u001b[38;5;66;03m#%%\u001b[39;00m\n\u001b[32m----> \u001b[39m\u001b[32m2\u001b[39m num=\u001b[38;5;28;43mint\u001b[39;49m\u001b[43m \u001b[49m\u001b[43m(\u001b[49m\u001b[38;5;28;43minput\u001b[39;49m\u001b[43m(\u001b[49m\u001b[33;43m\"\u001b[39;49m\u001b[33;43menter an number\u001b[39;49m\u001b[33;43m\"\u001b[39;49m\u001b[43m)\u001b[49m\u001b[43m)\u001b[49m\n\u001b[32m      3\u001b[39m \u001b[38;5;28;01mif\u001b[39;00m num%\u001b[32m2\u001b[39m==\u001b[32m0\u001b[39m:\n\u001b[32m      4\u001b[39m     \u001b[38;5;28mprint\u001b[39m(\u001b[33m\"\u001b[39m\u001b[33mthe given number is even\u001b[39m\u001b[33m\"\u001b[39m)\n",
      "\u001b[31mValueError\u001b[39m: invalid literal for int() with base 10: ''"
     ]
    }
   ],
   "source": [
    "#%%\n",
    "num=int (input(\"enter an number\"))\n",
    "if num%2==0:\n",
    "    print(\"the given number is even\")\n",
    "else:\n",
    "    print(\"the given is a odd\")"
   ]
  },
  {
   "cell_type": "code",
   "execution_count": null,
   "id": "6eddf975",
   "metadata": {},
   "outputs": [],
   "source": [
    "#1. Check if a number is positive or negative\n",
    "num = int(input(\"Enter a number: \"))\n",
    "if num >= 0:\n",
    "    print(\"Positive\")\n",
    "else:\n",
    "    print(\"Negative\")\n"
   ]
  },
  {
   "cell_type": "code",
   "execution_count": 1,
   "id": "0cd7cb35",
   "metadata": {},
   "outputs": [
    {
     "ename": "ValueError",
     "evalue": "invalid literal for int() with base 10: ''",
     "output_type": "error",
     "traceback": [
      "\u001b[31m---------------------------------------------------------------------------\u001b[39m",
      "\u001b[31mValueError\u001b[39m                                Traceback (most recent call last)",
      "\u001b[36mCell\u001b[39m\u001b[36m \u001b[39m\u001b[32mIn[1]\u001b[39m\u001b[32m, line 2\u001b[39m\n\u001b[32m      1\u001b[39m \u001b[38;5;66;03m#2. Check even or odd\u001b[39;00m\n\u001b[32m----> \u001b[39m\u001b[32m2\u001b[39m num = \u001b[38;5;28;43mint\u001b[39;49m\u001b[43m(\u001b[49m\u001b[38;5;28;43minput\u001b[39;49m\u001b[43m(\u001b[49m\u001b[33;43m\"\u001b[39;49m\u001b[33;43mEnter a number: \u001b[39;49m\u001b[33;43m\"\u001b[39;49m\u001b[43m)\u001b[49m\u001b[43m)\u001b[49m\n\u001b[32m      3\u001b[39m \u001b[38;5;28;01mif\u001b[39;00m num % \u001b[32m2\u001b[39m == \u001b[32m0\u001b[39m:\n\u001b[32m      4\u001b[39m     \u001b[38;5;28mprint\u001b[39m(\u001b[33m\"\u001b[39m\u001b[33mEven\u001b[39m\u001b[33m\"\u001b[39m)\n",
      "\u001b[31mValueError\u001b[39m: invalid literal for int() with base 10: ''"
     ]
    }
   ],
   "source": [
    "#2. Check even or odd\n",
    "num = int(input(\"Enter a number: \"))\n",
    "if num % 2 == 0:\n",
    "    print(\"Even\")\n",
    "else:\n",
    "    print(\"Odd\")\n",
    "\n",
    "\n"
   ]
  },
  {
   "cell_type": "code",
   "execution_count": null,
   "id": "b5b1b14c",
   "metadata": {},
   "outputs": [],
   "source": [
    "#3. Check if a person is eligible to vote\n",
    "age = int(input(\"Enter your age: \"))\n",
    "if age >= 18:\n",
    "    print(\"Eligible to vote\")\n",
    "else:\n",
    "    print(\"Not eligible to vote\")\n"
   ]
  },
  {
   "cell_type": "code",
   "execution_count": 1,
   "id": "3ae5dbb7",
   "metadata": {},
   "outputs": [
    {
     "ename": "ValueError",
     "evalue": "invalid literal for int() with base 10: ''",
     "output_type": "error",
     "traceback": [
      "\u001b[31m---------------------------------------------------------------------------\u001b[39m",
      "\u001b[31mValueError\u001b[39m                                Traceback (most recent call last)",
      "\u001b[36mCell\u001b[39m\u001b[36m \u001b[39m\u001b[32mIn[1]\u001b[39m\u001b[32m, line 2\u001b[39m\n\u001b[32m      1\u001b[39m \u001b[38;5;66;03m#4. Find largest of two numbers\u001b[39;00m\n\u001b[32m----> \u001b[39m\u001b[32m2\u001b[39m a = \u001b[38;5;28;43mint\u001b[39;49m\u001b[43m(\u001b[49m\u001b[38;5;28;43minput\u001b[39;49m\u001b[43m(\u001b[49m\u001b[33;43m\"\u001b[39;49m\u001b[33;43mEnter first number: \u001b[39;49m\u001b[33;43m\"\u001b[39;49m\u001b[43m)\u001b[49m\u001b[43m)\u001b[49m\n\u001b[32m      3\u001b[39m b = \u001b[38;5;28mint\u001b[39m(\u001b[38;5;28minput\u001b[39m(\u001b[33m\"\u001b[39m\u001b[33mEnter second number: \u001b[39m\u001b[33m\"\u001b[39m))\n\u001b[32m      4\u001b[39m \u001b[38;5;28;01mif\u001b[39;00m a > b:\n",
      "\u001b[31mValueError\u001b[39m: invalid literal for int() with base 10: ''"
     ]
    }
   ],
   "source": [
    "#4. Find largest of two numbers\n",
    "a = int(input(\"Enter first number: \"))\n",
    "b = int(input(\"Enter second number: \"))\n",
    "if a > b:\n",
    "    print(\"Largest:\", a)\n",
    "else:\n",
    "    print(\"Largest:\", b)\n"
   ]
  },
  {
   "cell_type": "code",
   "execution_count": null,
   "id": "cf192d2f",
   "metadata": {},
   "outputs": [],
   "source": [
    "#5. Check if number is divisible by 5\n",
    "num = int(input(\"Enter a number: \"))\n",
    "if num % 5 == 0:\n",
    "    print(\"Divisible by 5\")\n",
    "else:\n",
    "    print(\"Not divisible by 5\")\n"
   ]
  },
  {
   "cell_type": "code",
   "execution_count": 2,
   "id": "1a81153a",
   "metadata": {},
   "outputs": [
    {
     "ename": "ValueError",
     "evalue": "invalid literal for int() with base 10: ''",
     "output_type": "error",
     "traceback": [
      "\u001b[31m---------------------------------------------------------------------------\u001b[39m",
      "\u001b[31mValueError\u001b[39m                                Traceback (most recent call last)",
      "\u001b[36mCell\u001b[39m\u001b[36m \u001b[39m\u001b[32mIn[2]\u001b[39m\u001b[32m, line 2\u001b[39m\n\u001b[32m      1\u001b[39m \u001b[38;5;66;03m#6. Check if number is divisible by 2 and 3\u001b[39;00m\n\u001b[32m----> \u001b[39m\u001b[32m2\u001b[39m num = \u001b[38;5;28;43mint\u001b[39;49m\u001b[43m(\u001b[49m\u001b[38;5;28;43minput\u001b[39;49m\u001b[43m(\u001b[49m\u001b[33;43m\"\u001b[39;49m\u001b[33;43mEnter a number: \u001b[39;49m\u001b[33;43m\"\u001b[39;49m\u001b[43m)\u001b[49m\u001b[43m)\u001b[49m\n\u001b[32m      3\u001b[39m \u001b[38;5;28;01mif\u001b[39;00m num % \u001b[32m2\u001b[39m == \u001b[32m0\u001b[39m \u001b[38;5;129;01mand\u001b[39;00m num % \u001b[32m3\u001b[39m == \u001b[32m0\u001b[39m:\n\u001b[32m      4\u001b[39m     \u001b[38;5;28mprint\u001b[39m(\u001b[33m\"\u001b[39m\u001b[33mDivisible by both 2 and 3\u001b[39m\u001b[33m\"\u001b[39m)\n",
      "\u001b[31mValueError\u001b[39m: invalid literal for int() with base 10: ''"
     ]
    }
   ],
   "source": [
    "#6. Check if number is divisible by 2 and 3\n",
    "num = int(input(\"Enter a number: \"))\n",
    "if num % 2 == 0 and num % 3 == 0:\n",
    "    print(\"Divisible by both 2 and 3\")\n",
    "else:\n",
    "    print(\"Not divisible by both\")\n"
   ]
  },
  {
   "cell_type": "code",
   "execution_count": null,
   "id": "94a342c6",
   "metadata": {},
   "outputs": [],
   "source": [
    "#7. Check if year is leap year\n",
    "year = int(input(\"Enter a year: \"))\n",
    "if (year % 4 == 0 and year % 100 != 0) or (year % 400 == 0):\n",
    "    print(\"Leap Year\")\n",
    "else:\n",
    "    print(\"Not a Leap Year\")\n"
   ]
  },
  {
   "cell_type": "code",
   "execution_count": null,
   "id": "068b4179",
   "metadata": {},
   "outputs": [],
   "source": [
    "#8. Grade checking\n",
    "marks = int(input(\"Enter marks: \"))\n",
    "if marks >= 40:\n",
    "    print(\"Pass\")\n",
    "else:\n",
    "    print(\"Fail\")\n"
   ]
  },
  {
   "cell_type": "code",
   "execution_count": null,
   "metadata": {},
   "outputs": [],
   "source": [
    "#9. Check uppercase or lowercase character\n",
    "ch = input(\"Enter a character: \")\n",
    "if ch.isupper():\n",
    "    print(\"Uppercase\")\n",
    "else:\n",
    "    print(\"Lowercase\")\n"
   ]
  },
  {
   "cell_type": "code",
   "execution_count": null,
   "id": "4a1828c8",
   "metadata": {},
   "outputs": [],
   "source": [
    "#10. Check character is vowel or consonant\n",
    "ch = input(\"Enter a character: \").lower()\n",
    "if ch in \"aeiou\":\n",
    "    print(\"Vowel\")\n",
    "else:\n",
    "    print(\"Consonant\")\n"
   ]
  },
  {
   "cell_type": "code",
   "execution_count": null,
   "metadata": {},
   "outputs": [],
   "source": [
    "#11. Compare two strings\n",
    "a = input(\"Enter first string: \")\n",
    "b = input(\"Enter second string: \")\n",
    "if a == b:\n",
    "    print(\"Both are equal\")\n",
    "else:\n",
    "    print(\"Different strings\")\n",
    "\n"
   ]
  },
  {
   "cell_type": "code",
   "execution_count": 3,
   "id": "491ab7e4",
   "metadata": {},
   "outputs": [
    {
     "ename": "ValueError",
     "evalue": "invalid literal for int() with base 10: ''",
     "output_type": "error",
     "traceback": [
      "\u001b[31m---------------------------------------------------------------------------\u001b[39m",
      "\u001b[31mValueError\u001b[39m                                Traceback (most recent call last)",
      "\u001b[36mCell\u001b[39m\u001b[36m \u001b[39m\u001b[32mIn[3]\u001b[39m\u001b[32m, line 2\u001b[39m\n\u001b[32m      1\u001b[39m \u001b[38;5;66;03m#12. Find absolute value\u001b[39;00m\n\u001b[32m----> \u001b[39m\u001b[32m2\u001b[39m num = \u001b[38;5;28;43mint\u001b[39;49m\u001b[43m(\u001b[49m\u001b[38;5;28;43minput\u001b[39;49m\u001b[43m(\u001b[49m\u001b[33;43m\"\u001b[39;49m\u001b[33;43mEnter a number: \u001b[39;49m\u001b[33;43m\"\u001b[39;49m\u001b[43m)\u001b[49m\u001b[43m)\u001b[49m\n\u001b[32m      3\u001b[39m \u001b[38;5;28;01mif\u001b[39;00m num < \u001b[32m0\u001b[39m:\n\u001b[32m      4\u001b[39m     \u001b[38;5;28mprint\u001b[39m(\u001b[33m\"\u001b[39m\u001b[33mAbsolute value:\u001b[39m\u001b[33m\"\u001b[39m, -num)\n",
      "\u001b[31mValueError\u001b[39m: invalid literal for int() with base 10: ''"
     ]
    }
   ],
   "source": [
    "#12. Find absolute value\n",
    "num = int(input(\"Enter a number: \"))\n",
    "if num < 0:\n",
    "    print(\"Absolute value:\", -num)\n",
    "else:\n",
    "    print(\"Absolute value:\", num)\n"
   ]
  },
  {
   "cell_type": "code",
   "execution_count": 4,
   "metadata": {},
   "outputs": [
    {
     "ename": "ValueError",
     "evalue": "invalid literal for int() with base 10: ''",
     "output_type": "error",
     "traceback": [
      "\u001b[31m---------------------------------------------------------------------------\u001b[39m",
      "\u001b[31mValueError\u001b[39m                                Traceback (most recent call last)",
      "\u001b[36mCell\u001b[39m\u001b[36m \u001b[39m\u001b[32mIn[4]\u001b[39m\u001b[32m, line 2\u001b[39m\n\u001b[32m      1\u001b[39m \u001b[38;5;66;03m#13. Check if a number is single digit or not\u001b[39;00m\n\u001b[32m----> \u001b[39m\u001b[32m2\u001b[39m num = \u001b[38;5;28;43mint\u001b[39;49m\u001b[43m(\u001b[49m\u001b[38;5;28;43minput\u001b[39;49m\u001b[43m(\u001b[49m\u001b[33;43m\"\u001b[39;49m\u001b[33;43mEnter a number: \u001b[39;49m\u001b[33;43m\"\u001b[39;49m\u001b[43m)\u001b[49m\u001b[43m)\u001b[49m\n\u001b[32m      3\u001b[39m \u001b[38;5;28;01mif\u001b[39;00m -\u001b[32m9\u001b[39m <= num <= \u001b[32m9\u001b[39m:\n\u001b[32m      4\u001b[39m     \u001b[38;5;28mprint\u001b[39m(\u001b[33m\"\u001b[39m\u001b[33mSingle digit number\u001b[39m\u001b[33m\"\u001b[39m)\n",
      "\u001b[31mValueError\u001b[39m: invalid literal for int() with base 10: ''"
     ]
    }
   ],
   "source": [
    "#13. Check if a number is single digit or not\n",
    "num = int(input(\"Enter a number: \"))\n",
    "if -9 <= num <= 9:\n",
    "    print(\"Single digit number\")\n",
    "else:\n",
    "    print(\"Not a single digit number\")\n"
   ]
  },
  {
   "cell_type": "code",
   "execution_count": null,
   "id": "f8c7ef30",
   "metadata": {},
   "outputs": [],
   "source": [
    "#14. Check if a number is prime (basic)\n",
    "num = int(input(\"Enter a number: \"))\n",
    "if num > 1:\n",
    "    for i in range(2, num):\n",
    "        if num % i == 0:\n",
    "            print(\"Not Prime\")\n",
    "            break\n",
    "    else:\n",
    "        print(\"Prime\")\n",
    "else:\n",
    "    print(\"Not Prime\")\n"
   ]
  },
  {
   "cell_type": "code",
   "execution_count": 6,
   "metadata": {},
   "outputs": [
    {
     "name": "stdout",
     "output_type": "stream",
     "text": [
      "Login failed\n"
     ]
    }
   ],
   "source": [
    "#15. Check login credentials\n",
    "username = input(\"Enter username: \")\n",
    "password = input(\"Enter password: \")\n",
    "if username == \"admin\" and password == \"1234\":\n",
    "    print(\"Login successful\")\n",
    "else:\n",
    "    print(\"Login failed\")\n"
   ]
  },
  {
   "cell_type": "code",
   "execution_count": 7,
   "id": "f7026a6b",
   "metadata": {},
   "outputs": [
    {
     "ename": "ValueError",
     "evalue": "invalid literal for int() with base 10: ''",
     "output_type": "error",
     "traceback": [
      "\u001b[31m---------------------------------------------------------------------------\u001b[39m",
      "\u001b[31mValueError\u001b[39m                                Traceback (most recent call last)",
      "\u001b[36mCell\u001b[39m\u001b[36m \u001b[39m\u001b[32mIn[7]\u001b[39m\u001b[32m, line 2\u001b[39m\n\u001b[32m      1\u001b[39m \u001b[38;5;66;03m#16. Check number is positive, negative or zero\u001b[39;00m\n\u001b[32m----> \u001b[39m\u001b[32m2\u001b[39m num = \u001b[38;5;28;43mint\u001b[39;49m\u001b[43m(\u001b[49m\u001b[38;5;28;43minput\u001b[39;49m\u001b[43m(\u001b[49m\u001b[33;43m\"\u001b[39;49m\u001b[33;43mEnter a number: \u001b[39;49m\u001b[33;43m\"\u001b[39;49m\u001b[43m)\u001b[49m\u001b[43m)\u001b[49m\n\u001b[32m      3\u001b[39m \u001b[38;5;28;01mif\u001b[39;00m num > \u001b[32m0\u001b[39m:\n\u001b[32m      4\u001b[39m     \u001b[38;5;28mprint\u001b[39m(\u001b[33m\"\u001b[39m\u001b[33mPositive\u001b[39m\u001b[33m\"\u001b[39m)\n",
      "\u001b[31mValueError\u001b[39m: invalid literal for int() with base 10: ''"
     ]
    }
   ],
   "source": [
    "#16. Check number is positive, negative or zero\n",
    "num = int(input(\"Enter a number: \"))\n",
    "if num > 0:\n",
    "    print(\"Positive\")\n",
    "elif num < 0:\n",
    "    print(\"Negative\")\n",
    "else:\n",
    "    print(\"Zero\")\n"
   ]
  },
  {
   "cell_type": "code",
   "execution_count": null,
   "id": "65b009fd",
   "metadata": {},
   "outputs": [],
   "source": [
    "#17. Find largest of three numbers\n",
    "a = int(input(\"Enter first: \"))\n",
    "b = int(input(\"Enter second: \"))\n",
    "c = int(input(\"Enter third: \"))\n",
    "if a >= b and a >= c:\n",
    "    print(\"Largest:\", a)\n",
    "elif b >= a and b >= c:\n",
    "    print(\"Largest:\", b)\n",
    "else:\n",
    "    print(\"Largest:\", c)\n"
   ]
  },
  {
   "cell_type": "code",
   "execution_count": null,
   "id": "7611c747",
   "metadata": {},
   "outputs": [],
   "source": [
    "#18. Check student grade\n",
    "marks = int(input(\"Enter marks: \"))\n",
    "if marks >= 90:\n",
    "    print(\"Grade A\")\n",
    "elif marks >= 75:\n",
    "    print(\"Grade B\")\n",
    "elif marks >= 50:\n",
    "    print(\"Grade C\")\n",
    "else:\n",
    "    print(\"Grade F\")\n"
   ]
  },
  {
   "cell_type": "code",
   "execution_count": null,
   "id": "7d60c89e",
   "metadata": {},
   "outputs": [],
   "source": [
    "#19. Find smallest of two numbers\n",
    "a = int(input(\"Enter first: \"))\n",
    "b = int(input(\"Enter second: \"))\n",
    "if a < b:\n",
    "    print(\"Smallest:\", a)\n",
    "else:\n",
    "    print(\"Smallest:\", b)\n"
   ]
  },
  {
   "cell_type": "code",
   "execution_count": 1,
   "id": "2ccf15c9",
   "metadata": {},
   "outputs": [
    {
     "name": "stdout",
     "output_type": "stream",
     "text": [
      "No, does not contain 'python'\n"
     ]
    }
   ],
   "source": [
    "#20. Check if string contains 'python'\n",
    "text = input(\"Enter text: \")\n",
    "if \"python\" in text.lower():\n",
    "    print(\"Yes, contains 'python'\")\n",
    "else:\n",
    "    print(\"No, does not contain 'python'\")\n"
   ]
  },
  {
   "cell_type": "code",
   "execution_count": 2,
   "id": "353bc2b6",
   "metadata": {},
   "outputs": [
    {
     "ename": "ValueError",
     "evalue": "invalid literal for int() with base 10: ''",
     "output_type": "error",
     "traceback": [
      "\u001b[31m---------------------------------------------------------------------------\u001b[39m",
      "\u001b[31mValueError\u001b[39m                                Traceback (most recent call last)",
      "\u001b[36mCell\u001b[39m\u001b[36m \u001b[39m\u001b[32mIn[2]\u001b[39m\u001b[32m, line 2\u001b[39m\n\u001b[32m      1\u001b[39m \u001b[38;5;66;03m#21. Check if person is teenager\u001b[39;00m\n\u001b[32m----> \u001b[39m\u001b[32m2\u001b[39m age = \u001b[38;5;28;43mint\u001b[39;49m\u001b[43m(\u001b[49m\u001b[38;5;28;43minput\u001b[39;49m\u001b[43m(\u001b[49m\u001b[33;43m\"\u001b[39;49m\u001b[33;43mEnter age: \u001b[39;49m\u001b[33;43m\"\u001b[39;49m\u001b[43m)\u001b[49m\u001b[43m)\u001b[49m\n\u001b[32m      3\u001b[39m \u001b[38;5;28;01mif\u001b[39;00m \u001b[32m13\u001b[39m <= age <= \u001b[32m19\u001b[39m:\n\u001b[32m      4\u001b[39m     \u001b[38;5;28mprint\u001b[39m(\u001b[33m\"\u001b[39m\u001b[33mTeenager\u001b[39m\u001b[33m\"\u001b[39m)\n",
      "\u001b[31mValueError\u001b[39m: invalid literal for int() with base 10: ''"
     ]
    }
   ],
   "source": [
    "#21. Check if person is teenager\n",
    "age = int(input(\"Enter age: \"))\n",
    "if 13 <= age <= 19:\n",
    "    print(\"Teenager\")\n",
    "else:\n",
    "    print(\"Not a teenager\")\n"
   ]
  },
  {
   "cell_type": "code",
   "execution_count": null,
   "id": "1d072a11",
   "metadata": {},
   "outputs": [],
   "source": [
    "#22. Discount system\n",
    "amount = int(input(\"Enter purchase amount: \"))\n",
    "if amount >= 1000:\n",
    "    print(\"Discount: 10%\")\n",
    "else:\n",
    "    print(\"No discount\")\n"
   ]
  },
  {
   "cell_type": "code",
   "execution_count": null,
   "id": "ff3e742d",
   "metadata": {},
   "outputs": [],
   "source": [
    "#23. Temperature check\n",
    "temp = int(input(\"Enter temperature: \"))\n",
    "if temp > 30:\n",
    "    print(\"Hot day\")\n",
    "else:\n",
    "    print(\"Cool day\")\n"
   ]
  },
  {
   "cell_type": "code",
   "execution_count": null,
   "id": "e092227c",
   "metadata": {},
   "outputs": [],
   "source": [
    "#24. ATM withdrawal\n",
    "balance = 5000\n",
    "withdraw = int(input(\"Enter amount to withdraw: \"))\n",
    "if withdraw <= balance:\n",
    "    print(\"Transaction successful\")\n",
    "else:\n",
    "    print(\"Insufficient balance\")\n"
   ]
  },
  {
   "cell_type": "code",
   "execution_count": null,
   "id": "383c92e4",
   "metadata": {},
   "outputs": [],
   "source": []
  }
 ],
 "metadata": {
  "kernelspec": {
   "display_name": "Python 3.11 (jupyter_env)",
   "language": "python",
   "name": "jupyter_env"
  },
  "language_info": {
   "codemirror_mode": {
    "name": "ipython",
    "version": 3
   },
   "file_extension": ".py",
   "mimetype": "text/x-python",
   "name": "python",
   "nbconvert_exporter": "python",
   "pygments_lexer": "ipython3",
   "version": "3.13.4"
  }
 },
 "nbformat": 4,
 "nbformat_minor": 5
}
