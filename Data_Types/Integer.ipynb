A= 23
B= 43
A+B=C
print(C)